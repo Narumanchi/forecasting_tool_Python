{
 "cells": [
  {
   "cell_type": "code",
   "execution_count": null,
   "metadata": {},
   "outputs": [],
   "source": []
  },
  {
   "cell_type": "markdown",
   "metadata": {},
   "source": [
    "### loading packages"
   ]
  },
  {
   "cell_type": "code",
   "execution_count": 1,
   "metadata": {},
   "outputs": [
    {
     "name": "stderr",
     "output_type": "stream",
     "text": [
      "/Users/nslali/anaconda3/envs/forecasting/lib/python3.8/site-packages/tqdm/auto.py:21: TqdmWarning: IProgress not found. Please update jupyter and ipywidgets. See https://ipywidgets.readthedocs.io/en/stable/user_install.html\n",
      "  from .autonotebook import tqdm as notebook_tqdm\n"
     ]
    }
   ],
   "source": [
    "import pandas as pd\n",
    "import numpy as np\n",
    "\n",
    "from statsmodels.tsa.arima_model import ARIMA\n",
    "import pmdarima as pm\n",
    "import matplotlib as mp\n",
    "import os\n",
    "pd.options.display.float_format = '{:.2f}'.format\n",
    "from prophet import Prophet\n",
    "from croston import croston\n",
    "import statsmodels.api as sm\n",
    "# import plotly\n",
    "import matplotlib.pyplot as plt\n",
    "import math\n",
    "from sklearn.preprocessing import MinMaxScaler\n",
    "from sklearn.metrics import mean_squared_error,mean_absolute_percentage_error,mean_absolute_error,r2_score\n",
    "from pmdarima.arima.utils import ndiffs\n",
    "from NBEATS import NeuralBeats\n",
    "from pandas import DataFrame\n",
    "from sklearn.feature_selection import RFE\n",
    "from sklearn.ensemble import GradientBoostingRegressor\n",
    "import calendar\n",
    "from datetime import timedelta\n",
    "import datetime as dt\n",
    "#import time"
   ]
  },
  {
   "cell_type": "markdown",
   "metadata": {},
   "source": [
    "### loading dataset"
   ]
  },
  {
   "cell_type": "code",
   "execution_count": 2,
   "metadata": {},
   "outputs": [],
   "source": [
    "from autots.models.model_list import model_lists"
   ]
  },
  {
   "cell_type": "markdown",
   "metadata": {},
   "source": [
    "### list of auto ts models"
   ]
  },
  {
   "cell_type": "code",
   "execution_count": 10,
   "metadata": {},
   "outputs": [
    {
     "data": {
      "text/plain": [
       "['VECM',\n",
       " 'DynamicFactor',\n",
       " 'GluonTS',\n",
       " 'RollingRegression',\n",
       " 'WindowRegression',\n",
       " 'VAR',\n",
       " 'MultivariateMotif',\n",
       " 'NVAR',\n",
       " 'MultivariateRegression',\n",
       " 'SectionalMotif',\n",
       " 'DynamicFactorMQ',\n",
       " 'PytorchForecasting',\n",
       " 'RRVAR',\n",
       " 'MAR',\n",
       " 'TMF',\n",
       " 'LATC',\n",
       " 'Cassandra',\n",
       " 'BallTreeMultivariateMotif',\n",
       " 'TiDE',\n",
       " 'NeuralForecast']"
      ]
     },
     "execution_count": 10,
     "metadata": {},
     "output_type": "execute_result"
    }
   ],
   "source": [
    "model_lists['multivariate']"
   ]
  },
  {
   "cell_type": "code",
   "execution_count": 3,
   "metadata": {},
   "outputs": [],
   "source": [
    "from autots.datasets import load_monthly\n",
    "df_raw = load_monthly(long=True)"
   ]
  },
  {
   "cell_type": "code",
   "execution_count": 38,
   "metadata": {},
   "outputs": [
    {
     "name": "stdout",
     "output_type": "stream",
     "text": [
      "<class 'pandas.core.frame.DataFrame'>\n",
      "RangeIndex: 4099 entries, 0 to 4098\n",
      "Data columns (total 4 columns):\n",
      " #   Column       Non-Null Count  Dtype         \n",
      "---  ------       --------------  -----         \n",
      " 0   datetime     4099 non-null   datetime64[ns]\n",
      " 1   value        3955 non-null   float64       \n",
      " 2   series_id    4099 non-null   object        \n",
      " 3   series_name  4099 non-null   object        \n",
      "dtypes: datetime64[ns](1), float64(1), object(2)\n",
      "memory usage: 128.2+ KB\n"
     ]
    }
   ],
   "source": [
    "df_raw.info()"
   ]
  },
  {
   "cell_type": "code",
   "execution_count": 39,
   "metadata": {},
   "outputs": [
    {
     "data": {
      "text/html": [
       "<div>\n",
       "<style scoped>\n",
       "    .dataframe tbody tr th:only-of-type {\n",
       "        vertical-align: middle;\n",
       "    }\n",
       "\n",
       "    .dataframe tbody tr th {\n",
       "        vertical-align: top;\n",
       "    }\n",
       "\n",
       "    .dataframe thead th {\n",
       "        text-align: right;\n",
       "    }\n",
       "</style>\n",
       "<table border=\"1\" class=\"dataframe\">\n",
       "  <thead>\n",
       "    <tr style=\"text-align: right;\">\n",
       "      <th></th>\n",
       "      <th>datetime</th>\n",
       "      <th>value</th>\n",
       "    </tr>\n",
       "  </thead>\n",
       "  <tbody>\n",
       "    <tr>\n",
       "      <th>count</th>\n",
       "      <td>4099</td>\n",
       "      <td>3955.00</td>\n",
       "    </tr>\n",
       "    <tr>\n",
       "      <th>mean</th>\n",
       "      <td>1998-05-20 14:25:58.038545920</td>\n",
       "      <td>33.15</td>\n",
       "    </tr>\n",
       "    <tr>\n",
       "      <th>min</th>\n",
       "      <td>1953-04-01 00:00:00</td>\n",
       "      <td>0.25</td>\n",
       "    </tr>\n",
       "    <tr>\n",
       "      <th>25%</th>\n",
       "      <td>1988-10-01 00:00:00</td>\n",
       "      <td>2.01</td>\n",
       "    </tr>\n",
       "    <tr>\n",
       "      <th>50%</th>\n",
       "      <td>2000-10-01 00:00:00</td>\n",
       "      <td>7.74</td>\n",
       "    </tr>\n",
       "    <tr>\n",
       "      <th>75%</th>\n",
       "      <td>2010-06-01 00:00:00</td>\n",
       "      <td>45.57</td>\n",
       "    </tr>\n",
       "    <tr>\n",
       "      <th>max</th>\n",
       "      <td>2019-12-01 00:00:00</td>\n",
       "      <td>245.13</td>\n",
       "    </tr>\n",
       "    <tr>\n",
       "      <th>std</th>\n",
       "      <td>NaN</td>\n",
       "      <td>49.29</td>\n",
       "    </tr>\n",
       "  </tbody>\n",
       "</table>\n",
       "</div>"
      ],
      "text/plain": [
       "                            datetime   value\n",
       "count                           4099 3955.00\n",
       "mean   1998-05-20 14:25:58.038545920   33.15\n",
       "min              1953-04-01 00:00:00    0.25\n",
       "25%              1988-10-01 00:00:00    2.01\n",
       "50%              2000-10-01 00:00:00    7.74\n",
       "75%              2010-06-01 00:00:00   45.57\n",
       "max              2019-12-01 00:00:00  245.13\n",
       "std                              NaN   49.29"
      ]
     },
     "execution_count": 39,
     "metadata": {},
     "output_type": "execute_result"
    }
   ],
   "source": [
    "df_raw.describe()"
   ]
  },
  {
   "cell_type": "markdown",
   "metadata": {},
   "source": [
    "### data preparation to test train sets and fill na and index date time"
   ]
  },
  {
   "cell_type": "code",
   "execution_count": 4,
   "metadata": {},
   "outputs": [],
   "source": [
    "def data_preparation(df,n_split,date_column=\"datetime\",freq_input='MS'):\n",
    "    \n",
    "    #convert long to wide if at all\n",
    "    df = df.pivot(index='datetime',columns='series_id',values='value').fillna(0)\n",
    "    df.reset_index(inplace=True)\n",
    "\n",
    "    df=df[df.loc[:,date_column].notnull()] ## selecting all rows that has date values only\n",
    "    # df.columns=['date','value'] ##renaming the columns to date and value\n",
    "    \n",
    "    \n",
    "    #date missing value imputation:\n",
    "    start_date = df[date_column].min()\n",
    "    end_date = df[date_column].max()\n",
    "\n",
    "\n",
    "    complete_date_range = pd.date_range(start=start_date, end=end_date, freq=freq_input)\n",
    "    complete_date_range = pd.Series(complete_date_range,name=date_column)\n",
    "    df_complete = pd.DataFrame(complete_date_range).merge(df,on=[date_column],how='left')\n",
    "\n",
    "\n",
    "    #value missing imputation\n",
    "    df_complete=df_complete.fillna(0) \n",
    "    # frwd fill or backwd fill use:  df.fillna(method='ffill', inplace=True), fillna(method='bfill', inplace=True),\n",
    "    # fillna(df['column3'].mean(), inplace=True)\n",
    "\n",
    "    df_complete.index=pd.to_datetime(df_complete.loc[:,date_column])\n",
    "    df_complete = df_complete.drop(columns=date_column)\n",
    "    df_complete.index = pd.DatetimeIndex(df_complete.index.values,\n",
    "                                   freq=df_complete.index.inferred_freq)\n",
    "    ##drop na rows to get first and last values in data\n",
    "    df_complete=df_complete.dropna()\n",
    "    \n",
    "    ## splitting data from last only\n",
    "    df_test=df_complete.tail(n_split)\n",
    "    df_train=df_complete[0:len(df)-n_split]\n",
    "    print(\"pre processing done!\")\n",
    "    return(df_complete,df_train,df_test)"
   ]
  },
  {
   "cell_type": "code",
   "execution_count": 5,
   "metadata": {},
   "outputs": [
    {
     "name": "stdout",
     "output_type": "stream",
     "text": [
      "pre processing done!\n"
     ]
    },
    {
     "data": {
      "text/html": [
       "<div>\n",
       "<style scoped>\n",
       "    .dataframe tbody tr th:only-of-type {\n",
       "        vertical-align: middle;\n",
       "    }\n",
       "\n",
       "    .dataframe tbody tr th {\n",
       "        vertical-align: top;\n",
       "    }\n",
       "\n",
       "    .dataframe thead th {\n",
       "        text-align: right;\n",
       "    }\n",
       "</style>\n",
       "<table border=\"1\" class=\"dataframe\">\n",
       "  <thead>\n",
       "    <tr style=\"text-align: right;\">\n",
       "      <th></th>\n",
       "      <th>CSUSHPISA</th>\n",
       "      <th>EMVOVERALLEMV</th>\n",
       "      <th>EXCAUS</th>\n",
       "      <th>EXCHUS</th>\n",
       "      <th>EXUSEU</th>\n",
       "      <th>GS10</th>\n",
       "      <th>MCOILWTICO</th>\n",
       "      <th>T10YIEM</th>\n",
       "      <th>USEPUINDXM</th>\n",
       "    </tr>\n",
       "  </thead>\n",
       "  <tbody>\n",
       "    <tr>\n",
       "      <th>1953-04-01</th>\n",
       "      <td>0.00</td>\n",
       "      <td>0.00</td>\n",
       "      <td>0.00</td>\n",
       "      <td>0.00</td>\n",
       "      <td>0.00</td>\n",
       "      <td>2.83</td>\n",
       "      <td>0.00</td>\n",
       "      <td>0.00</td>\n",
       "      <td>0.00</td>\n",
       "    </tr>\n",
       "    <tr>\n",
       "      <th>1953-05-01</th>\n",
       "      <td>0.00</td>\n",
       "      <td>0.00</td>\n",
       "      <td>0.00</td>\n",
       "      <td>0.00</td>\n",
       "      <td>0.00</td>\n",
       "      <td>3.05</td>\n",
       "      <td>0.00</td>\n",
       "      <td>0.00</td>\n",
       "      <td>0.00</td>\n",
       "    </tr>\n",
       "    <tr>\n",
       "      <th>1953-06-01</th>\n",
       "      <td>0.00</td>\n",
       "      <td>0.00</td>\n",
       "      <td>0.00</td>\n",
       "      <td>0.00</td>\n",
       "      <td>0.00</td>\n",
       "      <td>3.11</td>\n",
       "      <td>0.00</td>\n",
       "      <td>0.00</td>\n",
       "      <td>0.00</td>\n",
       "    </tr>\n",
       "    <tr>\n",
       "      <th>1953-07-01</th>\n",
       "      <td>0.00</td>\n",
       "      <td>0.00</td>\n",
       "      <td>0.00</td>\n",
       "      <td>0.00</td>\n",
       "      <td>0.00</td>\n",
       "      <td>2.93</td>\n",
       "      <td>0.00</td>\n",
       "      <td>0.00</td>\n",
       "      <td>0.00</td>\n",
       "    </tr>\n",
       "    <tr>\n",
       "      <th>1953-08-01</th>\n",
       "      <td>0.00</td>\n",
       "      <td>0.00</td>\n",
       "      <td>0.00</td>\n",
       "      <td>0.00</td>\n",
       "      <td>0.00</td>\n",
       "      <td>2.95</td>\n",
       "      <td>0.00</td>\n",
       "      <td>0.00</td>\n",
       "      <td>0.00</td>\n",
       "    </tr>\n",
       "    <tr>\n",
       "      <th>...</th>\n",
       "      <td>...</td>\n",
       "      <td>...</td>\n",
       "      <td>...</td>\n",
       "      <td>...</td>\n",
       "      <td>...</td>\n",
       "      <td>...</td>\n",
       "      <td>...</td>\n",
       "      <td>...</td>\n",
       "      <td>...</td>\n",
       "    </tr>\n",
       "    <tr>\n",
       "      <th>2019-02-01</th>\n",
       "      <td>207.13</td>\n",
       "      <td>16.68</td>\n",
       "      <td>1.32</td>\n",
       "      <td>6.74</td>\n",
       "      <td>1.13</td>\n",
       "      <td>2.68</td>\n",
       "      <td>54.95</td>\n",
       "      <td>1.88</td>\n",
       "      <td>106.90</td>\n",
       "    </tr>\n",
       "    <tr>\n",
       "      <th>2019-03-01</th>\n",
       "      <td>207.69</td>\n",
       "      <td>20.77</td>\n",
       "      <td>1.34</td>\n",
       "      <td>6.71</td>\n",
       "      <td>1.13</td>\n",
       "      <td>2.57</td>\n",
       "      <td>58.15</td>\n",
       "      <td>1.91</td>\n",
       "      <td>140.25</td>\n",
       "    </tr>\n",
       "    <tr>\n",
       "      <th>2019-04-01</th>\n",
       "      <td>208.29</td>\n",
       "      <td>18.81</td>\n",
       "      <td>1.34</td>\n",
       "      <td>6.72</td>\n",
       "      <td>1.12</td>\n",
       "      <td>2.53</td>\n",
       "      <td>63.86</td>\n",
       "      <td>1.94</td>\n",
       "      <td>98.74</td>\n",
       "    </tr>\n",
       "    <tr>\n",
       "      <th>2019-05-01</th>\n",
       "      <td>208.73</td>\n",
       "      <td>19.53</td>\n",
       "      <td>1.35</td>\n",
       "      <td>6.85</td>\n",
       "      <td>1.12</td>\n",
       "      <td>2.40</td>\n",
       "      <td>60.83</td>\n",
       "      <td>1.83</td>\n",
       "      <td>122.54</td>\n",
       "    </tr>\n",
       "    <tr>\n",
       "      <th>2019-06-01</th>\n",
       "      <td>209.00</td>\n",
       "      <td>19.79</td>\n",
       "      <td>1.33</td>\n",
       "      <td>6.90</td>\n",
       "      <td>1.13</td>\n",
       "      <td>2.07</td>\n",
       "      <td>54.66</td>\n",
       "      <td>1.70</td>\n",
       "      <td>150.12</td>\n",
       "    </tr>\n",
       "  </tbody>\n",
       "</table>\n",
       "<p>795 rows × 9 columns</p>\n",
       "</div>"
      ],
      "text/plain": [
       "            CSUSHPISA  EMVOVERALLEMV  EXCAUS  EXCHUS  EXUSEU  GS10  \\\n",
       "1953-04-01       0.00           0.00    0.00    0.00    0.00  2.83   \n",
       "1953-05-01       0.00           0.00    0.00    0.00    0.00  3.05   \n",
       "1953-06-01       0.00           0.00    0.00    0.00    0.00  3.11   \n",
       "1953-07-01       0.00           0.00    0.00    0.00    0.00  2.93   \n",
       "1953-08-01       0.00           0.00    0.00    0.00    0.00  2.95   \n",
       "...               ...            ...     ...     ...     ...   ...   \n",
       "2019-02-01     207.13          16.68    1.32    6.74    1.13  2.68   \n",
       "2019-03-01     207.69          20.77    1.34    6.71    1.13  2.57   \n",
       "2019-04-01     208.29          18.81    1.34    6.72    1.12  2.53   \n",
       "2019-05-01     208.73          19.53    1.35    6.85    1.12  2.40   \n",
       "2019-06-01     209.00          19.79    1.33    6.90    1.13  2.07   \n",
       "\n",
       "            MCOILWTICO  T10YIEM  USEPUINDXM  \n",
       "1953-04-01        0.00     0.00        0.00  \n",
       "1953-05-01        0.00     0.00        0.00  \n",
       "1953-06-01        0.00     0.00        0.00  \n",
       "1953-07-01        0.00     0.00        0.00  \n",
       "1953-08-01        0.00     0.00        0.00  \n",
       "...                ...      ...         ...  \n",
       "2019-02-01       54.95     1.88      106.90  \n",
       "2019-03-01       58.15     1.91      140.25  \n",
       "2019-04-01       63.86     1.94       98.74  \n",
       "2019-05-01       60.83     1.83      122.54  \n",
       "2019-06-01       54.66     1.70      150.12  \n",
       "\n",
       "[795 rows x 9 columns]"
      ]
     },
     "execution_count": 5,
     "metadata": {},
     "output_type": "execute_result"
    }
   ],
   "source": [
    "df_total,df_train,df_test=data_preparation(df_raw,6,'datetime','MS')\n",
    "df_train"
   ]
  },
  {
   "cell_type": "markdown",
   "metadata": {},
   "source": [
    "###  data time series plots : data plot, acf, pacf, "
   ]
  },
  {
   "cell_type": "code",
   "execution_count": 43,
   "metadata": {},
   "outputs": [
    {
     "data": {
      "image/png": "[encoded data removed]",
      "text/plain": [
       "<Figure size 640x480 with 1 Axes>"
      ]
     },
     "metadata": {},
     "output_type": "display_data"
    }
   ],
   "source": [
    "import matplotlib.pyplot as plt\n",
    "# plt.figure(figsize=(10, 6))\n",
    "\n",
    "for column in df_total.columns:\n",
    "    if df_total[column].dtype in [float,int]:\n",
    "        plt.plot(df_total.index, df_total[column], label=column)\n",
    "plt.title('Time Series Plot')\n",
    "plt.xlabel('Date')\n",
    "plt.ylabel('Value')\n",
    "plt.legend()\n",
    "plt.show()"
   ]
  },
  {
   "cell_type": "code",
   "execution_count": 91,
   "metadata": {},
   "outputs": [
    {
     "data": {
      "image/png": "[encoded data removed]",
      "text/plain": [
       "<Figure size 640x480 with 1 Axes>"
      ]
     },
     "metadata": {},
     "output_type": "display_data"
    },
    {
     "data": {
      "image/png": "[encoded data removed]",
      "text/plain": [
       "<Figure size 640x480 with 1 Axes>"
      ]
     },
     "metadata": {},
     "output_type": "display_data"
    }
   ],
   "source": [
    "from statsmodels.graphics.tsaplots import plot_acf, plot_pacf\n",
    "plot_acf(df_total.iloc[:,0], lags=40) \n",
    "plot_pacf(df_total.iloc[:,0], lags=10)\n",
    "\n",
    "plt.show()"
   ]
  },
  {
   "cell_type": "markdown",
   "metadata": {},
   "source": [
    "### ADF test for stationarity"
   ]
  },
  {
   "cell_type": "code",
   "execution_count": 6,
   "metadata": {},
   "outputs": [],
   "source": [
    "from statsmodels.tsa.stattools import adfuller\n",
    "adf=adfuller(df_total.iloc[:,0])\n",
    "# test stat, pval < 0.05 then stationary else non stationary"
   ]
  },
  {
   "cell_type": "markdown",
   "metadata": {},
   "source": [
    "## Modelling"
   ]
  },
  {
   "cell_type": "code",
   "execution_count": null,
   "metadata": {},
   "outputs": [],
   "source": [
    "mod_ses = sm.tsa.statespace.ExponentialSmoothing(df_train)\n",
    "ses=mod_ses.fit()\n",
    "forecast_ses=ses.forecast(6)"
   ]
  },
  {
   "cell_type": "code",
   "execution_count": 94,
   "metadata": {},
   "outputs": [],
   "source": [
    "# for long format\n",
    "\n",
    "\n",
    "# from autots import AutoTS\n",
    "\n",
    "# auto_model=AutoTS(3,\"infer\",max_generations=5,no_negatives=True,ensemble='simple')\n",
    "# auto_model = auto_model.fit(\n",
    "#     df_train,date_col='datetime',value_col='value',id_col='series_id'\n",
    "# )\n",
    "# prediction=auto_model.predict()\n",
    "# forecasts_df = prediction.forecast"
   ]
  },
  {
   "cell_type": "code",
   "execution_count": 11,
   "metadata": {},
   "outputs": [
    {
     "name": "stdout",
     "output_type": "stream",
     "text": [
      "Data frequency is: MS, used frequency is: MS\n",
      "Model Number: 1 with model GluonTS in generation 0 of 4\n",
      "Template Eval Error: ImportError('GluonTS installation is incompatible with AutoTS. The numpy version is sometimes the issue, try 1.23.1 {as of 06-2023}') in model 1 in generation 0: GluonTS\n",
      "Model Number: 2 with model GluonTS in generation 0 of 4\n",
      "Template Eval Error: ImportError('GluonTS installation is incompatible with AutoTS. The numpy version is sometimes the issue, try 1.23.1 {as of 06-2023}') in model 2 in generation 0: GluonTS\n",
      "Model Number: 3 with model GluonTS in generation 0 of 4\n",
      "Template Eval Error: ImportError('GluonTS installation is incompatible with AutoTS. The numpy version is sometimes the issue, try 1.23.1 {as of 06-2023}') in model 3 in generation 0: GluonTS\n",
      "Model Number: 4 with model GluonTS in generation 0 of 4\n",
      "Template Eval Error: ImportError('GluonTS installation is incompatible with AutoTS. The numpy version is sometimes the issue, try 1.23.1 {as of 06-2023}') in model 4 in generation 0: GluonTS\n",
      "Model Number: 5 with model GluonTS in generation 0 of 4\n",
      "Template Eval Error: ImportError('GluonTS installation is incompatible with AutoTS. The numpy version is sometimes the issue, try 1.23.1 {as of 06-2023}') in model 5 in generation 0: GluonTS\n",
      "Model Number: 6 with model VAR in generation 0 of 4\n",
      "Model Number: 7 with model VAR in generation 0 of 4\n",
      "Model Number: 8 with model VECM in generation 0 of 4\n",
      "Model Number: 9 with model VECM in generation 0 of 4\n",
      "Model Number: 10 with model WindowRegression in generation 0 of 4\n"
     ]
    },
    {
     "name": "stderr",
     "output_type": "stream",
     "text": [
      "/Users/nslali/anaconda3/envs/forecasting/lib/python3.8/site-packages/sklearn/neural_network/_multilayer_perceptron.py:546: ConvergenceWarning: lbfgs failed to converge (status=1):\n",
      "STOP: TOTAL NO. of ITERATIONS REACHED LIMIT.\n",
      "\n",
      "Increase the number of iterations (max_iter) or scale the data as shown in:\n",
      "    https://scikit-learn.org/stable/modules/preprocessing.html\n",
      "  self.n_iter_ = _check_optimize_result(\"lbfgs\", opt_res, self.max_iter)\n"
     ]
    },
    {
     "name": "stdout",
     "output_type": "stream",
     "text": [
      "Model Number: 11 with model GluonTS in generation 0 of 4\n",
      "Template Eval Error: ImportError('GluonTS installation is incompatible with AutoTS. The numpy version is sometimes the issue, try 1.23.1 {as of 06-2023}') in model 11 in generation 0: GluonTS\n",
      "Model Number: 12 with model MultivariateRegression in generation 0 of 4\n",
      "Model Number: 13 with model MultivariateRegression in generation 0 of 4\n",
      "Template Eval Error: ValueError(\"regression_type='User' but not future_regressor supplied.\") in model 13 in generation 0: MultivariateRegression\n",
      "Model Number: 14 with model VECM in generation 0 of 4\n",
      "Model Number: 15 with model MultivariateMotif in generation 0 of 4\n",
      "Model Number: 16 with model MultivariateMotif in generation 0 of 4\n",
      "Model Number: 17 with model SectionalMotif in generation 0 of 4\n",
      "Model Number: 18 with model SectionalMotif in generation 0 of 4\n",
      "Model Number: 19 with model MultivariateRegression in generation 0 of 4\n",
      "Model Number: 20 with model NVAR in generation 0 of 4\n",
      "Model Number: 21 with model RollingRegression in generation 0 of 4\n",
      "Template Eval Error: ValueError('future_regressor not supplied, necessary for regression_type') in model 21 in generation 0: RollingRegression\n",
      "Model Number: 22 with model DynamicFactor in generation 0 of 4\n",
      "Template Eval Error: ValueError(\"regression_type='User' but future_regressor not passed\") in model 22 in generation 0: DynamicFactor\n",
      "Model Number: 23 with model RollingRegression in generation 0 of 4\n"
     ]
    },
    {
     "name": "stderr",
     "output_type": "stream",
     "text": [
      "/Users/nslali/anaconda3/envs/forecasting/lib/python3.8/site-packages/sklearn/base.py:465: UserWarning: X does not have valid feature names, but ExtraTreesRegressor was fitted with feature names\n",
      "  warnings.warn(\n",
      "/Users/nslali/anaconda3/envs/forecasting/lib/python3.8/site-packages/sklearn/base.py:465: UserWarning: X does not have valid feature names, but ExtraTreesRegressor was fitted with feature names\n",
      "  warnings.warn(\n",
      "/Users/nslali/anaconda3/envs/forecasting/lib/python3.8/site-packages/sklearn/base.py:465: UserWarning: X does not have valid feature names, but ExtraTreesRegressor was fitted with feature names\n",
      "  warnings.warn(\n",
      "/Users/nslali/anaconda3/envs/forecasting/lib/python3.8/site-packages/sklearn/base.py:465: UserWarning: X does not have valid feature names, but ExtraTreesRegressor was fitted with feature names\n",
      "  warnings.warn(\n",
      "/Users/nslali/anaconda3/envs/forecasting/lib/python3.8/site-packages/sklearn/base.py:465: UserWarning: X does not have valid feature names, but ExtraTreesRegressor was fitted with feature names\n",
      "  warnings.warn(\n",
      "/Users/nslali/anaconda3/envs/forecasting/lib/python3.8/site-packages/sklearn/base.py:465: UserWarning: X does not have valid feature names, but ExtraTreesRegressor was fitted with feature names\n",
      "  warnings.warn(\n",
      "/Users/nslali/anaconda3/envs/forecasting/lib/python3.8/site-packages/numpy/lib/function_base.py:2854: RuntimeWarning: invalid value encountered in divide\n",
      "  c /= stddev[:, None]\n",
      "/Users/nslali/anaconda3/envs/forecasting/lib/python3.8/site-packages/numpy/lib/function_base.py:2855: RuntimeWarning: invalid value encountered in divide\n",
      "  c /= stddev[None, :]\n"
     ]
    },
    {
     "name": "stdout",
     "output_type": "stream",
     "text": [
      "Model Number: 24 with model Cassandra in generation 0 of 4\n",
      "Model Number: 25 with model TiDE in generation 0 of 4\n",
      "Template Eval Error: NameError(\"name 'tf' is not defined\") in model 25 in generation 0: TiDE\n",
      "Model Number: 26 with model Cassandra in generation 0 of 4\n",
      "Model Number: 27 with model Cassandra in generation 0 of 4\n"
     ]
    },
    {
     "name": "stderr",
     "output_type": "stream",
     "text": [
      "/Users/nslali/anaconda3/envs/forecasting/lib/python3.8/site-packages/numpy/lib/function_base.py:2854: RuntimeWarning: invalid value encountered in divide\n",
      "  c /= stddev[:, None]\n",
      "/Users/nslali/anaconda3/envs/forecasting/lib/python3.8/site-packages/numpy/lib/function_base.py:2855: RuntimeWarning: invalid value encountered in divide\n",
      "  c /= stddev[None, :]\n",
      "/Users/nslali/anaconda3/envs/forecasting/lib/python3.8/site-packages/numpy/lib/function_base.py:2854: RuntimeWarning: invalid value encountered in divide\n",
      "  c /= stddev[:, None]\n",
      "/Users/nslali/anaconda3/envs/forecasting/lib/python3.8/site-packages/numpy/lib/function_base.py:2855: RuntimeWarning: invalid value encountered in divide\n",
      "  c /= stddev[None, :]\n"
     ]
    },
    {
     "name": "stdout",
     "output_type": "stream",
     "text": [
      "Model Number: 28 with model NeuralForecast in generation 0 of 4\n",
      "Template Eval Error: ModuleNotFoundError(\"No module named 'neuralforecast'\") in model 28 in generation 0: NeuralForecast\n",
      "Model Number: 29 with model VECM in generation 0 of 4\n",
      "Template Eval Error: Exception('Transformer Detrend failed on fit') in model 29 in generation 0: VECM\n",
      "Model Number: 30 with model DynamicFactor in generation 0 of 4\n",
      "Template Eval Error: ValueError('Number of factors must be less than the number of endogenous variables.') in model 30 in generation 0: DynamicFactor\n",
      "Model Number: 31 with model GluonTS in generation 0 of 4\n",
      "Template Eval Error: ImportError('GluonTS installation is incompatible with AutoTS. The numpy version is sometimes the issue, try 1.23.1 {as of 06-2023}') in model 31 in generation 0: GluonTS\n",
      "Model Number: 32 with model RollingRegression in generation 0 of 4\n"
     ]
    },
    {
     "name": "stderr",
     "output_type": "stream",
     "text": [
      "/Users/nslali/anaconda3/envs/forecasting/lib/python3.8/site-packages/sklearn/neural_network/_multilayer_perceptron.py:546: ConvergenceWarning: lbfgs failed to converge (status=1):\n",
      "STOP: TOTAL NO. of ITERATIONS REACHED LIMIT.\n",
      "\n",
      "Increase the number of iterations (max_iter) or scale the data as shown in:\n",
      "    https://scikit-learn.org/stable/modules/preprocessing.html\n",
      "  self.n_iter_ = _check_optimize_result(\"lbfgs\", opt_res, self.max_iter)\n",
      "/Users/nslali/anaconda3/envs/forecasting/lib/python3.8/site-packages/sklearn/base.py:465: UserWarning: X does not have valid feature names, but MLPRegressor was fitted with feature names\n",
      "  warnings.warn(\n",
      "/Users/nslali/anaconda3/envs/forecasting/lib/python3.8/site-packages/sklearn/base.py:465: UserWarning: X does not have valid feature names, but MLPRegressor was fitted with feature names\n",
      "  warnings.warn(\n",
      "/Users/nslali/anaconda3/envs/forecasting/lib/python3.8/site-packages/sklearn/base.py:465: UserWarning: X does not have valid feature names, but MLPRegressor was fitted with feature names\n",
      "  warnings.warn(\n",
      "/Users/nslali/anaconda3/envs/forecasting/lib/python3.8/site-packages/sklearn/base.py:465: UserWarning: X does not have valid feature names, but MLPRegressor was fitted with feature names\n",
      "  warnings.warn(\n",
      "/Users/nslali/anaconda3/envs/forecasting/lib/python3.8/site-packages/sklearn/base.py:465: UserWarning: X does not have valid feature names, but MLPRegressor was fitted with feature names\n",
      "  warnings.warn(\n",
      "/Users/nslali/anaconda3/envs/forecasting/lib/python3.8/site-packages/sklearn/base.py:465: UserWarning: X does not have valid feature names, but MLPRegressor was fitted with feature names\n",
      "  warnings.warn(\n"
     ]
    },
    {
     "name": "stdout",
     "output_type": "stream",
     "text": [
      "Model Number: 33 with model WindowRegression in generation 0 of 4\n"
     ]
    },
    {
     "name": "stderr",
     "output_type": "stream",
     "text": [
      "[LightGBM] [Fatal] [gamma]: at least one target label is negative\n",
      "[LightGBM] [Fatal] [gamma]: at least one target label is negative\n",
      "[LightGBM] [Fatal] [gamma]: at least one target label is negative\n",
      "[LightGBM] [Fatal] [gamma]: at least one target label is negative\n",
      "[LightGBM] [Fatal] [gamma]: at least one target label is negative\n",
      "[LightGBM] [Fatal] [gamma]: at least one target label is negative\n",
      "[LightGBM] [Fatal] [gamma]: at least one target label is negative\n"
     ]
    },
    {
     "name": "stdout",
     "output_type": "stream",
     "text": [
      "Template Eval Error: LightGBMError('[gamma]: at least one target label is negative') in model 33 in generation 0: WindowRegression\n",
      "Model Number: 34 with model VAR in generation 0 of 4\n",
      "Model Number: 35 with model MultivariateMotif in generation 0 of 4\n",
      "Model Number: 36 with model NVAR in generation 0 of 4\n",
      "Model Number: 37 with model MultivariateRegression in generation 0 of 4\n",
      "Model Number: 38 with model SectionalMotif in generation 0 of 4\n",
      "Model Number: 39 with model DynamicFactorMQ in generation 0 of 4\n",
      "Template Eval Error: Exception('Transformer MaxAbsScaler failed on fit') in model 39 in generation 0: DynamicFactorMQ\n",
      "Model Number: 40 with model PytorchForecasting in generation 0 of 4\n",
      "Template Eval Error: ImportError('pytorch, pytorch lighting, or pytorch-forecasting not present') in model 40 in generation 0: PytorchForecasting\n",
      "Model Number: 41 with model RRVAR in generation 0 of 4\n",
      "Model Number: 42 with model MAR in generation 0 of 4\n",
      "Model Number: 43 with model TMF in generation 0 of 4\n",
      "Template Eval Error: Exception('Transformer CenterSplit failed on inverse') in model 43 in generation 0: TMF\n",
      "Model Number: 44 with model LATC in generation 0 of 4\n",
      "Model Number: 45 with model Cassandra in generation 0 of 4\n",
      "Model Number: 46 with model BallTreeMultivariateMotif in generation 0 of 4\n",
      "Template Eval Error: ValueError(\"Unrecognized metric '['euclidean']'\") in model 46 in generation 0: BallTreeMultivariateMotif\n",
      "Model Number: 47 with model TiDE in generation 0 of 4\n",
      "Template Eval Error: NameError(\"name 'tf' is not defined\") in model 47 in generation 0: TiDE\n",
      "Model Number: 48 with model NeuralForecast in generation 0 of 4\n",
      "Template Eval Error: ValueError(\"regression_type='User' but no future_regressor passed\") in model 48 in generation 0: NeuralForecast\n",
      "Model Number: 49 with model SectionalMotif in generation 0 of 4\n",
      "Template Eval Error: ValueError(\"regression_type=='User' but no future_regressor supplied\") in model 49 in generation 0: SectionalMotif\n",
      "Model Number: 50 with model LATC in generation 0 of 4\n"
     ]
    },
    {
     "name": "stderr",
     "output_type": "stream",
     "text": [
      "/Users/nslali/anaconda3/envs/forecasting/lib/python3.8/site-packages/numpy/lib/function_base.py:2854: RuntimeWarning: invalid value encountered in divide\n",
      "  c /= stddev[:, None]\n",
      "/Users/nslali/anaconda3/envs/forecasting/lib/python3.8/site-packages/numpy/lib/function_base.py:2855: RuntimeWarning: invalid value encountered in divide\n",
      "  c /= stddev[None, :]\n",
      "/Users/nslali/anaconda3/envs/forecasting/lib/python3.8/site-packages/sklearn/linear_model/_ridge.py:200: LinAlgWarning: Ill-conditioned matrix (rcond=1.3669e-25): result may not be accurate.\n",
      "  return linalg.solve(A, Xy, assume_a=\"pos\", overwrite_a=True).T\n",
      "/Users/nslali/anaconda3/envs/forecasting/lib/python3.8/site-packages/sklearn/linear_model/_ridge.py:200: LinAlgWarning: Ill-conditioned matrix (rcond=1.3669e-25): result may not be accurate.\n",
      "  return linalg.solve(A, Xy, assume_a=\"pos\", overwrite_a=True).T\n"
     ]
    },
    {
     "name": "stdout",
     "output_type": "stream",
     "text": [
      "Model Number: 51 with model VAR in generation 0 of 4\n",
      "Template Eval Error: Exception('Transformer ScipyFilter failed on fit') in model 51 in generation 0: VAR\n",
      "Model Number: 52 with model NeuralForecast in generation 0 of 4\n",
      "Template Eval Error: ModuleNotFoundError(\"No module named 'neuralforecast'\") in model 52 in generation 0: NeuralForecast\n",
      "Model Number: 53 with model LATC in generation 0 of 4\n",
      "Model Number: 54 with model MultivariateRegression in generation 0 of 4\n",
      "Model Number: 55 with model BallTreeMultivariateMotif in generation 0 of 4\n",
      "Template Eval Error: ValueError(\"Unrecognized metric '['euclidean']'\") in model 55 in generation 0: BallTreeMultivariateMotif\n",
      "Model Number: 56 with model VECM in generation 0 of 4\n",
      "Model Number: 57 with model MultivariateRegression in generation 0 of 4\n",
      "Model Number: 58 with model MultivariateRegression in generation 0 of 4\n"
     ]
    },
    {
     "name": "stderr",
     "output_type": "stream",
     "text": [
      "/Users/nslali/anaconda3/envs/forecasting/lib/python3.8/site-packages/sklearn/svm/_classes.py:32: FutureWarning: The default value of `dual` will change from `True` to `'auto'` in 1.5. Set the value of `dual` explicitly to suppress the warning.\n",
      "  warnings.warn(\n",
      "/Users/nslali/anaconda3/envs/forecasting/lib/python3.8/site-packages/sklearn/svm/_base.py:1250: ConvergenceWarning: Liblinear failed to converge, increase the number of iterations.\n",
      "  warnings.warn(\n",
      "/Users/nslali/anaconda3/envs/forecasting/lib/python3.8/site-packages/numpy/lib/function_base.py:2854: RuntimeWarning: invalid value encountered in divide\n",
      "  c /= stddev[:, None]\n",
      "/Users/nslali/anaconda3/envs/forecasting/lib/python3.8/site-packages/numpy/lib/function_base.py:2855: RuntimeWarning: invalid value encountered in divide\n",
      "  c /= stddev[None, :]\n"
     ]
    },
    {
     "name": "stdout",
     "output_type": "stream",
     "text": [
      "Model Number: 59 with model Cassandra in generation 0 of 4\n",
      "Model Number: 60 with model DynamicFactor in generation 0 of 4\n"
     ]
    },
    {
     "name": "stderr",
     "output_type": "stream",
     "text": [
      "/Users/nslali/anaconda3/envs/forecasting/lib/python3.8/site-packages/statsmodels/base/model.py:607: ConvergenceWarning: Maximum Likelihood optimization failed to converge. Check mle_retvals\n",
      "  warnings.warn(\"Maximum Likelihood optimization failed to \"\n"
     ]
    },
    {
     "name": "stdout",
     "output_type": "stream",
     "text": [
      "Model Number: 61 with model RollingRegression in generation 0 of 4\n",
      "Model Number: 62 with model SectionalMotif in generation 0 of 4\n",
      "Model Number: 63 with model VAR in generation 0 of 4\n",
      "Model Number: 64 with model VAR in generation 0 of 4\n",
      "Model Number: 65 with model Cassandra in generation 0 of 4\n"
     ]
    },
    {
     "name": "stderr",
     "output_type": "stream",
     "text": [
      "/Users/nslali/anaconda3/envs/forecasting/lib/python3.8/site-packages/sklearn/base.py:465: UserWarning: X does not have valid feature names, but MultiTaskElasticNet was fitted with feature names\n",
      "  warnings.warn(\n",
      "/Users/nslali/anaconda3/envs/forecasting/lib/python3.8/site-packages/sklearn/base.py:465: UserWarning: X does not have valid feature names, but MultiTaskElasticNet was fitted with feature names\n",
      "  warnings.warn(\n",
      "/Users/nslali/anaconda3/envs/forecasting/lib/python3.8/site-packages/sklearn/base.py:465: UserWarning: X does not have valid feature names, but MultiTaskElasticNet was fitted with feature names\n",
      "  warnings.warn(\n",
      "/Users/nslali/anaconda3/envs/forecasting/lib/python3.8/site-packages/sklearn/base.py:465: UserWarning: X does not have valid feature names, but MultiTaskElasticNet was fitted with feature names\n",
      "  warnings.warn(\n",
      "/Users/nslali/anaconda3/envs/forecasting/lib/python3.8/site-packages/sklearn/base.py:465: UserWarning: X does not have valid feature names, but MultiTaskElasticNet was fitted with feature names\n",
      "  warnings.warn(\n",
      "/Users/nslali/anaconda3/envs/forecasting/lib/python3.8/site-packages/sklearn/base.py:465: UserWarning: X does not have valid feature names, but MultiTaskElasticNet was fitted with feature names\n",
      "  warnings.warn(\n",
      "/Users/nslali/anaconda3/envs/forecasting/lib/python3.8/site-packages/sklearn/linear_model/_ridge.py:200: LinAlgWarning: Ill-conditioned matrix (rcond=1.3669e-25): result may not be accurate.\n",
      "  return linalg.solve(A, Xy, assume_a=\"pos\", overwrite_a=True).T\n",
      "/Users/nslali/anaconda3/envs/forecasting/lib/python3.8/site-packages/numpy/lib/function_base.py:2854: RuntimeWarning: invalid value encountered in divide\n",
      "  c /= stddev[:, None]\n",
      "/Users/nslali/anaconda3/envs/forecasting/lib/python3.8/site-packages/numpy/lib/function_base.py:2855: RuntimeWarning: invalid value encountered in divide\n",
      "  c /= stddev[None, :]\n"
     ]
    },
    {
     "name": "stdout",
     "output_type": "stream",
     "text": [
      "Model Number: 66 with model MultivariateMotif in generation 0 of 4\n",
      "Model Number: 67 with model RollingRegression in generation 0 of 4\n",
      "Template Eval Error: ValueError('future_regressor not supplied, necessary for regression_type') in model 67 in generation 0: RollingRegression\n",
      "Model Number: 68 with model VECM in generation 0 of 4\n",
      "Model Number: 69 with model BallTreeMultivariateMotif in generation 0 of 4\n",
      "Template Eval Error: ValueError(\"Unrecognized metric '['kdtree']'\") in model 69 in generation 0: BallTreeMultivariateMotif\n",
      "Model Number: 70 with model VAR in generation 0 of 4\n",
      "Template Eval Error: IndexError('tuple index out of range') in model 70 in generation 0: VAR\n",
      "Model Number: 71 with model RollingRegression in generation 0 of 4\n",
      "Template Eval Error: ValueError(\"Model returned NaN due to a preprocessing transformer {'fillna': 'fake_date', 'transformations': {'0': 'Round', '1': 'Log', '2': 'AlignLastValue', '3': 'RobustScaler', '4': 'CumSumTransformer', '5': 'QuantileTransformer'}, 'transformation_params': {'0': {'decimals': 0, 'on_transform': False, 'on_inverse': True}, '1': {}, '2': {'rows': 7, 'lag': 1, 'method': 'additive', 'strength': 1.0, 'first_value_only': False}, '3': {}, '4': {}, '5': {'output_distribution': 'uniform', 'n_quantiles': 197}}}. fail_on_forecast_nan=True\") in model 71 in generation 0: RollingRegression\n",
      "Model Number: 72 with model VECM in generation 0 of 4\n",
      "Model Number: 73 with model SectionalMotif in generation 0 of 4\n",
      "Model Number: 74 with model RollingRegression in generation 0 of 4\n"
     ]
    },
    {
     "name": "stderr",
     "output_type": "stream",
     "text": [
      "/Users/nslali/anaconda3/envs/forecasting/lib/python3.8/site-packages/pandas/core/internals/blocks.py:329: RuntimeWarning: overflow encountered in exp\n",
      "  result = func(self.values, **kwargs)\n",
      "/Users/nslali/anaconda3/envs/forecasting/lib/python3.8/site-packages/pandas/core/internals/blocks.py:329: RuntimeWarning: overflow encountered in exp\n",
      "  result = func(self.values, **kwargs)\n",
      "/Users/nslali/anaconda3/envs/forecasting/lib/python3.8/site-packages/pandas/core/internals/blocks.py:329: RuntimeWarning: overflow encountered in exp\n",
      "  result = func(self.values, **kwargs)\n",
      "/Users/nslali/anaconda3/envs/forecasting/lib/python3.8/site-packages/sklearn/base.py:465: UserWarning: X does not have valid feature names, but Ridge was fitted with feature names\n",
      "  warnings.warn(\n",
      "/Users/nslali/anaconda3/envs/forecasting/lib/python3.8/site-packages/sklearn/base.py:465: UserWarning: X does not have valid feature names, but Ridge was fitted with feature names\n",
      "  warnings.warn(\n",
      "/Users/nslali/anaconda3/envs/forecasting/lib/python3.8/site-packages/sklearn/base.py:465: UserWarning: X does not have valid feature names, but Ridge was fitted with feature names\n",
      "  warnings.warn(\n",
      "/Users/nslali/anaconda3/envs/forecasting/lib/python3.8/site-packages/sklearn/base.py:465: UserWarning: X does not have valid feature names, but Ridge was fitted with feature names\n",
      "  warnings.warn(\n",
      "/Users/nslali/anaconda3/envs/forecasting/lib/python3.8/site-packages/sklearn/base.py:465: UserWarning: X does not have valid feature names, but Ridge was fitted with feature names\n",
      "  warnings.warn(\n",
      "/Users/nslali/anaconda3/envs/forecasting/lib/python3.8/site-packages/sklearn/base.py:465: UserWarning: X does not have valid feature names, but Ridge was fitted with feature names\n",
      "  warnings.warn(\n"
     ]
    },
    {
     "name": "stdout",
     "output_type": "stream",
     "text": [
      "Model Number: 75 with model Cassandra in generation 0 of 4\n"
     ]
    },
    {
     "name": "stderr",
     "output_type": "stream",
     "text": [
      "/Users/nslali/anaconda3/envs/forecasting/lib/python3.8/site-packages/numpy/lib/function_base.py:2854: RuntimeWarning: invalid value encountered in divide\n",
      "  c /= stddev[:, None]\n",
      "/Users/nslali/anaconda3/envs/forecasting/lib/python3.8/site-packages/numpy/lib/function_base.py:2855: RuntimeWarning: invalid value encountered in divide\n",
      "  c /= stddev[None, :]\n"
     ]
    },
    {
     "name": "stdout",
     "output_type": "stream",
     "text": [
      "Model Number: 76 with model MAR in generation 0 of 4\n",
      "Model Number: 77 with model RollingRegression in generation 0 of 4\n"
     ]
    },
    {
     "name": "stderr",
     "output_type": "stream",
     "text": [
      "/Users/nslali/anaconda3/envs/forecasting/lib/python3.8/site-packages/sklearn/svm/_classes.py:32: FutureWarning: The default value of `dual` will change from `True` to `'auto'` in 1.5. Set the value of `dual` explicitly to suppress the warning.\n",
      "  warnings.warn(\n",
      "/Users/nslali/anaconda3/envs/forecasting/lib/python3.8/site-packages/sklearn/svm/_classes.py:32: FutureWarning: The default value of `dual` will change from `True` to `'auto'` in 1.5. Set the value of `dual` explicitly to suppress the warning.\n",
      "  warnings.warn(\n",
      "/Users/nslali/anaconda3/envs/forecasting/lib/python3.8/site-packages/sklearn/svm/_classes.py:32: FutureWarning: The default value of `dual` will change from `True` to `'auto'` in 1.5. Set the value of `dual` explicitly to suppress the warning.\n",
      "  warnings.warn(\n",
      "/Users/nslali/anaconda3/envs/forecasting/lib/python3.8/site-packages/sklearn/svm/_classes.py:32: FutureWarning: The default value of `dual` will change from `True` to `'auto'` in 1.5. Set the value of `dual` explicitly to suppress the warning.\n",
      "  warnings.warn(\n",
      "/Users/nslali/anaconda3/envs/forecasting/lib/python3.8/site-packages/sklearn/svm/_classes.py:32: FutureWarning: The default value of `dual` will change from `True` to `'auto'` in 1.5. Set the value of `dual` explicitly to suppress the warning.\n",
      "  warnings.warn(\n",
      "/Users/nslali/anaconda3/envs/forecasting/lib/python3.8/site-packages/sklearn/svm/_classes.py:32: FutureWarning: The default value of `dual` will change from `True` to `'auto'` in 1.5. Set the value of `dual` explicitly to suppress the warning.\n",
      "  warnings.warn(\n",
      "/Users/nslali/anaconda3/envs/forecasting/lib/python3.8/site-packages/sklearn/svm/_classes.py:32: FutureWarning: The default value of `dual` will change from `True` to `'auto'` in 1.5. Set the value of `dual` explicitly to suppress the warning.\n",
      "  warnings.warn(\n",
      "/Users/nslali/anaconda3/envs/forecasting/lib/python3.8/site-packages/sklearn/svm/_classes.py:32: FutureWarning: The default value of `dual` will change from `True` to `'auto'` in 1.5. Set the value of `dual` explicitly to suppress the warning.\n",
      "  warnings.warn(\n",
      "/Users/nslali/anaconda3/envs/forecasting/lib/python3.8/site-packages/sklearn/svm/_classes.py:32: FutureWarning: The default value of `dual` will change from `True` to `'auto'` in 1.5. Set the value of `dual` explicitly to suppress the warning.\n",
      "  warnings.warn(\n",
      "/Users/nslali/anaconda3/envs/forecasting/lib/python3.8/site-packages/sklearn/svm/_base.py:1250: ConvergenceWarning: Liblinear failed to converge, increase the number of iterations.\n",
      "  warnings.warn(\n",
      "/Users/nslali/anaconda3/envs/forecasting/lib/python3.8/site-packages/sklearn/svm/_base.py:1250: ConvergenceWarning: Liblinear failed to converge, increase the number of iterations.\n",
      "  warnings.warn(\n",
      "/Users/nslali/anaconda3/envs/forecasting/lib/python3.8/site-packages/sklearn/svm/_base.py:1250: ConvergenceWarning: Liblinear failed to converge, increase the number of iterations.\n",
      "  warnings.warn(\n",
      "/Users/nslali/anaconda3/envs/forecasting/lib/python3.8/site-packages/sklearn/svm/_base.py:1250: ConvergenceWarning: Liblinear failed to converge, increase the number of iterations.\n",
      "  warnings.warn(\n",
      "/Users/nslali/anaconda3/envs/forecasting/lib/python3.8/site-packages/sklearn/svm/_base.py:1250: ConvergenceWarning: Liblinear failed to converge, increase the number of iterations.\n",
      "  warnings.warn(\n",
      "/Users/nslali/anaconda3/envs/forecasting/lib/python3.8/site-packages/sklearn/svm/_base.py:1250: ConvergenceWarning: Liblinear failed to converge, increase the number of iterations.\n",
      "  warnings.warn(\n",
      "/Users/nslali/anaconda3/envs/forecasting/lib/python3.8/site-packages/sklearn/svm/_base.py:1250: ConvergenceWarning: Liblinear failed to converge, increase the number of iterations.\n",
      "  warnings.warn(\n",
      "/Users/nslali/anaconda3/envs/forecasting/lib/python3.8/site-packages/sklearn/svm/_base.py:1250: ConvergenceWarning: Liblinear failed to converge, increase the number of iterations.\n",
      "  warnings.warn(\n",
      "/Users/nslali/anaconda3/envs/forecasting/lib/python3.8/site-packages/sklearn/svm/_base.py:1250: ConvergenceWarning: Liblinear failed to converge, increase the number of iterations.\n",
      "  warnings.warn(\n",
      "/Users/nslali/anaconda3/envs/forecasting/lib/python3.8/site-packages/sklearn/base.py:465: UserWarning: X does not have valid feature names, but LinearSVR was fitted with feature names\n",
      "  warnings.warn(\n",
      "/Users/nslali/anaconda3/envs/forecasting/lib/python3.8/site-packages/sklearn/base.py:465: UserWarning: X does not have valid feature names, but LinearSVR was fitted with feature names\n",
      "  warnings.warn(\n",
      "/Users/nslali/anaconda3/envs/forecasting/lib/python3.8/site-packages/sklearn/base.py:465: UserWarning: X does not have valid feature names, but LinearSVR was fitted with feature names\n",
      "  warnings.warn(\n",
      "/Users/nslali/anaconda3/envs/forecasting/lib/python3.8/site-packages/sklearn/base.py:465: UserWarning: X does not have valid feature names, but LinearSVR was fitted with feature names\n",
      "  warnings.warn(\n",
      "/Users/nslali/anaconda3/envs/forecasting/lib/python3.8/site-packages/sklearn/base.py:465: UserWarning: X does not have valid feature names, but LinearSVR was fitted with feature names\n",
      "  warnings.warn(\n",
      "/Users/nslali/anaconda3/envs/forecasting/lib/python3.8/site-packages/sklearn/base.py:465: UserWarning: X does not have valid feature names, but LinearSVR was fitted with feature names\n",
      "  warnings.warn(\n",
      "/Users/nslali/anaconda3/envs/forecasting/lib/python3.8/site-packages/sklearn/base.py:465: UserWarning: X does not have valid feature names, but LinearSVR was fitted with feature names\n",
      "  warnings.warn(\n",
      "/Users/nslali/anaconda3/envs/forecasting/lib/python3.8/site-packages/sklearn/base.py:465: UserWarning: X does not have valid feature names, but LinearSVR was fitted with feature names\n",
      "  warnings.warn(\n",
      "/Users/nslali/anaconda3/envs/forecasting/lib/python3.8/site-packages/sklearn/base.py:465: UserWarning: X does not have valid feature names, but LinearSVR was fitted with feature names\n",
      "  warnings.warn(\n",
      "/Users/nslali/anaconda3/envs/forecasting/lib/python3.8/site-packages/sklearn/base.py:465: UserWarning: X does not have valid feature names, but LinearSVR was fitted with feature names\n",
      "  warnings.warn(\n",
      "/Users/nslali/anaconda3/envs/forecasting/lib/python3.8/site-packages/sklearn/base.py:465: UserWarning: X does not have valid feature names, but LinearSVR was fitted with feature names\n",
      "  warnings.warn(\n",
      "/Users/nslali/anaconda3/envs/forecasting/lib/python3.8/site-packages/sklearn/base.py:465: UserWarning: X does not have valid feature names, but LinearSVR was fitted with feature names\n",
      "  warnings.warn(\n",
      "/Users/nslali/anaconda3/envs/forecasting/lib/python3.8/site-packages/sklearn/base.py:465: UserWarning: X does not have valid feature names, but LinearSVR was fitted with feature names\n",
      "  warnings.warn(\n",
      "/Users/nslali/anaconda3/envs/forecasting/lib/python3.8/site-packages/sklearn/base.py:465: UserWarning: X does not have valid feature names, but LinearSVR was fitted with feature names\n",
      "  warnings.warn(\n",
      "/Users/nslali/anaconda3/envs/forecasting/lib/python3.8/site-packages/sklearn/base.py:465: UserWarning: X does not have valid feature names, but LinearSVR was fitted with feature names\n",
      "  warnings.warn(\n",
      "/Users/nslali/anaconda3/envs/forecasting/lib/python3.8/site-packages/sklearn/base.py:465: UserWarning: X does not have valid feature names, but LinearSVR was fitted with feature names\n",
      "  warnings.warn(\n",
      "/Users/nslali/anaconda3/envs/forecasting/lib/python3.8/site-packages/sklearn/base.py:465: UserWarning: X does not have valid feature names, but LinearSVR was fitted with feature names\n",
      "  warnings.warn(\n",
      "/Users/nslali/anaconda3/envs/forecasting/lib/python3.8/site-packages/sklearn/base.py:465: UserWarning: X does not have valid feature names, but LinearSVR was fitted with feature names\n",
      "  warnings.warn(\n"
     ]
    },
    {
     "name": "stdout",
     "output_type": "stream",
     "text": [
      "Model Number: 78 with model SectionalMotif in generation 0 of 4\n"
     ]
    },
    {
     "name": "stderr",
     "output_type": "stream",
     "text": [
      "/Users/nslali/anaconda3/envs/forecasting/lib/python3.8/site-packages/sklearn/base.py:465: UserWarning: X does not have valid feature names, but LinearSVR was fitted with feature names\n",
      "  warnings.warn(\n",
      "/Users/nslali/anaconda3/envs/forecasting/lib/python3.8/site-packages/sklearn/base.py:465: UserWarning: X does not have valid feature names, but LinearSVR was fitted with feature names\n",
      "  warnings.warn(\n",
      "/Users/nslali/anaconda3/envs/forecasting/lib/python3.8/site-packages/sklearn/base.py:465: UserWarning: X does not have valid feature names, but LinearSVR was fitted with feature names\n",
      "  warnings.warn(\n",
      "/Users/nslali/anaconda3/envs/forecasting/lib/python3.8/site-packages/sklearn/base.py:465: UserWarning: X does not have valid feature names, but LinearSVR was fitted with feature names\n",
      "  warnings.warn(\n",
      "/Users/nslali/anaconda3/envs/forecasting/lib/python3.8/site-packages/sklearn/base.py:465: UserWarning: X does not have valid feature names, but LinearSVR was fitted with feature names\n",
      "  warnings.warn(\n",
      "/Users/nslali/anaconda3/envs/forecasting/lib/python3.8/site-packages/sklearn/base.py:465: UserWarning: X does not have valid feature names, but LinearSVR was fitted with feature names\n",
      "  warnings.warn(\n",
      "/Users/nslali/anaconda3/envs/forecasting/lib/python3.8/site-packages/sklearn/base.py:465: UserWarning: X does not have valid feature names, but LinearSVR was fitted with feature names\n",
      "  warnings.warn(\n",
      "/Users/nslali/anaconda3/envs/forecasting/lib/python3.8/site-packages/sklearn/base.py:465: UserWarning: X does not have valid feature names, but LinearSVR was fitted with feature names\n",
      "  warnings.warn(\n",
      "/Users/nslali/anaconda3/envs/forecasting/lib/python3.8/site-packages/sklearn/base.py:465: UserWarning: X does not have valid feature names, but LinearSVR was fitted with feature names\n",
      "  warnings.warn(\n",
      "/Users/nslali/anaconda3/envs/forecasting/lib/python3.8/site-packages/sklearn/base.py:465: UserWarning: X does not have valid feature names, but LinearSVR was fitted with feature names\n",
      "  warnings.warn(\n",
      "/Users/nslali/anaconda3/envs/forecasting/lib/python3.8/site-packages/sklearn/base.py:465: UserWarning: X does not have valid feature names, but LinearSVR was fitted with feature names\n",
      "  warnings.warn(\n",
      "/Users/nslali/anaconda3/envs/forecasting/lib/python3.8/site-packages/sklearn/base.py:465: UserWarning: X does not have valid feature names, but LinearSVR was fitted with feature names\n",
      "  warnings.warn(\n",
      "/Users/nslali/anaconda3/envs/forecasting/lib/python3.8/site-packages/sklearn/base.py:465: UserWarning: X does not have valid feature names, but LinearSVR was fitted with feature names\n",
      "  warnings.warn(\n",
      "/Users/nslali/anaconda3/envs/forecasting/lib/python3.8/site-packages/sklearn/base.py:465: UserWarning: X does not have valid feature names, but LinearSVR was fitted with feature names\n",
      "  warnings.warn(\n",
      "/Users/nslali/anaconda3/envs/forecasting/lib/python3.8/site-packages/sklearn/base.py:465: UserWarning: X does not have valid feature names, but LinearSVR was fitted with feature names\n",
      "  warnings.warn(\n",
      "/Users/nslali/anaconda3/envs/forecasting/lib/python3.8/site-packages/sklearn/base.py:465: UserWarning: X does not have valid feature names, but LinearSVR was fitted with feature names\n",
      "  warnings.warn(\n",
      "/Users/nslali/anaconda3/envs/forecasting/lib/python3.8/site-packages/sklearn/base.py:465: UserWarning: X does not have valid feature names, but LinearSVR was fitted with feature names\n",
      "  warnings.warn(\n",
      "/Users/nslali/anaconda3/envs/forecasting/lib/python3.8/site-packages/sklearn/base.py:465: UserWarning: X does not have valid feature names, but LinearSVR was fitted with feature names\n",
      "  warnings.warn(\n",
      "/Users/nslali/anaconda3/envs/forecasting/lib/python3.8/site-packages/sklearn/base.py:465: UserWarning: X does not have valid feature names, but LinearSVR was fitted with feature names\n",
      "  warnings.warn(\n",
      "/Users/nslali/anaconda3/envs/forecasting/lib/python3.8/site-packages/sklearn/base.py:465: UserWarning: X does not have valid feature names, but LinearSVR was fitted with feature names\n",
      "  warnings.warn(\n",
      "/Users/nslali/anaconda3/envs/forecasting/lib/python3.8/site-packages/sklearn/base.py:465: UserWarning: X does not have valid feature names, but LinearSVR was fitted with feature names\n",
      "  warnings.warn(\n",
      "/Users/nslali/anaconda3/envs/forecasting/lib/python3.8/site-packages/sklearn/base.py:465: UserWarning: X does not have valid feature names, but LinearSVR was fitted with feature names\n",
      "  warnings.warn(\n",
      "/Users/nslali/anaconda3/envs/forecasting/lib/python3.8/site-packages/sklearn/base.py:465: UserWarning: X does not have valid feature names, but LinearSVR was fitted with feature names\n",
      "  warnings.warn(\n",
      "/Users/nslali/anaconda3/envs/forecasting/lib/python3.8/site-packages/sklearn/base.py:465: UserWarning: X does not have valid feature names, but LinearSVR was fitted with feature names\n",
      "  warnings.warn(\n",
      "/Users/nslali/anaconda3/envs/forecasting/lib/python3.8/site-packages/sklearn/base.py:465: UserWarning: X does not have valid feature names, but LinearSVR was fitted with feature names\n",
      "  warnings.warn(\n",
      "/Users/nslali/anaconda3/envs/forecasting/lib/python3.8/site-packages/sklearn/base.py:465: UserWarning: X does not have valid feature names, but LinearSVR was fitted with feature names\n",
      "  warnings.warn(\n",
      "/Users/nslali/anaconda3/envs/forecasting/lib/python3.8/site-packages/sklearn/base.py:465: UserWarning: X does not have valid feature names, but LinearSVR was fitted with feature names\n",
      "  warnings.warn(\n",
      "/Users/nslali/anaconda3/envs/forecasting/lib/python3.8/site-packages/sklearn/base.py:465: UserWarning: X does not have valid feature names, but LinearSVR was fitted with feature names\n",
      "  warnings.warn(\n",
      "/Users/nslali/anaconda3/envs/forecasting/lib/python3.8/site-packages/sklearn/base.py:465: UserWarning: X does not have valid feature names, but LinearSVR was fitted with feature names\n",
      "  warnings.warn(\n",
      "/Users/nslali/anaconda3/envs/forecasting/lib/python3.8/site-packages/sklearn/base.py:465: UserWarning: X does not have valid feature names, but LinearSVR was fitted with feature names\n",
      "  warnings.warn(\n",
      "/Users/nslali/anaconda3/envs/forecasting/lib/python3.8/site-packages/sklearn/base.py:465: UserWarning: X does not have valid feature names, but LinearSVR was fitted with feature names\n",
      "  warnings.warn(\n",
      "/Users/nslali/anaconda3/envs/forecasting/lib/python3.8/site-packages/sklearn/base.py:465: UserWarning: X does not have valid feature names, but LinearSVR was fitted with feature names\n",
      "  warnings.warn(\n",
      "/Users/nslali/anaconda3/envs/forecasting/lib/python3.8/site-packages/sklearn/base.py:465: UserWarning: X does not have valid feature names, but LinearSVR was fitted with feature names\n",
      "  warnings.warn(\n",
      "/Users/nslali/anaconda3/envs/forecasting/lib/python3.8/site-packages/sklearn/base.py:465: UserWarning: X does not have valid feature names, but LinearSVR was fitted with feature names\n",
      "  warnings.warn(\n",
      "/Users/nslali/anaconda3/envs/forecasting/lib/python3.8/site-packages/sklearn/base.py:465: UserWarning: X does not have valid feature names, but LinearSVR was fitted with feature names\n",
      "  warnings.warn(\n",
      "/Users/nslali/anaconda3/envs/forecasting/lib/python3.8/site-packages/sklearn/base.py:465: UserWarning: X does not have valid feature names, but LinearSVR was fitted with feature names\n",
      "  warnings.warn(\n"
     ]
    },
    {
     "name": "stdout",
     "output_type": "stream",
     "text": [
      "Model Number: 79 with model MultivariateMotif in generation 0 of 4\n",
      "Model Number: 80 with model LATC in generation 0 of 4\n",
      "Model Number: 81 with model MultivariateRegression in generation 0 of 4\n",
      "Model Number: 82 with model SectionalMotif in generation 0 of 4\n",
      "Template Eval Error: Exception('Transformer RegressionFilter failed on fit') in model 82 in generation 0: SectionalMotif\n",
      "Model Number: 83 with model PytorchForecasting in generation 0 of 4\n",
      "Template Eval Error: ImportError('pytorch, pytorch lighting, or pytorch-forecasting not present') in model 83 in generation 0: PytorchForecasting\n",
      "Model Number: 84 with model MultivariateMotif in generation 0 of 4\n",
      "Model Number: 85 with model DynamicFactorMQ in generation 0 of 4\n",
      "Model Number: 86 with model RRVAR in generation 0 of 4\n",
      "Template Eval Error: Exception('Transformer KalmanSmoothing failed on fit') in model 86 in generation 0: RRVAR\n",
      "Model Number: 87 with model MAR in generation 0 of 4\n"
     ]
    },
    {
     "name": "stderr",
     "output_type": "stream",
     "text": [
      "/Users/nslali/anaconda3/envs/forecasting/lib/python3.8/site-packages/sklearn/linear_model/_ridge.py:200: LinAlgWarning: Ill-conditioned matrix (rcond=1.3669e-25): result may not be accurate.\n",
      "  return linalg.solve(A, Xy, assume_a=\"pos\", overwrite_a=True).T\n"
     ]
    },
    {
     "name": "stdout",
     "output_type": "stream",
     "text": [
      "Model Number: 88 with model MAR in generation 0 of 4\n",
      "Model Number: 89 with model MAR in generation 0 of 4\n",
      "Model Number: 90 with model RollingRegression in generation 0 of 4\n",
      "Template Eval Error: LightGBMError('Check failed: (label) > (0) at /private/var/folders/nz/j6p8yfhx1mv_0grj5xl4650h0000gp/T/abs_87xzjhjsx9/croot/lightgbm_1700267949723/work/src/metric/regression_metric.hpp, line 274 .\\n') in model 90 in generation 0: RollingRegression\n",
      "Model Number: 91 with model RollingRegression in generation 0 of 4\n"
     ]
    },
    {
     "name": "stderr",
     "output_type": "stream",
     "text": [
      "[LightGBM] [Fatal] Check failed: (label) > (0) at /private/var/folders/nz/j6p8yfhx1mv_0grj5xl4650h0000gp/T/abs_87xzjhjsx9/croot/lightgbm_1700267949723/work/src/metric/regression_metric.hpp, line 274 .\n",
      "\n",
      "[LightGBM] [Fatal] Check failed: (label) > (0) at /private/var/folders/nz/j6p8yfhx1mv_0grj5xl4650h0000gp/T/abs_87xzjhjsx9/croot/lightgbm_1700267949723/work/src/metric/regression_metric.hpp, line 274 .\n",
      "\n",
      "[LightGBM] [Fatal] Check failed: (label) > (0) at /private/var/folders/nz/j6p8yfhx1mv_0grj5xl4650h0000gp/T/abs_87xzjhjsx9/croot/lightgbm_1700267949723/work/src/metric/regression_metric.hpp, line 274 .\n",
      "\n",
      "[LightGBM] [Fatal] Check failed: (label) > (0) at /private/var/folders/nz/j6p8yfhx1mv_0grj5xl4650h0000gp/T/abs_87xzjhjsx9/croot/lightgbm_1700267949723/work/src/metric/regression_metric.hpp, line 274 .\n",
      "\n",
      "[LightGBM] [Fatal] Check failed: (label) > (0) at /private/var/folders/nz/j6p8yfhx1mv_0grj5xl4650h0000gp/T/abs_87xzjhjsx9/croot/lightgbm_1700267949723/work/src/metric/regression_metric.hpp, line 274 .\n",
      "\n",
      "[LightGBM] [Fatal] Check failed: (label) > (0) at /private/var/folders/nz/j6p8yfhx1mv_0grj5xl4650h0000gp/T/abs_87xzjhjsx9/croot/lightgbm_1700267949723/work/src/metric/regression_metric.hpp, line 274 .\n",
      "\n",
      "[LightGBM] [Fatal] Check failed: (label) > (0) at /private/var/folders/nz/j6p8yfhx1mv_0grj5xl4650h0000gp/T/abs_87xzjhjsx9/croot/lightgbm_1700267949723/work/src/metric/regression_metric.hpp, line 274 .\n",
      "\n",
      "[LightGBM] [Fatal] Check failed: (label) > (0) at /private/var/folders/nz/j6p8yfhx1mv_0grj5xl4650h0000gp/T/abs_87xzjhjsx9/croot/lightgbm_1700267949723/work/src/metric/regression_metric.hpp, line 274 .\n",
      "\n"
     ]
    },
    {
     "name": "stdout",
     "output_type": "stream",
     "text": [
      "Model Number: 92 with model DynamicFactorMQ in generation 0 of 4\n"
     ]
    },
    {
     "name": "stderr",
     "output_type": "stream",
     "text": [
      "/Users/nslali/anaconda3/envs/forecasting/lib/python3.8/site-packages/statsmodels/tsa/statespace/dynamic_factor_mq.py:1950: UserWarning: Non-stationary starting factor autoregressive parameters found for factor block ('0.1', '0.2'). Using zeros as starting parameters.\n",
      "  warn('Non-stationary starting factor autoregressive'\n"
     ]
    },
    {
     "name": "stdout",
     "output_type": "stream",
     "text": [
      "Model Number: 93 with model Cassandra in generation 0 of 4\n",
      "Template Eval Error: Exception('Transformer ScipyFilter failed on fit') in model 93 in generation 0: Cassandra\n",
      "Model Number: 94 with model MultivariateRegression in generation 0 of 4\n",
      "Model Number: 95 with model SectionalMotif in generation 0 of 4\n",
      "Model Number: 96 with model LATC in generation 0 of 4\n",
      "Model Number: 97 with model RRVAR in generation 0 of 4\n",
      "Model Number: 98 with model BallTreeMultivariateMotif in generation 0 of 4\n",
      "Template Eval Error: ValueError(\"Unrecognized metric '['minkowski']'\") in model 98 in generation 0: BallTreeMultivariateMotif\n",
      "Model Number: 99 with model DynamicFactorMQ in generation 0 of 4\n",
      "Model Number: 100 with model NeuralForecast in generation 0 of 4\n",
      "Template Eval Error: ModuleNotFoundError(\"No module named 'neuralforecast'\") in model 100 in generation 0: NeuralForecast\n",
      "Model Number: 101 with model MultivariateMotif in generation 0 of 4\n",
      "Model Number: 102 with model VECM in generation 0 of 4\n",
      "Model Number: 103 with model NVAR in generation 0 of 4\n",
      "Template Eval Error: Exception('Transformer AlignLastValue failed on inverse') in model 103 in generation 0: NVAR\n",
      "Model Number: 104 with model MultivariateRegression in generation 0 of 4\n",
      "Template Eval Error: LightGBMError('Check failed: (label) > (0) at /private/var/folders/nz/j6p8yfhx1mv_0grj5xl4650h0000gp/T/abs_87xzjhjsx9/croot/lightgbm_1700267949723/work/src/metric/regression_metric.hpp, line 274 .\\n') in model 104 in generation 0: MultivariateRegression\n",
      "Model Number: 105 with model TiDE in generation 0 of 4\n",
      "Template Eval Error: NameError(\"name 'tf' is not defined\") in model 105 in generation 0: TiDE\n",
      "Model Number: 106 with model RRVAR in generation 0 of 4\n"
     ]
    },
    {
     "name": "stderr",
     "output_type": "stream",
     "text": [
      "[LightGBM] [Fatal] Check failed: (label) > (0) at /private/var/folders/nz/j6p8yfhx1mv_0grj5xl4650h0000gp/T/abs_87xzjhjsx9/croot/lightgbm_1700267949723/work/src/metric/regression_metric.hpp, line 274 .\n",
      "\n"
     ]
    },
    {
     "name": "stdout",
     "output_type": "stream",
     "text": [
      "Model Number: 107 with model DynamicFactorMQ in generation 0 of 4\n",
      "Model Number: 108 with model MAR in generation 0 of 4\n",
      "Model Number: 109 with model DynamicFactorMQ in generation 0 of 4\n",
      "Template Eval Error: ValueError('Number of factors (10) cannot be greater than the number of monthly endogenous variables (9).') in model 109 in generation 0: DynamicFactorMQ\n",
      "Model Number: 110 with model TMF in generation 0 of 4\n",
      "Template Eval Error: Exception('Transformer ScipyFilter failed on fit') in model 110 in generation 0: TMF\n",
      "Model Number: 111 with model PytorchForecasting in generation 0 of 4\n",
      "Template Eval Error: ImportError('pytorch, pytorch lighting, or pytorch-forecasting not present') in model 111 in generation 0: PytorchForecasting\n",
      "Model Number: 112 with model NVAR in generation 0 of 4\n",
      "Model Number: 113 with model GluonTS in generation 0 of 4\n",
      "Template Eval Error: ImportError('GluonTS installation is incompatible with AutoTS. The numpy version is sometimes the issue, try 1.23.1 {as of 06-2023}') in model 113 in generation 0: GluonTS\n",
      "Model Number: 114 with model DynamicFactorMQ in generation 0 of 4\n"
     ]
    },
    {
     "name": "stderr",
     "output_type": "stream",
     "text": [
      "/Users/nslali/anaconda3/envs/forecasting/lib/python3.8/site-packages/statsmodels/tsa/statespace/sarimax.py:966: UserWarning: Non-stationary starting autoregressive parameters found. Using zeros as starting parameters.\n",
      "  warn('Non-stationary starting autoregressive parameters'\n",
      "/Users/nslali/anaconda3/envs/forecasting/lib/python3.8/site-packages/statsmodels/tsa/statespace/dynamic_factor_mq.py:2691: UserWarning: EM reached maximum number of iterations (1000), without achieving convergence: llf=908, convergence criterion=6.3249e-06 (while specified tolerance was 1e-06)\n",
      "  warn(f'EM reached maximum number of iterations ({maxiter}),'\n"
     ]
    },
    {
     "name": "stdout",
     "output_type": "stream",
     "text": [
      "Model Number: 115 with model MultivariateRegression in generation 0 of 4\n",
      "Template Eval Error: ValueError(\"regression_type='User' but not future_regressor supplied.\") in model 115 in generation 0: MultivariateRegression\n",
      "Model Number: 116 with model MultivariateMotif in generation 0 of 4\n",
      "Model Number: 117 with model VAR in generation 0 of 4\n",
      "Model Number: 118 with model MultivariateRegression in generation 0 of 4\n",
      "Template Eval Error: ValueError('array must not contain infs or NaNs') in model 118 in generation 0: MultivariateRegression\n",
      "Model Number: 119 with model DynamicFactorMQ in generation 0 of 4\n"
     ]
    },
    {
     "name": "stderr",
     "output_type": "stream",
     "text": [
      "/Users/nslali/anaconda3/envs/forecasting/lib/python3.8/site-packages/statsmodels/tsa/statespace/sarimax.py:966: UserWarning: Non-stationary starting autoregressive parameters found. Using zeros as starting parameters.\n",
      "  warn('Non-stationary starting autoregressive parameters'\n"
     ]
    },
    {
     "name": "stdout",
     "output_type": "stream",
     "text": [
      "Model Number: 120 with model NVAR in generation 0 of 4\n",
      "Model Number: 121 with model MAR in generation 0 of 4\n",
      "Model Number: 122 with model BallTreeMultivariateMotif in generation 0 of 4\n",
      "Template Eval Error: ValueError(\"Unrecognized metric '['euclidean']'\") in model 122 in generation 0: BallTreeMultivariateMotif\n",
      "Model Number: 123 with model MultivariateMotif in generation 0 of 4\n",
      "Model Number: 124 with model TiDE in generation 0 of 4\n",
      "Template Eval Error: NameError(\"name 'tf' is not defined\") in model 124 in generation 0: TiDE\n",
      "Model Number: 125 with model NeuralForecast in generation 0 of 4\n",
      "Template Eval Error: ValueError(\"regression_type='User' but no future_regressor passed\") in model 125 in generation 0: NeuralForecast\n",
      "Model Number: 126 with model TMF in generation 0 of 4\n"
     ]
    },
    {
     "name": "stderr",
     "output_type": "stream",
     "text": [
      "/Users/nslali/anaconda3/envs/forecasting/lib/python3.8/site-packages/autots/models/matrix_var.py:379: RuntimeWarning: invalid value encountered in scalar divide\n",
      "  alpha = rold / np.inner(q, Aq)\n"
     ]
    },
    {
     "name": "stdout",
     "output_type": "stream",
     "text": [
      "Template Eval Error: LinAlgError('SVD did not converge') in model 126 in generation 0: TMF\n",
      "Model Number: 127 with model LATC in generation 0 of 4\n",
      "Template Eval Error: ValueError('negative dimensions are not allowed') in model 127 in generation 0: LATC\n",
      "Model Number: 128 with model WindowRegression in generation 0 of 4\n",
      "New Generation: 1 of 4\n",
      "Model Number: 129 with model WindowRegression in generation 1 of 4\n",
      "Model Number: 130 with model MultivariateRegression in generation 1 of 4\n",
      "Model Number: 131 with model VAR in generation 1 of 4\n",
      "Model Number: 132 with model NVAR in generation 1 of 4\n",
      "Model Number: 133 with model NVAR in generation 1 of 4\n",
      "Model Number: 134 with model RollingRegression in generation 1 of 4\n"
     ]
    },
    {
     "name": "stderr",
     "output_type": "stream",
     "text": [
      "/Users/nslali/anaconda3/envs/forecasting/lib/python3.8/site-packages/sklearn/svm/_classes.py:32: FutureWarning: The default value of `dual` will change from `True` to `'auto'` in 1.5. Set the value of `dual` explicitly to suppress the warning.\n",
      "  warnings.warn(\n",
      "/Users/nslali/anaconda3/envs/forecasting/lib/python3.8/site-packages/sklearn/svm/_classes.py:32: FutureWarning: The default value of `dual` will change from `True` to `'auto'` in 1.5. Set the value of `dual` explicitly to suppress the warning.\n",
      "  warnings.warn(\n",
      "/Users/nslali/anaconda3/envs/forecasting/lib/python3.8/site-packages/sklearn/svm/_classes.py:32: FutureWarning: The default value of `dual` will change from `True` to `'auto'` in 1.5. Set the value of `dual` explicitly to suppress the warning.\n",
      "  warnings.warn(\n",
      "/Users/nslali/anaconda3/envs/forecasting/lib/python3.8/site-packages/sklearn/svm/_classes.py:32: FutureWarning: The default value of `dual` will change from `True` to `'auto'` in 1.5. Set the value of `dual` explicitly to suppress the warning.\n",
      "  warnings.warn(\n",
      "/Users/nslali/anaconda3/envs/forecasting/lib/python3.8/site-packages/sklearn/svm/_classes.py:32: FutureWarning: The default value of `dual` will change from `True` to `'auto'` in 1.5. Set the value of `dual` explicitly to suppress the warning.\n",
      "  warnings.warn(\n",
      "/Users/nslali/anaconda3/envs/forecasting/lib/python3.8/site-packages/sklearn/svm/_classes.py:32: FutureWarning: The default value of `dual` will change from `True` to `'auto'` in 1.5. Set the value of `dual` explicitly to suppress the warning.\n",
      "  warnings.warn(\n",
      "/Users/nslali/anaconda3/envs/forecasting/lib/python3.8/site-packages/sklearn/svm/_classes.py:32: FutureWarning: The default value of `dual` will change from `True` to `'auto'` in 1.5. Set the value of `dual` explicitly to suppress the warning.\n",
      "  warnings.warn(\n",
      "/Users/nslali/anaconda3/envs/forecasting/lib/python3.8/site-packages/sklearn/svm/_base.py:1250: ConvergenceWarning: Liblinear failed to converge, increase the number of iterations.\n",
      "  warnings.warn(\n",
      "/Users/nslali/anaconda3/envs/forecasting/lib/python3.8/site-packages/sklearn/svm/_classes.py:32: FutureWarning: The default value of `dual` will change from `True` to `'auto'` in 1.5. Set the value of `dual` explicitly to suppress the warning.\n",
      "  warnings.warn(\n",
      "/Users/nslali/anaconda3/envs/forecasting/lib/python3.8/site-packages/sklearn/svm/_base.py:1250: ConvergenceWarning: Liblinear failed to converge, increase the number of iterations.\n",
      "  warnings.warn(\n",
      "/Users/nslali/anaconda3/envs/forecasting/lib/python3.8/site-packages/sklearn/svm/_classes.py:32: FutureWarning: The default value of `dual` will change from `True` to `'auto'` in 1.5. Set the value of `dual` explicitly to suppress the warning.\n",
      "  warnings.warn(\n",
      "/Users/nslali/anaconda3/envs/forecasting/lib/python3.8/site-packages/sklearn/svm/_base.py:1250: ConvergenceWarning: Liblinear failed to converge, increase the number of iterations.\n",
      "  warnings.warn(\n",
      "/Users/nslali/anaconda3/envs/forecasting/lib/python3.8/site-packages/sklearn/svm/_base.py:1250: ConvergenceWarning: Liblinear failed to converge, increase the number of iterations.\n",
      "  warnings.warn(\n",
      "/Users/nslali/anaconda3/envs/forecasting/lib/python3.8/site-packages/sklearn/svm/_base.py:1250: ConvergenceWarning: Liblinear failed to converge, increase the number of iterations.\n",
      "  warnings.warn(\n",
      "/Users/nslali/anaconda3/envs/forecasting/lib/python3.8/site-packages/sklearn/svm/_base.py:1250: ConvergenceWarning: Liblinear failed to converge, increase the number of iterations.\n",
      "  warnings.warn(\n",
      "/Users/nslali/anaconda3/envs/forecasting/lib/python3.8/site-packages/sklearn/svm/_base.py:1250: ConvergenceWarning: Liblinear failed to converge, increase the number of iterations.\n",
      "  warnings.warn(\n",
      "/Users/nslali/anaconda3/envs/forecasting/lib/python3.8/site-packages/sklearn/svm/_base.py:1250: ConvergenceWarning: Liblinear failed to converge, increase the number of iterations.\n",
      "  warnings.warn(\n",
      "/Users/nslali/anaconda3/envs/forecasting/lib/python3.8/site-packages/sklearn/svm/_base.py:1250: ConvergenceWarning: Liblinear failed to converge, increase the number of iterations.\n",
      "  warnings.warn(\n",
      "/Users/nslali/anaconda3/envs/forecasting/lib/python3.8/site-packages/sklearn/base.py:465: UserWarning: X does not have valid feature names, but LinearSVR was fitted with feature names\n",
      "  warnings.warn(\n",
      "/Users/nslali/anaconda3/envs/forecasting/lib/python3.8/site-packages/sklearn/base.py:465: UserWarning: X does not have valid feature names, but LinearSVR was fitted with feature names\n",
      "  warnings.warn(\n",
      "/Users/nslali/anaconda3/envs/forecasting/lib/python3.8/site-packages/sklearn/base.py:465: UserWarning: X does not have valid feature names, but LinearSVR was fitted with feature names\n",
      "  warnings.warn(\n",
      "/Users/nslali/anaconda3/envs/forecasting/lib/python3.8/site-packages/sklearn/base.py:465: UserWarning: X does not have valid feature names, but LinearSVR was fitted with feature names\n",
      "  warnings.warn(\n",
      "/Users/nslali/anaconda3/envs/forecasting/lib/python3.8/site-packages/sklearn/base.py:465: UserWarning: X does not have valid feature names, but LinearSVR was fitted with feature names\n",
      "  warnings.warn(\n",
      "/Users/nslali/anaconda3/envs/forecasting/lib/python3.8/site-packages/sklearn/base.py:465: UserWarning: X does not have valid feature names, but LinearSVR was fitted with feature names\n",
      "  warnings.warn(\n",
      "/Users/nslali/anaconda3/envs/forecasting/lib/python3.8/site-packages/sklearn/base.py:465: UserWarning: X does not have valid feature names, but LinearSVR was fitted with feature names\n",
      "  warnings.warn(\n",
      "/Users/nslali/anaconda3/envs/forecasting/lib/python3.8/site-packages/sklearn/base.py:465: UserWarning: X does not have valid feature names, but LinearSVR was fitted with feature names\n",
      "  warnings.warn(\n",
      "/Users/nslali/anaconda3/envs/forecasting/lib/python3.8/site-packages/sklearn/base.py:465: UserWarning: X does not have valid feature names, but LinearSVR was fitted with feature names\n",
      "  warnings.warn(\n",
      "/Users/nslali/anaconda3/envs/forecasting/lib/python3.8/site-packages/sklearn/base.py:465: UserWarning: X does not have valid feature names, but LinearSVR was fitted with feature names\n",
      "  warnings.warn(\n",
      "/Users/nslali/anaconda3/envs/forecasting/lib/python3.8/site-packages/sklearn/base.py:465: UserWarning: X does not have valid feature names, but LinearSVR was fitted with feature names\n",
      "  warnings.warn(\n",
      "/Users/nslali/anaconda3/envs/forecasting/lib/python3.8/site-packages/sklearn/base.py:465: UserWarning: X does not have valid feature names, but LinearSVR was fitted with feature names\n",
      "  warnings.warn(\n",
      "/Users/nslali/anaconda3/envs/forecasting/lib/python3.8/site-packages/sklearn/base.py:465: UserWarning: X does not have valid feature names, but LinearSVR was fitted with feature names\n",
      "  warnings.warn(\n",
      "/Users/nslali/anaconda3/envs/forecasting/lib/python3.8/site-packages/sklearn/base.py:465: UserWarning: X does not have valid feature names, but LinearSVR was fitted with feature names\n",
      "  warnings.warn(\n",
      "/Users/nslali/anaconda3/envs/forecasting/lib/python3.8/site-packages/sklearn/base.py:465: UserWarning: X does not have valid feature names, but LinearSVR was fitted with feature names\n",
      "  warnings.warn(\n",
      "/Users/nslali/anaconda3/envs/forecasting/lib/python3.8/site-packages/sklearn/base.py:465: UserWarning: X does not have valid feature names, but LinearSVR was fitted with feature names\n",
      "  warnings.warn(\n",
      "/Users/nslali/anaconda3/envs/forecasting/lib/python3.8/site-packages/sklearn/base.py:465: UserWarning: X does not have valid feature names, but LinearSVR was fitted with feature names\n",
      "  warnings.warn(\n",
      "/Users/nslali/anaconda3/envs/forecasting/lib/python3.8/site-packages/sklearn/base.py:465: UserWarning: X does not have valid feature names, but LinearSVR was fitted with feature names\n",
      "  warnings.warn(\n",
      "/Users/nslali/anaconda3/envs/forecasting/lib/python3.8/site-packages/sklearn/base.py:465: UserWarning: X does not have valid feature names, but LinearSVR was fitted with feature names\n",
      "  warnings.warn(\n",
      "/Users/nslali/anaconda3/envs/forecasting/lib/python3.8/site-packages/sklearn/base.py:465: UserWarning: X does not have valid feature names, but LinearSVR was fitted with feature names\n",
      "  warnings.warn(\n",
      "/Users/nslali/anaconda3/envs/forecasting/lib/python3.8/site-packages/sklearn/base.py:465: UserWarning: X does not have valid feature names, but LinearSVR was fitted with feature names\n",
      "  warnings.warn(\n",
      "/Users/nslali/anaconda3/envs/forecasting/lib/python3.8/site-packages/sklearn/base.py:465: UserWarning: X does not have valid feature names, but LinearSVR was fitted with feature names\n",
      "  warnings.warn(\n",
      "/Users/nslali/anaconda3/envs/forecasting/lib/python3.8/site-packages/sklearn/base.py:465: UserWarning: X does not have valid feature names, but LinearSVR was fitted with feature names\n",
      "  warnings.warn(\n",
      "/Users/nslali/anaconda3/envs/forecasting/lib/python3.8/site-packages/sklearn/base.py:465: UserWarning: X does not have valid feature names, but LinearSVR was fitted with feature names\n",
      "  warnings.warn(\n",
      "/Users/nslali/anaconda3/envs/forecasting/lib/python3.8/site-packages/sklearn/base.py:465: UserWarning: X does not have valid feature names, but LinearSVR was fitted with feature names\n",
      "  warnings.warn(\n",
      "/Users/nslali/anaconda3/envs/forecasting/lib/python3.8/site-packages/sklearn/base.py:465: UserWarning: X does not have valid feature names, but LinearSVR was fitted with feature names\n",
      "  warnings.warn(\n",
      "/Users/nslali/anaconda3/envs/forecasting/lib/python3.8/site-packages/sklearn/base.py:465: UserWarning: X does not have valid feature names, but LinearSVR was fitted with feature names\n",
      "  warnings.warn(\n",
      "/Users/nslali/anaconda3/envs/forecasting/lib/python3.8/site-packages/sklearn/base.py:465: UserWarning: X does not have valid feature names, but LinearSVR was fitted with feature names\n",
      "  warnings.warn(\n",
      "/Users/nslali/anaconda3/envs/forecasting/lib/python3.8/site-packages/sklearn/base.py:465: UserWarning: X does not have valid feature names, but LinearSVR was fitted with feature names\n",
      "  warnings.warn(\n",
      "/Users/nslali/anaconda3/envs/forecasting/lib/python3.8/site-packages/sklearn/base.py:465: UserWarning: X does not have valid feature names, but LinearSVR was fitted with feature names\n",
      "  warnings.warn(\n",
      "/Users/nslali/anaconda3/envs/forecasting/lib/python3.8/site-packages/sklearn/base.py:465: UserWarning: X does not have valid feature names, but LinearSVR was fitted with feature names\n",
      "  warnings.warn(\n",
      "/Users/nslali/anaconda3/envs/forecasting/lib/python3.8/site-packages/sklearn/base.py:465: UserWarning: X does not have valid feature names, but LinearSVR was fitted with feature names\n",
      "  warnings.warn(\n",
      "/Users/nslali/anaconda3/envs/forecasting/lib/python3.8/site-packages/sklearn/base.py:465: UserWarning: X does not have valid feature names, but LinearSVR was fitted with feature names\n",
      "  warnings.warn(\n",
      "/Users/nslali/anaconda3/envs/forecasting/lib/python3.8/site-packages/sklearn/base.py:465: UserWarning: X does not have valid feature names, but LinearSVR was fitted with feature names\n",
      "  warnings.warn(\n",
      "/Users/nslali/anaconda3/envs/forecasting/lib/python3.8/site-packages/sklearn/base.py:465: UserWarning: X does not have valid feature names, but LinearSVR was fitted with feature names\n",
      "  warnings.warn(\n",
      "/Users/nslali/anaconda3/envs/forecasting/lib/python3.8/site-packages/sklearn/base.py:465: UserWarning: X does not have valid feature names, but LinearSVR was fitted with feature names\n",
      "  warnings.warn(\n",
      "/Users/nslali/anaconda3/envs/forecasting/lib/python3.8/site-packages/sklearn/base.py:465: UserWarning: X does not have valid feature names, but LinearSVR was fitted with feature names\n",
      "  warnings.warn(\n",
      "/Users/nslali/anaconda3/envs/forecasting/lib/python3.8/site-packages/sklearn/base.py:465: UserWarning: X does not have valid feature names, but LinearSVR was fitted with feature names\n",
      "  warnings.warn(\n",
      "/Users/nslali/anaconda3/envs/forecasting/lib/python3.8/site-packages/sklearn/base.py:465: UserWarning: X does not have valid feature names, but LinearSVR was fitted with feature names\n",
      "  warnings.warn(\n",
      "/Users/nslali/anaconda3/envs/forecasting/lib/python3.8/site-packages/sklearn/base.py:465: UserWarning: X does not have valid feature names, but LinearSVR was fitted with feature names\n",
      "  warnings.warn(\n",
      "/Users/nslali/anaconda3/envs/forecasting/lib/python3.8/site-packages/sklearn/base.py:465: UserWarning: X does not have valid feature names, but LinearSVR was fitted with feature names\n",
      "  warnings.warn(\n",
      "/Users/nslali/anaconda3/envs/forecasting/lib/python3.8/site-packages/sklearn/base.py:465: UserWarning: X does not have valid feature names, but LinearSVR was fitted with feature names\n",
      "  warnings.warn(\n",
      "/Users/nslali/anaconda3/envs/forecasting/lib/python3.8/site-packages/sklearn/base.py:465: UserWarning: X does not have valid feature names, but LinearSVR was fitted with feature names\n",
      "  warnings.warn(\n",
      "/Users/nslali/anaconda3/envs/forecasting/lib/python3.8/site-packages/sklearn/base.py:465: UserWarning: X does not have valid feature names, but LinearSVR was fitted with feature names\n",
      "  warnings.warn(\n",
      "/Users/nslali/anaconda3/envs/forecasting/lib/python3.8/site-packages/sklearn/base.py:465: UserWarning: X does not have valid feature names, but LinearSVR was fitted with feature names\n",
      "  warnings.warn(\n",
      "/Users/nslali/anaconda3/envs/forecasting/lib/python3.8/site-packages/sklearn/base.py:465: UserWarning: X does not have valid feature names, but LinearSVR was fitted with feature names\n",
      "  warnings.warn(\n",
      "/Users/nslali/anaconda3/envs/forecasting/lib/python3.8/site-packages/sklearn/base.py:465: UserWarning: X does not have valid feature names, but LinearSVR was fitted with feature names\n",
      "  warnings.warn(\n",
      "/Users/nslali/anaconda3/envs/forecasting/lib/python3.8/site-packages/sklearn/base.py:465: UserWarning: X does not have valid feature names, but LinearSVR was fitted with feature names\n",
      "  warnings.warn(\n",
      "/Users/nslali/anaconda3/envs/forecasting/lib/python3.8/site-packages/sklearn/base.py:465: UserWarning: X does not have valid feature names, but LinearSVR was fitted with feature names\n",
      "  warnings.warn(\n",
      "/Users/nslali/anaconda3/envs/forecasting/lib/python3.8/site-packages/sklearn/base.py:465: UserWarning: X does not have valid feature names, but LinearSVR was fitted with feature names\n",
      "  warnings.warn(\n",
      "/Users/nslali/anaconda3/envs/forecasting/lib/python3.8/site-packages/sklearn/base.py:465: UserWarning: X does not have valid feature names, but LinearSVR was fitted with feature names\n",
      "  warnings.warn(\n",
      "/Users/nslali/anaconda3/envs/forecasting/lib/python3.8/site-packages/sklearn/base.py:465: UserWarning: X does not have valid feature names, but LinearSVR was fitted with feature names\n",
      "  warnings.warn(\n",
      "/Users/nslali/anaconda3/envs/forecasting/lib/python3.8/site-packages/sklearn/base.py:465: UserWarning: X does not have valid feature names, but LinearSVR was fitted with feature names\n",
      "  warnings.warn(\n",
      "/Users/nslali/anaconda3/envs/forecasting/lib/python3.8/site-packages/sklearn/base.py:465: UserWarning: X does not have valid feature names, but LinearSVR was fitted with feature names\n",
      "  warnings.warn(\n"
     ]
    },
    {
     "name": "stdout",
     "output_type": "stream",
     "text": [
      "Model Number: 135 with model NVAR in generation 1 of 4\n",
      "Template Eval Error: ValueError('Model NVAR returned NaN for one or more series. fail_on_forecast_nan=True') in model 135 in generation 1: NVAR\n",
      "Model Number: 136 with model RollingRegression in generation 1 of 4\n",
      "Model Number: 137 with model DynamicFactorMQ in generation 1 of 4\n"
     ]
    },
    {
     "name": "stderr",
     "output_type": "stream",
     "text": [
      "/Users/nslali/anaconda3/envs/forecasting/lib/python3.8/site-packages/sklearn/base.py:465: UserWarning: X does not have valid feature names, but MultiTaskElasticNet was fitted with feature names\n",
      "  warnings.warn(\n",
      "/Users/nslali/anaconda3/envs/forecasting/lib/python3.8/site-packages/sklearn/base.py:465: UserWarning: X does not have valid feature names, but MultiTaskElasticNet was fitted with feature names\n",
      "  warnings.warn(\n",
      "/Users/nslali/anaconda3/envs/forecasting/lib/python3.8/site-packages/sklearn/base.py:465: UserWarning: X does not have valid feature names, but MultiTaskElasticNet was fitted with feature names\n",
      "  warnings.warn(\n",
      "/Users/nslali/anaconda3/envs/forecasting/lib/python3.8/site-packages/sklearn/base.py:465: UserWarning: X does not have valid feature names, but MultiTaskElasticNet was fitted with feature names\n",
      "  warnings.warn(\n",
      "/Users/nslali/anaconda3/envs/forecasting/lib/python3.8/site-packages/sklearn/base.py:465: UserWarning: X does not have valid feature names, but MultiTaskElasticNet was fitted with feature names\n",
      "  warnings.warn(\n",
      "/Users/nslali/anaconda3/envs/forecasting/lib/python3.8/site-packages/sklearn/base.py:465: UserWarning: X does not have valid feature names, but MultiTaskElasticNet was fitted with feature names\n",
      "  warnings.warn(\n",
      "/Users/nslali/anaconda3/envs/forecasting/lib/python3.8/site-packages/statsmodels/tsa/statespace/sarimax.py:966: UserWarning: Non-stationary starting autoregressive parameters found. Using zeros as starting parameters.\n",
      "  warn('Non-stationary starting autoregressive parameters'\n"
     ]
    },
    {
     "name": "stdout",
     "output_type": "stream",
     "text": [
      "Model Number: 138 with model VAR in generation 1 of 4\n",
      "Template Eval Error: IndexError('tuple index out of range') in model 138 in generation 1: VAR\n",
      "Model Number: 139 with model VECM in generation 1 of 4\n",
      "Model Number: 140 with model VECM in generation 1 of 4\n"
     ]
    },
    {
     "name": "stderr",
     "output_type": "stream",
     "text": [
      "/Users/nslali/anaconda3/envs/forecasting/lib/python3.8/site-packages/statsmodels/tsa/statespace/dynamic_factor_mq.py:2691: UserWarning: EM reached maximum number of iterations (1000), without achieving convergence: llf=-982.33, convergence criterion=2.4553e-06 (while specified tolerance was 1e-06)\n",
      "  warn(f'EM reached maximum number of iterations ({maxiter}),'\n"
     ]
    },
    {
     "name": "stdout",
     "output_type": "stream",
     "text": [
      "Model Number: 141 with model LATC in generation 1 of 4\n",
      "Model Number: 142 with model SectionalMotif in generation 1 of 4\n",
      "Model Number: 143 with model RollingRegression in generation 1 of 4\n",
      "Model Number: 144 with model VAR in generation 1 of 4\n",
      "Model Number: 145 with model WindowRegression in generation 1 of 4\n"
     ]
    },
    {
     "name": "stderr",
     "output_type": "stream",
     "text": [
      "/Users/nslali/anaconda3/envs/forecasting/lib/python3.8/site-packages/sklearn/neural_network/_multilayer_perceptron.py:546: ConvergenceWarning: lbfgs failed to converge (status=1):\n",
      "STOP: TOTAL NO. of ITERATIONS REACHED LIMIT.\n",
      "\n",
      "Increase the number of iterations (max_iter) or scale the data as shown in:\n",
      "    https://scikit-learn.org/stable/modules/preprocessing.html\n",
      "  self.n_iter_ = _check_optimize_result(\"lbfgs\", opt_res, self.max_iter)\n"
     ]
    },
    {
     "name": "stdout",
     "output_type": "stream",
     "text": [
      "Model Number: 146 with model LATC in generation 1 of 4\n",
      "Template Eval Error: ValueError('LATC cannot accept any arrays that are all 0') in model 146 in generation 1: LATC\n",
      "Model Number: 147 with model MAR in generation 1 of 4\n",
      "Model Number: 148 with model Cassandra in generation 1 of 4\n",
      "Model Number: 149 with model RollingRegression in generation 1 of 4\n",
      "Template Eval Error: ValueError('future_regressor not supplied, necessary for regression_type') in model 149 in generation 1: RollingRegression\n",
      "Model Number: 150 with model VECM in generation 1 of 4\n"
     ]
    },
    {
     "name": "stderr",
     "output_type": "stream",
     "text": [
      "/Users/nslali/anaconda3/envs/forecasting/lib/python3.8/site-packages/numpy/lib/function_base.py:2854: RuntimeWarning: invalid value encountered in divide\n",
      "  c /= stddev[:, None]\n",
      "/Users/nslali/anaconda3/envs/forecasting/lib/python3.8/site-packages/numpy/lib/function_base.py:2855: RuntimeWarning: invalid value encountered in divide\n",
      "  c /= stddev[None, :]\n"
     ]
    },
    {
     "name": "stdout",
     "output_type": "stream",
     "text": [
      "Model Number: 151 with model DynamicFactorMQ in generation 1 of 4\n",
      "Model Number: 152 with model DynamicFactor in generation 1 of 4\n"
     ]
    },
    {
     "name": "stderr",
     "output_type": "stream",
     "text": [
      "/Users/nslali/anaconda3/envs/forecasting/lib/python3.8/site-packages/statsmodels/base/model.py:607: ConvergenceWarning: Maximum Likelihood optimization failed to converge. Check mle_retvals\n",
      "  warnings.warn(\"Maximum Likelihood optimization failed to \"\n"
     ]
    },
    {
     "name": "stdout",
     "output_type": "stream",
     "text": [
      "Model Number: 153 with model SectionalMotif in generation 1 of 4\n",
      "Model Number: 154 with model VAR in generation 1 of 4\n",
      "Model Number: 155 with model RollingRegression in generation 1 of 4\n"
     ]
    },
    {
     "name": "stderr",
     "output_type": "stream",
     "text": [
      "/Users/nslali/anaconda3/envs/forecasting/lib/python3.8/site-packages/sklearn/svm/_classes.py:32: FutureWarning: The default value of `dual` will change from `True` to `'auto'` in 1.5. Set the value of `dual` explicitly to suppress the warning.\n",
      "  warnings.warn(\n",
      "/Users/nslali/anaconda3/envs/forecasting/lib/python3.8/site-packages/sklearn/svm/_classes.py:32: FutureWarning: The default value of `dual` will change from `True` to `'auto'` in 1.5. Set the value of `dual` explicitly to suppress the warning.\n",
      "  warnings.warn(\n",
      "/Users/nslali/anaconda3/envs/forecasting/lib/python3.8/site-packages/sklearn/svm/_classes.py:32: FutureWarning: The default value of `dual` will change from `True` to `'auto'` in 1.5. Set the value of `dual` explicitly to suppress the warning.\n",
      "  warnings.warn(\n",
      "/Users/nslali/anaconda3/envs/forecasting/lib/python3.8/site-packages/sklearn/svm/_classes.py:32: FutureWarning: The default value of `dual` will change from `True` to `'auto'` in 1.5. Set the value of `dual` explicitly to suppress the warning.\n",
      "  warnings.warn(\n",
      "/Users/nslali/anaconda3/envs/forecasting/lib/python3.8/site-packages/sklearn/svm/_classes.py:32: FutureWarning: The default value of `dual` will change from `True` to `'auto'` in 1.5. Set the value of `dual` explicitly to suppress the warning.\n",
      "  warnings.warn(\n",
      "/Users/nslali/anaconda3/envs/forecasting/lib/python3.8/site-packages/sklearn/svm/_classes.py:32: FutureWarning: The default value of `dual` will change from `True` to `'auto'` in 1.5. Set the value of `dual` explicitly to suppress the warning.\n",
      "  warnings.warn(\n",
      "/Users/nslali/anaconda3/envs/forecasting/lib/python3.8/site-packages/sklearn/svm/_classes.py:32: FutureWarning: The default value of `dual` will change from `True` to `'auto'` in 1.5. Set the value of `dual` explicitly to suppress the warning.\n",
      "  warnings.warn(\n",
      "/Users/nslali/anaconda3/envs/forecasting/lib/python3.8/site-packages/sklearn/svm/_classes.py:32: FutureWarning: The default value of `dual` will change from `True` to `'auto'` in 1.5. Set the value of `dual` explicitly to suppress the warning.\n",
      "  warnings.warn(\n",
      "/Users/nslali/anaconda3/envs/forecasting/lib/python3.8/site-packages/sklearn/svm/_classes.py:32: FutureWarning: The default value of `dual` will change from `True` to `'auto'` in 1.5. Set the value of `dual` explicitly to suppress the warning.\n",
      "  warnings.warn(\n",
      "/Users/nslali/anaconda3/envs/forecasting/lib/python3.8/site-packages/sklearn/base.py:465: UserWarning: X does not have valid feature names, but LinearSVR was fitted with feature names\n",
      "  warnings.warn(\n",
      "/Users/nslali/anaconda3/envs/forecasting/lib/python3.8/site-packages/sklearn/base.py:465: UserWarning: X does not have valid feature names, but LinearSVR was fitted with feature names\n",
      "  warnings.warn(\n",
      "/Users/nslali/anaconda3/envs/forecasting/lib/python3.8/site-packages/sklearn/base.py:465: UserWarning: X does not have valid feature names, but LinearSVR was fitted with feature names\n",
      "  warnings.warn(\n",
      "/Users/nslali/anaconda3/envs/forecasting/lib/python3.8/site-packages/sklearn/base.py:465: UserWarning: X does not have valid feature names, but LinearSVR was fitted with feature names\n",
      "  warnings.warn(\n",
      "/Users/nslali/anaconda3/envs/forecasting/lib/python3.8/site-packages/sklearn/base.py:465: UserWarning: X does not have valid feature names, but LinearSVR was fitted with feature names\n",
      "  warnings.warn(\n",
      "/Users/nslali/anaconda3/envs/forecasting/lib/python3.8/site-packages/sklearn/base.py:465: UserWarning: X does not have valid feature names, but LinearSVR was fitted with feature names\n",
      "  warnings.warn(\n",
      "/Users/nslali/anaconda3/envs/forecasting/lib/python3.8/site-packages/sklearn/base.py:465: UserWarning: X does not have valid feature names, but LinearSVR was fitted with feature names\n",
      "  warnings.warn(\n",
      "/Users/nslali/anaconda3/envs/forecasting/lib/python3.8/site-packages/sklearn/base.py:465: UserWarning: X does not have valid feature names, but LinearSVR was fitted with feature names\n",
      "  warnings.warn(\n",
      "/Users/nslali/anaconda3/envs/forecasting/lib/python3.8/site-packages/sklearn/base.py:465: UserWarning: X does not have valid feature names, but LinearSVR was fitted with feature names\n",
      "  warnings.warn(\n",
      "/Users/nslali/anaconda3/envs/forecasting/lib/python3.8/site-packages/sklearn/base.py:465: UserWarning: X does not have valid feature names, but LinearSVR was fitted with feature names\n",
      "  warnings.warn(\n",
      "/Users/nslali/anaconda3/envs/forecasting/lib/python3.8/site-packages/sklearn/base.py:465: UserWarning: X does not have valid feature names, but LinearSVR was fitted with feature names\n",
      "  warnings.warn(\n",
      "/Users/nslali/anaconda3/envs/forecasting/lib/python3.8/site-packages/sklearn/base.py:465: UserWarning: X does not have valid feature names, but LinearSVR was fitted with feature names\n",
      "  warnings.warn(\n",
      "/Users/nslali/anaconda3/envs/forecasting/lib/python3.8/site-packages/sklearn/base.py:465: UserWarning: X does not have valid feature names, but LinearSVR was fitted with feature names\n",
      "  warnings.warn(\n"
     ]
    },
    {
     "name": "stdout",
     "output_type": "stream",
     "text": [
      "Model Number: 156 with model SectionalMotif in generation 1 of 4\n",
      "Model Number: 157 with model Cassandra in generation 1 of 4\n"
     ]
    },
    {
     "name": "stderr",
     "output_type": "stream",
     "text": [
      "/Users/nslali/anaconda3/envs/forecasting/lib/python3.8/site-packages/sklearn/base.py:465: UserWarning: X does not have valid feature names, but LinearSVR was fitted with feature names\n",
      "  warnings.warn(\n",
      "/Users/nslali/anaconda3/envs/forecasting/lib/python3.8/site-packages/sklearn/base.py:465: UserWarning: X does not have valid feature names, but LinearSVR was fitted with feature names\n",
      "  warnings.warn(\n",
      "/Users/nslali/anaconda3/envs/forecasting/lib/python3.8/site-packages/sklearn/base.py:465: UserWarning: X does not have valid feature names, but LinearSVR was fitted with feature names\n",
      "  warnings.warn(\n",
      "/Users/nslali/anaconda3/envs/forecasting/lib/python3.8/site-packages/sklearn/base.py:465: UserWarning: X does not have valid feature names, but LinearSVR was fitted with feature names\n",
      "  warnings.warn(\n",
      "/Users/nslali/anaconda3/envs/forecasting/lib/python3.8/site-packages/sklearn/base.py:465: UserWarning: X does not have valid feature names, but LinearSVR was fitted with feature names\n",
      "  warnings.warn(\n",
      "/Users/nslali/anaconda3/envs/forecasting/lib/python3.8/site-packages/sklearn/base.py:465: UserWarning: X does not have valid feature names, but LinearSVR was fitted with feature names\n",
      "  warnings.warn(\n",
      "/Users/nslali/anaconda3/envs/forecasting/lib/python3.8/site-packages/sklearn/base.py:465: UserWarning: X does not have valid feature names, but LinearSVR was fitted with feature names\n",
      "  warnings.warn(\n",
      "/Users/nslali/anaconda3/envs/forecasting/lib/python3.8/site-packages/sklearn/base.py:465: UserWarning: X does not have valid feature names, but LinearSVR was fitted with feature names\n",
      "  warnings.warn(\n",
      "/Users/nslali/anaconda3/envs/forecasting/lib/python3.8/site-packages/sklearn/base.py:465: UserWarning: X does not have valid feature names, but LinearSVR was fitted with feature names\n",
      "  warnings.warn(\n",
      "/Users/nslali/anaconda3/envs/forecasting/lib/python3.8/site-packages/sklearn/base.py:465: UserWarning: X does not have valid feature names, but LinearSVR was fitted with feature names\n",
      "  warnings.warn(\n",
      "/Users/nslali/anaconda3/envs/forecasting/lib/python3.8/site-packages/sklearn/base.py:465: UserWarning: X does not have valid feature names, but LinearSVR was fitted with feature names\n",
      "  warnings.warn(\n",
      "/Users/nslali/anaconda3/envs/forecasting/lib/python3.8/site-packages/sklearn/base.py:465: UserWarning: X does not have valid feature names, but LinearSVR was fitted with feature names\n",
      "  warnings.warn(\n",
      "/Users/nslali/anaconda3/envs/forecasting/lib/python3.8/site-packages/sklearn/base.py:465: UserWarning: X does not have valid feature names, but LinearSVR was fitted with feature names\n",
      "  warnings.warn(\n",
      "/Users/nslali/anaconda3/envs/forecasting/lib/python3.8/site-packages/sklearn/base.py:465: UserWarning: X does not have valid feature names, but LinearSVR was fitted with feature names\n",
      "  warnings.warn(\n",
      "/Users/nslali/anaconda3/envs/forecasting/lib/python3.8/site-packages/sklearn/base.py:465: UserWarning: X does not have valid feature names, but LinearSVR was fitted with feature names\n",
      "  warnings.warn(\n",
      "/Users/nslali/anaconda3/envs/forecasting/lib/python3.8/site-packages/sklearn/base.py:465: UserWarning: X does not have valid feature names, but LinearSVR was fitted with feature names\n",
      "  warnings.warn(\n",
      "/Users/nslali/anaconda3/envs/forecasting/lib/python3.8/site-packages/sklearn/base.py:465: UserWarning: X does not have valid feature names, but LinearSVR was fitted with feature names\n",
      "  warnings.warn(\n",
      "/Users/nslali/anaconda3/envs/forecasting/lib/python3.8/site-packages/sklearn/base.py:465: UserWarning: X does not have valid feature names, but LinearSVR was fitted with feature names\n",
      "  warnings.warn(\n",
      "/Users/nslali/anaconda3/envs/forecasting/lib/python3.8/site-packages/sklearn/base.py:465: UserWarning: X does not have valid feature names, but LinearSVR was fitted with feature names\n",
      "  warnings.warn(\n",
      "/Users/nslali/anaconda3/envs/forecasting/lib/python3.8/site-packages/sklearn/base.py:465: UserWarning: X does not have valid feature names, but LinearSVR was fitted with feature names\n",
      "  warnings.warn(\n",
      "/Users/nslali/anaconda3/envs/forecasting/lib/python3.8/site-packages/sklearn/base.py:465: UserWarning: X does not have valid feature names, but LinearSVR was fitted with feature names\n",
      "  warnings.warn(\n",
      "/Users/nslali/anaconda3/envs/forecasting/lib/python3.8/site-packages/sklearn/base.py:465: UserWarning: X does not have valid feature names, but LinearSVR was fitted with feature names\n",
      "  warnings.warn(\n",
      "/Users/nslali/anaconda3/envs/forecasting/lib/python3.8/site-packages/sklearn/base.py:465: UserWarning: X does not have valid feature names, but LinearSVR was fitted with feature names\n",
      "  warnings.warn(\n",
      "/Users/nslali/anaconda3/envs/forecasting/lib/python3.8/site-packages/sklearn/base.py:465: UserWarning: X does not have valid feature names, but LinearSVR was fitted with feature names\n",
      "  warnings.warn(\n",
      "/Users/nslali/anaconda3/envs/forecasting/lib/python3.8/site-packages/sklearn/base.py:465: UserWarning: X does not have valid feature names, but LinearSVR was fitted with feature names\n",
      "  warnings.warn(\n",
      "/Users/nslali/anaconda3/envs/forecasting/lib/python3.8/site-packages/sklearn/base.py:465: UserWarning: X does not have valid feature names, but LinearSVR was fitted with feature names\n",
      "  warnings.warn(\n",
      "/Users/nslali/anaconda3/envs/forecasting/lib/python3.8/site-packages/sklearn/base.py:465: UserWarning: X does not have valid feature names, but LinearSVR was fitted with feature names\n",
      "  warnings.warn(\n",
      "/Users/nslali/anaconda3/envs/forecasting/lib/python3.8/site-packages/sklearn/base.py:465: UserWarning: X does not have valid feature names, but LinearSVR was fitted with feature names\n",
      "  warnings.warn(\n",
      "/Users/nslali/anaconda3/envs/forecasting/lib/python3.8/site-packages/sklearn/base.py:465: UserWarning: X does not have valid feature names, but LinearSVR was fitted with feature names\n",
      "  warnings.warn(\n",
      "/Users/nslali/anaconda3/envs/forecasting/lib/python3.8/site-packages/sklearn/base.py:465: UserWarning: X does not have valid feature names, but LinearSVR was fitted with feature names\n",
      "  warnings.warn(\n",
      "/Users/nslali/anaconda3/envs/forecasting/lib/python3.8/site-packages/sklearn/base.py:465: UserWarning: X does not have valid feature names, but LinearSVR was fitted with feature names\n",
      "  warnings.warn(\n",
      "/Users/nslali/anaconda3/envs/forecasting/lib/python3.8/site-packages/sklearn/base.py:465: UserWarning: X does not have valid feature names, but LinearSVR was fitted with feature names\n",
      "  warnings.warn(\n",
      "/Users/nslali/anaconda3/envs/forecasting/lib/python3.8/site-packages/sklearn/base.py:465: UserWarning: X does not have valid feature names, but LinearSVR was fitted with feature names\n",
      "  warnings.warn(\n",
      "/Users/nslali/anaconda3/envs/forecasting/lib/python3.8/site-packages/sklearn/base.py:465: UserWarning: X does not have valid feature names, but LinearSVR was fitted with feature names\n",
      "  warnings.warn(\n",
      "/Users/nslali/anaconda3/envs/forecasting/lib/python3.8/site-packages/sklearn/base.py:465: UserWarning: X does not have valid feature names, but LinearSVR was fitted with feature names\n",
      "  warnings.warn(\n",
      "/Users/nslali/anaconda3/envs/forecasting/lib/python3.8/site-packages/sklearn/base.py:465: UserWarning: X does not have valid feature names, but LinearSVR was fitted with feature names\n",
      "  warnings.warn(\n",
      "/Users/nslali/anaconda3/envs/forecasting/lib/python3.8/site-packages/sklearn/base.py:465: UserWarning: X does not have valid feature names, but LinearSVR was fitted with feature names\n",
      "  warnings.warn(\n",
      "/Users/nslali/anaconda3/envs/forecasting/lib/python3.8/site-packages/sklearn/base.py:465: UserWarning: X does not have valid feature names, but LinearSVR was fitted with feature names\n",
      "  warnings.warn(\n",
      "/Users/nslali/anaconda3/envs/forecasting/lib/python3.8/site-packages/sklearn/base.py:465: UserWarning: X does not have valid feature names, but LinearSVR was fitted with feature names\n",
      "  warnings.warn(\n",
      "/Users/nslali/anaconda3/envs/forecasting/lib/python3.8/site-packages/sklearn/base.py:465: UserWarning: X does not have valid feature names, but LinearSVR was fitted with feature names\n",
      "  warnings.warn(\n",
      "/Users/nslali/anaconda3/envs/forecasting/lib/python3.8/site-packages/sklearn/base.py:465: UserWarning: X does not have valid feature names, but LinearSVR was fitted with feature names\n",
      "  warnings.warn(\n",
      "/Users/nslali/anaconda3/envs/forecasting/lib/python3.8/site-packages/numpy/lib/function_base.py:2854: RuntimeWarning: invalid value encountered in divide\n",
      "  c /= stddev[:, None]\n",
      "/Users/nslali/anaconda3/envs/forecasting/lib/python3.8/site-packages/numpy/lib/function_base.py:2855: RuntimeWarning: invalid value encountered in divide\n",
      "  c /= stddev[None, :]\n"
     ]
    },
    {
     "name": "stdout",
     "output_type": "stream",
     "text": [
      "Model Number: 158 with model DynamicFactorMQ in generation 1 of 4\n"
     ]
    },
    {
     "name": "stderr",
     "output_type": "stream",
     "text": [
      "/Users/nslali/anaconda3/envs/forecasting/lib/python3.8/site-packages/statsmodels/tsa/statespace/dynamic_factor_mq.py:1950: UserWarning: Non-stationary starting factor autoregressive parameters found for factor block ('0.1', '0.2'). Using zeros as starting parameters.\n",
      "  warn('Non-stationary starting factor autoregressive'\n"
     ]
    },
    {
     "name": "stdout",
     "output_type": "stream",
     "text": [
      "Model Number: 159 with model MultivariateMotif in generation 1 of 4\n"
     ]
    },
    {
     "name": "stderr",
     "output_type": "stream",
     "text": [
      "/Users/nslali/anaconda3/envs/forecasting/lib/python3.8/site-packages/statsmodels/tsa/statespace/dynamic_factor_mq.py:2691: UserWarning: EM reached maximum number of iterations (1000), without achieving convergence: llf=4790.9, convergence criterion=4.5512e-06 (while specified tolerance was 1e-06)\n",
      "  warn(f'EM reached maximum number of iterations ({maxiter}),'\n"
     ]
    },
    {
     "name": "stdout",
     "output_type": "stream",
     "text": [
      "Model Number: 160 with model VAR in generation 1 of 4\n",
      "Model Number: 161 with model VECM in generation 1 of 4\n",
      "Model Number: 162 with model DynamicFactorMQ in generation 1 of 4\n"
     ]
    },
    {
     "name": "stderr",
     "output_type": "stream",
     "text": [
      "/Users/nslali/anaconda3/envs/forecasting/lib/python3.8/site-packages/statsmodels/tsa/statespace/sarimax.py:966: UserWarning: Non-stationary starting autoregressive parameters found. Using zeros as starting parameters.\n",
      "  warn('Non-stationary starting autoregressive parameters'\n"
     ]
    },
    {
     "name": "stdout",
     "output_type": "stream",
     "text": [
      "Model Number: 163 with model SectionalMotif in generation 1 of 4\n",
      "Model Number: 164 with model MultivariateRegression in generation 1 of 4\n",
      "Model Number: 165 with model MultivariateRegression in generation 1 of 4\n",
      "Model Number: 166 with model MultivariateRegression in generation 1 of 4\n",
      "Model Number: 167 with model NVAR in generation 1 of 4\n",
      "Model Number: 168 with model Cassandra in generation 1 of 4\n"
     ]
    },
    {
     "name": "stderr",
     "output_type": "stream",
     "text": [
      "/Users/nslali/anaconda3/envs/forecasting/lib/python3.8/site-packages/numpy/lib/function_base.py:2854: RuntimeWarning: invalid value encountered in divide\n",
      "  c /= stddev[:, None]\n",
      "/Users/nslali/anaconda3/envs/forecasting/lib/python3.8/site-packages/numpy/lib/function_base.py:2855: RuntimeWarning: invalid value encountered in divide\n",
      "  c /= stddev[None, :]\n"
     ]
    },
    {
     "name": "stdout",
     "output_type": "stream",
     "text": [
      "Model Number: 169 with model MultivariateMotif in generation 1 of 4\n",
      "Model Number: 170 with model LATC in generation 1 of 4\n",
      "Model Number: 171 with model VECM in generation 1 of 4\n",
      "Model Number: 172 with model Cassandra in generation 1 of 4\n",
      "Model Number: 173 with model MAR in generation 1 of 4\n"
     ]
    },
    {
     "name": "stderr",
     "output_type": "stream",
     "text": [
      "/Users/nslali/anaconda3/envs/forecasting/lib/python3.8/site-packages/numpy/lib/function_base.py:2854: RuntimeWarning: invalid value encountered in divide\n",
      "  c /= stddev[:, None]\n",
      "/Users/nslali/anaconda3/envs/forecasting/lib/python3.8/site-packages/numpy/lib/function_base.py:2855: RuntimeWarning: invalid value encountered in divide\n",
      "  c /= stddev[None, :]\n",
      "/Users/nslali/anaconda3/envs/forecasting/lib/python3.8/site-packages/sklearn/linear_model/_ridge.py:200: LinAlgWarning: Ill-conditioned matrix (rcond=1.3669e-25): result may not be accurate.\n",
      "  return linalg.solve(A, Xy, assume_a=\"pos\", overwrite_a=True).T\n"
     ]
    },
    {
     "name": "stdout",
     "output_type": "stream",
     "text": [
      "Model Number: 174 with model DynamicFactorMQ in generation 1 of 4\n",
      "Model Number: 175 with model MultivariateMotif in generation 1 of 4\n",
      "Model Number: 176 with model RollingRegression in generation 1 of 4\n",
      "Model Number: 177 with model VAR in generation 1 of 4\n",
      "Model Number: 178 with model Cassandra in generation 1 of 4\n",
      "Model Number: 179 with model MultivariateRegression in generation 1 of 4\n"
     ]
    },
    {
     "name": "stderr",
     "output_type": "stream",
     "text": [
      "/Users/nslali/anaconda3/envs/forecasting/lib/python3.8/site-packages/numpy/lib/function_base.py:2854: RuntimeWarning: invalid value encountered in divide\n",
      "  c /= stddev[:, None]\n",
      "/Users/nslali/anaconda3/envs/forecasting/lib/python3.8/site-packages/numpy/lib/function_base.py:2855: RuntimeWarning: invalid value encountered in divide\n",
      "  c /= stddev[None, :]\n"
     ]
    },
    {
     "name": "stdout",
     "output_type": "stream",
     "text": [
      "Model Number: 180 with model NVAR in generation 1 of 4\n",
      "Model Number: 181 with model VAR in generation 1 of 4\n",
      "Model Number: 182 with model SectionalMotif in generation 1 of 4\n",
      "Template Eval Error: ValueError(\"regression_type=='User' but no future_regressor supplied\") in model 182 in generation 1: SectionalMotif\n",
      "Model Number: 183 with model LATC in generation 1 of 4\n",
      "Model Number: 184 with model RRVAR in generation 1 of 4\n",
      "Model Number: 185 with model MAR in generation 1 of 4\n",
      "Model Number: 186 with model MultivariateMotif in generation 1 of 4\n",
      "Model Number: 187 with model MultivariateMotif in generation 1 of 4\n",
      "Model Number: 188 with model MultivariateRegression in generation 1 of 4\n",
      "Model Number: 189 with model Cassandra in generation 1 of 4\n",
      "Model Number: 190 with model VECM in generation 1 of 4\n",
      "Model Number: 191 with model SectionalMotif in generation 1 of 4\n"
     ]
    },
    {
     "name": "stderr",
     "output_type": "stream",
     "text": [
      "/Users/nslali/anaconda3/envs/forecasting/lib/python3.8/site-packages/numpy/lib/function_base.py:2854: RuntimeWarning: invalid value encountered in divide\n",
      "  c /= stddev[:, None]\n",
      "/Users/nslali/anaconda3/envs/forecasting/lib/python3.8/site-packages/numpy/lib/function_base.py:2855: RuntimeWarning: invalid value encountered in divide\n",
      "  c /= stddev[None, :]\n",
      "/Users/nslali/anaconda3/envs/forecasting/lib/python3.8/site-packages/sklearn/linear_model/_ridge.py:200: LinAlgWarning: Ill-conditioned matrix (rcond=1.3669e-25): result may not be accurate.\n",
      "  return linalg.solve(A, Xy, assume_a=\"pos\", overwrite_a=True).T\n"
     ]
    },
    {
     "name": "stdout",
     "output_type": "stream",
     "text": [
      "Model Number: 192 with model MAR in generation 1 of 4\n",
      "Model Number: 193 with model MAR in generation 1 of 4\n",
      "Model Number: 194 with model VECM in generation 1 of 4\n",
      "Model Number: 195 with model DynamicFactorMQ in generation 1 of 4\n",
      "Model Number: 196 with model SectionalMotif in generation 1 of 4\n",
      "Template Eval Error: Exception('Transformer ScipyFilter failed on fit') in model 196 in generation 1: SectionalMotif\n",
      "Model Number: 197 with model VECM in generation 1 of 4\n",
      "Model Number: 198 with model MultivariateMotif in generation 1 of 4\n"
     ]
    },
    {
     "name": "stderr",
     "output_type": "stream",
     "text": [
      "/Users/nslali/anaconda3/envs/forecasting/lib/python3.8/site-packages/statsmodels/tsa/statespace/dynamic_factor_mq.py:2691: UserWarning: EM reached maximum number of iterations (1000), without achieving convergence: llf=-2990.8, convergence criterion=1.7277e-06 (while specified tolerance was 1e-06)\n",
      "  warn(f'EM reached maximum number of iterations ({maxiter}),'\n"
     ]
    },
    {
     "name": "stdout",
     "output_type": "stream",
     "text": [
      "Model Number: 199 with model MultivariateRegression in generation 1 of 4\n",
      "Model Number: 200 with model MAR in generation 1 of 4\n",
      "Model Number: 201 with model RollingRegression in generation 1 of 4\n",
      "Model Number: 202 with model MultivariateMotif in generation 1 of 4\n",
      "Model Number: 203 with model MultivariateRegression in generation 1 of 4\n",
      "Model Number: 204 with model DynamicFactorMQ in generation 1 of 4\n",
      "Model Number: 205 with model VAR in generation 1 of 4\n",
      "Model Number: 206 with model SectionalMotif in generation 1 of 4\n",
      "Model Number: 207 with model VECM in generation 1 of 4\n",
      "Model Number: 208 with model VECM in generation 1 of 4\n",
      "Model Number: 209 with model MultivariateMotif in generation 1 of 4\n",
      "Model Number: 210 with model RRVAR in generation 1 of 4\n",
      "Model Number: 211 with model VAR in generation 1 of 4\n",
      "Model Number: 212 with model LATC in generation 1 of 4\n",
      "Model Number: 213 with model LATC in generation 1 of 4\n",
      "Template Eval Error: ValueError('LATC cannot accept any arrays that are all 0') in model 213 in generation 1: LATC\n",
      "Model Number: 214 with model MultivariateMotif in generation 1 of 4\n",
      "Model Number: 215 with model MultivariateRegression in generation 1 of 4\n",
      "Model Number: 216 with model SectionalMotif in generation 1 of 4\n",
      "Model Number: 217 with model VECM in generation 1 of 4\n",
      "Model Number: 218 with model NVAR in generation 1 of 4\n",
      "Model Number: 219 with model MultivariateRegression in generation 1 of 4\n",
      "Model Number: 220 with model NVAR in generation 1 of 4\n",
      "Model Number: 221 with model NVAR in generation 1 of 4\n",
      "Template Eval Error: ValueError('Model NVAR returned NaN for one or more series. fail_on_forecast_nan=True') in model 221 in generation 1: NVAR\n",
      "Model Number: 222 with model MultivariateRegression in generation 1 of 4\n",
      "Model Number: 223 with model SectionalMotif in generation 1 of 4\n",
      "Model Number: 224 with model VAR in generation 1 of 4\n",
      "Model Number: 225 with model DynamicFactorMQ in generation 1 of 4\n",
      "Model Number: 226 with model SectionalMotif in generation 1 of 4\n",
      "Template Eval Error: Exception('Transformer AlignLastValue failed on inverse') in model 226 in generation 1: SectionalMotif\n",
      "Model Number: 227 with model VECM in generation 1 of 4\n",
      "Model Number: 228 with model NVAR in generation 1 of 4\n",
      "New Generation: 2 of 4\n",
      "Model Number: 229 with model NVAR in generation 2 of 4\n",
      "Model Number: 230 with model NVAR in generation 2 of 4\n",
      "Model Number: 231 with model VAR in generation 2 of 4\n",
      "Model Number: 232 with model MultivariateRegression in generation 2 of 4\n",
      "Model Number: 233 with model MultivariateRegression in generation 2 of 4\n",
      "Model Number: 234 with model MAR in generation 2 of 4\n",
      "Model Number: 235 with model VAR in generation 2 of 4\n",
      "Model Number: 236 with model DynamicFactorMQ in generation 2 of 4\n",
      "Model Number: 237 with model NVAR in generation 2 of 4\n",
      "Model Number: 238 with model DynamicFactor in generation 2 of 4\n"
     ]
    },
    {
     "name": "stderr",
     "output_type": "stream",
     "text": [
      "/Users/nslali/anaconda3/envs/forecasting/lib/python3.8/site-packages/statsmodels/base/model.py:607: ConvergenceWarning: Maximum Likelihood optimization failed to converge. Check mle_retvals\n",
      "  warnings.warn(\"Maximum Likelihood optimization failed to \"\n"
     ]
    },
    {
     "name": "stdout",
     "output_type": "stream",
     "text": [
      "Template Eval Error: AttributeError(\"'numpy.ndarray' object has no attribute 'values'\") in model 238 in generation 2: DynamicFactor\n",
      "Model Number: 239 with model VECM in generation 2 of 4\n",
      "Model Number: 240 with model VECM in generation 2 of 4\n",
      "Model Number: 241 with model MultivariateMotif in generation 2 of 4\n",
      "Template Eval Error: Exception('Transformer RegressionFilter failed on fit') in model 241 in generation 2: MultivariateMotif\n",
      "Model Number: 242 with model Cassandra in generation 2 of 4\n",
      "Model Number: 243 with model SectionalMotif in generation 2 of 4\n",
      "Model Number: 244 with model SectionalMotif in generation 2 of 4\n"
     ]
    },
    {
     "name": "stderr",
     "output_type": "stream",
     "text": [
      "/Users/nslali/anaconda3/envs/forecasting/lib/python3.8/site-packages/numpy/lib/function_base.py:2854: RuntimeWarning: invalid value encountered in divide\n",
      "  c /= stddev[:, None]\n",
      "/Users/nslali/anaconda3/envs/forecasting/lib/python3.8/site-packages/numpy/lib/function_base.py:2855: RuntimeWarning: invalid value encountered in divide\n",
      "  c /= stddev[None, :]\n",
      "/Users/nslali/anaconda3/envs/forecasting/lib/python3.8/site-packages/sklearn/linear_model/_ridge.py:200: LinAlgWarning: Ill-conditioned matrix (rcond=1.3669e-25): result may not be accurate.\n",
      "  return linalg.solve(A, Xy, assume_a=\"pos\", overwrite_a=True).T\n"
     ]
    },
    {
     "name": "stdout",
     "output_type": "stream",
     "text": [
      "Model Number: 245 with model VAR in generation 2 of 4\n",
      "Model Number: 246 with model MultivariateRegression in generation 2 of 4\n",
      "Model Number: 247 with model SectionalMotif in generation 2 of 4\n",
      "Model Number: 248 with model NVAR in generation 2 of 4\n",
      "Template Eval Error: Exception('Transformer ScipyFilter failed on fit') in model 248 in generation 2: NVAR\n",
      "Model Number: 249 with model VAR in generation 2 of 4\n",
      "Model Number: 250 with model MultivariateRegression in generation 2 of 4\n",
      "Model Number: 251 with model SectionalMotif in generation 2 of 4\n",
      "Model Number: 252 with model MultivariateRegression in generation 2 of 4\n",
      "Model Number: 253 with model MAR in generation 2 of 4\n",
      "Model Number: 254 with model DynamicFactorMQ in generation 2 of 4\n",
      "Model Number: 255 with model VAR in generation 2 of 4\n",
      "Model Number: 256 with model Cassandra in generation 2 of 4\n"
     ]
    },
    {
     "name": "stderr",
     "output_type": "stream",
     "text": [
      "/Users/nslali/anaconda3/envs/forecasting/lib/python3.8/site-packages/statsmodels/tsa/statespace/dynamic_factor_mq.py:2691: UserWarning: EM reached maximum number of iterations (1000), without achieving convergence: llf=-8806.2, convergence criterion=3.7128e-06 (while specified tolerance was 1e-06)\n",
      "  warn(f'EM reached maximum number of iterations ({maxiter}),'\n",
      "/Users/nslali/anaconda3/envs/forecasting/lib/python3.8/site-packages/numpy/lib/function_base.py:2854: RuntimeWarning: invalid value encountered in divide\n",
      "  c /= stddev[:, None]\n",
      "/Users/nslali/anaconda3/envs/forecasting/lib/python3.8/site-packages/numpy/lib/function_base.py:2855: RuntimeWarning: invalid value encountered in divide\n",
      "  c /= stddev[None, :]\n"
     ]
    },
    {
     "name": "stdout",
     "output_type": "stream",
     "text": [
      "Template Eval Error: Exception('Transformer AlignLastValue failed on inverse') in model 256 in generation 2: Cassandra\n",
      "Model Number: 257 with model WindowRegression in generation 2 of 4\n",
      "Model Number: 258 with model MultivariateMotif in generation 2 of 4\n",
      "Model Number: 259 with model VAR in generation 2 of 4\n",
      "Model Number: 260 with model RRVAR in generation 2 of 4\n",
      "Model Number: 261 with model NVAR in generation 2 of 4\n",
      "Model Number: 262 with model MultivariateMotif in generation 2 of 4\n"
     ]
    },
    {
     "name": "stderr",
     "output_type": "stream",
     "text": [
      "/Users/nslali/anaconda3/envs/forecasting/lib/python3.8/site-packages/sklearn/neural_network/_multilayer_perceptron.py:546: ConvergenceWarning: lbfgs failed to converge (status=1):\n",
      "STOP: TOTAL NO. of ITERATIONS REACHED LIMIT.\n",
      "\n",
      "Increase the number of iterations (max_iter) or scale the data as shown in:\n",
      "    https://scikit-learn.org/stable/modules/preprocessing.html\n",
      "  self.n_iter_ = _check_optimize_result(\"lbfgs\", opt_res, self.max_iter)\n"
     ]
    },
    {
     "name": "stdout",
     "output_type": "stream",
     "text": [
      "Model Number: 263 with model NVAR in generation 2 of 4\n",
      "Model Number: 264 with model VECM in generation 2 of 4\n",
      "Model Number: 265 with model MultivariateRegression in generation 2 of 4\n",
      "Template Eval Error: ValueError('Input X contains NaN.\\nRandomForestRegressor does not accept missing values encoded as NaN natively. For supervised learning, you might want to consider sklearn.ensemble.HistGradientBoostingClassifier and Regressor which accept missing values encoded as NaNs natively. Alternatively, it is possible to preprocess the data, for instance by using an imputer transformer in a pipeline or drop samples with missing values. See https://scikit-learn.org/stable/modules/impute.html You can find a list of all estimators that handle NaN values at the following page: https://scikit-learn.org/stable/modules/impute.html#estimators-that-handle-nan-values') in model 265 in generation 2: MultivariateRegression\n",
      "Model Number: 266 with model MultivariateMotif in generation 2 of 4\n",
      "Model Number: 267 with model DynamicFactorMQ in generation 2 of 4\n"
     ]
    },
    {
     "name": "stderr",
     "output_type": "stream",
     "text": [
      "/Users/nslali/anaconda3/envs/forecasting/lib/python3.8/site-packages/statsmodels/tsa/statespace/dynamic_factor_mq.py:1950: UserWarning: Non-stationary starting factor autoregressive parameters found for factor block ('0.1', '0.2'). Using zeros as starting parameters.\n",
      "  warn('Non-stationary starting factor autoregressive'\n"
     ]
    },
    {
     "name": "stdout",
     "output_type": "stream",
     "text": [
      "Model Number: 268 with model LATC in generation 2 of 4\n",
      "Model Number: 269 with model LATC in generation 2 of 4\n",
      "Template Eval Error: Exception('Transformer ScipyFilter failed on fit') in model 269 in generation 2: LATC\n",
      "Model Number: 270 with model MultivariateMotif in generation 2 of 4\n",
      "Model Number: 271 with model DynamicFactor in generation 2 of 4\n",
      "Template Eval Error: ValueError('Number of factors must be less than the number of endogenous variables.') in model 271 in generation 2: DynamicFactor\n",
      "Model Number: 272 with model LATC in generation 2 of 4\n",
      "Model Number: 273 with model WindowRegression in generation 2 of 4\n",
      "Model Number: 274 with model VECM in generation 2 of 4\n",
      "Model Number: 275 with model VECM in generation 2 of 4\n",
      "Model Number: 276 with model RRVAR in generation 2 of 4\n",
      "Model Number: 277 with model VECM in generation 2 of 4\n",
      "Model Number: 278 with model VAR in generation 2 of 4\n",
      "Model Number: 279 with model SectionalMotif in generation 2 of 4\n",
      "Model Number: 280 with model NVAR in generation 2 of 4\n",
      "Model Number: 281 with model VECM in generation 2 of 4\n",
      "Model Number: 282 with model MAR in generation 2 of 4\n",
      "Model Number: 283 with model NVAR in generation 2 of 4\n",
      "Model Number: 284 with model NVAR in generation 2 of 4\n",
      "Model Number: 285 with model MultivariateMotif in generation 2 of 4\n",
      "Model Number: 286 with model MAR in generation 2 of 4\n",
      "Model Number: 287 with model NVAR in generation 2 of 4\n",
      "Model Number: 288 with model MultivariateRegression in generation 2 of 4\n",
      "Model Number: 289 with model MultivariateRegression in generation 2 of 4\n",
      "Model Number: 290 with model SectionalMotif in generation 2 of 4\n",
      "Model Number: 291 with model RollingRegression in generation 2 of 4\n"
     ]
    },
    {
     "name": "stderr",
     "output_type": "stream",
     "text": [
      "/Users/nslali/anaconda3/envs/forecasting/lib/python3.8/site-packages/sklearn/base.py:465: UserWarning: X does not have valid feature names, but AdaBoostRegressor was fitted with feature names\n",
      "  warnings.warn(\n",
      "/Users/nslali/anaconda3/envs/forecasting/lib/python3.8/site-packages/sklearn/base.py:465: UserWarning: X does not have valid feature names, but AdaBoostRegressor was fitted with feature names\n",
      "  warnings.warn(\n",
      "/Users/nslali/anaconda3/envs/forecasting/lib/python3.8/site-packages/sklearn/base.py:465: UserWarning: X does not have valid feature names, but AdaBoostRegressor was fitted with feature names\n",
      "  warnings.warn(\n",
      "/Users/nslali/anaconda3/envs/forecasting/lib/python3.8/site-packages/sklearn/base.py:465: UserWarning: X does not have valid feature names, but AdaBoostRegressor was fitted with feature names\n",
      "  warnings.warn(\n",
      "/Users/nslali/anaconda3/envs/forecasting/lib/python3.8/site-packages/sklearn/base.py:465: UserWarning: X does not have valid feature names, but AdaBoostRegressor was fitted with feature names\n",
      "  warnings.warn(\n",
      "/Users/nslali/anaconda3/envs/forecasting/lib/python3.8/site-packages/sklearn/base.py:465: UserWarning: X does not have valid feature names, but AdaBoostRegressor was fitted with feature names\n",
      "  warnings.warn(\n",
      "/Users/nslali/anaconda3/envs/forecasting/lib/python3.8/site-packages/sklearn/base.py:465: UserWarning: X does not have valid feature names, but AdaBoostRegressor was fitted with feature names\n",
      "  warnings.warn(\n",
      "/Users/nslali/anaconda3/envs/forecasting/lib/python3.8/site-packages/sklearn/base.py:465: UserWarning: X does not have valid feature names, but AdaBoostRegressor was fitted with feature names\n",
      "  warnings.warn(\n",
      "/Users/nslali/anaconda3/envs/forecasting/lib/python3.8/site-packages/sklearn/base.py:465: UserWarning: X does not have valid feature names, but AdaBoostRegressor was fitted with feature names\n",
      "  warnings.warn(\n",
      "/Users/nslali/anaconda3/envs/forecasting/lib/python3.8/site-packages/sklearn/base.py:465: UserWarning: X does not have valid feature names, but AdaBoostRegressor was fitted with feature names\n",
      "  warnings.warn(\n",
      "/Users/nslali/anaconda3/envs/forecasting/lib/python3.8/site-packages/sklearn/base.py:465: UserWarning: X does not have valid feature names, but AdaBoostRegressor was fitted with feature names\n",
      "  warnings.warn(\n",
      "/Users/nslali/anaconda3/envs/forecasting/lib/python3.8/site-packages/sklearn/base.py:465: UserWarning: X does not have valid feature names, but AdaBoostRegressor was fitted with feature names\n",
      "  warnings.warn(\n",
      "/Users/nslali/anaconda3/envs/forecasting/lib/python3.8/site-packages/sklearn/base.py:465: UserWarning: X does not have valid feature names, but AdaBoostRegressor was fitted with feature names\n",
      "  warnings.warn(\n",
      "/Users/nslali/anaconda3/envs/forecasting/lib/python3.8/site-packages/sklearn/base.py:465: UserWarning: X does not have valid feature names, but AdaBoostRegressor was fitted with feature names\n",
      "  warnings.warn(\n",
      "/Users/nslali/anaconda3/envs/forecasting/lib/python3.8/site-packages/sklearn/base.py:465: UserWarning: X does not have valid feature names, but AdaBoostRegressor was fitted with feature names\n",
      "  warnings.warn(\n",
      "/Users/nslali/anaconda3/envs/forecasting/lib/python3.8/site-packages/sklearn/base.py:465: UserWarning: X does not have valid feature names, but AdaBoostRegressor was fitted with feature names\n",
      "  warnings.warn(\n",
      "/Users/nslali/anaconda3/envs/forecasting/lib/python3.8/site-packages/sklearn/base.py:465: UserWarning: X does not have valid feature names, but AdaBoostRegressor was fitted with feature names\n",
      "  warnings.warn(\n",
      "/Users/nslali/anaconda3/envs/forecasting/lib/python3.8/site-packages/sklearn/base.py:465: UserWarning: X does not have valid feature names, but AdaBoostRegressor was fitted with feature names\n",
      "  warnings.warn(\n",
      "/Users/nslali/anaconda3/envs/forecasting/lib/python3.8/site-packages/sklearn/base.py:465: UserWarning: X does not have valid feature names, but AdaBoostRegressor was fitted with feature names\n",
      "  warnings.warn(\n",
      "/Users/nslali/anaconda3/envs/forecasting/lib/python3.8/site-packages/sklearn/base.py:465: UserWarning: X does not have valid feature names, but AdaBoostRegressor was fitted with feature names\n",
      "  warnings.warn(\n",
      "/Users/nslali/anaconda3/envs/forecasting/lib/python3.8/site-packages/sklearn/base.py:465: UserWarning: X does not have valid feature names, but AdaBoostRegressor was fitted with feature names\n",
      "  warnings.warn(\n",
      "/Users/nslali/anaconda3/envs/forecasting/lib/python3.8/site-packages/sklearn/base.py:465: UserWarning: X does not have valid feature names, but AdaBoostRegressor was fitted with feature names\n",
      "  warnings.warn(\n",
      "/Users/nslali/anaconda3/envs/forecasting/lib/python3.8/site-packages/sklearn/base.py:465: UserWarning: X does not have valid feature names, but AdaBoostRegressor was fitted with feature names\n",
      "  warnings.warn(\n",
      "/Users/nslali/anaconda3/envs/forecasting/lib/python3.8/site-packages/sklearn/base.py:465: UserWarning: X does not have valid feature names, but AdaBoostRegressor was fitted with feature names\n",
      "  warnings.warn(\n",
      "/Users/nslali/anaconda3/envs/forecasting/lib/python3.8/site-packages/sklearn/base.py:465: UserWarning: X does not have valid feature names, but AdaBoostRegressor was fitted with feature names\n",
      "  warnings.warn(\n",
      "/Users/nslali/anaconda3/envs/forecasting/lib/python3.8/site-packages/sklearn/base.py:465: UserWarning: X does not have valid feature names, but AdaBoostRegressor was fitted with feature names\n",
      "  warnings.warn(\n",
      "/Users/nslali/anaconda3/envs/forecasting/lib/python3.8/site-packages/sklearn/base.py:465: UserWarning: X does not have valid feature names, but AdaBoostRegressor was fitted with feature names\n",
      "  warnings.warn(\n",
      "/Users/nslali/anaconda3/envs/forecasting/lib/python3.8/site-packages/sklearn/base.py:465: UserWarning: X does not have valid feature names, but AdaBoostRegressor was fitted with feature names\n",
      "  warnings.warn(\n",
      "/Users/nslali/anaconda3/envs/forecasting/lib/python3.8/site-packages/sklearn/base.py:465: UserWarning: X does not have valid feature names, but AdaBoostRegressor was fitted with feature names\n",
      "  warnings.warn(\n",
      "/Users/nslali/anaconda3/envs/forecasting/lib/python3.8/site-packages/sklearn/base.py:465: UserWarning: X does not have valid feature names, but AdaBoostRegressor was fitted with feature names\n",
      "  warnings.warn(\n",
      "/Users/nslali/anaconda3/envs/forecasting/lib/python3.8/site-packages/sklearn/base.py:465: UserWarning: X does not have valid feature names, but AdaBoostRegressor was fitted with feature names\n",
      "  warnings.warn(\n",
      "/Users/nslali/anaconda3/envs/forecasting/lib/python3.8/site-packages/sklearn/base.py:465: UserWarning: X does not have valid feature names, but AdaBoostRegressor was fitted with feature names\n",
      "  warnings.warn(\n",
      "/Users/nslali/anaconda3/envs/forecasting/lib/python3.8/site-packages/sklearn/base.py:465: UserWarning: X does not have valid feature names, but AdaBoostRegressor was fitted with feature names\n",
      "  warnings.warn(\n",
      "/Users/nslali/anaconda3/envs/forecasting/lib/python3.8/site-packages/sklearn/base.py:465: UserWarning: X does not have valid feature names, but AdaBoostRegressor was fitted with feature names\n",
      "  warnings.warn(\n",
      "/Users/nslali/anaconda3/envs/forecasting/lib/python3.8/site-packages/sklearn/base.py:465: UserWarning: X does not have valid feature names, but AdaBoostRegressor was fitted with feature names\n",
      "  warnings.warn(\n",
      "/Users/nslali/anaconda3/envs/forecasting/lib/python3.8/site-packages/sklearn/base.py:465: UserWarning: X does not have valid feature names, but AdaBoostRegressor was fitted with feature names\n",
      "  warnings.warn(\n",
      "/Users/nslali/anaconda3/envs/forecasting/lib/python3.8/site-packages/sklearn/base.py:465: UserWarning: X does not have valid feature names, but AdaBoostRegressor was fitted with feature names\n",
      "  warnings.warn(\n",
      "/Users/nslali/anaconda3/envs/forecasting/lib/python3.8/site-packages/sklearn/base.py:465: UserWarning: X does not have valid feature names, but AdaBoostRegressor was fitted with feature names\n",
      "  warnings.warn(\n",
      "/Users/nslali/anaconda3/envs/forecasting/lib/python3.8/site-packages/sklearn/base.py:465: UserWarning: X does not have valid feature names, but AdaBoostRegressor was fitted with feature names\n",
      "  warnings.warn(\n",
      "/Users/nslali/anaconda3/envs/forecasting/lib/python3.8/site-packages/sklearn/base.py:465: UserWarning: X does not have valid feature names, but AdaBoostRegressor was fitted with feature names\n",
      "  warnings.warn(\n",
      "/Users/nslali/anaconda3/envs/forecasting/lib/python3.8/site-packages/sklearn/base.py:465: UserWarning: X does not have valid feature names, but AdaBoostRegressor was fitted with feature names\n",
      "  warnings.warn(\n",
      "/Users/nslali/anaconda3/envs/forecasting/lib/python3.8/site-packages/sklearn/base.py:465: UserWarning: X does not have valid feature names, but AdaBoostRegressor was fitted with feature names\n",
      "  warnings.warn(\n",
      "/Users/nslali/anaconda3/envs/forecasting/lib/python3.8/site-packages/sklearn/base.py:465: UserWarning: X does not have valid feature names, but AdaBoostRegressor was fitted with feature names\n",
      "  warnings.warn(\n",
      "/Users/nslali/anaconda3/envs/forecasting/lib/python3.8/site-packages/sklearn/base.py:465: UserWarning: X does not have valid feature names, but AdaBoostRegressor was fitted with feature names\n",
      "  warnings.warn(\n",
      "/Users/nslali/anaconda3/envs/forecasting/lib/python3.8/site-packages/sklearn/base.py:465: UserWarning: X does not have valid feature names, but AdaBoostRegressor was fitted with feature names\n",
      "  warnings.warn(\n",
      "/Users/nslali/anaconda3/envs/forecasting/lib/python3.8/site-packages/sklearn/base.py:465: UserWarning: X does not have valid feature names, but AdaBoostRegressor was fitted with feature names\n",
      "  warnings.warn(\n",
      "/Users/nslali/anaconda3/envs/forecasting/lib/python3.8/site-packages/sklearn/base.py:465: UserWarning: X does not have valid feature names, but AdaBoostRegressor was fitted with feature names\n",
      "  warnings.warn(\n",
      "/Users/nslali/anaconda3/envs/forecasting/lib/python3.8/site-packages/sklearn/base.py:465: UserWarning: X does not have valid feature names, but AdaBoostRegressor was fitted with feature names\n",
      "  warnings.warn(\n",
      "/Users/nslali/anaconda3/envs/forecasting/lib/python3.8/site-packages/sklearn/base.py:465: UserWarning: X does not have valid feature names, but AdaBoostRegressor was fitted with feature names\n",
      "  warnings.warn(\n",
      "/Users/nslali/anaconda3/envs/forecasting/lib/python3.8/site-packages/sklearn/base.py:465: UserWarning: X does not have valid feature names, but AdaBoostRegressor was fitted with feature names\n",
      "  warnings.warn(\n",
      "/Users/nslali/anaconda3/envs/forecasting/lib/python3.8/site-packages/sklearn/base.py:465: UserWarning: X does not have valid feature names, but AdaBoostRegressor was fitted with feature names\n",
      "  warnings.warn(\n",
      "/Users/nslali/anaconda3/envs/forecasting/lib/python3.8/site-packages/sklearn/base.py:465: UserWarning: X does not have valid feature names, but AdaBoostRegressor was fitted with feature names\n",
      "  warnings.warn(\n",
      "/Users/nslali/anaconda3/envs/forecasting/lib/python3.8/site-packages/sklearn/base.py:465: UserWarning: X does not have valid feature names, but AdaBoostRegressor was fitted with feature names\n",
      "  warnings.warn(\n",
      "/Users/nslali/anaconda3/envs/forecasting/lib/python3.8/site-packages/sklearn/base.py:465: UserWarning: X does not have valid feature names, but AdaBoostRegressor was fitted with feature names\n",
      "  warnings.warn(\n"
     ]
    },
    {
     "name": "stdout",
     "output_type": "stream",
     "text": [
      "Model Number: 292 with model DynamicFactorMQ in generation 2 of 4\n",
      "Model Number: 293 with model NVAR in generation 2 of 4\n",
      "Model Number: 294 with model RollingRegression in generation 2 of 4\n",
      "Model Number: 295 with model DynamicFactorMQ in generation 2 of 4\n"
     ]
    },
    {
     "name": "stderr",
     "output_type": "stream",
     "text": [
      "/Users/nslali/anaconda3/envs/forecasting/lib/python3.8/site-packages/sklearn/base.py:465: UserWarning: X does not have valid feature names, but MultiTaskElasticNet was fitted with feature names\n",
      "  warnings.warn(\n",
      "/Users/nslali/anaconda3/envs/forecasting/lib/python3.8/site-packages/sklearn/base.py:465: UserWarning: X does not have valid feature names, but MultiTaskElasticNet was fitted with feature names\n",
      "  warnings.warn(\n",
      "/Users/nslali/anaconda3/envs/forecasting/lib/python3.8/site-packages/sklearn/base.py:465: UserWarning: X does not have valid feature names, but MultiTaskElasticNet was fitted with feature names\n",
      "  warnings.warn(\n",
      "/Users/nslali/anaconda3/envs/forecasting/lib/python3.8/site-packages/sklearn/base.py:465: UserWarning: X does not have valid feature names, but MultiTaskElasticNet was fitted with feature names\n",
      "  warnings.warn(\n",
      "/Users/nslali/anaconda3/envs/forecasting/lib/python3.8/site-packages/sklearn/base.py:465: UserWarning: X does not have valid feature names, but MultiTaskElasticNet was fitted with feature names\n",
      "  warnings.warn(\n",
      "/Users/nslali/anaconda3/envs/forecasting/lib/python3.8/site-packages/sklearn/base.py:465: UserWarning: X does not have valid feature names, but MultiTaskElasticNet was fitted with feature names\n",
      "  warnings.warn(\n"
     ]
    },
    {
     "name": "stdout",
     "output_type": "stream",
     "text": [
      "Model Number: 296 with model Cassandra in generation 2 of 4\n"
     ]
    },
    {
     "name": "stderr",
     "output_type": "stream",
     "text": [
      "/Users/nslali/anaconda3/envs/forecasting/lib/python3.8/site-packages/numpy/lib/function_base.py:2854: RuntimeWarning: invalid value encountered in divide\n",
      "  c /= stddev[:, None]\n",
      "/Users/nslali/anaconda3/envs/forecasting/lib/python3.8/site-packages/numpy/lib/function_base.py:2855: RuntimeWarning: invalid value encountered in divide\n",
      "  c /= stddev[None, :]\n"
     ]
    },
    {
     "name": "stdout",
     "output_type": "stream",
     "text": [
      "Model Number: 297 with model LATC in generation 2 of 4\n",
      "Model Number: 298 with model NVAR in generation 2 of 4\n",
      "Model Number: 299 with model VAR in generation 2 of 4\n",
      "Model Number: 300 with model SectionalMotif in generation 2 of 4\n",
      "Model Number: 301 with model VAR in generation 2 of 4\n"
     ]
    },
    {
     "name": "stderr",
     "output_type": "stream",
     "text": [
      "/Users/nslali/anaconda3/envs/forecasting/lib/python3.8/site-packages/sklearn/linear_model/_ridge.py:200: LinAlgWarning: Ill-conditioned matrix (rcond=1.3669e-25): result may not be accurate.\n",
      "  return linalg.solve(A, Xy, assume_a=\"pos\", overwrite_a=True).T\n"
     ]
    },
    {
     "name": "stdout",
     "output_type": "stream",
     "text": [
      "Model Number: 302 with model DynamicFactorMQ in generation 2 of 4\n",
      "Model Number: 303 with model SectionalMotif in generation 2 of 4\n",
      "Model Number: 304 with model VAR in generation 2 of 4\n",
      "Model Number: 305 with model NVAR in generation 2 of 4\n",
      "Template Eval Error: Exception('Transformer ScipyFilter failed on fit') in model 305 in generation 2: NVAR\n",
      "Model Number: 306 with model Cassandra in generation 2 of 4\n",
      "Model Number: 307 with model VAR in generation 2 of 4\n",
      "Template Eval Error: ValueError(\"x contains one or more constant columns. Column(s) 7 are constant. Adding a constant with trend='c' is not allowed.\") in model 307 in generation 2: VAR\n",
      "Model Number: 308 with model NVAR in generation 2 of 4\n",
      "Template Eval Error: Exception('Transformer ScipyFilter failed on fit') in model 308 in generation 2: NVAR\n",
      "Model Number: 309 with model DynamicFactorMQ in generation 2 of 4\n"
     ]
    },
    {
     "name": "stderr",
     "output_type": "stream",
     "text": [
      "/Users/nslali/anaconda3/envs/forecasting/lib/python3.8/site-packages/numpy/lib/function_base.py:2854: RuntimeWarning: invalid value encountered in divide\n",
      "  c /= stddev[:, None]\n",
      "/Users/nslali/anaconda3/envs/forecasting/lib/python3.8/site-packages/numpy/lib/function_base.py:2855: RuntimeWarning: invalid value encountered in divide\n",
      "  c /= stddev[None, :]\n",
      "/Users/nslali/anaconda3/envs/forecasting/lib/python3.8/site-packages/autots/tools/impute.py:54: RuntimeWarning: Mean of empty slice\n",
      "  arr = np.nan_to_num(arr) + np.isnan(arr) * np.nan_to_num(np.nanmean(arr, axis=0))\n"
     ]
    },
    {
     "name": "stdout",
     "output_type": "stream",
     "text": [
      "Model Number: 310 with model RollingRegression in generation 2 of 4\n",
      "Template Eval Error: ValueError('future_regressor not supplied, necessary for regression_type') in model 310 in generation 2: RollingRegression\n",
      "Model Number: 311 with model RRVAR in generation 2 of 4\n",
      "Model Number: 312 with model NVAR in generation 2 of 4\n",
      "Model Number: 313 with model MAR in generation 2 of 4\n",
      "Model Number: 314 with model MultivariateRegression in generation 2 of 4\n",
      "Template Eval Error: Exception('Transformer AlignLastValue failed on inverse') in model 314 in generation 2: MultivariateRegression\n",
      "Model Number: 315 with model DynamicFactorMQ in generation 2 of 4\n",
      "Model Number: 316 with model DynamicFactorMQ in generation 2 of 4\n"
     ]
    },
    {
     "name": "stderr",
     "output_type": "stream",
     "text": [
      "/Users/nslali/anaconda3/envs/forecasting/lib/python3.8/site-packages/statsmodels/tsa/statespace/dynamic_factor_mq.py:2691: UserWarning: EM reached maximum number of iterations (1000), without achieving convergence: llf=6312.1, convergence criterion=3.8412e-06 (while specified tolerance was 1e-06)\n",
      "  warn(f'EM reached maximum number of iterations ({maxiter}),'\n"
     ]
    },
    {
     "name": "stdout",
     "output_type": "stream",
     "text": [
      "Model Number: 317 with model VAR in generation 2 of 4\n",
      "Model Number: 318 with model DynamicFactorMQ in generation 2 of 4\n"
     ]
    },
    {
     "name": "stderr",
     "output_type": "stream",
     "text": [
      "/Users/nslali/anaconda3/envs/forecasting/lib/python3.8/site-packages/statsmodels/tsa/statespace/dynamic_factor_mq.py:1950: UserWarning: Non-stationary starting factor autoregressive parameters found for factor block ('0.1', '0.2'). Using zeros as starting parameters.\n",
      "  warn('Non-stationary starting factor autoregressive'\n"
     ]
    },
    {
     "name": "stdout",
     "output_type": "stream",
     "text": [
      "Model Number: 319 with model SectionalMotif in generation 2 of 4\n",
      "Model Number: 320 with model Cassandra in generation 2 of 4\n",
      "Template Eval Error: LinAlgError('Singular matrix') in model 320 in generation 2: Cassandra\n",
      "Model Number: 321 with model VECM in generation 2 of 4\n",
      "Model Number: 322 with model RollingRegression in generation 2 of 4\n"
     ]
    },
    {
     "name": "stderr",
     "output_type": "stream",
     "text": [
      "/Users/nslali/anaconda3/envs/forecasting/lib/python3.8/site-packages/numpy/lib/function_base.py:2854: RuntimeWarning: invalid value encountered in divide\n",
      "  c /= stddev[:, None]\n",
      "/Users/nslali/anaconda3/envs/forecasting/lib/python3.8/site-packages/numpy/lib/function_base.py:2855: RuntimeWarning: invalid value encountered in divide\n",
      "  c /= stddev[None, :]\n",
      "/Users/nslali/anaconda3/envs/forecasting/lib/python3.8/site-packages/sklearn/svm/_classes.py:32: FutureWarning: The default value of `dual` will change from `True` to `'auto'` in 1.5. Set the value of `dual` explicitly to suppress the warning.\n",
      "  warnings.warn(\n",
      "/Users/nslali/anaconda3/envs/forecasting/lib/python3.8/site-packages/sklearn/svm/_classes.py:32: FutureWarning: The default value of `dual` will change from `True` to `'auto'` in 1.5. Set the value of `dual` explicitly to suppress the warning.\n",
      "  warnings.warn(\n",
      "/Users/nslali/anaconda3/envs/forecasting/lib/python3.8/site-packages/sklearn/svm/_classes.py:32: FutureWarning: The default value of `dual` will change from `True` to `'auto'` in 1.5. Set the value of `dual` explicitly to suppress the warning.\n",
      "  warnings.warn(\n",
      "/Users/nslali/anaconda3/envs/forecasting/lib/python3.8/site-packages/sklearn/svm/_classes.py:32: FutureWarning: The default value of `dual` will change from `True` to `'auto'` in 1.5. Set the value of `dual` explicitly to suppress the warning.\n",
      "  warnings.warn(\n",
      "/Users/nslali/anaconda3/envs/forecasting/lib/python3.8/site-packages/sklearn/svm/_classes.py:32: FutureWarning: The default value of `dual` will change from `True` to `'auto'` in 1.5. Set the value of `dual` explicitly to suppress the warning.\n",
      "  warnings.warn(\n",
      "/Users/nslali/anaconda3/envs/forecasting/lib/python3.8/site-packages/sklearn/svm/_classes.py:32: FutureWarning: The default value of `dual` will change from `True` to `'auto'` in 1.5. Set the value of `dual` explicitly to suppress the warning.\n",
      "  warnings.warn(\n",
      "/Users/nslali/anaconda3/envs/forecasting/lib/python3.8/site-packages/sklearn/svm/_classes.py:32: FutureWarning: The default value of `dual` will change from `True` to `'auto'` in 1.5. Set the value of `dual` explicitly to suppress the warning.\n",
      "  warnings.warn(\n",
      "/Users/nslali/anaconda3/envs/forecasting/lib/python3.8/site-packages/sklearn/svm/_base.py:1250: ConvergenceWarning: Liblinear failed to converge, increase the number of iterations.\n",
      "  warnings.warn(\n",
      "/Users/nslali/anaconda3/envs/forecasting/lib/python3.8/site-packages/sklearn/svm/_classes.py:32: FutureWarning: The default value of `dual` will change from `True` to `'auto'` in 1.5. Set the value of `dual` explicitly to suppress the warning.\n",
      "  warnings.warn(\n",
      "/Users/nslali/anaconda3/envs/forecasting/lib/python3.8/site-packages/sklearn/svm/_base.py:1250: ConvergenceWarning: Liblinear failed to converge, increase the number of iterations.\n",
      "  warnings.warn(\n",
      "/Users/nslali/anaconda3/envs/forecasting/lib/python3.8/site-packages/sklearn/svm/_base.py:1250: ConvergenceWarning: Liblinear failed to converge, increase the number of iterations.\n",
      "  warnings.warn(\n",
      "/Users/nslali/anaconda3/envs/forecasting/lib/python3.8/site-packages/sklearn/svm/_base.py:1250: ConvergenceWarning: Liblinear failed to converge, increase the number of iterations.\n",
      "  warnings.warn(\n",
      "/Users/nslali/anaconda3/envs/forecasting/lib/python3.8/site-packages/sklearn/svm/_base.py:1250: ConvergenceWarning: Liblinear failed to converge, increase the number of iterations.\n",
      "  warnings.warn(\n",
      "/Users/nslali/anaconda3/envs/forecasting/lib/python3.8/site-packages/sklearn/svm/_base.py:1250: ConvergenceWarning: Liblinear failed to converge, increase the number of iterations.\n",
      "  warnings.warn(\n",
      "/Users/nslali/anaconda3/envs/forecasting/lib/python3.8/site-packages/sklearn/svm/_base.py:1250: ConvergenceWarning: Liblinear failed to converge, increase the number of iterations.\n",
      "  warnings.warn(\n",
      "/Users/nslali/anaconda3/envs/forecasting/lib/python3.8/site-packages/sklearn/svm/_base.py:1250: ConvergenceWarning: Liblinear failed to converge, increase the number of iterations.\n",
      "  warnings.warn(\n",
      "/Users/nslali/anaconda3/envs/forecasting/lib/python3.8/site-packages/sklearn/svm/_classes.py:32: FutureWarning: The default value of `dual` will change from `True` to `'auto'` in 1.5. Set the value of `dual` explicitly to suppress the warning.\n",
      "  warnings.warn(\n",
      "/Users/nslali/anaconda3/envs/forecasting/lib/python3.8/site-packages/sklearn/svm/_base.py:1250: ConvergenceWarning: Liblinear failed to converge, increase the number of iterations.\n",
      "  warnings.warn(\n",
      "/Users/nslali/anaconda3/envs/forecasting/lib/python3.8/site-packages/sklearn/base.py:465: UserWarning: X does not have valid feature names, but LinearSVR was fitted with feature names\n",
      "  warnings.warn(\n",
      "/Users/nslali/anaconda3/envs/forecasting/lib/python3.8/site-packages/sklearn/base.py:465: UserWarning: X does not have valid feature names, but LinearSVR was fitted with feature names\n",
      "  warnings.warn(\n",
      "/Users/nslali/anaconda3/envs/forecasting/lib/python3.8/site-packages/sklearn/base.py:465: UserWarning: X does not have valid feature names, but LinearSVR was fitted with feature names\n",
      "  warnings.warn(\n",
      "/Users/nslali/anaconda3/envs/forecasting/lib/python3.8/site-packages/sklearn/base.py:465: UserWarning: X does not have valid feature names, but LinearSVR was fitted with feature names\n",
      "  warnings.warn(\n",
      "/Users/nslali/anaconda3/envs/forecasting/lib/python3.8/site-packages/sklearn/base.py:465: UserWarning: X does not have valid feature names, but LinearSVR was fitted with feature names\n",
      "  warnings.warn(\n",
      "/Users/nslali/anaconda3/envs/forecasting/lib/python3.8/site-packages/sklearn/base.py:465: UserWarning: X does not have valid feature names, but LinearSVR was fitted with feature names\n",
      "  warnings.warn(\n",
      "/Users/nslali/anaconda3/envs/forecasting/lib/python3.8/site-packages/sklearn/base.py:465: UserWarning: X does not have valid feature names, but LinearSVR was fitted with feature names\n",
      "  warnings.warn(\n",
      "/Users/nslali/anaconda3/envs/forecasting/lib/python3.8/site-packages/sklearn/base.py:465: UserWarning: X does not have valid feature names, but LinearSVR was fitted with feature names\n",
      "  warnings.warn(\n",
      "/Users/nslali/anaconda3/envs/forecasting/lib/python3.8/site-packages/sklearn/base.py:465: UserWarning: X does not have valid feature names, but LinearSVR was fitted with feature names\n",
      "  warnings.warn(\n",
      "/Users/nslali/anaconda3/envs/forecasting/lib/python3.8/site-packages/sklearn/base.py:465: UserWarning: X does not have valid feature names, but LinearSVR was fitted with feature names\n",
      "  warnings.warn(\n",
      "/Users/nslali/anaconda3/envs/forecasting/lib/python3.8/site-packages/sklearn/base.py:465: UserWarning: X does not have valid feature names, but LinearSVR was fitted with feature names\n",
      "  warnings.warn(\n",
      "/Users/nslali/anaconda3/envs/forecasting/lib/python3.8/site-packages/sklearn/base.py:465: UserWarning: X does not have valid feature names, but LinearSVR was fitted with feature names\n",
      "  warnings.warn(\n",
      "/Users/nslali/anaconda3/envs/forecasting/lib/python3.8/site-packages/sklearn/base.py:465: UserWarning: X does not have valid feature names, but LinearSVR was fitted with feature names\n",
      "  warnings.warn(\n",
      "/Users/nslali/anaconda3/envs/forecasting/lib/python3.8/site-packages/sklearn/base.py:465: UserWarning: X does not have valid feature names, but LinearSVR was fitted with feature names\n",
      "  warnings.warn(\n",
      "/Users/nslali/anaconda3/envs/forecasting/lib/python3.8/site-packages/sklearn/base.py:465: UserWarning: X does not have valid feature names, but LinearSVR was fitted with feature names\n",
      "  warnings.warn(\n",
      "/Users/nslali/anaconda3/envs/forecasting/lib/python3.8/site-packages/sklearn/base.py:465: UserWarning: X does not have valid feature names, but LinearSVR was fitted with feature names\n",
      "  warnings.warn(\n",
      "/Users/nslali/anaconda3/envs/forecasting/lib/python3.8/site-packages/sklearn/base.py:465: UserWarning: X does not have valid feature names, but LinearSVR was fitted with feature names\n",
      "  warnings.warn(\n",
      "/Users/nslali/anaconda3/envs/forecasting/lib/python3.8/site-packages/sklearn/base.py:465: UserWarning: X does not have valid feature names, but LinearSVR was fitted with feature names\n",
      "  warnings.warn(\n",
      "/Users/nslali/anaconda3/envs/forecasting/lib/python3.8/site-packages/sklearn/base.py:465: UserWarning: X does not have valid feature names, but LinearSVR was fitted with feature names\n",
      "  warnings.warn(\n",
      "/Users/nslali/anaconda3/envs/forecasting/lib/python3.8/site-packages/sklearn/base.py:465: UserWarning: X does not have valid feature names, but LinearSVR was fitted with feature names\n",
      "  warnings.warn(\n",
      "/Users/nslali/anaconda3/envs/forecasting/lib/python3.8/site-packages/sklearn/base.py:465: UserWarning: X does not have valid feature names, but LinearSVR was fitted with feature names\n",
      "  warnings.warn(\n",
      "/Users/nslali/anaconda3/envs/forecasting/lib/python3.8/site-packages/sklearn/base.py:465: UserWarning: X does not have valid feature names, but LinearSVR was fitted with feature names\n",
      "  warnings.warn(\n",
      "/Users/nslali/anaconda3/envs/forecasting/lib/python3.8/site-packages/sklearn/base.py:465: UserWarning: X does not have valid feature names, but LinearSVR was fitted with feature names\n",
      "  warnings.warn(\n",
      "/Users/nslali/anaconda3/envs/forecasting/lib/python3.8/site-packages/sklearn/base.py:465: UserWarning: X does not have valid feature names, but LinearSVR was fitted with feature names\n",
      "  warnings.warn(\n",
      "/Users/nslali/anaconda3/envs/forecasting/lib/python3.8/site-packages/sklearn/base.py:465: UserWarning: X does not have valid feature names, but LinearSVR was fitted with feature names\n",
      "  warnings.warn(\n",
      "/Users/nslali/anaconda3/envs/forecasting/lib/python3.8/site-packages/sklearn/base.py:465: UserWarning: X does not have valid feature names, but LinearSVR was fitted with feature names\n",
      "  warnings.warn(\n",
      "/Users/nslali/anaconda3/envs/forecasting/lib/python3.8/site-packages/sklearn/base.py:465: UserWarning: X does not have valid feature names, but LinearSVR was fitted with feature names\n",
      "  warnings.warn(\n",
      "/Users/nslali/anaconda3/envs/forecasting/lib/python3.8/site-packages/sklearn/base.py:465: UserWarning: X does not have valid feature names, but LinearSVR was fitted with feature names\n",
      "  warnings.warn(\n",
      "/Users/nslali/anaconda3/envs/forecasting/lib/python3.8/site-packages/sklearn/base.py:465: UserWarning: X does not have valid feature names, but LinearSVR was fitted with feature names\n",
      "  warnings.warn(\n",
      "/Users/nslali/anaconda3/envs/forecasting/lib/python3.8/site-packages/sklearn/base.py:465: UserWarning: X does not have valid feature names, but LinearSVR was fitted with feature names\n",
      "  warnings.warn(\n",
      "/Users/nslali/anaconda3/envs/forecasting/lib/python3.8/site-packages/sklearn/base.py:465: UserWarning: X does not have valid feature names, but LinearSVR was fitted with feature names\n",
      "  warnings.warn(\n",
      "/Users/nslali/anaconda3/envs/forecasting/lib/python3.8/site-packages/sklearn/base.py:465: UserWarning: X does not have valid feature names, but LinearSVR was fitted with feature names\n",
      "  warnings.warn(\n",
      "/Users/nslali/anaconda3/envs/forecasting/lib/python3.8/site-packages/sklearn/base.py:465: UserWarning: X does not have valid feature names, but LinearSVR was fitted with feature names\n",
      "  warnings.warn(\n",
      "/Users/nslali/anaconda3/envs/forecasting/lib/python3.8/site-packages/sklearn/base.py:465: UserWarning: X does not have valid feature names, but LinearSVR was fitted with feature names\n",
      "  warnings.warn(\n",
      "/Users/nslali/anaconda3/envs/forecasting/lib/python3.8/site-packages/sklearn/base.py:465: UserWarning: X does not have valid feature names, but LinearSVR was fitted with feature names\n",
      "  warnings.warn(\n",
      "/Users/nslali/anaconda3/envs/forecasting/lib/python3.8/site-packages/sklearn/base.py:465: UserWarning: X does not have valid feature names, but LinearSVR was fitted with feature names\n",
      "  warnings.warn(\n",
      "/Users/nslali/anaconda3/envs/forecasting/lib/python3.8/site-packages/sklearn/base.py:465: UserWarning: X does not have valid feature names, but LinearSVR was fitted with feature names\n",
      "  warnings.warn(\n",
      "/Users/nslali/anaconda3/envs/forecasting/lib/python3.8/site-packages/sklearn/base.py:465: UserWarning: X does not have valid feature names, but LinearSVR was fitted with feature names\n",
      "  warnings.warn(\n",
      "/Users/nslali/anaconda3/envs/forecasting/lib/python3.8/site-packages/sklearn/base.py:465: UserWarning: X does not have valid feature names, but LinearSVR was fitted with feature names\n",
      "  warnings.warn(\n",
      "/Users/nslali/anaconda3/envs/forecasting/lib/python3.8/site-packages/sklearn/base.py:465: UserWarning: X does not have valid feature names, but LinearSVR was fitted with feature names\n",
      "  warnings.warn(\n",
      "/Users/nslali/anaconda3/envs/forecasting/lib/python3.8/site-packages/sklearn/base.py:465: UserWarning: X does not have valid feature names, but LinearSVR was fitted with feature names\n",
      "  warnings.warn(\n",
      "/Users/nslali/anaconda3/envs/forecasting/lib/python3.8/site-packages/sklearn/base.py:465: UserWarning: X does not have valid feature names, but LinearSVR was fitted with feature names\n",
      "  warnings.warn(\n",
      "/Users/nslali/anaconda3/envs/forecasting/lib/python3.8/site-packages/sklearn/base.py:465: UserWarning: X does not have valid feature names, but LinearSVR was fitted with feature names\n",
      "  warnings.warn(\n",
      "/Users/nslali/anaconda3/envs/forecasting/lib/python3.8/site-packages/sklearn/base.py:465: UserWarning: X does not have valid feature names, but LinearSVR was fitted with feature names\n",
      "  warnings.warn(\n",
      "/Users/nslali/anaconda3/envs/forecasting/lib/python3.8/site-packages/sklearn/base.py:465: UserWarning: X does not have valid feature names, but LinearSVR was fitted with feature names\n",
      "  warnings.warn(\n",
      "/Users/nslali/anaconda3/envs/forecasting/lib/python3.8/site-packages/sklearn/base.py:465: UserWarning: X does not have valid feature names, but LinearSVR was fitted with feature names\n",
      "  warnings.warn(\n",
      "/Users/nslali/anaconda3/envs/forecasting/lib/python3.8/site-packages/sklearn/base.py:465: UserWarning: X does not have valid feature names, but LinearSVR was fitted with feature names\n",
      "  warnings.warn(\n",
      "/Users/nslali/anaconda3/envs/forecasting/lib/python3.8/site-packages/sklearn/base.py:465: UserWarning: X does not have valid feature names, but LinearSVR was fitted with feature names\n",
      "  warnings.warn(\n",
      "/Users/nslali/anaconda3/envs/forecasting/lib/python3.8/site-packages/sklearn/base.py:465: UserWarning: X does not have valid feature names, but LinearSVR was fitted with feature names\n",
      "  warnings.warn(\n",
      "/Users/nslali/anaconda3/envs/forecasting/lib/python3.8/site-packages/sklearn/base.py:465: UserWarning: X does not have valid feature names, but LinearSVR was fitted with feature names\n",
      "  warnings.warn(\n",
      "/Users/nslali/anaconda3/envs/forecasting/lib/python3.8/site-packages/sklearn/base.py:465: UserWarning: X does not have valid feature names, but LinearSVR was fitted with feature names\n",
      "  warnings.warn(\n",
      "/Users/nslali/anaconda3/envs/forecasting/lib/python3.8/site-packages/sklearn/base.py:465: UserWarning: X does not have valid feature names, but LinearSVR was fitted with feature names\n",
      "  warnings.warn(\n",
      "/Users/nslali/anaconda3/envs/forecasting/lib/python3.8/site-packages/sklearn/base.py:465: UserWarning: X does not have valid feature names, but LinearSVR was fitted with feature names\n",
      "  warnings.warn(\n",
      "/Users/nslali/anaconda3/envs/forecasting/lib/python3.8/site-packages/sklearn/base.py:465: UserWarning: X does not have valid feature names, but LinearSVR was fitted with feature names\n",
      "  warnings.warn(\n"
     ]
    },
    {
     "name": "stdout",
     "output_type": "stream",
     "text": [
      "Model Number: 323 with model DynamicFactorMQ in generation 2 of 4\n",
      "Model Number: 324 with model WindowRegression in generation 2 of 4\n",
      "Model Number: 325 with model SectionalMotif in generation 2 of 4\n",
      "Model Number: 326 with model VECM in generation 2 of 4\n"
     ]
    },
    {
     "name": "stderr",
     "output_type": "stream",
     "text": [
      "/Users/nslali/anaconda3/envs/forecasting/lib/python3.8/site-packages/sklearn/neural_network/_multilayer_perceptron.py:546: ConvergenceWarning: lbfgs failed to converge (status=1):\n",
      "STOP: TOTAL NO. of ITERATIONS REACHED LIMIT.\n",
      "\n",
      "Increase the number of iterations (max_iter) or scale the data as shown in:\n",
      "    https://scikit-learn.org/stable/modules/preprocessing.html\n",
      "  self.n_iter_ = _check_optimize_result(\"lbfgs\", opt_res, self.max_iter)\n",
      "/Users/nslali/anaconda3/envs/forecasting/lib/python3.8/site-packages/statsmodels/tsa/statespace/dynamic_factor_mq.py:1950: UserWarning: Non-stationary starting factor autoregressive parameters found for factor block ('0.1', '0.2'). Using zeros as starting parameters.\n",
      "  warn('Non-stationary starting factor autoregressive'\n"
     ]
    },
    {
     "name": "stdout",
     "output_type": "stream",
     "text": [
      "Model Number: 327 with model DynamicFactorMQ in generation 2 of 4\n",
      "Model Number: 328 with model Cassandra in generation 2 of 4\n"
     ]
    },
    {
     "name": "stderr",
     "output_type": "stream",
     "text": [
      "/Users/nslali/anaconda3/envs/forecasting/lib/python3.8/site-packages/numpy/lib/function_base.py:2854: RuntimeWarning: invalid value encountered in divide\n",
      "  c /= stddev[:, None]\n",
      "/Users/nslali/anaconda3/envs/forecasting/lib/python3.8/site-packages/numpy/lib/function_base.py:2855: RuntimeWarning: invalid value encountered in divide\n",
      "  c /= stddev[None, :]\n"
     ]
    },
    {
     "name": "stdout",
     "output_type": "stream",
     "text": [
      "New Generation: 3 of 4\n",
      "Model Number: 329 with model DynamicFactorMQ in generation 3 of 4\n",
      "Model Number: 330 with model VECM in generation 3 of 4\n",
      "Model Number: 331 with model VECM in generation 3 of 4\n",
      "Model Number: 332 with model DynamicFactorMQ in generation 3 of 4\n"
     ]
    },
    {
     "name": "stderr",
     "output_type": "stream",
     "text": [
      "/Users/nslali/anaconda3/envs/forecasting/lib/python3.8/site-packages/statsmodels/tsa/statespace/dynamic_factor_mq.py:1950: UserWarning: Non-stationary starting factor autoregressive parameters found for factor block ('0.1', '0.2'). Using zeros as starting parameters.\n",
      "  warn('Non-stationary starting factor autoregressive'\n"
     ]
    },
    {
     "name": "stdout",
     "output_type": "stream",
     "text": [
      "Model Number: 333 with model MultivariateMotif in generation 3 of 4\n",
      "Model Number: 334 with model NVAR in generation 3 of 4\n",
      "Model Number: 335 with model MultivariateRegression in generation 3 of 4\n",
      "Model Number: 336 with model MultivariateRegression in generation 3 of 4\n",
      "Model Number: 337 with model Cassandra in generation 3 of 4\n",
      "Template Eval Error: ValueError(\"regression_type='User' but no future_regressor passed\") in model 337 in generation 3: Cassandra\n",
      "Model Number: 338 with model MAR in generation 3 of 4\n"
     ]
    },
    {
     "name": "stderr",
     "output_type": "stream",
     "text": [
      "/Users/nslali/anaconda3/envs/forecasting/lib/python3.8/site-packages/numpy/lib/function_base.py:2854: RuntimeWarning: invalid value encountered in divide\n",
      "  c /= stddev[:, None]\n",
      "/Users/nslali/anaconda3/envs/forecasting/lib/python3.8/site-packages/numpy/lib/function_base.py:2855: RuntimeWarning: invalid value encountered in divide\n",
      "  c /= stddev[None, :]\n"
     ]
    },
    {
     "name": "stdout",
     "output_type": "stream",
     "text": [
      "Model Number: 339 with model LATC in generation 3 of 4\n",
      "Model Number: 340 with model Cassandra in generation 3 of 4\n"
     ]
    },
    {
     "name": "stderr",
     "output_type": "stream",
     "text": [
      "/Users/nslali/anaconda3/envs/forecasting/lib/python3.8/site-packages/numpy/lib/function_base.py:2854: RuntimeWarning: invalid value encountered in divide\n",
      "  c /= stddev[:, None]\n",
      "/Users/nslali/anaconda3/envs/forecasting/lib/python3.8/site-packages/numpy/lib/function_base.py:2855: RuntimeWarning: invalid value encountered in divide\n",
      "  c /= stddev[None, :]\n"
     ]
    },
    {
     "name": "stdout",
     "output_type": "stream",
     "text": [
      "Model Number: 341 with model DynamicFactorMQ in generation 3 of 4\n",
      "Model Number: 342 with model DynamicFactorMQ in generation 3 of 4\n"
     ]
    },
    {
     "name": "stderr",
     "output_type": "stream",
     "text": [
      "/Users/nslali/anaconda3/envs/forecasting/lib/python3.8/site-packages/statsmodels/tsa/statespace/dynamic_factor_mq.py:1950: UserWarning: Non-stationary starting factor autoregressive parameters found for factor block ('0.1', '0.2'). Using zeros as starting parameters.\n",
      "  warn('Non-stationary starting factor autoregressive'\n"
     ]
    },
    {
     "name": "stdout",
     "output_type": "stream",
     "text": [
      "Model Number: 343 with model VAR in generation 3 of 4\n",
      "Model Number: 344 with model RollingRegression in generation 3 of 4\n"
     ]
    },
    {
     "name": "stderr",
     "output_type": "stream",
     "text": [
      "/Users/nslali/anaconda3/envs/forecasting/lib/python3.8/site-packages/sklearn/svm/_classes.py:32: FutureWarning: The default value of `dual` will change from `True` to `'auto'` in 1.5. Set the value of `dual` explicitly to suppress the warning.\n",
      "  warnings.warn(\n",
      "/Users/nslali/anaconda3/envs/forecasting/lib/python3.8/site-packages/sklearn/svm/_classes.py:32: FutureWarning: The default value of `dual` will change from `True` to `'auto'` in 1.5. Set the value of `dual` explicitly to suppress the warning.\n",
      "  warnings.warn(\n",
      "/Users/nslali/anaconda3/envs/forecasting/lib/python3.8/site-packages/sklearn/svm/_classes.py:32: FutureWarning: The default value of `dual` will change from `True` to `'auto'` in 1.5. Set the value of `dual` explicitly to suppress the warning.\n",
      "  warnings.warn(\n",
      "/Users/nslali/anaconda3/envs/forecasting/lib/python3.8/site-packages/sklearn/svm/_classes.py:32: FutureWarning: The default value of `dual` will change from `True` to `'auto'` in 1.5. Set the value of `dual` explicitly to suppress the warning.\n",
      "  warnings.warn(\n",
      "/Users/nslali/anaconda3/envs/forecasting/lib/python3.8/site-packages/sklearn/svm/_classes.py:32: FutureWarning: The default value of `dual` will change from `True` to `'auto'` in 1.5. Set the value of `dual` explicitly to suppress the warning.\n",
      "  warnings.warn(\n",
      "/Users/nslali/anaconda3/envs/forecasting/lib/python3.8/site-packages/sklearn/svm/_base.py:1250: ConvergenceWarning: Liblinear failed to converge, increase the number of iterations.\n",
      "  warnings.warn(\n",
      "/Users/nslali/anaconda3/envs/forecasting/lib/python3.8/site-packages/sklearn/svm/_classes.py:32: FutureWarning: The default value of `dual` will change from `True` to `'auto'` in 1.5. Set the value of `dual` explicitly to suppress the warning.\n",
      "  warnings.warn(\n",
      "/Users/nslali/anaconda3/envs/forecasting/lib/python3.8/site-packages/sklearn/svm/_base.py:1250: ConvergenceWarning: Liblinear failed to converge, increase the number of iterations.\n",
      "  warnings.warn(\n",
      "/Users/nslali/anaconda3/envs/forecasting/lib/python3.8/site-packages/sklearn/svm/_classes.py:32: FutureWarning: The default value of `dual` will change from `True` to `'auto'` in 1.5. Set the value of `dual` explicitly to suppress the warning.\n",
      "  warnings.warn(\n",
      "/Users/nslali/anaconda3/envs/forecasting/lib/python3.8/site-packages/sklearn/svm/_classes.py:32: FutureWarning: The default value of `dual` will change from `True` to `'auto'` in 1.5. Set the value of `dual` explicitly to suppress the warning.\n",
      "  warnings.warn(\n",
      "/Users/nslali/anaconda3/envs/forecasting/lib/python3.8/site-packages/sklearn/svm/_base.py:1250: ConvergenceWarning: Liblinear failed to converge, increase the number of iterations.\n",
      "  warnings.warn(\n",
      "/Users/nslali/anaconda3/envs/forecasting/lib/python3.8/site-packages/sklearn/svm/_classes.py:32: FutureWarning: The default value of `dual` will change from `True` to `'auto'` in 1.5. Set the value of `dual` explicitly to suppress the warning.\n",
      "  warnings.warn(\n",
      "/Users/nslali/anaconda3/envs/forecasting/lib/python3.8/site-packages/sklearn/svm/_base.py:1250: ConvergenceWarning: Liblinear failed to converge, increase the number of iterations.\n",
      "  warnings.warn(\n",
      "/Users/nslali/anaconda3/envs/forecasting/lib/python3.8/site-packages/sklearn/svm/_base.py:1250: ConvergenceWarning: Liblinear failed to converge, increase the number of iterations.\n",
      "  warnings.warn(\n",
      "/Users/nslali/anaconda3/envs/forecasting/lib/python3.8/site-packages/sklearn/svm/_base.py:1250: ConvergenceWarning: Liblinear failed to converge, increase the number of iterations.\n",
      "  warnings.warn(\n",
      "/Users/nslali/anaconda3/envs/forecasting/lib/python3.8/site-packages/sklearn/svm/_base.py:1250: ConvergenceWarning: Liblinear failed to converge, increase the number of iterations.\n",
      "  warnings.warn(\n",
      "/Users/nslali/anaconda3/envs/forecasting/lib/python3.8/site-packages/sklearn/svm/_base.py:1250: ConvergenceWarning: Liblinear failed to converge, increase the number of iterations.\n",
      "  warnings.warn(\n",
      "/Users/nslali/anaconda3/envs/forecasting/lib/python3.8/site-packages/sklearn/svm/_base.py:1250: ConvergenceWarning: Liblinear failed to converge, increase the number of iterations.\n",
      "  warnings.warn(\n",
      "/Users/nslali/anaconda3/envs/forecasting/lib/python3.8/site-packages/sklearn/base.py:465: UserWarning: X does not have valid feature names, but LinearSVR was fitted with feature names\n",
      "  warnings.warn(\n",
      "/Users/nslali/anaconda3/envs/forecasting/lib/python3.8/site-packages/sklearn/base.py:465: UserWarning: X does not have valid feature names, but LinearSVR was fitted with feature names\n",
      "  warnings.warn(\n",
      "/Users/nslali/anaconda3/envs/forecasting/lib/python3.8/site-packages/sklearn/base.py:465: UserWarning: X does not have valid feature names, but LinearSVR was fitted with feature names\n",
      "  warnings.warn(\n",
      "/Users/nslali/anaconda3/envs/forecasting/lib/python3.8/site-packages/sklearn/base.py:465: UserWarning: X does not have valid feature names, but LinearSVR was fitted with feature names\n",
      "  warnings.warn(\n",
      "/Users/nslali/anaconda3/envs/forecasting/lib/python3.8/site-packages/sklearn/base.py:465: UserWarning: X does not have valid feature names, but LinearSVR was fitted with feature names\n",
      "  warnings.warn(\n",
      "/Users/nslali/anaconda3/envs/forecasting/lib/python3.8/site-packages/sklearn/base.py:465: UserWarning: X does not have valid feature names, but LinearSVR was fitted with feature names\n",
      "  warnings.warn(\n",
      "/Users/nslali/anaconda3/envs/forecasting/lib/python3.8/site-packages/sklearn/base.py:465: UserWarning: X does not have valid feature names, but LinearSVR was fitted with feature names\n",
      "  warnings.warn(\n",
      "/Users/nslali/anaconda3/envs/forecasting/lib/python3.8/site-packages/sklearn/base.py:465: UserWarning: X does not have valid feature names, but LinearSVR was fitted with feature names\n",
      "  warnings.warn(\n",
      "/Users/nslali/anaconda3/envs/forecasting/lib/python3.8/site-packages/sklearn/base.py:465: UserWarning: X does not have valid feature names, but LinearSVR was fitted with feature names\n",
      "  warnings.warn(\n",
      "/Users/nslali/anaconda3/envs/forecasting/lib/python3.8/site-packages/sklearn/base.py:465: UserWarning: X does not have valid feature names, but LinearSVR was fitted with feature names\n",
      "  warnings.warn(\n",
      "/Users/nslali/anaconda3/envs/forecasting/lib/python3.8/site-packages/sklearn/base.py:465: UserWarning: X does not have valid feature names, but LinearSVR was fitted with feature names\n",
      "  warnings.warn(\n",
      "/Users/nslali/anaconda3/envs/forecasting/lib/python3.8/site-packages/sklearn/base.py:465: UserWarning: X does not have valid feature names, but LinearSVR was fitted with feature names\n",
      "  warnings.warn(\n",
      "/Users/nslali/anaconda3/envs/forecasting/lib/python3.8/site-packages/sklearn/base.py:465: UserWarning: X does not have valid feature names, but LinearSVR was fitted with feature names\n",
      "  warnings.warn(\n",
      "/Users/nslali/anaconda3/envs/forecasting/lib/python3.8/site-packages/sklearn/base.py:465: UserWarning: X does not have valid feature names, but LinearSVR was fitted with feature names\n",
      "  warnings.warn(\n",
      "/Users/nslali/anaconda3/envs/forecasting/lib/python3.8/site-packages/sklearn/base.py:465: UserWarning: X does not have valid feature names, but LinearSVR was fitted with feature names\n",
      "  warnings.warn(\n",
      "/Users/nslali/anaconda3/envs/forecasting/lib/python3.8/site-packages/sklearn/base.py:465: UserWarning: X does not have valid feature names, but LinearSVR was fitted with feature names\n",
      "  warnings.warn(\n",
      "/Users/nslali/anaconda3/envs/forecasting/lib/python3.8/site-packages/sklearn/base.py:465: UserWarning: X does not have valid feature names, but LinearSVR was fitted with feature names\n",
      "  warnings.warn(\n",
      "/Users/nslali/anaconda3/envs/forecasting/lib/python3.8/site-packages/sklearn/base.py:465: UserWarning: X does not have valid feature names, but LinearSVR was fitted with feature names\n",
      "  warnings.warn(\n",
      "/Users/nslali/anaconda3/envs/forecasting/lib/python3.8/site-packages/sklearn/base.py:465: UserWarning: X does not have valid feature names, but LinearSVR was fitted with feature names\n",
      "  warnings.warn(\n",
      "/Users/nslali/anaconda3/envs/forecasting/lib/python3.8/site-packages/sklearn/base.py:465: UserWarning: X does not have valid feature names, but LinearSVR was fitted with feature names\n",
      "  warnings.warn(\n",
      "/Users/nslali/anaconda3/envs/forecasting/lib/python3.8/site-packages/sklearn/base.py:465: UserWarning: X does not have valid feature names, but LinearSVR was fitted with feature names\n",
      "  warnings.warn(\n",
      "/Users/nslali/anaconda3/envs/forecasting/lib/python3.8/site-packages/sklearn/base.py:465: UserWarning: X does not have valid feature names, but LinearSVR was fitted with feature names\n",
      "  warnings.warn(\n",
      "/Users/nslali/anaconda3/envs/forecasting/lib/python3.8/site-packages/sklearn/base.py:465: UserWarning: X does not have valid feature names, but LinearSVR was fitted with feature names\n",
      "  warnings.warn(\n",
      "/Users/nslali/anaconda3/envs/forecasting/lib/python3.8/site-packages/sklearn/base.py:465: UserWarning: X does not have valid feature names, but LinearSVR was fitted with feature names\n",
      "  warnings.warn(\n",
      "/Users/nslali/anaconda3/envs/forecasting/lib/python3.8/site-packages/sklearn/base.py:465: UserWarning: X does not have valid feature names, but LinearSVR was fitted with feature names\n",
      "  warnings.warn(\n",
      "/Users/nslali/anaconda3/envs/forecasting/lib/python3.8/site-packages/sklearn/base.py:465: UserWarning: X does not have valid feature names, but LinearSVR was fitted with feature names\n",
      "  warnings.warn(\n",
      "/Users/nslali/anaconda3/envs/forecasting/lib/python3.8/site-packages/sklearn/base.py:465: UserWarning: X does not have valid feature names, but LinearSVR was fitted with feature names\n",
      "  warnings.warn(\n",
      "/Users/nslali/anaconda3/envs/forecasting/lib/python3.8/site-packages/sklearn/base.py:465: UserWarning: X does not have valid feature names, but LinearSVR was fitted with feature names\n",
      "  warnings.warn(\n",
      "/Users/nslali/anaconda3/envs/forecasting/lib/python3.8/site-packages/sklearn/base.py:465: UserWarning: X does not have valid feature names, but LinearSVR was fitted with feature names\n",
      "  warnings.warn(\n",
      "/Users/nslali/anaconda3/envs/forecasting/lib/python3.8/site-packages/sklearn/base.py:465: UserWarning: X does not have valid feature names, but LinearSVR was fitted with feature names\n",
      "  warnings.warn(\n",
      "/Users/nslali/anaconda3/envs/forecasting/lib/python3.8/site-packages/sklearn/base.py:465: UserWarning: X does not have valid feature names, but LinearSVR was fitted with feature names\n",
      "  warnings.warn(\n",
      "/Users/nslali/anaconda3/envs/forecasting/lib/python3.8/site-packages/sklearn/base.py:465: UserWarning: X does not have valid feature names, but LinearSVR was fitted with feature names\n",
      "  warnings.warn(\n",
      "/Users/nslali/anaconda3/envs/forecasting/lib/python3.8/site-packages/sklearn/base.py:465: UserWarning: X does not have valid feature names, but LinearSVR was fitted with feature names\n",
      "  warnings.warn(\n",
      "/Users/nslali/anaconda3/envs/forecasting/lib/python3.8/site-packages/sklearn/base.py:465: UserWarning: X does not have valid feature names, but LinearSVR was fitted with feature names\n",
      "  warnings.warn(\n",
      "/Users/nslali/anaconda3/envs/forecasting/lib/python3.8/site-packages/sklearn/base.py:465: UserWarning: X does not have valid feature names, but LinearSVR was fitted with feature names\n",
      "  warnings.warn(\n",
      "/Users/nslali/anaconda3/envs/forecasting/lib/python3.8/site-packages/sklearn/base.py:465: UserWarning: X does not have valid feature names, but LinearSVR was fitted with feature names\n",
      "  warnings.warn(\n",
      "/Users/nslali/anaconda3/envs/forecasting/lib/python3.8/site-packages/sklearn/base.py:465: UserWarning: X does not have valid feature names, but LinearSVR was fitted with feature names\n",
      "  warnings.warn(\n",
      "/Users/nslali/anaconda3/envs/forecasting/lib/python3.8/site-packages/sklearn/base.py:465: UserWarning: X does not have valid feature names, but LinearSVR was fitted with feature names\n",
      "  warnings.warn(\n",
      "/Users/nslali/anaconda3/envs/forecasting/lib/python3.8/site-packages/sklearn/base.py:465: UserWarning: X does not have valid feature names, but LinearSVR was fitted with feature names\n",
      "  warnings.warn(\n",
      "/Users/nslali/anaconda3/envs/forecasting/lib/python3.8/site-packages/sklearn/base.py:465: UserWarning: X does not have valid feature names, but LinearSVR was fitted with feature names\n",
      "  warnings.warn(\n",
      "/Users/nslali/anaconda3/envs/forecasting/lib/python3.8/site-packages/sklearn/base.py:465: UserWarning: X does not have valid feature names, but LinearSVR was fitted with feature names\n",
      "  warnings.warn(\n",
      "/Users/nslali/anaconda3/envs/forecasting/lib/python3.8/site-packages/sklearn/base.py:465: UserWarning: X does not have valid feature names, but LinearSVR was fitted with feature names\n",
      "  warnings.warn(\n",
      "/Users/nslali/anaconda3/envs/forecasting/lib/python3.8/site-packages/sklearn/base.py:465: UserWarning: X does not have valid feature names, but LinearSVR was fitted with feature names\n",
      "  warnings.warn(\n",
      "/Users/nslali/anaconda3/envs/forecasting/lib/python3.8/site-packages/sklearn/base.py:465: UserWarning: X does not have valid feature names, but LinearSVR was fitted with feature names\n",
      "  warnings.warn(\n",
      "/Users/nslali/anaconda3/envs/forecasting/lib/python3.8/site-packages/sklearn/base.py:465: UserWarning: X does not have valid feature names, but LinearSVR was fitted with feature names\n",
      "  warnings.warn(\n",
      "/Users/nslali/anaconda3/envs/forecasting/lib/python3.8/site-packages/sklearn/base.py:465: UserWarning: X does not have valid feature names, but LinearSVR was fitted with feature names\n",
      "  warnings.warn(\n",
      "/Users/nslali/anaconda3/envs/forecasting/lib/python3.8/site-packages/sklearn/base.py:465: UserWarning: X does not have valid feature names, but LinearSVR was fitted with feature names\n",
      "  warnings.warn(\n",
      "/Users/nslali/anaconda3/envs/forecasting/lib/python3.8/site-packages/sklearn/base.py:465: UserWarning: X does not have valid feature names, but LinearSVR was fitted with feature names\n",
      "  warnings.warn(\n",
      "/Users/nslali/anaconda3/envs/forecasting/lib/python3.8/site-packages/sklearn/base.py:465: UserWarning: X does not have valid feature names, but LinearSVR was fitted with feature names\n",
      "  warnings.warn(\n",
      "/Users/nslali/anaconda3/envs/forecasting/lib/python3.8/site-packages/sklearn/base.py:465: UserWarning: X does not have valid feature names, but LinearSVR was fitted with feature names\n",
      "  warnings.warn(\n",
      "/Users/nslali/anaconda3/envs/forecasting/lib/python3.8/site-packages/sklearn/base.py:465: UserWarning: X does not have valid feature names, but LinearSVR was fitted with feature names\n",
      "  warnings.warn(\n",
      "/Users/nslali/anaconda3/envs/forecasting/lib/python3.8/site-packages/sklearn/base.py:465: UserWarning: X does not have valid feature names, but LinearSVR was fitted with feature names\n",
      "  warnings.warn(\n",
      "/Users/nslali/anaconda3/envs/forecasting/lib/python3.8/site-packages/sklearn/base.py:465: UserWarning: X does not have valid feature names, but LinearSVR was fitted with feature names\n",
      "  warnings.warn(\n",
      "/Users/nslali/anaconda3/envs/forecasting/lib/python3.8/site-packages/sklearn/base.py:465: UserWarning: X does not have valid feature names, but LinearSVR was fitted with feature names\n",
      "  warnings.warn(\n"
     ]
    },
    {
     "name": "stdout",
     "output_type": "stream",
     "text": [
      "Model Number: 345 with model RRVAR in generation 3 of 4\n",
      "Model Number: 346 with model NVAR in generation 3 of 4\n",
      "Model Number: 347 with model VECM in generation 3 of 4\n",
      "Model Number: 348 with model VAR in generation 3 of 4\n",
      "Model Number: 349 with model MultivariateMotif in generation 3 of 4\n",
      "Model Number: 350 with model MAR in generation 3 of 4\n",
      "Model Number: 351 with model NVAR in generation 3 of 4\n",
      "Model Number: 352 with model MAR in generation 3 of 4\n",
      "Model Number: 353 with model LATC in generation 3 of 4\n",
      "Model Number: 354 with model MultivariateMotif in generation 3 of 4\n",
      "Model Number: 355 with model MAR in generation 3 of 4\n",
      "Model Number: 356 with model NVAR in generation 3 of 4\n",
      "Model Number: 357 with model Cassandra in generation 3 of 4\n",
      "Model Number: 358 with model MultivariateRegression in generation 3 of 4\n",
      "Model Number: 359 with model VECM in generation 3 of 4\n",
      "Model Number: 360 with model SectionalMotif in generation 3 of 4\n",
      "Model Number: 361 with model VECM in generation 3 of 4\n",
      "Model Number: 362 with model MAR in generation 3 of 4\n",
      "Model Number: 363 with model WindowRegression in generation 3 of 4\n",
      "Template Eval Error: Exception('Transformer DatepartRegression failed on inverse') in model 363 in generation 3: WindowRegression\n",
      "Model Number: 364 with model SectionalMotif in generation 3 of 4\n",
      "Template Eval Error: ValueError(\"regression_type=='User' but no future_regressor supplied\") in model 364 in generation 3: SectionalMotif\n",
      "Model Number: 365 with model WindowRegression in generation 3 of 4\n",
      "Model Number: 366 with model RRVAR in generation 3 of 4\n",
      "Model Number: 367 with model MultivariateMotif in generation 3 of 4\n",
      "Model Number: 368 with model MultivariateMotif in generation 3 of 4\n"
     ]
    },
    {
     "name": "stderr",
     "output_type": "stream",
     "text": [
      "/Users/nslali/anaconda3/envs/forecasting/lib/python3.8/site-packages/sklearn/neural_network/_multilayer_perceptron.py:546: ConvergenceWarning: lbfgs failed to converge (status=1):\n",
      "STOP: TOTAL NO. of ITERATIONS REACHED LIMIT.\n",
      "\n",
      "Increase the number of iterations (max_iter) or scale the data as shown in:\n",
      "    https://scikit-learn.org/stable/modules/preprocessing.html\n",
      "  self.n_iter_ = _check_optimize_result(\"lbfgs\", opt_res, self.max_iter)\n"
     ]
    },
    {
     "name": "stdout",
     "output_type": "stream",
     "text": [
      "Model Number: 369 with model VAR in generation 3 of 4\n",
      "Model Number: 370 with model MAR in generation 3 of 4\n",
      "Model Number: 371 with model SectionalMotif in generation 3 of 4\n",
      "Model Number: 372 with model VAR in generation 3 of 4\n",
      "Model Number: 373 with model MultivariateMotif in generation 3 of 4\n",
      "Model Number: 374 with model NVAR in generation 3 of 4\n",
      "Model Number: 375 with model DynamicFactorMQ in generation 3 of 4\n"
     ]
    },
    {
     "name": "stderr",
     "output_type": "stream",
     "text": [
      "/Users/nslali/anaconda3/envs/forecasting/lib/python3.8/site-packages/statsmodels/tsa/statespace/dynamic_factor_mq.py:1950: UserWarning: Non-stationary starting factor autoregressive parameters found for factor block ('0.1', '0.2'). Using zeros as starting parameters.\n",
      "  warn('Non-stationary starting factor autoregressive'\n"
     ]
    },
    {
     "name": "stdout",
     "output_type": "stream",
     "text": [
      "Model Number: 376 with model LATC in generation 3 of 4\n",
      "Model Number: 377 with model DynamicFactorMQ in generation 3 of 4\n",
      "Model Number: 378 with model LATC in generation 3 of 4\n",
      "Model Number: 379 with model DynamicFactorMQ in generation 3 of 4\n",
      "Model Number: 380 with model NVAR in generation 3 of 4\n",
      "Model Number: 381 with model RollingRegression in generation 3 of 4\n",
      "Template Eval Error: ValueError('future_regressor not supplied, necessary for regression_type') in model 381 in generation 3: RollingRegression\n",
      "Model Number: 382 with model SectionalMotif in generation 3 of 4\n",
      "Model Number: 383 with model MultivariateRegression in generation 3 of 4\n",
      "Model Number: 384 with model SectionalMotif in generation 3 of 4\n",
      "Model Number: 385 with model NVAR in generation 3 of 4\n",
      "Model Number: 386 with model MultivariateRegression in generation 3 of 4\n",
      "Template Eval Error: ValueError(\"regression_type='User' but not future_regressor supplied.\") in model 386 in generation 3: MultivariateRegression\n",
      "Model Number: 387 with model MultivariateMotif in generation 3 of 4\n",
      "Model Number: 388 with model VAR in generation 3 of 4\n",
      "Model Number: 389 with model LATC in generation 3 of 4\n",
      "Model Number: 390 with model DynamicFactorMQ in generation 3 of 4\n",
      "Model Number: 391 with model VAR in generation 3 of 4\n",
      "Model Number: 392 with model LATC in generation 3 of 4\n",
      "Model Number: 393 with model VECM in generation 3 of 4\n",
      "Model Number: 394 with model LATC in generation 3 of 4\n",
      "Model Number: 395 with model DynamicFactorMQ in generation 3 of 4\n",
      "Model Number: 396 with model LATC in generation 3 of 4\n",
      "Model Number: 397 with model VAR in generation 3 of 4\n",
      "Model Number: 398 with model MultivariateRegression in generation 3 of 4\n",
      "Model Number: 399 with model LATC in generation 3 of 4\n",
      "Model Number: 400 with model MultivariateRegression in generation 3 of 4\n",
      "Model Number: 401 with model VAR in generation 3 of 4\n",
      "Model Number: 402 with model NVAR in generation 3 of 4\n",
      "Model Number: 403 with model Cassandra in generation 3 of 4\n"
     ]
    },
    {
     "name": "stderr",
     "output_type": "stream",
     "text": [
      "/Users/nslali/anaconda3/envs/forecasting/lib/python3.8/site-packages/numpy/lib/function_base.py:2854: RuntimeWarning: invalid value encountered in divide\n",
      "  c /= stddev[:, None]\n",
      "/Users/nslali/anaconda3/envs/forecasting/lib/python3.8/site-packages/numpy/lib/function_base.py:2855: RuntimeWarning: invalid value encountered in divide\n",
      "  c /= stddev[None, :]\n"
     ]
    },
    {
     "name": "stdout",
     "output_type": "stream",
     "text": [
      "Model Number: 404 with model NVAR in generation 3 of 4\n",
      "Model Number: 405 with model Cassandra in generation 3 of 4\n",
      "Model Number: 406 with model NVAR in generation 3 of 4\n",
      "Model Number: 407 with model VAR in generation 3 of 4\n",
      "Model Number: 408 with model VECM in generation 3 of 4\n",
      "Model Number: 409 with model RollingRegression in generation 3 of 4\n"
     ]
    },
    {
     "name": "stderr",
     "output_type": "stream",
     "text": [
      "/Users/nslali/anaconda3/envs/forecasting/lib/python3.8/site-packages/numpy/lib/function_base.py:2854: RuntimeWarning: invalid value encountered in divide\n",
      "  c /= stddev[:, None]\n",
      "/Users/nslali/anaconda3/envs/forecasting/lib/python3.8/site-packages/numpy/lib/function_base.py:2855: RuntimeWarning: invalid value encountered in divide\n",
      "  c /= stddev[None, :]\n",
      "/Users/nslali/anaconda3/envs/forecasting/lib/python3.8/site-packages/sklearn/base.py:465: UserWarning: X does not have valid feature names, but AdaBoostRegressor was fitted with feature names\n",
      "  warnings.warn(\n",
      "/Users/nslali/anaconda3/envs/forecasting/lib/python3.8/site-packages/sklearn/base.py:465: UserWarning: X does not have valid feature names, but AdaBoostRegressor was fitted with feature names\n",
      "  warnings.warn(\n",
      "/Users/nslali/anaconda3/envs/forecasting/lib/python3.8/site-packages/sklearn/base.py:465: UserWarning: X does not have valid feature names, but AdaBoostRegressor was fitted with feature names\n",
      "  warnings.warn(\n",
      "/Users/nslali/anaconda3/envs/forecasting/lib/python3.8/site-packages/sklearn/base.py:465: UserWarning: X does not have valid feature names, but AdaBoostRegressor was fitted with feature names\n",
      "  warnings.warn(\n",
      "/Users/nslali/anaconda3/envs/forecasting/lib/python3.8/site-packages/sklearn/base.py:465: UserWarning: X does not have valid feature names, but AdaBoostRegressor was fitted with feature names\n",
      "  warnings.warn(\n",
      "/Users/nslali/anaconda3/envs/forecasting/lib/python3.8/site-packages/sklearn/base.py:465: UserWarning: X does not have valid feature names, but AdaBoostRegressor was fitted with feature names\n",
      "  warnings.warn(\n",
      "/Users/nslali/anaconda3/envs/forecasting/lib/python3.8/site-packages/sklearn/base.py:465: UserWarning: X does not have valid feature names, but AdaBoostRegressor was fitted with feature names\n",
      "  warnings.warn(\n",
      "/Users/nslali/anaconda3/envs/forecasting/lib/python3.8/site-packages/sklearn/base.py:465: UserWarning: X does not have valid feature names, but AdaBoostRegressor was fitted with feature names\n",
      "  warnings.warn(\n",
      "/Users/nslali/anaconda3/envs/forecasting/lib/python3.8/site-packages/sklearn/base.py:465: UserWarning: X does not have valid feature names, but AdaBoostRegressor was fitted with feature names\n",
      "  warnings.warn(\n",
      "/Users/nslali/anaconda3/envs/forecasting/lib/python3.8/site-packages/sklearn/base.py:465: UserWarning: X does not have valid feature names, but AdaBoostRegressor was fitted with feature names\n",
      "  warnings.warn(\n",
      "/Users/nslali/anaconda3/envs/forecasting/lib/python3.8/site-packages/sklearn/base.py:465: UserWarning: X does not have valid feature names, but AdaBoostRegressor was fitted with feature names\n",
      "  warnings.warn(\n",
      "/Users/nslali/anaconda3/envs/forecasting/lib/python3.8/site-packages/sklearn/base.py:465: UserWarning: X does not have valid feature names, but AdaBoostRegressor was fitted with feature names\n",
      "  warnings.warn(\n",
      "/Users/nslali/anaconda3/envs/forecasting/lib/python3.8/site-packages/sklearn/base.py:465: UserWarning: X does not have valid feature names, but AdaBoostRegressor was fitted with feature names\n",
      "  warnings.warn(\n",
      "/Users/nslali/anaconda3/envs/forecasting/lib/python3.8/site-packages/sklearn/base.py:465: UserWarning: X does not have valid feature names, but AdaBoostRegressor was fitted with feature names\n",
      "  warnings.warn(\n",
      "/Users/nslali/anaconda3/envs/forecasting/lib/python3.8/site-packages/sklearn/base.py:465: UserWarning: X does not have valid feature names, but AdaBoostRegressor was fitted with feature names\n",
      "  warnings.warn(\n",
      "/Users/nslali/anaconda3/envs/forecasting/lib/python3.8/site-packages/sklearn/base.py:465: UserWarning: X does not have valid feature names, but AdaBoostRegressor was fitted with feature names\n",
      "  warnings.warn(\n",
      "/Users/nslali/anaconda3/envs/forecasting/lib/python3.8/site-packages/sklearn/base.py:465: UserWarning: X does not have valid feature names, but AdaBoostRegressor was fitted with feature names\n",
      "  warnings.warn(\n",
      "/Users/nslali/anaconda3/envs/forecasting/lib/python3.8/site-packages/sklearn/base.py:465: UserWarning: X does not have valid feature names, but AdaBoostRegressor was fitted with feature names\n",
      "  warnings.warn(\n",
      "/Users/nslali/anaconda3/envs/forecasting/lib/python3.8/site-packages/sklearn/base.py:465: UserWarning: X does not have valid feature names, but AdaBoostRegressor was fitted with feature names\n",
      "  warnings.warn(\n",
      "/Users/nslali/anaconda3/envs/forecasting/lib/python3.8/site-packages/sklearn/base.py:465: UserWarning: X does not have valid feature names, but AdaBoostRegressor was fitted with feature names\n",
      "  warnings.warn(\n",
      "/Users/nslali/anaconda3/envs/forecasting/lib/python3.8/site-packages/sklearn/base.py:465: UserWarning: X does not have valid feature names, but AdaBoostRegressor was fitted with feature names\n",
      "  warnings.warn(\n",
      "/Users/nslali/anaconda3/envs/forecasting/lib/python3.8/site-packages/sklearn/base.py:465: UserWarning: X does not have valid feature names, but AdaBoostRegressor was fitted with feature names\n",
      "  warnings.warn(\n",
      "/Users/nslali/anaconda3/envs/forecasting/lib/python3.8/site-packages/sklearn/base.py:465: UserWarning: X does not have valid feature names, but AdaBoostRegressor was fitted with feature names\n",
      "  warnings.warn(\n",
      "/Users/nslali/anaconda3/envs/forecasting/lib/python3.8/site-packages/sklearn/base.py:465: UserWarning: X does not have valid feature names, but AdaBoostRegressor was fitted with feature names\n",
      "  warnings.warn(\n",
      "/Users/nslali/anaconda3/envs/forecasting/lib/python3.8/site-packages/sklearn/base.py:465: UserWarning: X does not have valid feature names, but AdaBoostRegressor was fitted with feature names\n",
      "  warnings.warn(\n",
      "/Users/nslali/anaconda3/envs/forecasting/lib/python3.8/site-packages/sklearn/base.py:465: UserWarning: X does not have valid feature names, but AdaBoostRegressor was fitted with feature names\n",
      "  warnings.warn(\n",
      "/Users/nslali/anaconda3/envs/forecasting/lib/python3.8/site-packages/sklearn/base.py:465: UserWarning: X does not have valid feature names, but AdaBoostRegressor was fitted with feature names\n",
      "  warnings.warn(\n",
      "/Users/nslali/anaconda3/envs/forecasting/lib/python3.8/site-packages/sklearn/base.py:465: UserWarning: X does not have valid feature names, but AdaBoostRegressor was fitted with feature names\n",
      "  warnings.warn(\n",
      "/Users/nslali/anaconda3/envs/forecasting/lib/python3.8/site-packages/sklearn/base.py:465: UserWarning: X does not have valid feature names, but AdaBoostRegressor was fitted with feature names\n",
      "  warnings.warn(\n",
      "/Users/nslali/anaconda3/envs/forecasting/lib/python3.8/site-packages/sklearn/base.py:465: UserWarning: X does not have valid feature names, but AdaBoostRegressor was fitted with feature names\n",
      "  warnings.warn(\n",
      "/Users/nslali/anaconda3/envs/forecasting/lib/python3.8/site-packages/sklearn/base.py:465: UserWarning: X does not have valid feature names, but AdaBoostRegressor was fitted with feature names\n",
      "  warnings.warn(\n",
      "/Users/nslali/anaconda3/envs/forecasting/lib/python3.8/site-packages/sklearn/base.py:465: UserWarning: X does not have valid feature names, but AdaBoostRegressor was fitted with feature names\n",
      "  warnings.warn(\n",
      "/Users/nslali/anaconda3/envs/forecasting/lib/python3.8/site-packages/sklearn/base.py:465: UserWarning: X does not have valid feature names, but AdaBoostRegressor was fitted with feature names\n",
      "  warnings.warn(\n",
      "/Users/nslali/anaconda3/envs/forecasting/lib/python3.8/site-packages/sklearn/base.py:465: UserWarning: X does not have valid feature names, but AdaBoostRegressor was fitted with feature names\n",
      "  warnings.warn(\n",
      "/Users/nslali/anaconda3/envs/forecasting/lib/python3.8/site-packages/sklearn/base.py:465: UserWarning: X does not have valid feature names, but AdaBoostRegressor was fitted with feature names\n",
      "  warnings.warn(\n",
      "/Users/nslali/anaconda3/envs/forecasting/lib/python3.8/site-packages/sklearn/base.py:465: UserWarning: X does not have valid feature names, but AdaBoostRegressor was fitted with feature names\n",
      "  warnings.warn(\n",
      "/Users/nslali/anaconda3/envs/forecasting/lib/python3.8/site-packages/sklearn/base.py:465: UserWarning: X does not have valid feature names, but AdaBoostRegressor was fitted with feature names\n",
      "  warnings.warn(\n",
      "/Users/nslali/anaconda3/envs/forecasting/lib/python3.8/site-packages/sklearn/base.py:465: UserWarning: X does not have valid feature names, but AdaBoostRegressor was fitted with feature names\n",
      "  warnings.warn(\n",
      "/Users/nslali/anaconda3/envs/forecasting/lib/python3.8/site-packages/sklearn/base.py:465: UserWarning: X does not have valid feature names, but AdaBoostRegressor was fitted with feature names\n",
      "  warnings.warn(\n",
      "/Users/nslali/anaconda3/envs/forecasting/lib/python3.8/site-packages/sklearn/base.py:465: UserWarning: X does not have valid feature names, but AdaBoostRegressor was fitted with feature names\n",
      "  warnings.warn(\n",
      "/Users/nslali/anaconda3/envs/forecasting/lib/python3.8/site-packages/sklearn/base.py:465: UserWarning: X does not have valid feature names, but AdaBoostRegressor was fitted with feature names\n",
      "  warnings.warn(\n",
      "/Users/nslali/anaconda3/envs/forecasting/lib/python3.8/site-packages/sklearn/base.py:465: UserWarning: X does not have valid feature names, but AdaBoostRegressor was fitted with feature names\n",
      "  warnings.warn(\n",
      "/Users/nslali/anaconda3/envs/forecasting/lib/python3.8/site-packages/sklearn/base.py:465: UserWarning: X does not have valid feature names, but AdaBoostRegressor was fitted with feature names\n",
      "  warnings.warn(\n",
      "/Users/nslali/anaconda3/envs/forecasting/lib/python3.8/site-packages/sklearn/base.py:465: UserWarning: X does not have valid feature names, but AdaBoostRegressor was fitted with feature names\n",
      "  warnings.warn(\n",
      "/Users/nslali/anaconda3/envs/forecasting/lib/python3.8/site-packages/sklearn/base.py:465: UserWarning: X does not have valid feature names, but AdaBoostRegressor was fitted with feature names\n",
      "  warnings.warn(\n",
      "/Users/nslali/anaconda3/envs/forecasting/lib/python3.8/site-packages/sklearn/base.py:465: UserWarning: X does not have valid feature names, but AdaBoostRegressor was fitted with feature names\n",
      "  warnings.warn(\n",
      "/Users/nslali/anaconda3/envs/forecasting/lib/python3.8/site-packages/sklearn/base.py:465: UserWarning: X does not have valid feature names, but AdaBoostRegressor was fitted with feature names\n",
      "  warnings.warn(\n",
      "/Users/nslali/anaconda3/envs/forecasting/lib/python3.8/site-packages/sklearn/base.py:465: UserWarning: X does not have valid feature names, but AdaBoostRegressor was fitted with feature names\n",
      "  warnings.warn(\n",
      "/Users/nslali/anaconda3/envs/forecasting/lib/python3.8/site-packages/sklearn/base.py:465: UserWarning: X does not have valid feature names, but AdaBoostRegressor was fitted with feature names\n",
      "  warnings.warn(\n",
      "/Users/nslali/anaconda3/envs/forecasting/lib/python3.8/site-packages/sklearn/base.py:465: UserWarning: X does not have valid feature names, but AdaBoostRegressor was fitted with feature names\n",
      "  warnings.warn(\n",
      "/Users/nslali/anaconda3/envs/forecasting/lib/python3.8/site-packages/sklearn/base.py:465: UserWarning: X does not have valid feature names, but AdaBoostRegressor was fitted with feature names\n",
      "  warnings.warn(\n",
      "/Users/nslali/anaconda3/envs/forecasting/lib/python3.8/site-packages/sklearn/base.py:465: UserWarning: X does not have valid feature names, but AdaBoostRegressor was fitted with feature names\n",
      "  warnings.warn(\n",
      "/Users/nslali/anaconda3/envs/forecasting/lib/python3.8/site-packages/sklearn/base.py:465: UserWarning: X does not have valid feature names, but AdaBoostRegressor was fitted with feature names\n",
      "  warnings.warn(\n",
      "/Users/nslali/anaconda3/envs/forecasting/lib/python3.8/site-packages/sklearn/base.py:465: UserWarning: X does not have valid feature names, but AdaBoostRegressor was fitted with feature names\n",
      "  warnings.warn(\n"
     ]
    },
    {
     "name": "stdout",
     "output_type": "stream",
     "text": [
      "Model Number: 410 with model LATC in generation 3 of 4\n",
      "Model Number: 411 with model NVAR in generation 3 of 4\n",
      "Template Eval Error: Exception('Transformer KalmanSmoothing failed on fit') in model 411 in generation 3: NVAR\n",
      "Model Number: 412 with model MultivariateMotif in generation 3 of 4\n",
      "Model Number: 413 with model VECM in generation 3 of 4\n",
      "Model Number: 414 with model NVAR in generation 3 of 4\n",
      "Model Number: 415 with model VAR in generation 3 of 4\n",
      "Model Number: 416 with model RRVAR in generation 3 of 4\n",
      "Model Number: 417 with model VECM in generation 3 of 4\n",
      "Model Number: 418 with model RollingRegression in generation 3 of 4\n"
     ]
    },
    {
     "name": "stderr",
     "output_type": "stream",
     "text": [
      "/Users/nslali/anaconda3/envs/forecasting/lib/python3.8/site-packages/sklearn/base.py:465: UserWarning: X does not have valid feature names, but ExtraTreesRegressor was fitted with feature names\n",
      "  warnings.warn(\n",
      "/Users/nslali/anaconda3/envs/forecasting/lib/python3.8/site-packages/sklearn/base.py:465: UserWarning: X does not have valid feature names, but ExtraTreesRegressor was fitted with feature names\n",
      "  warnings.warn(\n",
      "/Users/nslali/anaconda3/envs/forecasting/lib/python3.8/site-packages/sklearn/base.py:465: UserWarning: X does not have valid feature names, but ExtraTreesRegressor was fitted with feature names\n",
      "  warnings.warn(\n",
      "/Users/nslali/anaconda3/envs/forecasting/lib/python3.8/site-packages/sklearn/base.py:465: UserWarning: X does not have valid feature names, but ExtraTreesRegressor was fitted with feature names\n",
      "  warnings.warn(\n",
      "/Users/nslali/anaconda3/envs/forecasting/lib/python3.8/site-packages/sklearn/base.py:465: UserWarning: X does not have valid feature names, but ExtraTreesRegressor was fitted with feature names\n",
      "  warnings.warn(\n",
      "/Users/nslali/anaconda3/envs/forecasting/lib/python3.8/site-packages/sklearn/base.py:465: UserWarning: X does not have valid feature names, but ExtraTreesRegressor was fitted with feature names\n",
      "  warnings.warn(\n"
     ]
    },
    {
     "name": "stdout",
     "output_type": "stream",
     "text": [
      "Model Number: 419 with model Cassandra in generation 3 of 4\n",
      "Model Number: 420 with model VAR in generation 3 of 4\n",
      "Model Number: 421 with model NVAR in generation 3 of 4\n",
      "Model Number: 422 with model SectionalMotif in generation 3 of 4\n",
      "Model Number: 423 with model MultivariateRegression in generation 3 of 4\n"
     ]
    },
    {
     "name": "stderr",
     "output_type": "stream",
     "text": [
      "/Users/nslali/anaconda3/envs/forecasting/lib/python3.8/site-packages/numpy/lib/function_base.py:2854: RuntimeWarning: invalid value encountered in divide\n",
      "  c /= stddev[:, None]\n",
      "/Users/nslali/anaconda3/envs/forecasting/lib/python3.8/site-packages/numpy/lib/function_base.py:2855: RuntimeWarning: invalid value encountered in divide\n",
      "  c /= stddev[None, :]\n"
     ]
    },
    {
     "name": "stdout",
     "output_type": "stream",
     "text": [
      "Model Number: 424 with model Cassandra in generation 3 of 4\n",
      "Template Eval Error: Exception('Transformer MinMaxScaler failed on fit') in model 424 in generation 3: Cassandra\n",
      "Model Number: 425 with model VAR in generation 3 of 4\n",
      "Model Number: 426 with model SectionalMotif in generation 3 of 4\n",
      "Model Number: 427 with model DynamicFactorMQ in generation 3 of 4\n",
      "Model Number: 428 with model MAR in generation 3 of 4\n",
      "New Generation: 4 of 4\n",
      "Model Number: 429 with model MultivariateRegression in generation 4 of 4\n",
      "Model Number: 430 with model NVAR in generation 4 of 4\n",
      "Model Number: 431 with model NVAR in generation 4 of 4\n",
      "Model Number: 432 with model Cassandra in generation 4 of 4\n",
      "Model Number: 433 with model NVAR in generation 4 of 4\n",
      "Model Number: 434 with model VAR in generation 4 of 4\n"
     ]
    },
    {
     "name": "stderr",
     "output_type": "stream",
     "text": [
      "/Users/nslali/anaconda3/envs/forecasting/lib/python3.8/site-packages/numpy/lib/function_base.py:2854: RuntimeWarning: invalid value encountered in divide\n",
      "  c /= stddev[:, None]\n",
      "/Users/nslali/anaconda3/envs/forecasting/lib/python3.8/site-packages/numpy/lib/function_base.py:2855: RuntimeWarning: invalid value encountered in divide\n",
      "  c /= stddev[None, :]\n"
     ]
    },
    {
     "name": "stdout",
     "output_type": "stream",
     "text": [
      "Model Number: 435 with model WindowRegression in generation 4 of 4\n",
      "Model Number: 436 with model NVAR in generation 4 of 4\n",
      "Model Number: 437 with model MAR in generation 4 of 4\n",
      "Model Number: 438 with model VAR in generation 4 of 4\n",
      "Model Number: 439 with model RollingRegression in generation 4 of 4\n",
      "Model Number: 440 with model Cassandra in generation 4 of 4\n"
     ]
    },
    {
     "name": "stderr",
     "output_type": "stream",
     "text": [
      "/Users/nslali/anaconda3/envs/forecasting/lib/python3.8/site-packages/sklearn/base.py:465: UserWarning: X does not have valid feature names, but MultiTaskElasticNet was fitted with feature names\n",
      "  warnings.warn(\n",
      "/Users/nslali/anaconda3/envs/forecasting/lib/python3.8/site-packages/sklearn/base.py:465: UserWarning: X does not have valid feature names, but MultiTaskElasticNet was fitted with feature names\n",
      "  warnings.warn(\n",
      "/Users/nslali/anaconda3/envs/forecasting/lib/python3.8/site-packages/sklearn/base.py:465: UserWarning: X does not have valid feature names, but MultiTaskElasticNet was fitted with feature names\n",
      "  warnings.warn(\n",
      "/Users/nslali/anaconda3/envs/forecasting/lib/python3.8/site-packages/sklearn/base.py:465: UserWarning: X does not have valid feature names, but MultiTaskElasticNet was fitted with feature names\n",
      "  warnings.warn(\n",
      "/Users/nslali/anaconda3/envs/forecasting/lib/python3.8/site-packages/sklearn/base.py:465: UserWarning: X does not have valid feature names, but MultiTaskElasticNet was fitted with feature names\n",
      "  warnings.warn(\n",
      "/Users/nslali/anaconda3/envs/forecasting/lib/python3.8/site-packages/sklearn/base.py:465: UserWarning: X does not have valid feature names, but MultiTaskElasticNet was fitted with feature names\n",
      "  warnings.warn(\n",
      "/Users/nslali/anaconda3/envs/forecasting/lib/python3.8/site-packages/numpy/lib/function_base.py:2854: RuntimeWarning: invalid value encountered in divide\n",
      "  c /= stddev[:, None]\n",
      "/Users/nslali/anaconda3/envs/forecasting/lib/python3.8/site-packages/numpy/lib/function_base.py:2855: RuntimeWarning: invalid value encountered in divide\n",
      "  c /= stddev[None, :]\n",
      "/Users/nslali/anaconda3/envs/forecasting/lib/python3.8/site-packages/sklearn/linear_model/_ridge.py:200: LinAlgWarning: Ill-conditioned matrix (rcond=1.3669e-25): result may not be accurate.\n",
      "  return linalg.solve(A, Xy, assume_a=\"pos\", overwrite_a=True).T\n"
     ]
    },
    {
     "name": "stdout",
     "output_type": "stream",
     "text": [
      "Model Number: 441 with model LATC in generation 4 of 4\n",
      "Model Number: 442 with model WindowRegression in generation 4 of 4\n",
      "Model Number: 443 with model WindowRegression in generation 4 of 4\n",
      "Model Number: 444 with model NVAR in generation 4 of 4\n",
      "Model Number: 445 with model VECM in generation 4 of 4\n",
      "Model Number: 446 with model NVAR in generation 4 of 4\n",
      "Model Number: 447 with model DynamicFactorMQ in generation 4 of 4\n",
      "Model Number: 448 with model VAR in generation 4 of 4\n",
      "Template Eval Error: ValueError('maxlags is too large for the number of observations and the number of equations. The largest model cannot be estimated.') in model 448 in generation 4: VAR\n",
      "Model Number: 449 with model NVAR in generation 4 of 4\n",
      "Model Number: 450 with model Cassandra in generation 4 of 4\n",
      "Model Number: 451 with model VAR in generation 4 of 4\n",
      "Template Eval Error: LinAlgError('3-th leading minor of the array is not positive definite') in model 451 in generation 4: VAR\n",
      "Model Number: 452 with model MultivariateRegression in generation 4 of 4\n",
      "Template Eval Error: ValueError(\"regression_type='User' but not future_regressor supplied.\") in model 452 in generation 4: MultivariateRegression\n",
      "Model Number: 453 with model LATC in generation 4 of 4\n",
      "Model Number: 454 with model LATC in generation 4 of 4\n",
      "Model Number: 455 with model MultivariateRegression in generation 4 of 4\n",
      "Model Number: 456 with model Cassandra in generation 4 of 4\n",
      "Model Number: 457 with model MultivariateRegression in generation 4 of 4\n"
     ]
    },
    {
     "name": "stderr",
     "output_type": "stream",
     "text": [
      "/Users/nslali/anaconda3/envs/forecasting/lib/python3.8/site-packages/numpy/lib/function_base.py:2854: RuntimeWarning: invalid value encountered in divide\n",
      "  c /= stddev[:, None]\n",
      "/Users/nslali/anaconda3/envs/forecasting/lib/python3.8/site-packages/numpy/lib/function_base.py:2855: RuntimeWarning: invalid value encountered in divide\n",
      "  c /= stddev[None, :]\n"
     ]
    },
    {
     "name": "stdout",
     "output_type": "stream",
     "text": [
      "Template Eval Error: ValueError('Input X contains NaN.\\nExtraTreesRegressor does not accept missing values encoded as NaN natively. For supervised learning, you might want to consider sklearn.ensemble.HistGradientBoostingClassifier and Regressor which accept missing values encoded as NaNs natively. Alternatively, it is possible to preprocess the data, for instance by using an imputer transformer in a pipeline or drop samples with missing values. See https://scikit-learn.org/stable/modules/impute.html You can find a list of all estimators that handle NaN values at the following page: https://scikit-learn.org/stable/modules/impute.html#estimators-that-handle-nan-values') in model 457 in generation 4: MultivariateRegression\n",
      "Model Number: 458 with model SectionalMotif in generation 4 of 4\n",
      "Model Number: 459 with model VAR in generation 4 of 4\n",
      "Model Number: 460 with model RRVAR in generation 4 of 4\n",
      "Model Number: 461 with model MultivariateRegression in generation 4 of 4\n",
      "Model Number: 462 with model VECM in generation 4 of 4\n",
      "Model Number: 463 with model MultivariateRegression in generation 4 of 4\n",
      "Model Number: 464 with model NVAR in generation 4 of 4\n",
      "Model Number: 465 with model RRVAR in generation 4 of 4\n",
      "Model Number: 466 with model SectionalMotif in generation 4 of 4\n",
      "Model Number: 467 with model DynamicFactorMQ in generation 4 of 4\n"
     ]
    },
    {
     "name": "stderr",
     "output_type": "stream",
     "text": [
      "/Users/nslali/anaconda3/envs/forecasting/lib/python3.8/site-packages/statsmodels/tsa/statespace/dynamic_factor_mq.py:1950: UserWarning: Non-stationary starting factor autoregressive parameters found for factor block ('0.1', '0.2'). Using zeros as starting parameters.\n",
      "  warn('Non-stationary starting factor autoregressive'\n"
     ]
    },
    {
     "name": "stdout",
     "output_type": "stream",
     "text": [
      "Model Number: 468 with model LATC in generation 4 of 4\n",
      "Model Number: 469 with model MAR in generation 4 of 4\n",
      "Model Number: 470 with model MultivariateMotif in generation 4 of 4\n",
      "Model Number: 471 with model DynamicFactorMQ in generation 4 of 4\n"
     ]
    },
    {
     "name": "stderr",
     "output_type": "stream",
     "text": [
      "/Users/nslali/anaconda3/envs/forecasting/lib/python3.8/site-packages/statsmodels/tsa/statespace/sarimax.py:966: UserWarning: Non-stationary starting autoregressive parameters found. Using zeros as starting parameters.\n",
      "  warn('Non-stationary starting autoregressive parameters'\n"
     ]
    },
    {
     "name": "stdout",
     "output_type": "stream",
     "text": [
      "Model Number: 472 with model Cassandra in generation 4 of 4\n",
      "Model Number: 473 with model MultivariateRegression in generation 4 of 4\n"
     ]
    },
    {
     "name": "stderr",
     "output_type": "stream",
     "text": [
      "/Users/nslali/anaconda3/envs/forecasting/lib/python3.8/site-packages/numpy/lib/function_base.py:2854: RuntimeWarning: invalid value encountered in divide\n",
      "  c /= stddev[:, None]\n",
      "/Users/nslali/anaconda3/envs/forecasting/lib/python3.8/site-packages/numpy/lib/function_base.py:2855: RuntimeWarning: invalid value encountered in divide\n",
      "  c /= stddev[None, :]\n"
     ]
    },
    {
     "name": "stdout",
     "output_type": "stream",
     "text": [
      "Model Number: 474 with model SectionalMotif in generation 4 of 4\n",
      "Model Number: 475 with model MAR in generation 4 of 4\n",
      "Model Number: 476 with model NVAR in generation 4 of 4\n",
      "Model Number: 477 with model NVAR in generation 4 of 4\n",
      "Model Number: 478 with model Cassandra in generation 4 of 4\n",
      "Template Eval Error: IndexError('positional indexers are out-of-bounds') in model 478 in generation 4: Cassandra\n",
      "Model Number: 479 with model SectionalMotif in generation 4 of 4\n",
      "Model Number: 480 with model VAR in generation 4 of 4\n",
      "Model Number: 481 with model RollingRegression in generation 4 of 4\n"
     ]
    },
    {
     "name": "stderr",
     "output_type": "stream",
     "text": [
      "/Users/nslali/anaconda3/envs/forecasting/lib/python3.8/site-packages/sklearn/svm/_classes.py:32: FutureWarning: The default value of `dual` will change from `True` to `'auto'` in 1.5. Set the value of `dual` explicitly to suppress the warning.\n",
      "  warnings.warn(\n",
      "/Users/nslali/anaconda3/envs/forecasting/lib/python3.8/site-packages/sklearn/svm/_classes.py:32: FutureWarning: The default value of `dual` will change from `True` to `'auto'` in 1.5. Set the value of `dual` explicitly to suppress the warning.\n",
      "  warnings.warn(\n",
      "/Users/nslali/anaconda3/envs/forecasting/lib/python3.8/site-packages/sklearn/svm/_classes.py:32: FutureWarning: The default value of `dual` will change from `True` to `'auto'` in 1.5. Set the value of `dual` explicitly to suppress the warning.\n",
      "  warnings.warn(\n",
      "/Users/nslali/anaconda3/envs/forecasting/lib/python3.8/site-packages/sklearn/svm/_classes.py:32: FutureWarning: The default value of `dual` will change from `True` to `'auto'` in 1.5. Set the value of `dual` explicitly to suppress the warning.\n",
      "  warnings.warn(\n",
      "/Users/nslali/anaconda3/envs/forecasting/lib/python3.8/site-packages/sklearn/svm/_classes.py:32: FutureWarning: The default value of `dual` will change from `True` to `'auto'` in 1.5. Set the value of `dual` explicitly to suppress the warning.\n",
      "  warnings.warn(\n",
      "/Users/nslali/anaconda3/envs/forecasting/lib/python3.8/site-packages/sklearn/svm/_classes.py:32: FutureWarning: The default value of `dual` will change from `True` to `'auto'` in 1.5. Set the value of `dual` explicitly to suppress the warning.\n",
      "  warnings.warn(\n",
      "/Users/nslali/anaconda3/envs/forecasting/lib/python3.8/site-packages/sklearn/svm/_base.py:1250: ConvergenceWarning: Liblinear failed to converge, increase the number of iterations.\n",
      "  warnings.warn(\n",
      "/Users/nslali/anaconda3/envs/forecasting/lib/python3.8/site-packages/sklearn/svm/_classes.py:32: FutureWarning: The default value of `dual` will change from `True` to `'auto'` in 1.5. Set the value of `dual` explicitly to suppress the warning.\n",
      "  warnings.warn(\n",
      "/Users/nslali/anaconda3/envs/forecasting/lib/python3.8/site-packages/sklearn/svm/_classes.py:32: FutureWarning: The default value of `dual` will change from `True` to `'auto'` in 1.5. Set the value of `dual` explicitly to suppress the warning.\n",
      "  warnings.warn(\n",
      "/Users/nslali/anaconda3/envs/forecasting/lib/python3.8/site-packages/sklearn/svm/_base.py:1250: ConvergenceWarning: Liblinear failed to converge, increase the number of iterations.\n",
      "  warnings.warn(\n",
      "/Users/nslali/anaconda3/envs/forecasting/lib/python3.8/site-packages/sklearn/svm/_classes.py:32: FutureWarning: The default value of `dual` will change from `True` to `'auto'` in 1.5. Set the value of `dual` explicitly to suppress the warning.\n",
      "  warnings.warn(\n",
      "/Users/nslali/anaconda3/envs/forecasting/lib/python3.8/site-packages/sklearn/svm/_base.py:1250: ConvergenceWarning: Liblinear failed to converge, increase the number of iterations.\n",
      "  warnings.warn(\n",
      "/Users/nslali/anaconda3/envs/forecasting/lib/python3.8/site-packages/sklearn/svm/_base.py:1250: ConvergenceWarning: Liblinear failed to converge, increase the number of iterations.\n",
      "  warnings.warn(\n",
      "/Users/nslali/anaconda3/envs/forecasting/lib/python3.8/site-packages/sklearn/svm/_base.py:1250: ConvergenceWarning: Liblinear failed to converge, increase the number of iterations.\n",
      "  warnings.warn(\n",
      "/Users/nslali/anaconda3/envs/forecasting/lib/python3.8/site-packages/sklearn/svm/_base.py:1250: ConvergenceWarning: Liblinear failed to converge, increase the number of iterations.\n",
      "  warnings.warn(\n",
      "/Users/nslali/anaconda3/envs/forecasting/lib/python3.8/site-packages/sklearn/svm/_base.py:1250: ConvergenceWarning: Liblinear failed to converge, increase the number of iterations.\n",
      "  warnings.warn(\n",
      "/Users/nslali/anaconda3/envs/forecasting/lib/python3.8/site-packages/sklearn/svm/_base.py:1250: ConvergenceWarning: Liblinear failed to converge, increase the number of iterations.\n",
      "  warnings.warn(\n",
      "/Users/nslali/anaconda3/envs/forecasting/lib/python3.8/site-packages/sklearn/svm/_base.py:1250: ConvergenceWarning: Liblinear failed to converge, increase the number of iterations.\n",
      "  warnings.warn(\n",
      "/Users/nslali/anaconda3/envs/forecasting/lib/python3.8/site-packages/sklearn/base.py:465: UserWarning: X does not have valid feature names, but LinearSVR was fitted with feature names\n",
      "  warnings.warn(\n",
      "/Users/nslali/anaconda3/envs/forecasting/lib/python3.8/site-packages/sklearn/base.py:465: UserWarning: X does not have valid feature names, but LinearSVR was fitted with feature names\n",
      "  warnings.warn(\n",
      "/Users/nslali/anaconda3/envs/forecasting/lib/python3.8/site-packages/sklearn/base.py:465: UserWarning: X does not have valid feature names, but LinearSVR was fitted with feature names\n",
      "  warnings.warn(\n",
      "/Users/nslali/anaconda3/envs/forecasting/lib/python3.8/site-packages/sklearn/base.py:465: UserWarning: X does not have valid feature names, but LinearSVR was fitted with feature names\n",
      "  warnings.warn(\n",
      "/Users/nslali/anaconda3/envs/forecasting/lib/python3.8/site-packages/sklearn/base.py:465: UserWarning: X does not have valid feature names, but LinearSVR was fitted with feature names\n",
      "  warnings.warn(\n",
      "/Users/nslali/anaconda3/envs/forecasting/lib/python3.8/site-packages/sklearn/base.py:465: UserWarning: X does not have valid feature names, but LinearSVR was fitted with feature names\n",
      "  warnings.warn(\n",
      "/Users/nslali/anaconda3/envs/forecasting/lib/python3.8/site-packages/sklearn/base.py:465: UserWarning: X does not have valid feature names, but LinearSVR was fitted with feature names\n",
      "  warnings.warn(\n",
      "/Users/nslali/anaconda3/envs/forecasting/lib/python3.8/site-packages/sklearn/base.py:465: UserWarning: X does not have valid feature names, but LinearSVR was fitted with feature names\n",
      "  warnings.warn(\n"
     ]
    },
    {
     "name": "stdout",
     "output_type": "stream",
     "text": [
      "Model Number: 482 with model SectionalMotif in generation 4 of 4\n"
     ]
    },
    {
     "name": "stderr",
     "output_type": "stream",
     "text": [
      "/Users/nslali/anaconda3/envs/forecasting/lib/python3.8/site-packages/sklearn/base.py:465: UserWarning: X does not have valid feature names, but LinearSVR was fitted with feature names\n",
      "  warnings.warn(\n",
      "/Users/nslali/anaconda3/envs/forecasting/lib/python3.8/site-packages/sklearn/base.py:465: UserWarning: X does not have valid feature names, but LinearSVR was fitted with feature names\n",
      "  warnings.warn(\n",
      "/Users/nslali/anaconda3/envs/forecasting/lib/python3.8/site-packages/sklearn/base.py:465: UserWarning: X does not have valid feature names, but LinearSVR was fitted with feature names\n",
      "  warnings.warn(\n",
      "/Users/nslali/anaconda3/envs/forecasting/lib/python3.8/site-packages/sklearn/base.py:465: UserWarning: X does not have valid feature names, but LinearSVR was fitted with feature names\n",
      "  warnings.warn(\n",
      "/Users/nslali/anaconda3/envs/forecasting/lib/python3.8/site-packages/sklearn/base.py:465: UserWarning: X does not have valid feature names, but LinearSVR was fitted with feature names\n",
      "  warnings.warn(\n",
      "/Users/nslali/anaconda3/envs/forecasting/lib/python3.8/site-packages/sklearn/base.py:465: UserWarning: X does not have valid feature names, but LinearSVR was fitted with feature names\n",
      "  warnings.warn(\n",
      "/Users/nslali/anaconda3/envs/forecasting/lib/python3.8/site-packages/sklearn/base.py:465: UserWarning: X does not have valid feature names, but LinearSVR was fitted with feature names\n",
      "  warnings.warn(\n",
      "/Users/nslali/anaconda3/envs/forecasting/lib/python3.8/site-packages/sklearn/base.py:465: UserWarning: X does not have valid feature names, but LinearSVR was fitted with feature names\n",
      "  warnings.warn(\n",
      "/Users/nslali/anaconda3/envs/forecasting/lib/python3.8/site-packages/sklearn/base.py:465: UserWarning: X does not have valid feature names, but LinearSVR was fitted with feature names\n",
      "  warnings.warn(\n",
      "/Users/nslali/anaconda3/envs/forecasting/lib/python3.8/site-packages/sklearn/base.py:465: UserWarning: X does not have valid feature names, but LinearSVR was fitted with feature names\n",
      "  warnings.warn(\n",
      "/Users/nslali/anaconda3/envs/forecasting/lib/python3.8/site-packages/sklearn/base.py:465: UserWarning: X does not have valid feature names, but LinearSVR was fitted with feature names\n",
      "  warnings.warn(\n",
      "/Users/nslali/anaconda3/envs/forecasting/lib/python3.8/site-packages/sklearn/base.py:465: UserWarning: X does not have valid feature names, but LinearSVR was fitted with feature names\n",
      "  warnings.warn(\n",
      "/Users/nslali/anaconda3/envs/forecasting/lib/python3.8/site-packages/sklearn/base.py:465: UserWarning: X does not have valid feature names, but LinearSVR was fitted with feature names\n",
      "  warnings.warn(\n",
      "/Users/nslali/anaconda3/envs/forecasting/lib/python3.8/site-packages/sklearn/base.py:465: UserWarning: X does not have valid feature names, but LinearSVR was fitted with feature names\n",
      "  warnings.warn(\n",
      "/Users/nslali/anaconda3/envs/forecasting/lib/python3.8/site-packages/sklearn/base.py:465: UserWarning: X does not have valid feature names, but LinearSVR was fitted with feature names\n",
      "  warnings.warn(\n",
      "/Users/nslali/anaconda3/envs/forecasting/lib/python3.8/site-packages/sklearn/base.py:465: UserWarning: X does not have valid feature names, but LinearSVR was fitted with feature names\n",
      "  warnings.warn(\n",
      "/Users/nslali/anaconda3/envs/forecasting/lib/python3.8/site-packages/sklearn/base.py:465: UserWarning: X does not have valid feature names, but LinearSVR was fitted with feature names\n",
      "  warnings.warn(\n",
      "/Users/nslali/anaconda3/envs/forecasting/lib/python3.8/site-packages/sklearn/base.py:465: UserWarning: X does not have valid feature names, but LinearSVR was fitted with feature names\n",
      "  warnings.warn(\n",
      "/Users/nslali/anaconda3/envs/forecasting/lib/python3.8/site-packages/sklearn/base.py:465: UserWarning: X does not have valid feature names, but LinearSVR was fitted with feature names\n",
      "  warnings.warn(\n",
      "/Users/nslali/anaconda3/envs/forecasting/lib/python3.8/site-packages/sklearn/base.py:465: UserWarning: X does not have valid feature names, but LinearSVR was fitted with feature names\n",
      "  warnings.warn(\n",
      "/Users/nslali/anaconda3/envs/forecasting/lib/python3.8/site-packages/sklearn/base.py:465: UserWarning: X does not have valid feature names, but LinearSVR was fitted with feature names\n",
      "  warnings.warn(\n",
      "/Users/nslali/anaconda3/envs/forecasting/lib/python3.8/site-packages/sklearn/base.py:465: UserWarning: X does not have valid feature names, but LinearSVR was fitted with feature names\n",
      "  warnings.warn(\n",
      "/Users/nslali/anaconda3/envs/forecasting/lib/python3.8/site-packages/sklearn/base.py:465: UserWarning: X does not have valid feature names, but LinearSVR was fitted with feature names\n",
      "  warnings.warn(\n",
      "/Users/nslali/anaconda3/envs/forecasting/lib/python3.8/site-packages/sklearn/base.py:465: UserWarning: X does not have valid feature names, but LinearSVR was fitted with feature names\n",
      "  warnings.warn(\n",
      "/Users/nslali/anaconda3/envs/forecasting/lib/python3.8/site-packages/sklearn/base.py:465: UserWarning: X does not have valid feature names, but LinearSVR was fitted with feature names\n",
      "  warnings.warn(\n",
      "/Users/nslali/anaconda3/envs/forecasting/lib/python3.8/site-packages/sklearn/base.py:465: UserWarning: X does not have valid feature names, but LinearSVR was fitted with feature names\n",
      "  warnings.warn(\n",
      "/Users/nslali/anaconda3/envs/forecasting/lib/python3.8/site-packages/sklearn/base.py:465: UserWarning: X does not have valid feature names, but LinearSVR was fitted with feature names\n",
      "  warnings.warn(\n",
      "/Users/nslali/anaconda3/envs/forecasting/lib/python3.8/site-packages/sklearn/base.py:465: UserWarning: X does not have valid feature names, but LinearSVR was fitted with feature names\n",
      "  warnings.warn(\n",
      "/Users/nslali/anaconda3/envs/forecasting/lib/python3.8/site-packages/sklearn/base.py:465: UserWarning: X does not have valid feature names, but LinearSVR was fitted with feature names\n",
      "  warnings.warn(\n",
      "/Users/nslali/anaconda3/envs/forecasting/lib/python3.8/site-packages/sklearn/base.py:465: UserWarning: X does not have valid feature names, but LinearSVR was fitted with feature names\n",
      "  warnings.warn(\n",
      "/Users/nslali/anaconda3/envs/forecasting/lib/python3.8/site-packages/sklearn/base.py:465: UserWarning: X does not have valid feature names, but LinearSVR was fitted with feature names\n",
      "  warnings.warn(\n",
      "/Users/nslali/anaconda3/envs/forecasting/lib/python3.8/site-packages/sklearn/base.py:465: UserWarning: X does not have valid feature names, but LinearSVR was fitted with feature names\n",
      "  warnings.warn(\n",
      "/Users/nslali/anaconda3/envs/forecasting/lib/python3.8/site-packages/sklearn/base.py:465: UserWarning: X does not have valid feature names, but LinearSVR was fitted with feature names\n",
      "  warnings.warn(\n",
      "/Users/nslali/anaconda3/envs/forecasting/lib/python3.8/site-packages/sklearn/base.py:465: UserWarning: X does not have valid feature names, but LinearSVR was fitted with feature names\n",
      "  warnings.warn(\n",
      "/Users/nslali/anaconda3/envs/forecasting/lib/python3.8/site-packages/sklearn/base.py:465: UserWarning: X does not have valid feature names, but LinearSVR was fitted with feature names\n",
      "  warnings.warn(\n",
      "/Users/nslali/anaconda3/envs/forecasting/lib/python3.8/site-packages/sklearn/base.py:465: UserWarning: X does not have valid feature names, but LinearSVR was fitted with feature names\n",
      "  warnings.warn(\n",
      "/Users/nslali/anaconda3/envs/forecasting/lib/python3.8/site-packages/sklearn/base.py:465: UserWarning: X does not have valid feature names, but LinearSVR was fitted with feature names\n",
      "  warnings.warn(\n",
      "/Users/nslali/anaconda3/envs/forecasting/lib/python3.8/site-packages/sklearn/base.py:465: UserWarning: X does not have valid feature names, but LinearSVR was fitted with feature names\n",
      "  warnings.warn(\n",
      "/Users/nslali/anaconda3/envs/forecasting/lib/python3.8/site-packages/sklearn/base.py:465: UserWarning: X does not have valid feature names, but LinearSVR was fitted with feature names\n",
      "  warnings.warn(\n",
      "/Users/nslali/anaconda3/envs/forecasting/lib/python3.8/site-packages/sklearn/base.py:465: UserWarning: X does not have valid feature names, but LinearSVR was fitted with feature names\n",
      "  warnings.warn(\n",
      "/Users/nslali/anaconda3/envs/forecasting/lib/python3.8/site-packages/sklearn/base.py:465: UserWarning: X does not have valid feature names, but LinearSVR was fitted with feature names\n",
      "  warnings.warn(\n",
      "/Users/nslali/anaconda3/envs/forecasting/lib/python3.8/site-packages/sklearn/base.py:465: UserWarning: X does not have valid feature names, but LinearSVR was fitted with feature names\n",
      "  warnings.warn(\n",
      "/Users/nslali/anaconda3/envs/forecasting/lib/python3.8/site-packages/sklearn/base.py:465: UserWarning: X does not have valid feature names, but LinearSVR was fitted with feature names\n",
      "  warnings.warn(\n",
      "/Users/nslali/anaconda3/envs/forecasting/lib/python3.8/site-packages/sklearn/base.py:465: UserWarning: X does not have valid feature names, but LinearSVR was fitted with feature names\n",
      "  warnings.warn(\n",
      "/Users/nslali/anaconda3/envs/forecasting/lib/python3.8/site-packages/sklearn/base.py:465: UserWarning: X does not have valid feature names, but LinearSVR was fitted with feature names\n",
      "  warnings.warn(\n",
      "/Users/nslali/anaconda3/envs/forecasting/lib/python3.8/site-packages/sklearn/base.py:465: UserWarning: X does not have valid feature names, but LinearSVR was fitted with feature names\n",
      "  warnings.warn(\n"
     ]
    },
    {
     "name": "stdout",
     "output_type": "stream",
     "text": [
      "Model Number: 483 with model MultivariateMotif in generation 4 of 4\n",
      "Model Number: 484 with model MAR in generation 4 of 4\n",
      "Model Number: 485 with model MAR in generation 4 of 4\n",
      "Model Number: 486 with model Cassandra in generation 4 of 4\n"
     ]
    },
    {
     "name": "stderr",
     "output_type": "stream",
     "text": [
      "/Users/nslali/anaconda3/envs/forecasting/lib/python3.8/site-packages/numpy/lib/function_base.py:2854: RuntimeWarning: invalid value encountered in divide\n",
      "  c /= stddev[:, None]\n",
      "/Users/nslali/anaconda3/envs/forecasting/lib/python3.8/site-packages/numpy/lib/function_base.py:2855: RuntimeWarning: invalid value encountered in divide\n",
      "  c /= stddev[None, :]\n"
     ]
    },
    {
     "name": "stdout",
     "output_type": "stream",
     "text": [
      "Model Number: 487 with model MultivariateMotif in generation 4 of 4\n",
      "Template Eval Error: Exception('Transformer AlignLastValue failed on inverse') in model 487 in generation 4: MultivariateMotif\n",
      "Model Number: 488 with model VECM in generation 4 of 4\n",
      "Model Number: 489 with model DynamicFactorMQ in generation 4 of 4\n",
      "Model Number: 490 with model NVAR in generation 4 of 4\n",
      "Template Eval Error: Exception('Transformer ScipyFilter failed on fit') in model 490 in generation 4: NVAR\n",
      "Model Number: 491 with model LATC in generation 4 of 4\n",
      "Template Eval Error: Exception('Transformer ScipyFilter failed on fit') in model 491 in generation 4: LATC\n",
      "Model Number: 492 with model VAR in generation 4 of 4\n",
      "Model Number: 493 with model DynamicFactor in generation 4 of 4\n"
     ]
    },
    {
     "name": "stderr",
     "output_type": "stream",
     "text": [
      "/Users/nslali/anaconda3/envs/forecasting/lib/python3.8/site-packages/statsmodels/base/model.py:607: ConvergenceWarning: Maximum Likelihood optimization failed to converge. Check mle_retvals\n",
      "  warnings.warn(\"Maximum Likelihood optimization failed to \"\n"
     ]
    },
    {
     "name": "stdout",
     "output_type": "stream",
     "text": [
      "Model Number: 494 with model DynamicFactorMQ in generation 4 of 4\n"
     ]
    },
    {
     "name": "stderr",
     "output_type": "stream",
     "text": [
      "/Users/nslali/anaconda3/envs/forecasting/lib/python3.8/site-packages/statsmodels/tsa/statespace/dynamic_factor_mq.py:2691: UserWarning: EM reached maximum number of iterations (1000), without achieving convergence: llf=-829.04, convergence criterion=1.9454e-05 (while specified tolerance was 1e-06)\n",
      "  warn(f'EM reached maximum number of iterations ({maxiter}),'\n"
     ]
    },
    {
     "name": "stdout",
     "output_type": "stream",
     "text": [
      "Model Number: 495 with model Cassandra in generation 4 of 4\n",
      "Model Number: 496 with model VAR in generation 4 of 4\n",
      "Template Eval Error: Exception('Transformer AlignLastValue failed on inverse') in model 496 in generation 4: VAR\n",
      "Model Number: 497 with model DynamicFactorMQ in generation 4 of 4\n",
      "Model Number: 498 with model SectionalMotif in generation 4 of 4\n",
      "Model Number: 499 with model MultivariateRegression in generation 4 of 4\n",
      "Model Number: 500 with model DynamicFactorMQ in generation 4 of 4\n"
     ]
    },
    {
     "name": "stderr",
     "output_type": "stream",
     "text": [
      "/Users/nslali/anaconda3/envs/forecasting/lib/python3.8/site-packages/statsmodels/tsa/statespace/dynamic_factor_mq.py:1950: UserWarning: Non-stationary starting factor autoregressive parameters found for factor block ('0.1', '0.2'). Using zeros as starting parameters.\n",
      "  warn('Non-stationary starting factor autoregressive'\n"
     ]
    },
    {
     "name": "stdout",
     "output_type": "stream",
     "text": [
      "Model Number: 501 with model VAR in generation 4 of 4\n",
      "Model Number: 502 with model VECM in generation 4 of 4\n",
      "Model Number: 503 with model DynamicFactor in generation 4 of 4\n"
     ]
    },
    {
     "name": "stderr",
     "output_type": "stream",
     "text": [
      "/Users/nslali/anaconda3/envs/forecasting/lib/python3.8/site-packages/statsmodels/base/model.py:607: ConvergenceWarning: Maximum Likelihood optimization failed to converge. Check mle_retvals\n",
      "  warnings.warn(\"Maximum Likelihood optimization failed to \"\n"
     ]
    },
    {
     "name": "stdout",
     "output_type": "stream",
     "text": [
      "Model Number: 504 with model DynamicFactorMQ in generation 4 of 4\n",
      "Model Number: 505 with model VAR in generation 4 of 4\n",
      "Model Number: 506 with model LATC in generation 4 of 4\n"
     ]
    },
    {
     "name": "stderr",
     "output_type": "stream",
     "text": [
      "/Users/nslali/anaconda3/envs/forecasting/lib/python3.8/site-packages/statsmodels/tsa/statespace/dynamic_factor_mq.py:2651: UserWarning: Log-likelihood decreased at EM iteration 2. Reverting to the results from EM iteration 1 (prior to the decrease) and returning the solution.\n",
      "  warn(f'Log-likelihood decreased at EM iteration {i + 1}.'\n"
     ]
    },
    {
     "name": "stdout",
     "output_type": "stream",
     "text": [
      "Model Number: 507 with model VECM in generation 4 of 4\n",
      "Model Number: 508 with model DynamicFactorMQ in generation 4 of 4\n"
     ]
    },
    {
     "name": "stderr",
     "output_type": "stream",
     "text": [
      "/Users/nslali/anaconda3/envs/forecasting/lib/python3.8/site-packages/statsmodels/tsa/statespace/dynamic_factor_mq.py:1950: UserWarning: Non-stationary starting factor autoregressive parameters found for factor block ('0.1', '0.2'). Using zeros as starting parameters.\n",
      "  warn('Non-stationary starting factor autoregressive'\n",
      "/Users/nslali/anaconda3/envs/forecasting/lib/python3.8/site-packages/statsmodels/tsa/statespace/sarimax.py:966: UserWarning: Non-stationary starting autoregressive parameters found. Using zeros as starting parameters.\n",
      "  warn('Non-stationary starting autoregressive parameters'\n"
     ]
    },
    {
     "name": "stdout",
     "output_type": "stream",
     "text": [
      "Model Number: 509 with model NVAR in generation 4 of 4\n",
      "Template Eval Error: Exception('Transformer ScipyFilter failed on fit') in model 509 in generation 4: NVAR\n",
      "Model Number: 510 with model MAR in generation 4 of 4\n",
      "Model Number: 511 with model LATC in generation 4 of 4\n",
      "Model Number: 512 with model RRVAR in generation 4 of 4\n",
      "Model Number: 513 with model WindowRegression in generation 4 of 4\n"
     ]
    },
    {
     "name": "stderr",
     "output_type": "stream",
     "text": [
      "/Users/nslali/anaconda3/envs/forecasting/lib/python3.8/site-packages/sklearn/neural_network/_multilayer_perceptron.py:546: ConvergenceWarning: lbfgs failed to converge (status=1):\n",
      "STOP: TOTAL NO. of ITERATIONS REACHED LIMIT.\n",
      "\n",
      "Increase the number of iterations (max_iter) or scale the data as shown in:\n",
      "    https://scikit-learn.org/stable/modules/preprocessing.html\n",
      "  self.n_iter_ = _check_optimize_result(\"lbfgs\", opt_res, self.max_iter)\n"
     ]
    },
    {
     "name": "stdout",
     "output_type": "stream",
     "text": [
      "Model Number: 514 with model Cassandra in generation 4 of 4\n"
     ]
    },
    {
     "name": "stderr",
     "output_type": "stream",
     "text": [
      "/Users/nslali/anaconda3/envs/forecasting/lib/python3.8/site-packages/numpy/lib/function_base.py:2854: RuntimeWarning: invalid value encountered in divide\n",
      "  c /= stddev[:, None]\n",
      "/Users/nslali/anaconda3/envs/forecasting/lib/python3.8/site-packages/numpy/lib/function_base.py:2855: RuntimeWarning: invalid value encountered in divide\n",
      "  c /= stddev[None, :]\n",
      "/Users/nslali/anaconda3/envs/forecasting/lib/python3.8/site-packages/statsmodels/tsa/statespace/dynamic_factor_mq.py:1950: UserWarning: Non-stationary starting factor autoregressive parameters found for factor block ('0.1', '0.2'). Using zeros as starting parameters.\n",
      "  warn('Non-stationary starting factor autoregressive'\n"
     ]
    },
    {
     "name": "stdout",
     "output_type": "stream",
     "text": [
      "Model Number: 515 with model DynamicFactorMQ in generation 4 of 4\n",
      "Model Number: 516 with model SectionalMotif in generation 4 of 4\n",
      "Model Number: 517 with model SectionalMotif in generation 4 of 4\n"
     ]
    },
    {
     "name": "stderr",
     "output_type": "stream",
     "text": [
      "/Users/nslali/anaconda3/envs/forecasting/lib/python3.8/site-packages/statsmodels/tsa/statespace/dynamic_factor_mq.py:2691: UserWarning: EM reached maximum number of iterations (1000), without achieving convergence: llf=-1898.2, convergence criterion=3.0762e-06 (while specified tolerance was 1e-06)\n",
      "  warn(f'EM reached maximum number of iterations ({maxiter}),'\n",
      "/Users/nslali/anaconda3/envs/forecasting/lib/python3.8/site-packages/sklearn/linear_model/_ridge.py:200: LinAlgWarning: Ill-conditioned matrix (rcond=1.3669e-25): result may not be accurate.\n",
      "  return linalg.solve(A, Xy, assume_a=\"pos\", overwrite_a=True).T\n",
      "/Users/nslali/anaconda3/envs/forecasting/lib/python3.8/site-packages/statsmodels/tsa/statespace/dynamic_factor_mq.py:2651: UserWarning: Log-likelihood decreased at EM iteration 2. Reverting to the results from EM iteration 1 (prior to the decrease) and returning the solution.\n",
      "  warn(f'Log-likelihood decreased at EM iteration {i + 1}.'\n"
     ]
    },
    {
     "name": "stdout",
     "output_type": "stream",
     "text": [
      "Model Number: 518 with model DynamicFactorMQ in generation 4 of 4\n",
      "Model Number: 519 with model MAR in generation 4 of 4\n",
      "Model Number: 520 with model MultivariateRegression in generation 4 of 4\n",
      "Model Number: 521 with model VECM in generation 4 of 4\n",
      "Model Number: 522 with model NVAR in generation 4 of 4\n",
      "Model Number: 523 with model VECM in generation 4 of 4\n",
      "Model Number: 524 with model MultivariateMotif in generation 4 of 4\n",
      "Template Eval Error: Exception('Transformer AlignLastValue failed on inverse') in model 524 in generation 4: MultivariateMotif\n",
      "Model Number: 525 with model VAR in generation 4 of 4\n",
      "Template Eval Error: LinAlgError('3-th leading minor of the array is not positive definite') in model 525 in generation 4: VAR\n",
      "Model Number: 526 with model Cassandra in generation 4 of 4\n"
     ]
    },
    {
     "name": "stderr",
     "output_type": "stream",
     "text": [
      "/Users/nslali/anaconda3/envs/forecasting/lib/python3.8/site-packages/numpy/lib/function_base.py:2854: RuntimeWarning: invalid value encountered in divide\n",
      "  c /= stddev[:, None]\n",
      "/Users/nslali/anaconda3/envs/forecasting/lib/python3.8/site-packages/numpy/lib/function_base.py:2855: RuntimeWarning: invalid value encountered in divide\n",
      "  c /= stddev[None, :]\n"
     ]
    },
    {
     "name": "stdout",
     "output_type": "stream",
     "text": [
      "Model Number: 527 with model MultivariateMotif in generation 4 of 4\n",
      "Model Number: 528 with model RRVAR in generation 4 of 4\n",
      "Ensembling Error: NameError(\"name 'verbose' is not defined\"): Traceback (most recent call last):\n",
      "  File \"/Users/nslali/anaconda3/envs/forecasting/lib/python3.8/site-packages/autots/evaluator/auto_ts.py\", line 1311, in fit\n",
      "    self._run_template(\n",
      "  File \"/Users/nslali/anaconda3/envs/forecasting/lib/python3.8/site-packages/autots/evaluator/auto_ts.py\", line 2024, in _run_template\n",
      "    if verbose >= 0:\n",
      "NameError: name 'verbose' is not defined\n",
      "\n",
      "Validation Round: 1\n",
      "Model Number: 1 of 90 with model VAR for Validation 1\n",
      "📈 1 - VAR with avg smape 9.87: \n",
      "Model Number: 2 of 90 with model VAR for Validation 1\n",
      "2 - VAR with avg smape 10.14: \n",
      "Model Number: 3 of 90 with model DynamicFactorMQ for Validation 1\n"
     ]
    },
    {
     "name": "stderr",
     "output_type": "stream",
     "text": [
      "/Users/nslali/anaconda3/envs/forecasting/lib/python3.8/site-packages/statsmodels/tsa/statespace/dynamic_factor_mq.py:1950: UserWarning: Non-stationary starting factor autoregressive parameters found for factor block ('0.1', '0.2'). Using zeros as starting parameters.\n",
      "  warn('Non-stationary starting factor autoregressive'\n"
     ]
    },
    {
     "name": "stdout",
     "output_type": "stream",
     "text": [
      "📈 3 - DynamicFactorMQ with avg smape 9.76: \n",
      "Model Number: 4 of 90 with model DynamicFactorMQ for Validation 1\n"
     ]
    },
    {
     "name": "stderr",
     "output_type": "stream",
     "text": [
      "/Users/nslali/anaconda3/envs/forecasting/lib/python3.8/site-packages/statsmodels/tsa/statespace/dynamic_factor_mq.py:1950: UserWarning: Non-stationary starting factor autoregressive parameters found for factor block ('0.1', '0.2'). Using zeros as starting parameters.\n",
      "  warn('Non-stationary starting factor autoregressive'\n"
     ]
    },
    {
     "name": "stdout",
     "output_type": "stream",
     "text": [
      "4 - DynamicFactorMQ with avg smape 9.76: \n",
      "Model Number: 5 of 90 with model DynamicFactorMQ for Validation 1\n"
     ]
    },
    {
     "name": "stderr",
     "output_type": "stream",
     "text": [
      "/Users/nslali/anaconda3/envs/forecasting/lib/python3.8/site-packages/statsmodels/tsa/statespace/sarimax.py:966: UserWarning: Non-stationary starting autoregressive parameters found. Using zeros as starting parameters.\n",
      "  warn('Non-stationary starting autoregressive parameters'\n"
     ]
    },
    {
     "name": "stdout",
     "output_type": "stream",
     "text": [
      "5 - DynamicFactorMQ with avg smape 10.44: \n",
      "Model Number: 6 of 90 with model VAR for Validation 1\n",
      "📈 6 - VAR with avg smape 8.37: \n",
      "Model Number: 7 of 90 with model VAR for Validation 1\n",
      "7 - VAR with avg smape 8.37: \n",
      "Model Number: 8 of 90 with model NVAR for Validation 1\n",
      "8 - NVAR with avg smape 8.87: \n",
      "Model Number: 9 of 90 with model VAR for Validation 1\n",
      "9 - VAR with avg smape 14.6: \n",
      "Model Number: 10 of 90 with model NVAR for Validation 1\n",
      "10 - NVAR with avg smape 9.6: \n",
      "Model Number: 11 of 90 with model NVAR for Validation 1\n",
      "11 - NVAR with avg smape 9.6: \n",
      "Model Number: 12 of 90 with model NVAR for Validation 1\n",
      "12 - NVAR with avg smape 9.6: \n",
      "Model Number: 13 of 90 with model NVAR for Validation 1\n",
      "13 - NVAR with avg smape 9.46: \n",
      "Model Number: 14 of 90 with model LATC for Validation 1\n",
      "14 - LATC with avg smape 13.79: \n",
      "Model Number: 15 of 90 with model DynamicFactorMQ for Validation 1\n"
     ]
    },
    {
     "name": "stderr",
     "output_type": "stream",
     "text": [
      "/Users/nslali/anaconda3/envs/forecasting/lib/python3.8/site-packages/statsmodels/tsa/statespace/dynamic_factor_mq.py:1950: UserWarning: Non-stationary starting factor autoregressive parameters found for factor block ('0.1', '0.2'). Using zeros as starting parameters.\n",
      "  warn('Non-stationary starting factor autoregressive'\n"
     ]
    },
    {
     "name": "stdout",
     "output_type": "stream",
     "text": [
      "15 - DynamicFactorMQ with avg smape 8.59: \n",
      "Model Number: 16 of 90 with model DynamicFactorMQ for Validation 1\n"
     ]
    },
    {
     "name": "stderr",
     "output_type": "stream",
     "text": [
      "/Users/nslali/anaconda3/envs/forecasting/lib/python3.8/site-packages/statsmodels/tsa/statespace/sarimax.py:966: UserWarning: Non-stationary starting autoregressive parameters found. Using zeros as starting parameters.\n",
      "  warn('Non-stationary starting autoregressive parameters'\n"
     ]
    },
    {
     "name": "stdout",
     "output_type": "stream",
     "text": [
      "16 - DynamicFactorMQ with avg smape 10.45: \n",
      "Model Number: 17 of 90 with model SectionalMotif for Validation 1\n",
      "17 - SectionalMotif with avg smape 10.79: \n",
      "Model Number: 18 of 90 with model LATC for Validation 1\n",
      "18 - LATC with avg smape 9.19: \n",
      "Model Number: 19 of 90 with model LATC for Validation 1\n",
      "19 - LATC with avg smape 9.19: \n",
      "Model Number: 20 of 90 with model SectionalMotif for Validation 1\n",
      "20 - SectionalMotif with avg smape 9.9: \n",
      "Model Number: 21 of 90 with model SectionalMotif for Validation 1\n",
      "21 - SectionalMotif with avg smape 13.26: \n",
      "Model Number: 22 of 90 with model Cassandra for Validation 1\n"
     ]
    },
    {
     "name": "stderr",
     "output_type": "stream",
     "text": [
      "/Users/nslali/anaconda3/envs/forecasting/lib/python3.8/site-packages/numpy/lib/function_base.py:2854: RuntimeWarning: invalid value encountered in divide\n",
      "  c /= stddev[:, None]\n",
      "/Users/nslali/anaconda3/envs/forecasting/lib/python3.8/site-packages/numpy/lib/function_base.py:2855: RuntimeWarning: invalid value encountered in divide\n",
      "  c /= stddev[None, :]\n"
     ]
    },
    {
     "name": "stdout",
     "output_type": "stream",
     "text": [
      "22 - Cassandra with avg smape 10.89: \n",
      "Model Number: 23 of 90 with model LATC for Validation 1\n",
      "23 - LATC with avg smape 11.32: \n",
      "Model Number: 24 of 90 with model Cassandra for Validation 1\n"
     ]
    },
    {
     "name": "stderr",
     "output_type": "stream",
     "text": [
      "/Users/nslali/anaconda3/envs/forecasting/lib/python3.8/site-packages/numpy/lib/function_base.py:2854: RuntimeWarning: invalid value encountered in divide\n",
      "  c /= stddev[:, None]\n",
      "/Users/nslali/anaconda3/envs/forecasting/lib/python3.8/site-packages/numpy/lib/function_base.py:2855: RuntimeWarning: invalid value encountered in divide\n",
      "  c /= stddev[None, :]\n"
     ]
    },
    {
     "name": "stdout",
     "output_type": "stream",
     "text": [
      "24 - Cassandra with avg smape 10.62: \n",
      "Model Number: 25 of 90 with model MultivariateRegression for Validation 1\n",
      "📈 25 - MultivariateRegression with avg smape 8.28: \n",
      "Model Number: 26 of 90 with model MAR for Validation 1\n",
      "26 - MAR with avg smape 9.96: \n",
      "Model Number: 27 of 90 with model MAR for Validation 1\n",
      "27 - MAR with avg smape 12.4: \n",
      "Model Number: 28 of 90 with model MultivariateRegression for Validation 1\n",
      "28 - MultivariateRegression with avg smape 9.3: \n",
      "Model Number: 29 of 90 with model MultivariateMotif for Validation 1\n",
      "29 - MultivariateMotif with avg smape 8.94: \n",
      "Model Number: 30 of 90 with model MultivariateMotif for Validation 1\n",
      "30 - MultivariateMotif with avg smape 8.97: \n",
      "Model Number: 31 of 90 with model VECM for Validation 1\n",
      "31 - VECM with avg smape 8.36: \n",
      "Model Number: 32 of 90 with model SectionalMotif for Validation 1\n",
      "32 - SectionalMotif with avg smape 16.56: \n",
      "Model Number: 33 of 90 with model VECM for Validation 1\n",
      "33 - VECM with avg smape 11.69: \n",
      "Model Number: 34 of 90 with model MultivariateRegression for Validation 1\n",
      "34 - MultivariateRegression with avg smape 8.69: \n",
      "Model Number: 35 of 90 with model WindowRegression for Validation 1\n",
      "35 - WindowRegression with avg smape 9.03: \n",
      "Model Number: 36 of 90 with model VECM for Validation 1\n"
     ]
    },
    {
     "name": "stderr",
     "output_type": "stream",
     "text": [
      "/Users/nslali/anaconda3/envs/forecasting/lib/python3.8/site-packages/sklearn/neural_network/_multilayer_perceptron.py:546: ConvergenceWarning: lbfgs failed to converge (status=1):\n",
      "STOP: TOTAL NO. of ITERATIONS REACHED LIMIT.\n",
      "\n",
      "Increase the number of iterations (max_iter) or scale the data as shown in:\n",
      "    https://scikit-learn.org/stable/modules/preprocessing.html\n",
      "  self.n_iter_ = _check_optimize_result(\"lbfgs\", opt_res, self.max_iter)\n"
     ]
    },
    {
     "name": "stdout",
     "output_type": "stream",
     "text": [
      "36 - VECM with avg smape 11.59: \n",
      "Model Number: 37 of 90 with model MultivariateRegression for Validation 1\n",
      "37 - MultivariateRegression with avg smape 8.81: \n",
      "Model Number: 38 of 90 with model SectionalMotif for Validation 1\n",
      "38 - SectionalMotif with avg smape 14.43: \n",
      "Model Number: 39 of 90 with model MultivariateRegression for Validation 1\n",
      "39 - MultivariateRegression with avg smape 9.64: \n",
      "Model Number: 40 of 90 with model VECM for Validation 1\n",
      "40 - VECM with avg smape 11.99: \n",
      "Model Number: 41 of 90 with model LATC for Validation 1\n",
      "41 - LATC with avg smape 10.68: \n",
      "Model Number: 42 of 90 with model VECM for Validation 1\n",
      "42 - VECM with avg smape 14.46: \n",
      "Model Number: 43 of 90 with model MultivariateMotif for Validation 1\n",
      "43 - MultivariateMotif with avg smape 11.03: \n",
      "Model Number: 44 of 90 with model MAR for Validation 1\n",
      "44 - MAR with avg smape 12.09: \n",
      "Model Number: 45 of 90 with model RRVAR for Validation 1\n",
      "45 - RRVAR with avg smape 9.86: \n",
      "Model Number: 46 of 90 with model Cassandra for Validation 1\n",
      "46 - Cassandra with avg smape 11.73: \n",
      "Model Number: 47 of 90 with model MultivariateMotif for Validation 1\n",
      "47 - MultivariateMotif with avg smape 11.19: \n",
      "Model Number: 48 of 90 with model Cassandra for Validation 1\n"
     ]
    },
    {
     "name": "stderr",
     "output_type": "stream",
     "text": [
      "/Users/nslali/anaconda3/envs/forecasting/lib/python3.8/site-packages/numpy/lib/function_base.py:2854: RuntimeWarning: invalid value encountered in divide\n",
      "  c /= stddev[:, None]\n",
      "/Users/nslali/anaconda3/envs/forecasting/lib/python3.8/site-packages/numpy/lib/function_base.py:2855: RuntimeWarning: invalid value encountered in divide\n",
      "  c /= stddev[None, :]\n",
      "/Users/nslali/anaconda3/envs/forecasting/lib/python3.8/site-packages/numpy/lib/function_base.py:2854: RuntimeWarning: invalid value encountered in divide\n",
      "  c /= stddev[:, None]\n",
      "/Users/nslali/anaconda3/envs/forecasting/lib/python3.8/site-packages/numpy/lib/function_base.py:2855: RuntimeWarning: invalid value encountered in divide\n",
      "  c /= stddev[None, :]\n"
     ]
    },
    {
     "name": "stdout",
     "output_type": "stream",
     "text": [
      "48 - Cassandra with avg smape 11.8: \n",
      "Model Number: 49 of 90 with model MAR for Validation 1\n",
      "49 - MAR with avg smape 10.97: \n",
      "Model Number: 50 of 90 with model MAR for Validation 1\n",
      "50 - MAR with avg smape 11.5: \n",
      "Model Number: 51 of 90 with model MultivariateMotif for Validation 1\n",
      "51 - MultivariateMotif with avg smape 8.37: \n",
      "Model Number: 52 of 90 with model Cassandra for Validation 1\n"
     ]
    },
    {
     "name": "stderr",
     "output_type": "stream",
     "text": [
      "/Users/nslali/anaconda3/envs/forecasting/lib/python3.8/site-packages/numpy/lib/function_base.py:2854: RuntimeWarning: invalid value encountered in divide\n",
      "  c /= stddev[:, None]\n",
      "/Users/nslali/anaconda3/envs/forecasting/lib/python3.8/site-packages/numpy/lib/function_base.py:2855: RuntimeWarning: invalid value encountered in divide\n",
      "  c /= stddev[None, :]\n"
     ]
    },
    {
     "name": "stdout",
     "output_type": "stream",
     "text": [
      "52 - Cassandra with avg smape 10.13: \n",
      "Model Number: 53 of 90 with model WindowRegression for Validation 1\n"
     ]
    },
    {
     "name": "stderr",
     "output_type": "stream",
     "text": [
      "/Users/nslali/anaconda3/envs/forecasting/lib/python3.8/site-packages/sklearn/neural_network/_multilayer_perceptron.py:546: ConvergenceWarning: lbfgs failed to converge (status=1):\n",
      "STOP: TOTAL NO. of ITERATIONS REACHED LIMIT.\n",
      "\n",
      "Increase the number of iterations (max_iter) or scale the data as shown in:\n",
      "    https://scikit-learn.org/stable/modules/preprocessing.html\n",
      "  self.n_iter_ = _check_optimize_result(\"lbfgs\", opt_res, self.max_iter)\n"
     ]
    },
    {
     "name": "stdout",
     "output_type": "stream",
     "text": [
      "53 - WindowRegression with avg smape 9.26: \n",
      "Model Number: 54 of 90 with model WindowRegression for Validation 1\n",
      "54 - WindowRegression with avg smape 9.26: \n",
      "Model Number: 55 of 90 with model RRVAR for Validation 1\n",
      "55 - RRVAR with avg smape 9.77: \n",
      "Model Number: 56 of 90 with model RollingRegression for Validation 1\n"
     ]
    },
    {
     "name": "stderr",
     "output_type": "stream",
     "text": [
      "/Users/nslali/anaconda3/envs/forecasting/lib/python3.8/site-packages/sklearn/neural_network/_multilayer_perceptron.py:546: ConvergenceWarning: lbfgs failed to converge (status=1):\n",
      "STOP: TOTAL NO. of ITERATIONS REACHED LIMIT.\n",
      "\n",
      "Increase the number of iterations (max_iter) or scale the data as shown in:\n",
      "    https://scikit-learn.org/stable/modules/preprocessing.html\n",
      "  self.n_iter_ = _check_optimize_result(\"lbfgs\", opt_res, self.max_iter)\n",
      "/Users/nslali/anaconda3/envs/forecasting/lib/python3.8/site-packages/sklearn/svm/_classes.py:32: FutureWarning: The default value of `dual` will change from `True` to `'auto'` in 1.5. Set the value of `dual` explicitly to suppress the warning.\n",
      "  warnings.warn(\n",
      "/Users/nslali/anaconda3/envs/forecasting/lib/python3.8/site-packages/sklearn/svm/_classes.py:32: FutureWarning: The default value of `dual` will change from `True` to `'auto'` in 1.5. Set the value of `dual` explicitly to suppress the warning.\n",
      "  warnings.warn(\n",
      "/Users/nslali/anaconda3/envs/forecasting/lib/python3.8/site-packages/sklearn/svm/_classes.py:32: FutureWarning: The default value of `dual` will change from `True` to `'auto'` in 1.5. Set the value of `dual` explicitly to suppress the warning.\n",
      "  warnings.warn(\n",
      "/Users/nslali/anaconda3/envs/forecasting/lib/python3.8/site-packages/sklearn/svm/_classes.py:32: FutureWarning: The default value of `dual` will change from `True` to `'auto'` in 1.5. Set the value of `dual` explicitly to suppress the warning.\n",
      "  warnings.warn(\n",
      "/Users/nslali/anaconda3/envs/forecasting/lib/python3.8/site-packages/sklearn/svm/_classes.py:32: FutureWarning: The default value of `dual` will change from `True` to `'auto'` in 1.5. Set the value of `dual` explicitly to suppress the warning.\n",
      "  warnings.warn(\n",
      "/Users/nslali/anaconda3/envs/forecasting/lib/python3.8/site-packages/sklearn/svm/_classes.py:32: FutureWarning: The default value of `dual` will change from `True` to `'auto'` in 1.5. Set the value of `dual` explicitly to suppress the warning.\n",
      "  warnings.warn(\n",
      "/Users/nslali/anaconda3/envs/forecasting/lib/python3.8/site-packages/sklearn/svm/_classes.py:32: FutureWarning: The default value of `dual` will change from `True` to `'auto'` in 1.5. Set the value of `dual` explicitly to suppress the warning.\n",
      "  warnings.warn(\n",
      "/Users/nslali/anaconda3/envs/forecasting/lib/python3.8/site-packages/sklearn/svm/_base.py:1250: ConvergenceWarning: Liblinear failed to converge, increase the number of iterations.\n",
      "  warnings.warn(\n",
      "/Users/nslali/anaconda3/envs/forecasting/lib/python3.8/site-packages/sklearn/svm/_classes.py:32: FutureWarning: The default value of `dual` will change from `True` to `'auto'` in 1.5. Set the value of `dual` explicitly to suppress the warning.\n",
      "  warnings.warn(\n",
      "/Users/nslali/anaconda3/envs/forecasting/lib/python3.8/site-packages/sklearn/svm/_base.py:1250: ConvergenceWarning: Liblinear failed to converge, increase the number of iterations.\n",
      "  warnings.warn(\n",
      "/Users/nslali/anaconda3/envs/forecasting/lib/python3.8/site-packages/sklearn/svm/_classes.py:32: FutureWarning: The default value of `dual` will change from `True` to `'auto'` in 1.5. Set the value of `dual` explicitly to suppress the warning.\n",
      "  warnings.warn(\n",
      "/Users/nslali/anaconda3/envs/forecasting/lib/python3.8/site-packages/sklearn/svm/_base.py:1250: ConvergenceWarning: Liblinear failed to converge, increase the number of iterations.\n",
      "  warnings.warn(\n",
      "/Users/nslali/anaconda3/envs/forecasting/lib/python3.8/site-packages/sklearn/svm/_base.py:1250: ConvergenceWarning: Liblinear failed to converge, increase the number of iterations.\n",
      "  warnings.warn(\n",
      "/Users/nslali/anaconda3/envs/forecasting/lib/python3.8/site-packages/sklearn/svm/_base.py:1250: ConvergenceWarning: Liblinear failed to converge, increase the number of iterations.\n",
      "  warnings.warn(\n",
      "/Users/nslali/anaconda3/envs/forecasting/lib/python3.8/site-packages/sklearn/svm/_base.py:1250: ConvergenceWarning: Liblinear failed to converge, increase the number of iterations.\n",
      "  warnings.warn(\n",
      "/Users/nslali/anaconda3/envs/forecasting/lib/python3.8/site-packages/sklearn/svm/_base.py:1250: ConvergenceWarning: Liblinear failed to converge, increase the number of iterations.\n",
      "  warnings.warn(\n",
      "/Users/nslali/anaconda3/envs/forecasting/lib/python3.8/site-packages/sklearn/svm/_base.py:1250: ConvergenceWarning: Liblinear failed to converge, increase the number of iterations.\n",
      "  warnings.warn(\n",
      "/Users/nslali/anaconda3/envs/forecasting/lib/python3.8/site-packages/sklearn/svm/_base.py:1250: ConvergenceWarning: Liblinear failed to converge, increase the number of iterations.\n",
      "  warnings.warn(\n",
      "/Users/nslali/anaconda3/envs/forecasting/lib/python3.8/site-packages/sklearn/base.py:465: UserWarning: X does not have valid feature names, but LinearSVR was fitted with feature names\n",
      "  warnings.warn(\n",
      "/Users/nslali/anaconda3/envs/forecasting/lib/python3.8/site-packages/sklearn/base.py:465: UserWarning: X does not have valid feature names, but LinearSVR was fitted with feature names\n",
      "  warnings.warn(\n",
      "/Users/nslali/anaconda3/envs/forecasting/lib/python3.8/site-packages/sklearn/base.py:465: UserWarning: X does not have valid feature names, but LinearSVR was fitted with feature names\n",
      "  warnings.warn(\n",
      "/Users/nslali/anaconda3/envs/forecasting/lib/python3.8/site-packages/sklearn/base.py:465: UserWarning: X does not have valid feature names, but LinearSVR was fitted with feature names\n",
      "  warnings.warn(\n",
      "/Users/nslali/anaconda3/envs/forecasting/lib/python3.8/site-packages/sklearn/base.py:465: UserWarning: X does not have valid feature names, but LinearSVR was fitted with feature names\n",
      "  warnings.warn(\n",
      "/Users/nslali/anaconda3/envs/forecasting/lib/python3.8/site-packages/sklearn/base.py:465: UserWarning: X does not have valid feature names, but LinearSVR was fitted with feature names\n",
      "  warnings.warn(\n",
      "/Users/nslali/anaconda3/envs/forecasting/lib/python3.8/site-packages/sklearn/base.py:465: UserWarning: X does not have valid feature names, but LinearSVR was fitted with feature names\n",
      "  warnings.warn(\n",
      "/Users/nslali/anaconda3/envs/forecasting/lib/python3.8/site-packages/sklearn/base.py:465: UserWarning: X does not have valid feature names, but LinearSVR was fitted with feature names\n",
      "  warnings.warn(\n",
      "/Users/nslali/anaconda3/envs/forecasting/lib/python3.8/site-packages/sklearn/base.py:465: UserWarning: X does not have valid feature names, but LinearSVR was fitted with feature names\n",
      "  warnings.warn(\n",
      "/Users/nslali/anaconda3/envs/forecasting/lib/python3.8/site-packages/sklearn/base.py:465: UserWarning: X does not have valid feature names, but LinearSVR was fitted with feature names\n",
      "  warnings.warn(\n",
      "/Users/nslali/anaconda3/envs/forecasting/lib/python3.8/site-packages/sklearn/base.py:465: UserWarning: X does not have valid feature names, but LinearSVR was fitted with feature names\n",
      "  warnings.warn(\n",
      "/Users/nslali/anaconda3/envs/forecasting/lib/python3.8/site-packages/sklearn/base.py:465: UserWarning: X does not have valid feature names, but LinearSVR was fitted with feature names\n",
      "  warnings.warn(\n",
      "/Users/nslali/anaconda3/envs/forecasting/lib/python3.8/site-packages/sklearn/base.py:465: UserWarning: X does not have valid feature names, but LinearSVR was fitted with feature names\n",
      "  warnings.warn(\n",
      "/Users/nslali/anaconda3/envs/forecasting/lib/python3.8/site-packages/sklearn/base.py:465: UserWarning: X does not have valid feature names, but LinearSVR was fitted with feature names\n",
      "  warnings.warn(\n",
      "/Users/nslali/anaconda3/envs/forecasting/lib/python3.8/site-packages/sklearn/base.py:465: UserWarning: X does not have valid feature names, but LinearSVR was fitted with feature names\n",
      "  warnings.warn(\n",
      "/Users/nslali/anaconda3/envs/forecasting/lib/python3.8/site-packages/sklearn/base.py:465: UserWarning: X does not have valid feature names, but LinearSVR was fitted with feature names\n",
      "  warnings.warn(\n",
      "/Users/nslali/anaconda3/envs/forecasting/lib/python3.8/site-packages/sklearn/base.py:465: UserWarning: X does not have valid feature names, but LinearSVR was fitted with feature names\n",
      "  warnings.warn(\n",
      "/Users/nslali/anaconda3/envs/forecasting/lib/python3.8/site-packages/sklearn/base.py:465: UserWarning: X does not have valid feature names, but LinearSVR was fitted with feature names\n",
      "  warnings.warn(\n",
      "/Users/nslali/anaconda3/envs/forecasting/lib/python3.8/site-packages/sklearn/base.py:465: UserWarning: X does not have valid feature names, but LinearSVR was fitted with feature names\n",
      "  warnings.warn(\n",
      "/Users/nslali/anaconda3/envs/forecasting/lib/python3.8/site-packages/sklearn/base.py:465: UserWarning: X does not have valid feature names, but LinearSVR was fitted with feature names\n",
      "  warnings.warn(\n",
      "/Users/nslali/anaconda3/envs/forecasting/lib/python3.8/site-packages/sklearn/base.py:465: UserWarning: X does not have valid feature names, but LinearSVR was fitted with feature names\n",
      "  warnings.warn(\n",
      "/Users/nslali/anaconda3/envs/forecasting/lib/python3.8/site-packages/sklearn/base.py:465: UserWarning: X does not have valid feature names, but LinearSVR was fitted with feature names\n",
      "  warnings.warn(\n",
      "/Users/nslali/anaconda3/envs/forecasting/lib/python3.8/site-packages/sklearn/base.py:465: UserWarning: X does not have valid feature names, but LinearSVR was fitted with feature names\n",
      "  warnings.warn(\n",
      "/Users/nslali/anaconda3/envs/forecasting/lib/python3.8/site-packages/sklearn/base.py:465: UserWarning: X does not have valid feature names, but LinearSVR was fitted with feature names\n",
      "  warnings.warn(\n",
      "/Users/nslali/anaconda3/envs/forecasting/lib/python3.8/site-packages/sklearn/base.py:465: UserWarning: X does not have valid feature names, but LinearSVR was fitted with feature names\n",
      "  warnings.warn(\n",
      "/Users/nslali/anaconda3/envs/forecasting/lib/python3.8/site-packages/sklearn/base.py:465: UserWarning: X does not have valid feature names, but LinearSVR was fitted with feature names\n",
      "  warnings.warn(\n",
      "/Users/nslali/anaconda3/envs/forecasting/lib/python3.8/site-packages/sklearn/base.py:465: UserWarning: X does not have valid feature names, but LinearSVR was fitted with feature names\n",
      "  warnings.warn(\n",
      "/Users/nslali/anaconda3/envs/forecasting/lib/python3.8/site-packages/sklearn/base.py:465: UserWarning: X does not have valid feature names, but LinearSVR was fitted with feature names\n",
      "  warnings.warn(\n",
      "/Users/nslali/anaconda3/envs/forecasting/lib/python3.8/site-packages/sklearn/base.py:465: UserWarning: X does not have valid feature names, but LinearSVR was fitted with feature names\n",
      "  warnings.warn(\n",
      "/Users/nslali/anaconda3/envs/forecasting/lib/python3.8/site-packages/sklearn/base.py:465: UserWarning: X does not have valid feature names, but LinearSVR was fitted with feature names\n",
      "  warnings.warn(\n",
      "/Users/nslali/anaconda3/envs/forecasting/lib/python3.8/site-packages/sklearn/base.py:465: UserWarning: X does not have valid feature names, but LinearSVR was fitted with feature names\n",
      "  warnings.warn(\n",
      "/Users/nslali/anaconda3/envs/forecasting/lib/python3.8/site-packages/sklearn/base.py:465: UserWarning: X does not have valid feature names, but LinearSVR was fitted with feature names\n",
      "  warnings.warn(\n",
      "/Users/nslali/anaconda3/envs/forecasting/lib/python3.8/site-packages/sklearn/base.py:465: UserWarning: X does not have valid feature names, but LinearSVR was fitted with feature names\n",
      "  warnings.warn(\n",
      "/Users/nslali/anaconda3/envs/forecasting/lib/python3.8/site-packages/sklearn/base.py:465: UserWarning: X does not have valid feature names, but LinearSVR was fitted with feature names\n",
      "  warnings.warn(\n",
      "/Users/nslali/anaconda3/envs/forecasting/lib/python3.8/site-packages/sklearn/base.py:465: UserWarning: X does not have valid feature names, but LinearSVR was fitted with feature names\n",
      "  warnings.warn(\n",
      "/Users/nslali/anaconda3/envs/forecasting/lib/python3.8/site-packages/sklearn/base.py:465: UserWarning: X does not have valid feature names, but LinearSVR was fitted with feature names\n",
      "  warnings.warn(\n",
      "/Users/nslali/anaconda3/envs/forecasting/lib/python3.8/site-packages/sklearn/base.py:465: UserWarning: X does not have valid feature names, but LinearSVR was fitted with feature names\n",
      "  warnings.warn(\n",
      "/Users/nslali/anaconda3/envs/forecasting/lib/python3.8/site-packages/sklearn/base.py:465: UserWarning: X does not have valid feature names, but LinearSVR was fitted with feature names\n",
      "  warnings.warn(\n",
      "/Users/nslali/anaconda3/envs/forecasting/lib/python3.8/site-packages/sklearn/base.py:465: UserWarning: X does not have valid feature names, but LinearSVR was fitted with feature names\n",
      "  warnings.warn(\n",
      "/Users/nslali/anaconda3/envs/forecasting/lib/python3.8/site-packages/sklearn/base.py:465: UserWarning: X does not have valid feature names, but LinearSVR was fitted with feature names\n",
      "  warnings.warn(\n",
      "/Users/nslali/anaconda3/envs/forecasting/lib/python3.8/site-packages/sklearn/base.py:465: UserWarning: X does not have valid feature names, but LinearSVR was fitted with feature names\n",
      "  warnings.warn(\n",
      "/Users/nslali/anaconda3/envs/forecasting/lib/python3.8/site-packages/sklearn/base.py:465: UserWarning: X does not have valid feature names, but LinearSVR was fitted with feature names\n",
      "  warnings.warn(\n",
      "/Users/nslali/anaconda3/envs/forecasting/lib/python3.8/site-packages/sklearn/base.py:465: UserWarning: X does not have valid feature names, but LinearSVR was fitted with feature names\n",
      "  warnings.warn(\n",
      "/Users/nslali/anaconda3/envs/forecasting/lib/python3.8/site-packages/sklearn/base.py:465: UserWarning: X does not have valid feature names, but LinearSVR was fitted with feature names\n",
      "  warnings.warn(\n",
      "/Users/nslali/anaconda3/envs/forecasting/lib/python3.8/site-packages/sklearn/base.py:465: UserWarning: X does not have valid feature names, but LinearSVR was fitted with feature names\n",
      "  warnings.warn(\n",
      "/Users/nslali/anaconda3/envs/forecasting/lib/python3.8/site-packages/sklearn/base.py:465: UserWarning: X does not have valid feature names, but LinearSVR was fitted with feature names\n",
      "  warnings.warn(\n",
      "/Users/nslali/anaconda3/envs/forecasting/lib/python3.8/site-packages/sklearn/base.py:465: UserWarning: X does not have valid feature names, but LinearSVR was fitted with feature names\n",
      "  warnings.warn(\n",
      "/Users/nslali/anaconda3/envs/forecasting/lib/python3.8/site-packages/sklearn/base.py:465: UserWarning: X does not have valid feature names, but LinearSVR was fitted with feature names\n",
      "  warnings.warn(\n",
      "/Users/nslali/anaconda3/envs/forecasting/lib/python3.8/site-packages/sklearn/base.py:465: UserWarning: X does not have valid feature names, but LinearSVR was fitted with feature names\n",
      "  warnings.warn(\n",
      "/Users/nslali/anaconda3/envs/forecasting/lib/python3.8/site-packages/sklearn/base.py:465: UserWarning: X does not have valid feature names, but LinearSVR was fitted with feature names\n",
      "  warnings.warn(\n",
      "/Users/nslali/anaconda3/envs/forecasting/lib/python3.8/site-packages/sklearn/base.py:465: UserWarning: X does not have valid feature names, but LinearSVR was fitted with feature names\n",
      "  warnings.warn(\n",
      "/Users/nslali/anaconda3/envs/forecasting/lib/python3.8/site-packages/sklearn/base.py:465: UserWarning: X does not have valid feature names, but LinearSVR was fitted with feature names\n",
      "  warnings.warn(\n",
      "/Users/nslali/anaconda3/envs/forecasting/lib/python3.8/site-packages/sklearn/base.py:465: UserWarning: X does not have valid feature names, but LinearSVR was fitted with feature names\n",
      "  warnings.warn(\n",
      "/Users/nslali/anaconda3/envs/forecasting/lib/python3.8/site-packages/sklearn/base.py:465: UserWarning: X does not have valid feature names, but LinearSVR was fitted with feature names\n",
      "  warnings.warn(\n",
      "/Users/nslali/anaconda3/envs/forecasting/lib/python3.8/site-packages/sklearn/svm/_classes.py:32: FutureWarning: The default value of `dual` will change from `True` to `'auto'` in 1.5. Set the value of `dual` explicitly to suppress the warning.\n",
      "  warnings.warn(\n",
      "/Users/nslali/anaconda3/envs/forecasting/lib/python3.8/site-packages/sklearn/svm/_classes.py:32: FutureWarning: The default value of `dual` will change from `True` to `'auto'` in 1.5. Set the value of `dual` explicitly to suppress the warning.\n",
      "  warnings.warn(\n",
      "/Users/nslali/anaconda3/envs/forecasting/lib/python3.8/site-packages/sklearn/svm/_classes.py:32: FutureWarning: The default value of `dual` will change from `True` to `'auto'` in 1.5. Set the value of `dual` explicitly to suppress the warning.\n",
      "  warnings.warn(\n",
      "/Users/nslali/anaconda3/envs/forecasting/lib/python3.8/site-packages/sklearn/svm/_classes.py:32: FutureWarning: The default value of `dual` will change from `True` to `'auto'` in 1.5. Set the value of `dual` explicitly to suppress the warning.\n",
      "  warnings.warn(\n",
      "/Users/nslali/anaconda3/envs/forecasting/lib/python3.8/site-packages/sklearn/svm/_classes.py:32: FutureWarning: The default value of `dual` will change from `True` to `'auto'` in 1.5. Set the value of `dual` explicitly to suppress the warning.\n",
      "  warnings.warn(\n",
      "/Users/nslali/anaconda3/envs/forecasting/lib/python3.8/site-packages/sklearn/svm/_classes.py:32: FutureWarning: The default value of `dual` will change from `True` to `'auto'` in 1.5. Set the value of `dual` explicitly to suppress the warning.\n",
      "  warnings.warn(\n",
      "/Users/nslali/anaconda3/envs/forecasting/lib/python3.8/site-packages/sklearn/svm/_base.py:1250: ConvergenceWarning: Liblinear failed to converge, increase the number of iterations.\n",
      "  warnings.warn(\n",
      "/Users/nslali/anaconda3/envs/forecasting/lib/python3.8/site-packages/sklearn/svm/_base.py:1250: ConvergenceWarning: Liblinear failed to converge, increase the number of iterations.\n",
      "  warnings.warn(\n",
      "/Users/nslali/anaconda3/envs/forecasting/lib/python3.8/site-packages/sklearn/svm/_classes.py:32: FutureWarning: The default value of `dual` will change from `True` to `'auto'` in 1.5. Set the value of `dual` explicitly to suppress the warning.\n",
      "  warnings.warn(\n",
      "/Users/nslali/anaconda3/envs/forecasting/lib/python3.8/site-packages/sklearn/svm/_base.py:1250: ConvergenceWarning: Liblinear failed to converge, increase the number of iterations.\n",
      "  warnings.warn(\n",
      "/Users/nslali/anaconda3/envs/forecasting/lib/python3.8/site-packages/sklearn/svm/_classes.py:32: FutureWarning: The default value of `dual` will change from `True` to `'auto'` in 1.5. Set the value of `dual` explicitly to suppress the warning.\n",
      "  warnings.warn(\n",
      "/Users/nslali/anaconda3/envs/forecasting/lib/python3.8/site-packages/sklearn/svm/_base.py:1250: ConvergenceWarning: Liblinear failed to converge, increase the number of iterations.\n",
      "  warnings.warn(\n",
      "/Users/nslali/anaconda3/envs/forecasting/lib/python3.8/site-packages/sklearn/svm/_base.py:1250: ConvergenceWarning: Liblinear failed to converge, increase the number of iterations.\n",
      "  warnings.warn(\n",
      "/Users/nslali/anaconda3/envs/forecasting/lib/python3.8/site-packages/sklearn/svm/_base.py:1250: ConvergenceWarning: Liblinear failed to converge, increase the number of iterations.\n",
      "  warnings.warn(\n"
     ]
    },
    {
     "name": "stdout",
     "output_type": "stream",
     "text": [
      "56 - RollingRegression with avg smape 10.31: \n",
      "Model Number: 57 of 90 with model RollingRegression for Validation 1\n"
     ]
    },
    {
     "name": "stderr",
     "output_type": "stream",
     "text": [
      "/Users/nslali/anaconda3/envs/forecasting/lib/python3.8/site-packages/sklearn/svm/_base.py:1250: ConvergenceWarning: Liblinear failed to converge, increase the number of iterations.\n",
      "  warnings.warn(\n",
      "/Users/nslali/anaconda3/envs/forecasting/lib/python3.8/site-packages/sklearn/svm/_base.py:1250: ConvergenceWarning: Liblinear failed to converge, increase the number of iterations.\n",
      "  warnings.warn(\n",
      "/Users/nslali/anaconda3/envs/forecasting/lib/python3.8/site-packages/sklearn/svm/_classes.py:32: FutureWarning: The default value of `dual` will change from `True` to `'auto'` in 1.5. Set the value of `dual` explicitly to suppress the warning.\n",
      "  warnings.warn(\n",
      "/Users/nslali/anaconda3/envs/forecasting/lib/python3.8/site-packages/sklearn/svm/_base.py:1250: ConvergenceWarning: Liblinear failed to converge, increase the number of iterations.\n",
      "  warnings.warn(\n",
      "/Users/nslali/anaconda3/envs/forecasting/lib/python3.8/site-packages/sklearn/base.py:465: UserWarning: X does not have valid feature names, but LinearSVR was fitted with feature names\n",
      "  warnings.warn(\n",
      "/Users/nslali/anaconda3/envs/forecasting/lib/python3.8/site-packages/sklearn/base.py:465: UserWarning: X does not have valid feature names, but LinearSVR was fitted with feature names\n",
      "  warnings.warn(\n",
      "/Users/nslali/anaconda3/envs/forecasting/lib/python3.8/site-packages/sklearn/base.py:465: UserWarning: X does not have valid feature names, but LinearSVR was fitted with feature names\n",
      "  warnings.warn(\n",
      "/Users/nslali/anaconda3/envs/forecasting/lib/python3.8/site-packages/sklearn/base.py:465: UserWarning: X does not have valid feature names, but LinearSVR was fitted with feature names\n",
      "  warnings.warn(\n",
      "/Users/nslali/anaconda3/envs/forecasting/lib/python3.8/site-packages/sklearn/base.py:465: UserWarning: X does not have valid feature names, but LinearSVR was fitted with feature names\n",
      "  warnings.warn(\n",
      "/Users/nslali/anaconda3/envs/forecasting/lib/python3.8/site-packages/sklearn/base.py:465: UserWarning: X does not have valid feature names, but LinearSVR was fitted with feature names\n",
      "  warnings.warn(\n",
      "/Users/nslali/anaconda3/envs/forecasting/lib/python3.8/site-packages/sklearn/base.py:465: UserWarning: X does not have valid feature names, but LinearSVR was fitted with feature names\n",
      "  warnings.warn(\n",
      "/Users/nslali/anaconda3/envs/forecasting/lib/python3.8/site-packages/sklearn/base.py:465: UserWarning: X does not have valid feature names, but LinearSVR was fitted with feature names\n",
      "  warnings.warn(\n",
      "/Users/nslali/anaconda3/envs/forecasting/lib/python3.8/site-packages/sklearn/base.py:465: UserWarning: X does not have valid feature names, but LinearSVR was fitted with feature names\n",
      "  warnings.warn(\n",
      "/Users/nslali/anaconda3/envs/forecasting/lib/python3.8/site-packages/sklearn/base.py:465: UserWarning: X does not have valid feature names, but LinearSVR was fitted with feature names\n",
      "  warnings.warn(\n",
      "/Users/nslali/anaconda3/envs/forecasting/lib/python3.8/site-packages/sklearn/base.py:465: UserWarning: X does not have valid feature names, but LinearSVR was fitted with feature names\n",
      "  warnings.warn(\n",
      "/Users/nslali/anaconda3/envs/forecasting/lib/python3.8/site-packages/sklearn/base.py:465: UserWarning: X does not have valid feature names, but LinearSVR was fitted with feature names\n",
      "  warnings.warn(\n",
      "/Users/nslali/anaconda3/envs/forecasting/lib/python3.8/site-packages/sklearn/base.py:465: UserWarning: X does not have valid feature names, but LinearSVR was fitted with feature names\n",
      "  warnings.warn(\n",
      "/Users/nslali/anaconda3/envs/forecasting/lib/python3.8/site-packages/sklearn/base.py:465: UserWarning: X does not have valid feature names, but LinearSVR was fitted with feature names\n",
      "  warnings.warn(\n",
      "/Users/nslali/anaconda3/envs/forecasting/lib/python3.8/site-packages/sklearn/base.py:465: UserWarning: X does not have valid feature names, but LinearSVR was fitted with feature names\n",
      "  warnings.warn(\n",
      "/Users/nslali/anaconda3/envs/forecasting/lib/python3.8/site-packages/sklearn/base.py:465: UserWarning: X does not have valid feature names, but LinearSVR was fitted with feature names\n",
      "  warnings.warn(\n",
      "/Users/nslali/anaconda3/envs/forecasting/lib/python3.8/site-packages/sklearn/base.py:465: UserWarning: X does not have valid feature names, but LinearSVR was fitted with feature names\n",
      "  warnings.warn(\n",
      "/Users/nslali/anaconda3/envs/forecasting/lib/python3.8/site-packages/sklearn/base.py:465: UserWarning: X does not have valid feature names, but LinearSVR was fitted with feature names\n",
      "  warnings.warn(\n",
      "/Users/nslali/anaconda3/envs/forecasting/lib/python3.8/site-packages/sklearn/base.py:465: UserWarning: X does not have valid feature names, but LinearSVR was fitted with feature names\n",
      "  warnings.warn(\n",
      "/Users/nslali/anaconda3/envs/forecasting/lib/python3.8/site-packages/sklearn/base.py:465: UserWarning: X does not have valid feature names, but LinearSVR was fitted with feature names\n",
      "  warnings.warn(\n",
      "/Users/nslali/anaconda3/envs/forecasting/lib/python3.8/site-packages/sklearn/base.py:465: UserWarning: X does not have valid feature names, but LinearSVR was fitted with feature names\n",
      "  warnings.warn(\n",
      "/Users/nslali/anaconda3/envs/forecasting/lib/python3.8/site-packages/sklearn/base.py:465: UserWarning: X does not have valid feature names, but LinearSVR was fitted with feature names\n",
      "  warnings.warn(\n",
      "/Users/nslali/anaconda3/envs/forecasting/lib/python3.8/site-packages/sklearn/base.py:465: UserWarning: X does not have valid feature names, but LinearSVR was fitted with feature names\n",
      "  warnings.warn(\n",
      "/Users/nslali/anaconda3/envs/forecasting/lib/python3.8/site-packages/sklearn/base.py:465: UserWarning: X does not have valid feature names, but LinearSVR was fitted with feature names\n",
      "  warnings.warn(\n",
      "/Users/nslali/anaconda3/envs/forecasting/lib/python3.8/site-packages/sklearn/base.py:465: UserWarning: X does not have valid feature names, but LinearSVR was fitted with feature names\n",
      "  warnings.warn(\n",
      "/Users/nslali/anaconda3/envs/forecasting/lib/python3.8/site-packages/sklearn/base.py:465: UserWarning: X does not have valid feature names, but LinearSVR was fitted with feature names\n",
      "  warnings.warn(\n",
      "/Users/nslali/anaconda3/envs/forecasting/lib/python3.8/site-packages/sklearn/base.py:465: UserWarning: X does not have valid feature names, but LinearSVR was fitted with feature names\n",
      "  warnings.warn(\n",
      "/Users/nslali/anaconda3/envs/forecasting/lib/python3.8/site-packages/sklearn/base.py:465: UserWarning: X does not have valid feature names, but LinearSVR was fitted with feature names\n",
      "  warnings.warn(\n",
      "/Users/nslali/anaconda3/envs/forecasting/lib/python3.8/site-packages/sklearn/base.py:465: UserWarning: X does not have valid feature names, but LinearSVR was fitted with feature names\n",
      "  warnings.warn(\n",
      "/Users/nslali/anaconda3/envs/forecasting/lib/python3.8/site-packages/sklearn/base.py:465: UserWarning: X does not have valid feature names, but LinearSVR was fitted with feature names\n",
      "  warnings.warn(\n",
      "/Users/nslali/anaconda3/envs/forecasting/lib/python3.8/site-packages/sklearn/base.py:465: UserWarning: X does not have valid feature names, but LinearSVR was fitted with feature names\n",
      "  warnings.warn(\n",
      "/Users/nslali/anaconda3/envs/forecasting/lib/python3.8/site-packages/sklearn/base.py:465: UserWarning: X does not have valid feature names, but LinearSVR was fitted with feature names\n",
      "  warnings.warn(\n",
      "/Users/nslali/anaconda3/envs/forecasting/lib/python3.8/site-packages/sklearn/base.py:465: UserWarning: X does not have valid feature names, but LinearSVR was fitted with feature names\n",
      "  warnings.warn(\n",
      "/Users/nslali/anaconda3/envs/forecasting/lib/python3.8/site-packages/sklearn/base.py:465: UserWarning: X does not have valid feature names, but LinearSVR was fitted with feature names\n",
      "  warnings.warn(\n",
      "/Users/nslali/anaconda3/envs/forecasting/lib/python3.8/site-packages/sklearn/base.py:465: UserWarning: X does not have valid feature names, but LinearSVR was fitted with feature names\n",
      "  warnings.warn(\n",
      "/Users/nslali/anaconda3/envs/forecasting/lib/python3.8/site-packages/sklearn/base.py:465: UserWarning: X does not have valid feature names, but LinearSVR was fitted with feature names\n",
      "  warnings.warn(\n"
     ]
    },
    {
     "name": "stdout",
     "output_type": "stream",
     "text": [
      "57 - RollingRegression with avg smape 10.15: \n",
      "Model Number: 58 of 90 with model WindowRegression for Validation 1\n"
     ]
    },
    {
     "name": "stderr",
     "output_type": "stream",
     "text": [
      "/Users/nslali/anaconda3/envs/forecasting/lib/python3.8/site-packages/sklearn/base.py:465: UserWarning: X does not have valid feature names, but LinearSVR was fitted with feature names\n",
      "  warnings.warn(\n",
      "/Users/nslali/anaconda3/envs/forecasting/lib/python3.8/site-packages/sklearn/base.py:465: UserWarning: X does not have valid feature names, but LinearSVR was fitted with feature names\n",
      "  warnings.warn(\n",
      "/Users/nslali/anaconda3/envs/forecasting/lib/python3.8/site-packages/sklearn/base.py:465: UserWarning: X does not have valid feature names, but LinearSVR was fitted with feature names\n",
      "  warnings.warn(\n",
      "/Users/nslali/anaconda3/envs/forecasting/lib/python3.8/site-packages/sklearn/base.py:465: UserWarning: X does not have valid feature names, but LinearSVR was fitted with feature names\n",
      "  warnings.warn(\n",
      "/Users/nslali/anaconda3/envs/forecasting/lib/python3.8/site-packages/sklearn/base.py:465: UserWarning: X does not have valid feature names, but LinearSVR was fitted with feature names\n",
      "  warnings.warn(\n",
      "/Users/nslali/anaconda3/envs/forecasting/lib/python3.8/site-packages/sklearn/base.py:465: UserWarning: X does not have valid feature names, but LinearSVR was fitted with feature names\n",
      "  warnings.warn(\n",
      "/Users/nslali/anaconda3/envs/forecasting/lib/python3.8/site-packages/sklearn/base.py:465: UserWarning: X does not have valid feature names, but LinearSVR was fitted with feature names\n",
      "  warnings.warn(\n",
      "/Users/nslali/anaconda3/envs/forecasting/lib/python3.8/site-packages/sklearn/base.py:465: UserWarning: X does not have valid feature names, but LinearSVR was fitted with feature names\n",
      "  warnings.warn(\n",
      "/Users/nslali/anaconda3/envs/forecasting/lib/python3.8/site-packages/sklearn/base.py:465: UserWarning: X does not have valid feature names, but LinearSVR was fitted with feature names\n",
      "  warnings.warn(\n",
      "/Users/nslali/anaconda3/envs/forecasting/lib/python3.8/site-packages/sklearn/base.py:465: UserWarning: X does not have valid feature names, but LinearSVR was fitted with feature names\n",
      "  warnings.warn(\n",
      "/Users/nslali/anaconda3/envs/forecasting/lib/python3.8/site-packages/sklearn/base.py:465: UserWarning: X does not have valid feature names, but LinearSVR was fitted with feature names\n",
      "  warnings.warn(\n",
      "/Users/nslali/anaconda3/envs/forecasting/lib/python3.8/site-packages/sklearn/base.py:465: UserWarning: X does not have valid feature names, but LinearSVR was fitted with feature names\n",
      "  warnings.warn(\n",
      "/Users/nslali/anaconda3/envs/forecasting/lib/python3.8/site-packages/sklearn/base.py:465: UserWarning: X does not have valid feature names, but LinearSVR was fitted with feature names\n",
      "  warnings.warn(\n",
      "/Users/nslali/anaconda3/envs/forecasting/lib/python3.8/site-packages/sklearn/base.py:465: UserWarning: X does not have valid feature names, but LinearSVR was fitted with feature names\n",
      "  warnings.warn(\n",
      "/Users/nslali/anaconda3/envs/forecasting/lib/python3.8/site-packages/sklearn/base.py:465: UserWarning: X does not have valid feature names, but LinearSVR was fitted with feature names\n",
      "  warnings.warn(\n",
      "/Users/nslali/anaconda3/envs/forecasting/lib/python3.8/site-packages/sklearn/base.py:465: UserWarning: X does not have valid feature names, but LinearSVR was fitted with feature names\n",
      "  warnings.warn(\n",
      "/Users/nslali/anaconda3/envs/forecasting/lib/python3.8/site-packages/sklearn/base.py:465: UserWarning: X does not have valid feature names, but LinearSVR was fitted with feature names\n",
      "  warnings.warn(\n",
      "/Users/nslali/anaconda3/envs/forecasting/lib/python3.8/site-packages/sklearn/base.py:465: UserWarning: X does not have valid feature names, but LinearSVR was fitted with feature names\n",
      "  warnings.warn(\n"
     ]
    },
    {
     "name": "stdout",
     "output_type": "stream",
     "text": [
      "58 - WindowRegression with avg smape 14.13: \n",
      "Model Number: 59 of 90 with model RollingRegression for Validation 1\n"
     ]
    },
    {
     "name": "stderr",
     "output_type": "stream",
     "text": [
      "/Users/nslali/anaconda3/envs/forecasting/lib/python3.8/site-packages/sklearn/base.py:465: UserWarning: X does not have valid feature names, but ExtraTreesRegressor was fitted with feature names\n",
      "  warnings.warn(\n",
      "/Users/nslali/anaconda3/envs/forecasting/lib/python3.8/site-packages/sklearn/base.py:465: UserWarning: X does not have valid feature names, but ExtraTreesRegressor was fitted with feature names\n",
      "  warnings.warn(\n",
      "/Users/nslali/anaconda3/envs/forecasting/lib/python3.8/site-packages/sklearn/base.py:465: UserWarning: X does not have valid feature names, but ExtraTreesRegressor was fitted with feature names\n",
      "  warnings.warn(\n",
      "/Users/nslali/anaconda3/envs/forecasting/lib/python3.8/site-packages/sklearn/base.py:465: UserWarning: X does not have valid feature names, but ExtraTreesRegressor was fitted with feature names\n",
      "  warnings.warn(\n",
      "/Users/nslali/anaconda3/envs/forecasting/lib/python3.8/site-packages/sklearn/base.py:465: UserWarning: X does not have valid feature names, but ExtraTreesRegressor was fitted with feature names\n",
      "  warnings.warn(\n",
      "/Users/nslali/anaconda3/envs/forecasting/lib/python3.8/site-packages/sklearn/base.py:465: UserWarning: X does not have valid feature names, but ExtraTreesRegressor was fitted with feature names\n",
      "  warnings.warn(\n"
     ]
    },
    {
     "name": "stdout",
     "output_type": "stream",
     "text": [
      "59 - RollingRegression with avg smape 8.92: \n",
      "Model Number: 60 of 90 with model RollingRegression for Validation 1\n"
     ]
    },
    {
     "name": "stderr",
     "output_type": "stream",
     "text": [
      "/Users/nslali/anaconda3/envs/forecasting/lib/python3.8/site-packages/sklearn/svm/_classes.py:32: FutureWarning: The default value of `dual` will change from `True` to `'auto'` in 1.5. Set the value of `dual` explicitly to suppress the warning.\n",
      "  warnings.warn(\n",
      "/Users/nslali/anaconda3/envs/forecasting/lib/python3.8/site-packages/sklearn/svm/_classes.py:32: FutureWarning: The default value of `dual` will change from `True` to `'auto'` in 1.5. Set the value of `dual` explicitly to suppress the warning.\n",
      "  warnings.warn(\n",
      "/Users/nslali/anaconda3/envs/forecasting/lib/python3.8/site-packages/sklearn/svm/_classes.py:32: FutureWarning: The default value of `dual` will change from `True` to `'auto'` in 1.5. Set the value of `dual` explicitly to suppress the warning.\n",
      "  warnings.warn(\n",
      "/Users/nslali/anaconda3/envs/forecasting/lib/python3.8/site-packages/sklearn/svm/_classes.py:32: FutureWarning: The default value of `dual` will change from `True` to `'auto'` in 1.5. Set the value of `dual` explicitly to suppress the warning.\n",
      "  warnings.warn(\n",
      "/Users/nslali/anaconda3/envs/forecasting/lib/python3.8/site-packages/sklearn/svm/_classes.py:32: FutureWarning: The default value of `dual` will change from `True` to `'auto'` in 1.5. Set the value of `dual` explicitly to suppress the warning.\n",
      "  warnings.warn(\n",
      "/Users/nslali/anaconda3/envs/forecasting/lib/python3.8/site-packages/sklearn/svm/_classes.py:32: FutureWarning: The default value of `dual` will change from `True` to `'auto'` in 1.5. Set the value of `dual` explicitly to suppress the warning.\n",
      "  warnings.warn(\n",
      "/Users/nslali/anaconda3/envs/forecasting/lib/python3.8/site-packages/sklearn/svm/_classes.py:32: FutureWarning: The default value of `dual` will change from `True` to `'auto'` in 1.5. Set the value of `dual` explicitly to suppress the warning.\n",
      "  warnings.warn(\n",
      "/Users/nslali/anaconda3/envs/forecasting/lib/python3.8/site-packages/sklearn/svm/_classes.py:32: FutureWarning: The default value of `dual` will change from `True` to `'auto'` in 1.5. Set the value of `dual` explicitly to suppress the warning.\n",
      "  warnings.warn(\n",
      "/Users/nslali/anaconda3/envs/forecasting/lib/python3.8/site-packages/sklearn/svm/_classes.py:32: FutureWarning: The default value of `dual` will change from `True` to `'auto'` in 1.5. Set the value of `dual` explicitly to suppress the warning.\n",
      "  warnings.warn(\n",
      "/Users/nslali/anaconda3/envs/forecasting/lib/python3.8/site-packages/sklearn/svm/_base.py:1250: ConvergenceWarning: Liblinear failed to converge, increase the number of iterations.\n",
      "  warnings.warn(\n",
      "/Users/nslali/anaconda3/envs/forecasting/lib/python3.8/site-packages/sklearn/svm/_base.py:1250: ConvergenceWarning: Liblinear failed to converge, increase the number of iterations.\n",
      "  warnings.warn(\n",
      "/Users/nslali/anaconda3/envs/forecasting/lib/python3.8/site-packages/sklearn/svm/_base.py:1250: ConvergenceWarning: Liblinear failed to converge, increase the number of iterations.\n",
      "  warnings.warn(\n",
      "/Users/nslali/anaconda3/envs/forecasting/lib/python3.8/site-packages/sklearn/svm/_base.py:1250: ConvergenceWarning: Liblinear failed to converge, increase the number of iterations.\n",
      "  warnings.warn(\n",
      "/Users/nslali/anaconda3/envs/forecasting/lib/python3.8/site-packages/sklearn/svm/_base.py:1250: ConvergenceWarning: Liblinear failed to converge, increase the number of iterations.\n",
      "  warnings.warn(\n",
      "/Users/nslali/anaconda3/envs/forecasting/lib/python3.8/site-packages/sklearn/svm/_base.py:1250: ConvergenceWarning: Liblinear failed to converge, increase the number of iterations.\n",
      "  warnings.warn(\n",
      "/Users/nslali/anaconda3/envs/forecasting/lib/python3.8/site-packages/sklearn/svm/_base.py:1250: ConvergenceWarning: Liblinear failed to converge, increase the number of iterations.\n",
      "  warnings.warn(\n",
      "/Users/nslali/anaconda3/envs/forecasting/lib/python3.8/site-packages/sklearn/svm/_base.py:1250: ConvergenceWarning: Liblinear failed to converge, increase the number of iterations.\n",
      "  warnings.warn(\n",
      "/Users/nslali/anaconda3/envs/forecasting/lib/python3.8/site-packages/sklearn/svm/_base.py:1250: ConvergenceWarning: Liblinear failed to converge, increase the number of iterations.\n",
      "  warnings.warn(\n",
      "/Users/nslali/anaconda3/envs/forecasting/lib/python3.8/site-packages/sklearn/base.py:465: UserWarning: X does not have valid feature names, but LinearSVR was fitted with feature names\n",
      "  warnings.warn(\n",
      "/Users/nslali/anaconda3/envs/forecasting/lib/python3.8/site-packages/sklearn/base.py:465: UserWarning: X does not have valid feature names, but LinearSVR was fitted with feature names\n",
      "  warnings.warn(\n",
      "/Users/nslali/anaconda3/envs/forecasting/lib/python3.8/site-packages/sklearn/base.py:465: UserWarning: X does not have valid feature names, but LinearSVR was fitted with feature names\n",
      "  warnings.warn(\n",
      "/Users/nslali/anaconda3/envs/forecasting/lib/python3.8/site-packages/sklearn/base.py:465: UserWarning: X does not have valid feature names, but LinearSVR was fitted with feature names\n",
      "  warnings.warn(\n",
      "/Users/nslali/anaconda3/envs/forecasting/lib/python3.8/site-packages/sklearn/base.py:465: UserWarning: X does not have valid feature names, but LinearSVR was fitted with feature names\n",
      "  warnings.warn(\n",
      "/Users/nslali/anaconda3/envs/forecasting/lib/python3.8/site-packages/sklearn/base.py:465: UserWarning: X does not have valid feature names, but LinearSVR was fitted with feature names\n",
      "  warnings.warn(\n",
      "/Users/nslali/anaconda3/envs/forecasting/lib/python3.8/site-packages/sklearn/base.py:465: UserWarning: X does not have valid feature names, but LinearSVR was fitted with feature names\n",
      "  warnings.warn(\n",
      "/Users/nslali/anaconda3/envs/forecasting/lib/python3.8/site-packages/sklearn/base.py:465: UserWarning: X does not have valid feature names, but LinearSVR was fitted with feature names\n",
      "  warnings.warn(\n",
      "/Users/nslali/anaconda3/envs/forecasting/lib/python3.8/site-packages/sklearn/base.py:465: UserWarning: X does not have valid feature names, but LinearSVR was fitted with feature names\n",
      "  warnings.warn(\n",
      "/Users/nslali/anaconda3/envs/forecasting/lib/python3.8/site-packages/sklearn/base.py:465: UserWarning: X does not have valid feature names, but LinearSVR was fitted with feature names\n",
      "  warnings.warn(\n",
      "/Users/nslali/anaconda3/envs/forecasting/lib/python3.8/site-packages/sklearn/base.py:465: UserWarning: X does not have valid feature names, but LinearSVR was fitted with feature names\n",
      "  warnings.warn(\n",
      "/Users/nslali/anaconda3/envs/forecasting/lib/python3.8/site-packages/sklearn/base.py:465: UserWarning: X does not have valid feature names, but LinearSVR was fitted with feature names\n",
      "  warnings.warn(\n",
      "/Users/nslali/anaconda3/envs/forecasting/lib/python3.8/site-packages/sklearn/base.py:465: UserWarning: X does not have valid feature names, but LinearSVR was fitted with feature names\n",
      "  warnings.warn(\n",
      "/Users/nslali/anaconda3/envs/forecasting/lib/python3.8/site-packages/sklearn/base.py:465: UserWarning: X does not have valid feature names, but LinearSVR was fitted with feature names\n",
      "  warnings.warn(\n",
      "/Users/nslali/anaconda3/envs/forecasting/lib/python3.8/site-packages/sklearn/base.py:465: UserWarning: X does not have valid feature names, but LinearSVR was fitted with feature names\n",
      "  warnings.warn(\n",
      "/Users/nslali/anaconda3/envs/forecasting/lib/python3.8/site-packages/sklearn/base.py:465: UserWarning: X does not have valid feature names, but LinearSVR was fitted with feature names\n",
      "  warnings.warn(\n",
      "/Users/nslali/anaconda3/envs/forecasting/lib/python3.8/site-packages/sklearn/base.py:465: UserWarning: X does not have valid feature names, but LinearSVR was fitted with feature names\n",
      "  warnings.warn(\n",
      "/Users/nslali/anaconda3/envs/forecasting/lib/python3.8/site-packages/sklearn/base.py:465: UserWarning: X does not have valid feature names, but LinearSVR was fitted with feature names\n",
      "  warnings.warn(\n"
     ]
    },
    {
     "name": "stdout",
     "output_type": "stream",
     "text": [
      "60 - RollingRegression with avg smape 10.55: \n",
      "Model Number: 61 of 90 with model RollingRegression for Validation 1\n",
      "61 - RollingRegression with avg smape 9.99: \n",
      "Model Number: 62 of 90 with model RRVAR for Validation 1\n",
      "62 - RRVAR with avg smape 9.61: \n",
      "Model Number: 63 of 90 with model WindowRegression for Validation 1\n"
     ]
    },
    {
     "name": "stderr",
     "output_type": "stream",
     "text": [
      "/Users/nslali/anaconda3/envs/forecasting/lib/python3.8/site-packages/sklearn/base.py:465: UserWarning: X does not have valid feature names, but LinearSVR was fitted with feature names\n",
      "  warnings.warn(\n",
      "/Users/nslali/anaconda3/envs/forecasting/lib/python3.8/site-packages/sklearn/base.py:465: UserWarning: X does not have valid feature names, but LinearSVR was fitted with feature names\n",
      "  warnings.warn(\n",
      "/Users/nslali/anaconda3/envs/forecasting/lib/python3.8/site-packages/sklearn/base.py:465: UserWarning: X does not have valid feature names, but LinearSVR was fitted with feature names\n",
      "  warnings.warn(\n",
      "/Users/nslali/anaconda3/envs/forecasting/lib/python3.8/site-packages/sklearn/base.py:465: UserWarning: X does not have valid feature names, but LinearSVR was fitted with feature names\n",
      "  warnings.warn(\n",
      "/Users/nslali/anaconda3/envs/forecasting/lib/python3.8/site-packages/sklearn/base.py:465: UserWarning: X does not have valid feature names, but LinearSVR was fitted with feature names\n",
      "  warnings.warn(\n",
      "/Users/nslali/anaconda3/envs/forecasting/lib/python3.8/site-packages/sklearn/base.py:465: UserWarning: X does not have valid feature names, but LinearSVR was fitted with feature names\n",
      "  warnings.warn(\n",
      "/Users/nslali/anaconda3/envs/forecasting/lib/python3.8/site-packages/sklearn/base.py:465: UserWarning: X does not have valid feature names, but LinearSVR was fitted with feature names\n",
      "  warnings.warn(\n",
      "/Users/nslali/anaconda3/envs/forecasting/lib/python3.8/site-packages/sklearn/base.py:465: UserWarning: X does not have valid feature names, but LinearSVR was fitted with feature names\n",
      "  warnings.warn(\n",
      "/Users/nslali/anaconda3/envs/forecasting/lib/python3.8/site-packages/sklearn/base.py:465: UserWarning: X does not have valid feature names, but LinearSVR was fitted with feature names\n",
      "  warnings.warn(\n",
      "/Users/nslali/anaconda3/envs/forecasting/lib/python3.8/site-packages/sklearn/base.py:465: UserWarning: X does not have valid feature names, but LinearSVR was fitted with feature names\n",
      "  warnings.warn(\n",
      "/Users/nslali/anaconda3/envs/forecasting/lib/python3.8/site-packages/sklearn/base.py:465: UserWarning: X does not have valid feature names, but LinearSVR was fitted with feature names\n",
      "  warnings.warn(\n",
      "/Users/nslali/anaconda3/envs/forecasting/lib/python3.8/site-packages/sklearn/base.py:465: UserWarning: X does not have valid feature names, but LinearSVR was fitted with feature names\n",
      "  warnings.warn(\n",
      "/Users/nslali/anaconda3/envs/forecasting/lib/python3.8/site-packages/sklearn/base.py:465: UserWarning: X does not have valid feature names, but LinearSVR was fitted with feature names\n",
      "  warnings.warn(\n",
      "/Users/nslali/anaconda3/envs/forecasting/lib/python3.8/site-packages/sklearn/base.py:465: UserWarning: X does not have valid feature names, but LinearSVR was fitted with feature names\n",
      "  warnings.warn(\n",
      "/Users/nslali/anaconda3/envs/forecasting/lib/python3.8/site-packages/sklearn/base.py:465: UserWarning: X does not have valid feature names, but LinearSVR was fitted with feature names\n",
      "  warnings.warn(\n",
      "/Users/nslali/anaconda3/envs/forecasting/lib/python3.8/site-packages/sklearn/base.py:465: UserWarning: X does not have valid feature names, but LinearSVR was fitted with feature names\n",
      "  warnings.warn(\n",
      "/Users/nslali/anaconda3/envs/forecasting/lib/python3.8/site-packages/sklearn/base.py:465: UserWarning: X does not have valid feature names, but LinearSVR was fitted with feature names\n",
      "  warnings.warn(\n",
      "/Users/nslali/anaconda3/envs/forecasting/lib/python3.8/site-packages/sklearn/base.py:465: UserWarning: X does not have valid feature names, but LinearSVR was fitted with feature names\n",
      "  warnings.warn(\n",
      "/Users/nslali/anaconda3/envs/forecasting/lib/python3.8/site-packages/sklearn/base.py:465: UserWarning: X does not have valid feature names, but LinearSVR was fitted with feature names\n",
      "  warnings.warn(\n",
      "/Users/nslali/anaconda3/envs/forecasting/lib/python3.8/site-packages/sklearn/base.py:465: UserWarning: X does not have valid feature names, but LinearSVR was fitted with feature names\n",
      "  warnings.warn(\n",
      "/Users/nslali/anaconda3/envs/forecasting/lib/python3.8/site-packages/sklearn/base.py:465: UserWarning: X does not have valid feature names, but LinearSVR was fitted with feature names\n",
      "  warnings.warn(\n",
      "/Users/nslali/anaconda3/envs/forecasting/lib/python3.8/site-packages/sklearn/base.py:465: UserWarning: X does not have valid feature names, but LinearSVR was fitted with feature names\n",
      "  warnings.warn(\n",
      "/Users/nslali/anaconda3/envs/forecasting/lib/python3.8/site-packages/sklearn/base.py:465: UserWarning: X does not have valid feature names, but LinearSVR was fitted with feature names\n",
      "  warnings.warn(\n",
      "/Users/nslali/anaconda3/envs/forecasting/lib/python3.8/site-packages/sklearn/base.py:465: UserWarning: X does not have valid feature names, but LinearSVR was fitted with feature names\n",
      "  warnings.warn(\n",
      "/Users/nslali/anaconda3/envs/forecasting/lib/python3.8/site-packages/sklearn/base.py:465: UserWarning: X does not have valid feature names, but LinearSVR was fitted with feature names\n",
      "  warnings.warn(\n",
      "/Users/nslali/anaconda3/envs/forecasting/lib/python3.8/site-packages/sklearn/base.py:465: UserWarning: X does not have valid feature names, but LinearSVR was fitted with feature names\n",
      "  warnings.warn(\n",
      "/Users/nslali/anaconda3/envs/forecasting/lib/python3.8/site-packages/sklearn/base.py:465: UserWarning: X does not have valid feature names, but LinearSVR was fitted with feature names\n",
      "  warnings.warn(\n",
      "/Users/nslali/anaconda3/envs/forecasting/lib/python3.8/site-packages/sklearn/base.py:465: UserWarning: X does not have valid feature names, but LinearSVR was fitted with feature names\n",
      "  warnings.warn(\n",
      "/Users/nslali/anaconda3/envs/forecasting/lib/python3.8/site-packages/sklearn/base.py:465: UserWarning: X does not have valid feature names, but LinearSVR was fitted with feature names\n",
      "  warnings.warn(\n",
      "/Users/nslali/anaconda3/envs/forecasting/lib/python3.8/site-packages/sklearn/base.py:465: UserWarning: X does not have valid feature names, but LinearSVR was fitted with feature names\n",
      "  warnings.warn(\n",
      "/Users/nslali/anaconda3/envs/forecasting/lib/python3.8/site-packages/sklearn/base.py:465: UserWarning: X does not have valid feature names, but LinearSVR was fitted with feature names\n",
      "  warnings.warn(\n",
      "/Users/nslali/anaconda3/envs/forecasting/lib/python3.8/site-packages/sklearn/base.py:465: UserWarning: X does not have valid feature names, but LinearSVR was fitted with feature names\n",
      "  warnings.warn(\n",
      "/Users/nslali/anaconda3/envs/forecasting/lib/python3.8/site-packages/sklearn/base.py:465: UserWarning: X does not have valid feature names, but LinearSVR was fitted with feature names\n",
      "  warnings.warn(\n",
      "/Users/nslali/anaconda3/envs/forecasting/lib/python3.8/site-packages/sklearn/base.py:465: UserWarning: X does not have valid feature names, but LinearSVR was fitted with feature names\n",
      "  warnings.warn(\n",
      "/Users/nslali/anaconda3/envs/forecasting/lib/python3.8/site-packages/sklearn/base.py:465: UserWarning: X does not have valid feature names, but LinearSVR was fitted with feature names\n",
      "  warnings.warn(\n",
      "/Users/nslali/anaconda3/envs/forecasting/lib/python3.8/site-packages/sklearn/base.py:465: UserWarning: X does not have valid feature names, but LinearSVR was fitted with feature names\n",
      "  warnings.warn(\n",
      "/Users/nslali/anaconda3/envs/forecasting/lib/python3.8/site-packages/sklearn/base.py:465: UserWarning: X does not have valid feature names, but MultiTaskElasticNet was fitted with feature names\n",
      "  warnings.warn(\n",
      "/Users/nslali/anaconda3/envs/forecasting/lib/python3.8/site-packages/sklearn/base.py:465: UserWarning: X does not have valid feature names, but MultiTaskElasticNet was fitted with feature names\n",
      "  warnings.warn(\n",
      "/Users/nslali/anaconda3/envs/forecasting/lib/python3.8/site-packages/sklearn/base.py:465: UserWarning: X does not have valid feature names, but MultiTaskElasticNet was fitted with feature names\n",
      "  warnings.warn(\n",
      "/Users/nslali/anaconda3/envs/forecasting/lib/python3.8/site-packages/sklearn/base.py:465: UserWarning: X does not have valid feature names, but MultiTaskElasticNet was fitted with feature names\n",
      "  warnings.warn(\n",
      "/Users/nslali/anaconda3/envs/forecasting/lib/python3.8/site-packages/sklearn/base.py:465: UserWarning: X does not have valid feature names, but MultiTaskElasticNet was fitted with feature names\n",
      "  warnings.warn(\n",
      "/Users/nslali/anaconda3/envs/forecasting/lib/python3.8/site-packages/sklearn/base.py:465: UserWarning: X does not have valid feature names, but MultiTaskElasticNet was fitted with feature names\n",
      "  warnings.warn(\n"
     ]
    },
    {
     "name": "stdout",
     "output_type": "stream",
     "text": [
      "63 - WindowRegression with avg smape 12.98: \n",
      "Model Number: 64 of 90 with model RRVAR for Validation 1\n",
      "64 - RRVAR with avg smape 11.04: \n",
      "Model Number: 65 of 90 with model RRVAR for Validation 1\n",
      "65 - RRVAR with avg smape 11.04: \n",
      "Model Number: 66 of 90 with model DynamicFactor for Validation 1\n"
     ]
    },
    {
     "name": "stderr",
     "output_type": "stream",
     "text": [
      "/Users/nslali/anaconda3/envs/forecasting/lib/python3.8/site-packages/statsmodels/base/model.py:607: ConvergenceWarning: Maximum Likelihood optimization failed to converge. Check mle_retvals\n",
      "  warnings.warn(\"Maximum Likelihood optimization failed to \"\n"
     ]
    },
    {
     "name": "stdout",
     "output_type": "stream",
     "text": [
      "66 - DynamicFactor with avg smape 33.87: \n",
      "Model Number: 67 of 90 with model DynamicFactor for Validation 1\n"
     ]
    },
    {
     "name": "stderr",
     "output_type": "stream",
     "text": [
      "/Users/nslali/anaconda3/envs/forecasting/lib/python3.8/site-packages/statsmodels/base/model.py:607: ConvergenceWarning: Maximum Likelihood optimization failed to converge. Check mle_retvals\n",
      "  warnings.warn(\"Maximum Likelihood optimization failed to \"\n"
     ]
    },
    {
     "name": "stdout",
     "output_type": "stream",
     "text": [
      "67 - DynamicFactor with avg smape 118.36: \n",
      "Model Number: 68 of 90 with model DynamicFactor for Validation 1\n"
     ]
    },
    {
     "name": "stderr",
     "output_type": "stream",
     "text": [
      "/Users/nslali/anaconda3/envs/forecasting/lib/python3.8/site-packages/statsmodels/base/model.py:607: ConvergenceWarning: Maximum Likelihood optimization failed to converge. Check mle_retvals\n",
      "  warnings.warn(\"Maximum Likelihood optimization failed to \"\n"
     ]
    },
    {
     "name": "stdout",
     "output_type": "stream",
     "text": [
      "68 - DynamicFactor with avg smape 118.36: \n",
      "Model Number: 69 of 90 with model DynamicFactor for Validation 1\n"
     ]
    },
    {
     "name": "stderr",
     "output_type": "stream",
     "text": [
      "/Users/nslali/anaconda3/envs/forecasting/lib/python3.8/site-packages/statsmodels/base/model.py:607: ConvergenceWarning: Maximum Likelihood optimization failed to converge. Check mle_retvals\n",
      "  warnings.warn(\"Maximum Likelihood optimization failed to \"\n"
     ]
    },
    {
     "name": "stdout",
     "output_type": "stream",
     "text": [
      "69 - DynamicFactor with avg smape 10.15: \n",
      "Model Number: 70 of 90 with model NVAR for Validation 1\n",
      "70 - NVAR with avg smape 9.65: \n",
      "Model Number: 71 of 90 with model VAR for Validation 1\n",
      "71 - VAR with avg smape 10.41: \n",
      "Model Number: 72 of 90 with model VAR for Validation 1\n",
      "72 - VAR with avg smape 21.51: \n",
      "Model Number: 73 of 90 with model NVAR for Validation 1\n",
      "73 - NVAR with avg smape 8.94: \n",
      "Model Number: 74 of 90 with model VECM for Validation 1\n",
      "74 - VECM with avg smape 8.55: \n",
      "Model Number: 75 of 90 with model VAR for Validation 1\n",
      "75 - VAR with avg smape 9.35: \n",
      "Model Number: 76 of 90 with model MultivariateRegression for Validation 1\n",
      "76 - MultivariateRegression with avg smape 19.05: \n",
      "Model Number: 77 of 90 with model SectionalMotif for Validation 1\n",
      "77 - SectionalMotif with avg smape 15.05: \n",
      "Model Number: 78 of 90 with model NVAR for Validation 1\n",
      "78 - NVAR with avg smape 36.22: \n",
      "Model Number: 79 of 90 with model NVAR for Validation 1\n",
      "79 - NVAR with avg smape 9.01: \n",
      "Model Number: 80 of 90 with model VECM for Validation 1\n",
      "80 - VECM with avg smape 13.76: \n",
      "Model Number: 81 of 90 with model VECM for Validation 1\n",
      "📈 81 - VECM with avg smape 7.3: \n",
      "Model Number: 82 of 90 with model Cassandra for Validation 1\n"
     ]
    },
    {
     "name": "stderr",
     "output_type": "stream",
     "text": [
      "/Users/nslali/anaconda3/envs/forecasting/lib/python3.8/site-packages/numpy/lib/function_base.py:2854: RuntimeWarning: invalid value encountered in divide\n",
      "  c /= stddev[:, None]\n",
      "/Users/nslali/anaconda3/envs/forecasting/lib/python3.8/site-packages/numpy/lib/function_base.py:2855: RuntimeWarning: invalid value encountered in divide\n",
      "  c /= stddev[None, :]\n"
     ]
    },
    {
     "name": "stdout",
     "output_type": "stream",
     "text": [
      "82 - Cassandra with avg smape 8.68: \n",
      "Model Number: 83 of 90 with model MultivariateMotif for Validation 1\n",
      "83 - MultivariateMotif with avg smape 10.06: \n",
      "Model Number: 84 of 90 with model VECM for Validation 1\n",
      "84 - VECM with avg smape 12.57: \n",
      "Model Number: 85 of 90 with model NVAR for Validation 1\n",
      "85 - NVAR with avg smape 11.08: \n",
      "Model Number: 86 of 90 with model NVAR for Validation 1\n",
      "86 - NVAR with avg smape 9.05: \n",
      "Model Number: 87 of 90 with model NVAR for Validation 1\n",
      "87 - NVAR with avg smape 8.69: \n",
      "Model Number: 88 of 90 with model NVAR for Validation 1\n",
      "88 - NVAR with avg smape 8.66: \n",
      "Model Number: 89 of 90 with model MultivariateMotif for Validation 1\n",
      "89 - MultivariateMotif with avg smape 12.11: \n",
      "Model Number: 90 of 90 with model DynamicFactorMQ for Validation 1\n"
     ]
    },
    {
     "name": "stderr",
     "output_type": "stream",
     "text": [
      "/Users/nslali/anaconda3/envs/forecasting/lib/python3.8/site-packages/statsmodels/tsa/statespace/dynamic_factor_mq.py:1950: UserWarning: Non-stationary starting factor autoregressive parameters found for factor block ('0.1', '0.2'). Using zeros as starting parameters.\n",
      "  warn('Non-stationary starting factor autoregressive'\n",
      "/Users/nslali/anaconda3/envs/forecasting/lib/python3.8/site-packages/statsmodels/tsa/statespace/sarimax.py:966: UserWarning: Non-stationary starting autoregressive parameters found. Using zeros as starting parameters.\n",
      "  warn('Non-stationary starting autoregressive parameters'\n"
     ]
    },
    {
     "name": "stdout",
     "output_type": "stream",
     "text": [
      "90 - DynamicFactorMQ with avg smape 10.76: \n",
      "Validation Round: 2\n",
      "Model Number: 1 of 90 with model VAR for Validation 2\n",
      "📈 1 - VAR with avg smape 10.06: \n",
      "Model Number: 2 of 90 with model VAR for Validation 2\n",
      "2 - VAR with avg smape 11.79: \n",
      "Model Number: 3 of 90 with model DynamicFactorMQ for Validation 2\n"
     ]
    },
    {
     "name": "stderr",
     "output_type": "stream",
     "text": [
      "/Users/nslali/anaconda3/envs/forecasting/lib/python3.8/site-packages/statsmodels/tsa/statespace/dynamic_factor_mq.py:1950: UserWarning: Non-stationary starting factor autoregressive parameters found for factor block ('0.1', '0.2'). Using zeros as starting parameters.\n",
      "  warn('Non-stationary starting factor autoregressive'\n"
     ]
    },
    {
     "name": "stdout",
     "output_type": "stream",
     "text": [
      "📈 3 - DynamicFactorMQ with avg smape 8.94: \n",
      "Model Number: 4 of 90 with model DynamicFactorMQ for Validation 2\n"
     ]
    },
    {
     "name": "stderr",
     "output_type": "stream",
     "text": [
      "/Users/nslali/anaconda3/envs/forecasting/lib/python3.8/site-packages/statsmodels/tsa/statespace/dynamic_factor_mq.py:1950: UserWarning: Non-stationary starting factor autoregressive parameters found for factor block ('0.1', '0.2'). Using zeros as starting parameters.\n",
      "  warn('Non-stationary starting factor autoregressive'\n"
     ]
    },
    {
     "name": "stdout",
     "output_type": "stream",
     "text": [
      "4 - DynamicFactorMQ with avg smape 8.94: \n",
      "Model Number: 5 of 90 with model DynamicFactorMQ for Validation 2\n"
     ]
    },
    {
     "name": "stderr",
     "output_type": "stream",
     "text": [
      "/Users/nslali/anaconda3/envs/forecasting/lib/python3.8/site-packages/statsmodels/tsa/statespace/sarimax.py:966: UserWarning: Non-stationary starting autoregressive parameters found. Using zeros as starting parameters.\n",
      "  warn('Non-stationary starting autoregressive parameters'\n"
     ]
    },
    {
     "name": "stdout",
     "output_type": "stream",
     "text": [
      "5 - DynamicFactorMQ with avg smape 9.2: \n",
      "Model Number: 6 of 90 with model VAR for Validation 2\n",
      "6 - VAR with avg smape 8.97: \n",
      "Model Number: 7 of 90 with model VAR for Validation 2\n",
      "7 - VAR with avg smape 8.97: \n",
      "Model Number: 8 of 90 with model NVAR for Validation 2\n",
      "📈 8 - NVAR with avg smape 8.43: \n",
      "Model Number: 9 of 90 with model VAR for Validation 2\n",
      "9 - VAR with avg smape 15.36: \n",
      "Model Number: 10 of 90 with model NVAR for Validation 2\n",
      "📈 10 - NVAR with avg smape 6.07: \n",
      "Model Number: 11 of 90 with model NVAR for Validation 2\n",
      "11 - NVAR with avg smape 6.07: \n",
      "Model Number: 12 of 90 with model NVAR for Validation 2\n",
      "12 - NVAR with avg smape 6.07: \n",
      "Model Number: 13 of 90 with model NVAR for Validation 2\n",
      "13 - NVAR with avg smape 7.02: \n",
      "Model Number: 14 of 90 with model LATC for Validation 2\n",
      "14 - LATC with avg smape 12.98: \n",
      "Model Number: 15 of 90 with model DynamicFactorMQ for Validation 2\n"
     ]
    },
    {
     "name": "stderr",
     "output_type": "stream",
     "text": [
      "/Users/nslali/anaconda3/envs/forecasting/lib/python3.8/site-packages/statsmodels/tsa/statespace/dynamic_factor_mq.py:1950: UserWarning: Non-stationary starting factor autoregressive parameters found for factor block ('0.1', '0.2'). Using zeros as starting parameters.\n",
      "  warn('Non-stationary starting factor autoregressive'\n"
     ]
    },
    {
     "name": "stdout",
     "output_type": "stream",
     "text": [
      "15 - DynamicFactorMQ with avg smape 8.36: \n",
      "Model Number: 16 of 90 with model DynamicFactorMQ for Validation 2\n"
     ]
    },
    {
     "name": "stderr",
     "output_type": "stream",
     "text": [
      "/Users/nslali/anaconda3/envs/forecasting/lib/python3.8/site-packages/statsmodels/tsa/statespace/sarimax.py:966: UserWarning: Non-stationary starting autoregressive parameters found. Using zeros as starting parameters.\n",
      "  warn('Non-stationary starting autoregressive parameters'\n"
     ]
    },
    {
     "name": "stdout",
     "output_type": "stream",
     "text": [
      "16 - DynamicFactorMQ with avg smape 9.32: \n",
      "Model Number: 17 of 90 with model SectionalMotif for Validation 2\n",
      "17 - SectionalMotif with avg smape 13.02: \n",
      "Model Number: 18 of 90 with model LATC for Validation 2\n",
      "18 - LATC with avg smape 9.59: \n",
      "Model Number: 19 of 90 with model LATC for Validation 2\n",
      "19 - LATC with avg smape 9.59: \n",
      "Model Number: 20 of 90 with model SectionalMotif for Validation 2\n",
      "20 - SectionalMotif with avg smape 12.88: \n",
      "Model Number: 21 of 90 with model SectionalMotif for Validation 2\n",
      "21 - SectionalMotif with avg smape 9.09: \n",
      "Model Number: 22 of 90 with model Cassandra for Validation 2\n"
     ]
    },
    {
     "name": "stderr",
     "output_type": "stream",
     "text": [
      "/Users/nslali/anaconda3/envs/forecasting/lib/python3.8/site-packages/numpy/lib/function_base.py:2854: RuntimeWarning: invalid value encountered in divide\n",
      "  c /= stddev[:, None]\n",
      "/Users/nslali/anaconda3/envs/forecasting/lib/python3.8/site-packages/numpy/lib/function_base.py:2855: RuntimeWarning: invalid value encountered in divide\n",
      "  c /= stddev[None, :]\n"
     ]
    },
    {
     "name": "stdout",
     "output_type": "stream",
     "text": [
      "22 - Cassandra with avg smape 16.01: \n",
      "Model Number: 23 of 90 with model LATC for Validation 2\n",
      "23 - LATC with avg smape 11.12: \n",
      "Model Number: 24 of 90 with model Cassandra for Validation 2\n"
     ]
    },
    {
     "name": "stderr",
     "output_type": "stream",
     "text": [
      "/Users/nslali/anaconda3/envs/forecasting/lib/python3.8/site-packages/numpy/lib/function_base.py:2854: RuntimeWarning: invalid value encountered in divide\n",
      "  c /= stddev[:, None]\n",
      "/Users/nslali/anaconda3/envs/forecasting/lib/python3.8/site-packages/numpy/lib/function_base.py:2855: RuntimeWarning: invalid value encountered in divide\n",
      "  c /= stddev[None, :]\n"
     ]
    },
    {
     "name": "stdout",
     "output_type": "stream",
     "text": [
      "24 - Cassandra with avg smape 12.78: \n",
      "Model Number: 25 of 90 with model MultivariateRegression for Validation 2\n",
      "25 - MultivariateRegression with avg smape 8.67: \n",
      "Model Number: 26 of 90 with model MAR for Validation 2\n",
      "26 - MAR with avg smape 7.8: \n",
      "Model Number: 27 of 90 with model MAR for Validation 2\n",
      "27 - MAR with avg smape 7.8: \n",
      "Model Number: 28 of 90 with model MultivariateRegression for Validation 2\n",
      "28 - MultivariateRegression with avg smape 9.75: \n",
      "Model Number: 29 of 90 with model MultivariateMotif for Validation 2\n",
      "29 - MultivariateMotif with avg smape 12.41: \n",
      "Model Number: 30 of 90 with model MultivariateMotif for Validation 2\n",
      "30 - MultivariateMotif with avg smape 12.45: \n",
      "Model Number: 31 of 90 with model VECM for Validation 2\n",
      "31 - VECM with avg smape 8.95: \n",
      "Model Number: 32 of 90 with model SectionalMotif for Validation 2\n",
      "32 - SectionalMotif with avg smape 16.03: \n",
      "Model Number: 33 of 90 with model VECM for Validation 2\n",
      "33 - VECM with avg smape 17.53: \n",
      "Model Number: 34 of 90 with model MultivariateRegression for Validation 2\n",
      "34 - MultivariateRegression with avg smape 8.16: \n",
      "Model Number: 35 of 90 with model WindowRegression for Validation 2\n",
      "35 - WindowRegression with avg smape 10.35: \n",
      "Model Number: 36 of 90 with model VECM for Validation 2\n"
     ]
    },
    {
     "name": "stderr",
     "output_type": "stream",
     "text": [
      "/Users/nslali/anaconda3/envs/forecasting/lib/python3.8/site-packages/sklearn/neural_network/_multilayer_perceptron.py:546: ConvergenceWarning: lbfgs failed to converge (status=1):\n",
      "STOP: TOTAL NO. of ITERATIONS REACHED LIMIT.\n",
      "\n",
      "Increase the number of iterations (max_iter) or scale the data as shown in:\n",
      "    https://scikit-learn.org/stable/modules/preprocessing.html\n",
      "  self.n_iter_ = _check_optimize_result(\"lbfgs\", opt_res, self.max_iter)\n"
     ]
    },
    {
     "name": "stdout",
     "output_type": "stream",
     "text": [
      "36 - VECM with avg smape 17.31: \n",
      "Model Number: 37 of 90 with model MultivariateRegression for Validation 2\n",
      "37 - MultivariateRegression with avg smape 7.46: \n",
      "Model Number: 38 of 90 with model SectionalMotif for Validation 2\n",
      "38 - SectionalMotif with avg smape 13.23: \n",
      "Model Number: 39 of 90 with model MultivariateRegression for Validation 2\n",
      "39 - MultivariateRegression with avg smape 10.58: \n",
      "Model Number: 40 of 90 with model VECM for Validation 2\n",
      "40 - VECM with avg smape 19.17: \n",
      "Model Number: 41 of 90 with model LATC for Validation 2\n",
      "41 - LATC with avg smape 9.18: \n",
      "Model Number: 42 of 90 with model VECM for Validation 2\n",
      "42 - VECM with avg smape 19.34: \n",
      "Model Number: 43 of 90 with model MultivariateMotif for Validation 2\n",
      "43 - MultivariateMotif with avg smape 8.75: \n",
      "Model Number: 44 of 90 with model MAR for Validation 2\n",
      "44 - MAR with avg smape 8.92: \n",
      "Model Number: 45 of 90 with model RRVAR for Validation 2\n",
      "45 - RRVAR with avg smape 8.18: \n",
      "Model Number: 46 of 90 with model Cassandra for Validation 2\n",
      "46 - Cassandra with avg smape 17.53: \n",
      "Model Number: 47 of 90 with model MultivariateMotif for Validation 2\n",
      "47 - MultivariateMotif with avg smape 7.91: \n",
      "Model Number: 48 of 90 with model Cassandra for Validation 2\n"
     ]
    },
    {
     "name": "stderr",
     "output_type": "stream",
     "text": [
      "/Users/nslali/anaconda3/envs/forecasting/lib/python3.8/site-packages/numpy/lib/function_base.py:2854: RuntimeWarning: invalid value encountered in divide\n",
      "  c /= stddev[:, None]\n",
      "/Users/nslali/anaconda3/envs/forecasting/lib/python3.8/site-packages/numpy/lib/function_base.py:2855: RuntimeWarning: invalid value encountered in divide\n",
      "  c /= stddev[None, :]\n",
      "/Users/nslali/anaconda3/envs/forecasting/lib/python3.8/site-packages/numpy/lib/function_base.py:2854: RuntimeWarning: invalid value encountered in divide\n",
      "  c /= stddev[:, None]\n",
      "/Users/nslali/anaconda3/envs/forecasting/lib/python3.8/site-packages/numpy/lib/function_base.py:2855: RuntimeWarning: invalid value encountered in divide\n",
      "  c /= stddev[None, :]\n"
     ]
    },
    {
     "name": "stdout",
     "output_type": "stream",
     "text": [
      "48 - Cassandra with avg smape 17.31: \n",
      "Model Number: 49 of 90 with model MAR for Validation 2\n",
      "49 - MAR with avg smape 8.58: \n",
      "Model Number: 50 of 90 with model MAR for Validation 2\n",
      "50 - MAR with avg smape 8.58: \n",
      "Model Number: 51 of 90 with model MultivariateMotif for Validation 2\n",
      "51 - MultivariateMotif with avg smape 13.85: \n",
      "Model Number: 52 of 90 with model Cassandra for Validation 2\n"
     ]
    },
    {
     "name": "stderr",
     "output_type": "stream",
     "text": [
      "/Users/nslali/anaconda3/envs/forecasting/lib/python3.8/site-packages/numpy/lib/function_base.py:2854: RuntimeWarning: invalid value encountered in divide\n",
      "  c /= stddev[:, None]\n",
      "/Users/nslali/anaconda3/envs/forecasting/lib/python3.8/site-packages/numpy/lib/function_base.py:2855: RuntimeWarning: invalid value encountered in divide\n",
      "  c /= stddev[None, :]\n"
     ]
    },
    {
     "name": "stdout",
     "output_type": "stream",
     "text": [
      "52 - Cassandra with avg smape 8.52: \n",
      "Model Number: 53 of 90 with model WindowRegression for Validation 2\n"
     ]
    },
    {
     "name": "stderr",
     "output_type": "stream",
     "text": [
      "/Users/nslali/anaconda3/envs/forecasting/lib/python3.8/site-packages/sklearn/neural_network/_multilayer_perceptron.py:546: ConvergenceWarning: lbfgs failed to converge (status=1):\n",
      "STOP: TOTAL NO. of ITERATIONS REACHED LIMIT.\n",
      "\n",
      "Increase the number of iterations (max_iter) or scale the data as shown in:\n",
      "    https://scikit-learn.org/stable/modules/preprocessing.html\n",
      "  self.n_iter_ = _check_optimize_result(\"lbfgs\", opt_res, self.max_iter)\n"
     ]
    },
    {
     "name": "stdout",
     "output_type": "stream",
     "text": [
      "53 - WindowRegression with avg smape 8.85: \n",
      "Model Number: 54 of 90 with model WindowRegression for Validation 2\n",
      "54 - WindowRegression with avg smape 8.85: \n",
      "Model Number: 55 of 90 with model RRVAR for Validation 2\n",
      "55 - RRVAR with avg smape 8.27: \n",
      "Model Number: 56 of 90 with model RollingRegression for Validation 2\n"
     ]
    },
    {
     "name": "stderr",
     "output_type": "stream",
     "text": [
      "/Users/nslali/anaconda3/envs/forecasting/lib/python3.8/site-packages/sklearn/neural_network/_multilayer_perceptron.py:546: ConvergenceWarning: lbfgs failed to converge (status=1):\n",
      "STOP: TOTAL NO. of ITERATIONS REACHED LIMIT.\n",
      "\n",
      "Increase the number of iterations (max_iter) or scale the data as shown in:\n",
      "    https://scikit-learn.org/stable/modules/preprocessing.html\n",
      "  self.n_iter_ = _check_optimize_result(\"lbfgs\", opt_res, self.max_iter)\n",
      "/Users/nslali/anaconda3/envs/forecasting/lib/python3.8/site-packages/sklearn/svm/_classes.py:32: FutureWarning: The default value of `dual` will change from `True` to `'auto'` in 1.5. Set the value of `dual` explicitly to suppress the warning.\n",
      "  warnings.warn(\n",
      "/Users/nslali/anaconda3/envs/forecasting/lib/python3.8/site-packages/sklearn/svm/_classes.py:32: FutureWarning: The default value of `dual` will change from `True` to `'auto'` in 1.5. Set the value of `dual` explicitly to suppress the warning.\n",
      "  warnings.warn(\n",
      "/Users/nslali/anaconda3/envs/forecasting/lib/python3.8/site-packages/sklearn/svm/_classes.py:32: FutureWarning: The default value of `dual` will change from `True` to `'auto'` in 1.5. Set the value of `dual` explicitly to suppress the warning.\n",
      "  warnings.warn(\n",
      "/Users/nslali/anaconda3/envs/forecasting/lib/python3.8/site-packages/sklearn/svm/_classes.py:32: FutureWarning: The default value of `dual` will change from `True` to `'auto'` in 1.5. Set the value of `dual` explicitly to suppress the warning.\n",
      "  warnings.warn(\n",
      "/Users/nslali/anaconda3/envs/forecasting/lib/python3.8/site-packages/sklearn/svm/_classes.py:32: FutureWarning: The default value of `dual` will change from `True` to `'auto'` in 1.5. Set the value of `dual` explicitly to suppress the warning.\n",
      "  warnings.warn(\n",
      "/Users/nslali/anaconda3/envs/forecasting/lib/python3.8/site-packages/sklearn/svm/_classes.py:32: FutureWarning: The default value of `dual` will change from `True` to `'auto'` in 1.5. Set the value of `dual` explicitly to suppress the warning.\n",
      "  warnings.warn(\n",
      "/Users/nslali/anaconda3/envs/forecasting/lib/python3.8/site-packages/sklearn/svm/_classes.py:32: FutureWarning: The default value of `dual` will change from `True` to `'auto'` in 1.5. Set the value of `dual` explicitly to suppress the warning.\n",
      "  warnings.warn(\n",
      "/Users/nslali/anaconda3/envs/forecasting/lib/python3.8/site-packages/sklearn/svm/_base.py:1250: ConvergenceWarning: Liblinear failed to converge, increase the number of iterations.\n",
      "  warnings.warn(\n",
      "/Users/nslali/anaconda3/envs/forecasting/lib/python3.8/site-packages/sklearn/svm/_classes.py:32: FutureWarning: The default value of `dual` will change from `True` to `'auto'` in 1.5. Set the value of `dual` explicitly to suppress the warning.\n",
      "  warnings.warn(\n",
      "/Users/nslali/anaconda3/envs/forecasting/lib/python3.8/site-packages/sklearn/svm/_base.py:1250: ConvergenceWarning: Liblinear failed to converge, increase the number of iterations.\n",
      "  warnings.warn(\n",
      "/Users/nslali/anaconda3/envs/forecasting/lib/python3.8/site-packages/sklearn/svm/_classes.py:32: FutureWarning: The default value of `dual` will change from `True` to `'auto'` in 1.5. Set the value of `dual` explicitly to suppress the warning.\n",
      "  warnings.warn(\n",
      "/Users/nslali/anaconda3/envs/forecasting/lib/python3.8/site-packages/sklearn/svm/_base.py:1250: ConvergenceWarning: Liblinear failed to converge, increase the number of iterations.\n",
      "  warnings.warn(\n",
      "/Users/nslali/anaconda3/envs/forecasting/lib/python3.8/site-packages/sklearn/svm/_base.py:1250: ConvergenceWarning: Liblinear failed to converge, increase the number of iterations.\n",
      "  warnings.warn(\n",
      "/Users/nslali/anaconda3/envs/forecasting/lib/python3.8/site-packages/sklearn/svm/_base.py:1250: ConvergenceWarning: Liblinear failed to converge, increase the number of iterations.\n",
      "  warnings.warn(\n",
      "/Users/nslali/anaconda3/envs/forecasting/lib/python3.8/site-packages/sklearn/svm/_base.py:1250: ConvergenceWarning: Liblinear failed to converge, increase the number of iterations.\n",
      "  warnings.warn(\n",
      "/Users/nslali/anaconda3/envs/forecasting/lib/python3.8/site-packages/sklearn/svm/_base.py:1250: ConvergenceWarning: Liblinear failed to converge, increase the number of iterations.\n",
      "  warnings.warn(\n",
      "/Users/nslali/anaconda3/envs/forecasting/lib/python3.8/site-packages/sklearn/svm/_base.py:1250: ConvergenceWarning: Liblinear failed to converge, increase the number of iterations.\n",
      "  warnings.warn(\n",
      "/Users/nslali/anaconda3/envs/forecasting/lib/python3.8/site-packages/sklearn/svm/_base.py:1250: ConvergenceWarning: Liblinear failed to converge, increase the number of iterations.\n",
      "  warnings.warn(\n",
      "/Users/nslali/anaconda3/envs/forecasting/lib/python3.8/site-packages/sklearn/base.py:465: UserWarning: X does not have valid feature names, but LinearSVR was fitted with feature names\n",
      "  warnings.warn(\n",
      "/Users/nslali/anaconda3/envs/forecasting/lib/python3.8/site-packages/sklearn/base.py:465: UserWarning: X does not have valid feature names, but LinearSVR was fitted with feature names\n",
      "  warnings.warn(\n",
      "/Users/nslali/anaconda3/envs/forecasting/lib/python3.8/site-packages/sklearn/base.py:465: UserWarning: X does not have valid feature names, but LinearSVR was fitted with feature names\n",
      "  warnings.warn(\n",
      "/Users/nslali/anaconda3/envs/forecasting/lib/python3.8/site-packages/sklearn/base.py:465: UserWarning: X does not have valid feature names, but LinearSVR was fitted with feature names\n",
      "  warnings.warn(\n",
      "/Users/nslali/anaconda3/envs/forecasting/lib/python3.8/site-packages/sklearn/base.py:465: UserWarning: X does not have valid feature names, but LinearSVR was fitted with feature names\n",
      "  warnings.warn(\n",
      "/Users/nslali/anaconda3/envs/forecasting/lib/python3.8/site-packages/sklearn/base.py:465: UserWarning: X does not have valid feature names, but LinearSVR was fitted with feature names\n",
      "  warnings.warn(\n",
      "/Users/nslali/anaconda3/envs/forecasting/lib/python3.8/site-packages/sklearn/base.py:465: UserWarning: X does not have valid feature names, but LinearSVR was fitted with feature names\n",
      "  warnings.warn(\n",
      "/Users/nslali/anaconda3/envs/forecasting/lib/python3.8/site-packages/sklearn/base.py:465: UserWarning: X does not have valid feature names, but LinearSVR was fitted with feature names\n",
      "  warnings.warn(\n",
      "/Users/nslali/anaconda3/envs/forecasting/lib/python3.8/site-packages/sklearn/base.py:465: UserWarning: X does not have valid feature names, but LinearSVR was fitted with feature names\n",
      "  warnings.warn(\n",
      "/Users/nslali/anaconda3/envs/forecasting/lib/python3.8/site-packages/sklearn/base.py:465: UserWarning: X does not have valid feature names, but LinearSVR was fitted with feature names\n",
      "  warnings.warn(\n",
      "/Users/nslali/anaconda3/envs/forecasting/lib/python3.8/site-packages/sklearn/base.py:465: UserWarning: X does not have valid feature names, but LinearSVR was fitted with feature names\n",
      "  warnings.warn(\n",
      "/Users/nslali/anaconda3/envs/forecasting/lib/python3.8/site-packages/sklearn/base.py:465: UserWarning: X does not have valid feature names, but LinearSVR was fitted with feature names\n",
      "  warnings.warn(\n",
      "/Users/nslali/anaconda3/envs/forecasting/lib/python3.8/site-packages/sklearn/base.py:465: UserWarning: X does not have valid feature names, but LinearSVR was fitted with feature names\n",
      "  warnings.warn(\n",
      "/Users/nslali/anaconda3/envs/forecasting/lib/python3.8/site-packages/sklearn/base.py:465: UserWarning: X does not have valid feature names, but LinearSVR was fitted with feature names\n",
      "  warnings.warn(\n",
      "/Users/nslali/anaconda3/envs/forecasting/lib/python3.8/site-packages/sklearn/base.py:465: UserWarning: X does not have valid feature names, but LinearSVR was fitted with feature names\n",
      "  warnings.warn(\n",
      "/Users/nslali/anaconda3/envs/forecasting/lib/python3.8/site-packages/sklearn/base.py:465: UserWarning: X does not have valid feature names, but LinearSVR was fitted with feature names\n",
      "  warnings.warn(\n",
      "/Users/nslali/anaconda3/envs/forecasting/lib/python3.8/site-packages/sklearn/base.py:465: UserWarning: X does not have valid feature names, but LinearSVR was fitted with feature names\n",
      "  warnings.warn(\n",
      "/Users/nslali/anaconda3/envs/forecasting/lib/python3.8/site-packages/sklearn/base.py:465: UserWarning: X does not have valid feature names, but LinearSVR was fitted with feature names\n",
      "  warnings.warn(\n",
      "/Users/nslali/anaconda3/envs/forecasting/lib/python3.8/site-packages/sklearn/base.py:465: UserWarning: X does not have valid feature names, but LinearSVR was fitted with feature names\n",
      "  warnings.warn(\n",
      "/Users/nslali/anaconda3/envs/forecasting/lib/python3.8/site-packages/sklearn/base.py:465: UserWarning: X does not have valid feature names, but LinearSVR was fitted with feature names\n",
      "  warnings.warn(\n",
      "/Users/nslali/anaconda3/envs/forecasting/lib/python3.8/site-packages/sklearn/base.py:465: UserWarning: X does not have valid feature names, but LinearSVR was fitted with feature names\n",
      "  warnings.warn(\n",
      "/Users/nslali/anaconda3/envs/forecasting/lib/python3.8/site-packages/sklearn/base.py:465: UserWarning: X does not have valid feature names, but LinearSVR was fitted with feature names\n",
      "  warnings.warn(\n",
      "/Users/nslali/anaconda3/envs/forecasting/lib/python3.8/site-packages/sklearn/base.py:465: UserWarning: X does not have valid feature names, but LinearSVR was fitted with feature names\n",
      "  warnings.warn(\n",
      "/Users/nslali/anaconda3/envs/forecasting/lib/python3.8/site-packages/sklearn/base.py:465: UserWarning: X does not have valid feature names, but LinearSVR was fitted with feature names\n",
      "  warnings.warn(\n",
      "/Users/nslali/anaconda3/envs/forecasting/lib/python3.8/site-packages/sklearn/base.py:465: UserWarning: X does not have valid feature names, but LinearSVR was fitted with feature names\n",
      "  warnings.warn(\n",
      "/Users/nslali/anaconda3/envs/forecasting/lib/python3.8/site-packages/sklearn/base.py:465: UserWarning: X does not have valid feature names, but LinearSVR was fitted with feature names\n",
      "  warnings.warn(\n",
      "/Users/nslali/anaconda3/envs/forecasting/lib/python3.8/site-packages/sklearn/base.py:465: UserWarning: X does not have valid feature names, but LinearSVR was fitted with feature names\n",
      "  warnings.warn(\n",
      "/Users/nslali/anaconda3/envs/forecasting/lib/python3.8/site-packages/sklearn/base.py:465: UserWarning: X does not have valid feature names, but LinearSVR was fitted with feature names\n",
      "  warnings.warn(\n",
      "/Users/nslali/anaconda3/envs/forecasting/lib/python3.8/site-packages/sklearn/base.py:465: UserWarning: X does not have valid feature names, but LinearSVR was fitted with feature names\n",
      "  warnings.warn(\n",
      "/Users/nslali/anaconda3/envs/forecasting/lib/python3.8/site-packages/sklearn/base.py:465: UserWarning: X does not have valid feature names, but LinearSVR was fitted with feature names\n",
      "  warnings.warn(\n",
      "/Users/nslali/anaconda3/envs/forecasting/lib/python3.8/site-packages/sklearn/base.py:465: UserWarning: X does not have valid feature names, but LinearSVR was fitted with feature names\n",
      "  warnings.warn(\n",
      "/Users/nslali/anaconda3/envs/forecasting/lib/python3.8/site-packages/sklearn/base.py:465: UserWarning: X does not have valid feature names, but LinearSVR was fitted with feature names\n",
      "  warnings.warn(\n",
      "/Users/nslali/anaconda3/envs/forecasting/lib/python3.8/site-packages/sklearn/base.py:465: UserWarning: X does not have valid feature names, but LinearSVR was fitted with feature names\n",
      "  warnings.warn(\n",
      "/Users/nslali/anaconda3/envs/forecasting/lib/python3.8/site-packages/sklearn/base.py:465: UserWarning: X does not have valid feature names, but LinearSVR was fitted with feature names\n",
      "  warnings.warn(\n",
      "/Users/nslali/anaconda3/envs/forecasting/lib/python3.8/site-packages/sklearn/base.py:465: UserWarning: X does not have valid feature names, but LinearSVR was fitted with feature names\n",
      "  warnings.warn(\n",
      "/Users/nslali/anaconda3/envs/forecasting/lib/python3.8/site-packages/sklearn/base.py:465: UserWarning: X does not have valid feature names, but LinearSVR was fitted with feature names\n",
      "  warnings.warn(\n",
      "/Users/nslali/anaconda3/envs/forecasting/lib/python3.8/site-packages/sklearn/base.py:465: UserWarning: X does not have valid feature names, but LinearSVR was fitted with feature names\n",
      "  warnings.warn(\n",
      "/Users/nslali/anaconda3/envs/forecasting/lib/python3.8/site-packages/sklearn/base.py:465: UserWarning: X does not have valid feature names, but LinearSVR was fitted with feature names\n",
      "  warnings.warn(\n",
      "/Users/nslali/anaconda3/envs/forecasting/lib/python3.8/site-packages/sklearn/base.py:465: UserWarning: X does not have valid feature names, but LinearSVR was fitted with feature names\n",
      "  warnings.warn(\n",
      "/Users/nslali/anaconda3/envs/forecasting/lib/python3.8/site-packages/sklearn/base.py:465: UserWarning: X does not have valid feature names, but LinearSVR was fitted with feature names\n",
      "  warnings.warn(\n",
      "/Users/nslali/anaconda3/envs/forecasting/lib/python3.8/site-packages/sklearn/base.py:465: UserWarning: X does not have valid feature names, but LinearSVR was fitted with feature names\n",
      "  warnings.warn(\n",
      "/Users/nslali/anaconda3/envs/forecasting/lib/python3.8/site-packages/sklearn/base.py:465: UserWarning: X does not have valid feature names, but LinearSVR was fitted with feature names\n",
      "  warnings.warn(\n",
      "/Users/nslali/anaconda3/envs/forecasting/lib/python3.8/site-packages/sklearn/base.py:465: UserWarning: X does not have valid feature names, but LinearSVR was fitted with feature names\n",
      "  warnings.warn(\n",
      "/Users/nslali/anaconda3/envs/forecasting/lib/python3.8/site-packages/sklearn/base.py:465: UserWarning: X does not have valid feature names, but LinearSVR was fitted with feature names\n",
      "  warnings.warn(\n",
      "/Users/nslali/anaconda3/envs/forecasting/lib/python3.8/site-packages/sklearn/base.py:465: UserWarning: X does not have valid feature names, but LinearSVR was fitted with feature names\n",
      "  warnings.warn(\n",
      "/Users/nslali/anaconda3/envs/forecasting/lib/python3.8/site-packages/sklearn/base.py:465: UserWarning: X does not have valid feature names, but LinearSVR was fitted with feature names\n",
      "  warnings.warn(\n",
      "/Users/nslali/anaconda3/envs/forecasting/lib/python3.8/site-packages/sklearn/base.py:465: UserWarning: X does not have valid feature names, but LinearSVR was fitted with feature names\n",
      "  warnings.warn(\n",
      "/Users/nslali/anaconda3/envs/forecasting/lib/python3.8/site-packages/sklearn/base.py:465: UserWarning: X does not have valid feature names, but LinearSVR was fitted with feature names\n",
      "  warnings.warn(\n",
      "/Users/nslali/anaconda3/envs/forecasting/lib/python3.8/site-packages/sklearn/base.py:465: UserWarning: X does not have valid feature names, but LinearSVR was fitted with feature names\n",
      "  warnings.warn(\n",
      "/Users/nslali/anaconda3/envs/forecasting/lib/python3.8/site-packages/sklearn/base.py:465: UserWarning: X does not have valid feature names, but LinearSVR was fitted with feature names\n",
      "  warnings.warn(\n",
      "/Users/nslali/anaconda3/envs/forecasting/lib/python3.8/site-packages/sklearn/base.py:465: UserWarning: X does not have valid feature names, but LinearSVR was fitted with feature names\n",
      "  warnings.warn(\n",
      "/Users/nslali/anaconda3/envs/forecasting/lib/python3.8/site-packages/sklearn/base.py:465: UserWarning: X does not have valid feature names, but LinearSVR was fitted with feature names\n",
      "  warnings.warn(\n",
      "/Users/nslali/anaconda3/envs/forecasting/lib/python3.8/site-packages/sklearn/base.py:465: UserWarning: X does not have valid feature names, but LinearSVR was fitted with feature names\n",
      "  warnings.warn(\n",
      "/Users/nslali/anaconda3/envs/forecasting/lib/python3.8/site-packages/sklearn/base.py:465: UserWarning: X does not have valid feature names, but LinearSVR was fitted with feature names\n",
      "  warnings.warn(\n",
      "/Users/nslali/anaconda3/envs/forecasting/lib/python3.8/site-packages/sklearn/svm/_classes.py:32: FutureWarning: The default value of `dual` will change from `True` to `'auto'` in 1.5. Set the value of `dual` explicitly to suppress the warning.\n",
      "  warnings.warn(\n",
      "/Users/nslali/anaconda3/envs/forecasting/lib/python3.8/site-packages/sklearn/svm/_classes.py:32: FutureWarning: The default value of `dual` will change from `True` to `'auto'` in 1.5. Set the value of `dual` explicitly to suppress the warning.\n",
      "  warnings.warn(\n",
      "/Users/nslali/anaconda3/envs/forecasting/lib/python3.8/site-packages/sklearn/svm/_classes.py:32: FutureWarning: The default value of `dual` will change from `True` to `'auto'` in 1.5. Set the value of `dual` explicitly to suppress the warning.\n",
      "  warnings.warn(\n",
      "/Users/nslali/anaconda3/envs/forecasting/lib/python3.8/site-packages/sklearn/svm/_classes.py:32: FutureWarning: The default value of `dual` will change from `True` to `'auto'` in 1.5. Set the value of `dual` explicitly to suppress the warning.\n",
      "  warnings.warn(\n",
      "/Users/nslali/anaconda3/envs/forecasting/lib/python3.8/site-packages/sklearn/svm/_classes.py:32: FutureWarning: The default value of `dual` will change from `True` to `'auto'` in 1.5. Set the value of `dual` explicitly to suppress the warning.\n",
      "  warnings.warn(\n",
      "/Users/nslali/anaconda3/envs/forecasting/lib/python3.8/site-packages/sklearn/svm/_classes.py:32: FutureWarning: The default value of `dual` will change from `True` to `'auto'` in 1.5. Set the value of `dual` explicitly to suppress the warning.\n",
      "  warnings.warn(\n",
      "/Users/nslali/anaconda3/envs/forecasting/lib/python3.8/site-packages/sklearn/svm/_classes.py:32: FutureWarning: The default value of `dual` will change from `True` to `'auto'` in 1.5. Set the value of `dual` explicitly to suppress the warning.\n",
      "  warnings.warn(\n",
      "/Users/nslali/anaconda3/envs/forecasting/lib/python3.8/site-packages/sklearn/svm/_base.py:1250: ConvergenceWarning: Liblinear failed to converge, increase the number of iterations.\n",
      "  warnings.warn(\n",
      "/Users/nslali/anaconda3/envs/forecasting/lib/python3.8/site-packages/sklearn/svm/_classes.py:32: FutureWarning: The default value of `dual` will change from `True` to `'auto'` in 1.5. Set the value of `dual` explicitly to suppress the warning.\n",
      "  warnings.warn(\n",
      "/Users/nslali/anaconda3/envs/forecasting/lib/python3.8/site-packages/sklearn/svm/_base.py:1250: ConvergenceWarning: Liblinear failed to converge, increase the number of iterations.\n",
      "  warnings.warn(\n",
      "/Users/nslali/anaconda3/envs/forecasting/lib/python3.8/site-packages/sklearn/svm/_base.py:1250: ConvergenceWarning: Liblinear failed to converge, increase the number of iterations.\n",
      "  warnings.warn(\n",
      "/Users/nslali/anaconda3/envs/forecasting/lib/python3.8/site-packages/sklearn/svm/_base.py:1250: ConvergenceWarning: Liblinear failed to converge, increase the number of iterations.\n",
      "  warnings.warn(\n",
      "/Users/nslali/anaconda3/envs/forecasting/lib/python3.8/site-packages/sklearn/svm/_base.py:1250: ConvergenceWarning: Liblinear failed to converge, increase the number of iterations.\n",
      "  warnings.warn(\n",
      "/Users/nslali/anaconda3/envs/forecasting/lib/python3.8/site-packages/sklearn/svm/_base.py:1250: ConvergenceWarning: Liblinear failed to converge, increase the number of iterations.\n",
      "  warnings.warn(\n",
      "/Users/nslali/anaconda3/envs/forecasting/lib/python3.8/site-packages/sklearn/svm/_base.py:1250: ConvergenceWarning: Liblinear failed to converge, increase the number of iterations.\n",
      "  warnings.warn(\n",
      "/Users/nslali/anaconda3/envs/forecasting/lib/python3.8/site-packages/sklearn/svm/_base.py:1250: ConvergenceWarning: Liblinear failed to converge, increase the number of iterations.\n",
      "  warnings.warn(\n"
     ]
    },
    {
     "name": "stdout",
     "output_type": "stream",
     "text": [
      "56 - RollingRegression with avg smape 9.76: \n",
      "Model Number: 57 of 90 with model RollingRegression for Validation 2\n"
     ]
    },
    {
     "name": "stderr",
     "output_type": "stream",
     "text": [
      "/Users/nslali/anaconda3/envs/forecasting/lib/python3.8/site-packages/sklearn/svm/_classes.py:32: FutureWarning: The default value of `dual` will change from `True` to `'auto'` in 1.5. Set the value of `dual` explicitly to suppress the warning.\n",
      "  warnings.warn(\n",
      "/Users/nslali/anaconda3/envs/forecasting/lib/python3.8/site-packages/sklearn/svm/_base.py:1250: ConvergenceWarning: Liblinear failed to converge, increase the number of iterations.\n",
      "  warnings.warn(\n",
      "/Users/nslali/anaconda3/envs/forecasting/lib/python3.8/site-packages/sklearn/base.py:465: UserWarning: X does not have valid feature names, but LinearSVR was fitted with feature names\n",
      "  warnings.warn(\n",
      "/Users/nslali/anaconda3/envs/forecasting/lib/python3.8/site-packages/sklearn/base.py:465: UserWarning: X does not have valid feature names, but LinearSVR was fitted with feature names\n",
      "  warnings.warn(\n",
      "/Users/nslali/anaconda3/envs/forecasting/lib/python3.8/site-packages/sklearn/base.py:465: UserWarning: X does not have valid feature names, but LinearSVR was fitted with feature names\n",
      "  warnings.warn(\n",
      "/Users/nslali/anaconda3/envs/forecasting/lib/python3.8/site-packages/sklearn/base.py:465: UserWarning: X does not have valid feature names, but LinearSVR was fitted with feature names\n",
      "  warnings.warn(\n",
      "/Users/nslali/anaconda3/envs/forecasting/lib/python3.8/site-packages/sklearn/base.py:465: UserWarning: X does not have valid feature names, but LinearSVR was fitted with feature names\n",
      "  warnings.warn(\n",
      "/Users/nslali/anaconda3/envs/forecasting/lib/python3.8/site-packages/sklearn/base.py:465: UserWarning: X does not have valid feature names, but LinearSVR was fitted with feature names\n",
      "  warnings.warn(\n",
      "/Users/nslali/anaconda3/envs/forecasting/lib/python3.8/site-packages/sklearn/base.py:465: UserWarning: X does not have valid feature names, but LinearSVR was fitted with feature names\n",
      "  warnings.warn(\n",
      "/Users/nslali/anaconda3/envs/forecasting/lib/python3.8/site-packages/sklearn/base.py:465: UserWarning: X does not have valid feature names, but LinearSVR was fitted with feature names\n",
      "  warnings.warn(\n",
      "/Users/nslali/anaconda3/envs/forecasting/lib/python3.8/site-packages/sklearn/base.py:465: UserWarning: X does not have valid feature names, but LinearSVR was fitted with feature names\n",
      "  warnings.warn(\n",
      "/Users/nslali/anaconda3/envs/forecasting/lib/python3.8/site-packages/sklearn/base.py:465: UserWarning: X does not have valid feature names, but LinearSVR was fitted with feature names\n",
      "  warnings.warn(\n",
      "/Users/nslali/anaconda3/envs/forecasting/lib/python3.8/site-packages/sklearn/base.py:465: UserWarning: X does not have valid feature names, but LinearSVR was fitted with feature names\n",
      "  warnings.warn(\n",
      "/Users/nslali/anaconda3/envs/forecasting/lib/python3.8/site-packages/sklearn/base.py:465: UserWarning: X does not have valid feature names, but LinearSVR was fitted with feature names\n",
      "  warnings.warn(\n",
      "/Users/nslali/anaconda3/envs/forecasting/lib/python3.8/site-packages/sklearn/base.py:465: UserWarning: X does not have valid feature names, but LinearSVR was fitted with feature names\n",
      "  warnings.warn(\n",
      "/Users/nslali/anaconda3/envs/forecasting/lib/python3.8/site-packages/sklearn/base.py:465: UserWarning: X does not have valid feature names, but LinearSVR was fitted with feature names\n",
      "  warnings.warn(\n",
      "/Users/nslali/anaconda3/envs/forecasting/lib/python3.8/site-packages/sklearn/base.py:465: UserWarning: X does not have valid feature names, but LinearSVR was fitted with feature names\n",
      "  warnings.warn(\n",
      "/Users/nslali/anaconda3/envs/forecasting/lib/python3.8/site-packages/sklearn/base.py:465: UserWarning: X does not have valid feature names, but LinearSVR was fitted with feature names\n",
      "  warnings.warn(\n",
      "/Users/nslali/anaconda3/envs/forecasting/lib/python3.8/site-packages/sklearn/base.py:465: UserWarning: X does not have valid feature names, but LinearSVR was fitted with feature names\n",
      "  warnings.warn(\n",
      "/Users/nslali/anaconda3/envs/forecasting/lib/python3.8/site-packages/sklearn/base.py:465: UserWarning: X does not have valid feature names, but LinearSVR was fitted with feature names\n",
      "  warnings.warn(\n",
      "/Users/nslali/anaconda3/envs/forecasting/lib/python3.8/site-packages/sklearn/base.py:465: UserWarning: X does not have valid feature names, but LinearSVR was fitted with feature names\n",
      "  warnings.warn(\n",
      "/Users/nslali/anaconda3/envs/forecasting/lib/python3.8/site-packages/sklearn/base.py:465: UserWarning: X does not have valid feature names, but LinearSVR was fitted with feature names\n",
      "  warnings.warn(\n",
      "/Users/nslali/anaconda3/envs/forecasting/lib/python3.8/site-packages/sklearn/base.py:465: UserWarning: X does not have valid feature names, but LinearSVR was fitted with feature names\n",
      "  warnings.warn(\n",
      "/Users/nslali/anaconda3/envs/forecasting/lib/python3.8/site-packages/sklearn/base.py:465: UserWarning: X does not have valid feature names, but LinearSVR was fitted with feature names\n",
      "  warnings.warn(\n",
      "/Users/nslali/anaconda3/envs/forecasting/lib/python3.8/site-packages/sklearn/base.py:465: UserWarning: X does not have valid feature names, but LinearSVR was fitted with feature names\n",
      "  warnings.warn(\n",
      "/Users/nslali/anaconda3/envs/forecasting/lib/python3.8/site-packages/sklearn/base.py:465: UserWarning: X does not have valid feature names, but LinearSVR was fitted with feature names\n",
      "  warnings.warn(\n",
      "/Users/nslali/anaconda3/envs/forecasting/lib/python3.8/site-packages/sklearn/base.py:465: UserWarning: X does not have valid feature names, but LinearSVR was fitted with feature names\n",
      "  warnings.warn(\n",
      "/Users/nslali/anaconda3/envs/forecasting/lib/python3.8/site-packages/sklearn/base.py:465: UserWarning: X does not have valid feature names, but LinearSVR was fitted with feature names\n",
      "  warnings.warn(\n",
      "/Users/nslali/anaconda3/envs/forecasting/lib/python3.8/site-packages/sklearn/base.py:465: UserWarning: X does not have valid feature names, but LinearSVR was fitted with feature names\n",
      "  warnings.warn(\n",
      "/Users/nslali/anaconda3/envs/forecasting/lib/python3.8/site-packages/sklearn/base.py:465: UserWarning: X does not have valid feature names, but LinearSVR was fitted with feature names\n",
      "  warnings.warn(\n",
      "/Users/nslali/anaconda3/envs/forecasting/lib/python3.8/site-packages/sklearn/base.py:465: UserWarning: X does not have valid feature names, but LinearSVR was fitted with feature names\n",
      "  warnings.warn(\n",
      "/Users/nslali/anaconda3/envs/forecasting/lib/python3.8/site-packages/sklearn/base.py:465: UserWarning: X does not have valid feature names, but LinearSVR was fitted with feature names\n",
      "  warnings.warn(\n",
      "/Users/nslali/anaconda3/envs/forecasting/lib/python3.8/site-packages/sklearn/base.py:465: UserWarning: X does not have valid feature names, but LinearSVR was fitted with feature names\n",
      "  warnings.warn(\n",
      "/Users/nslali/anaconda3/envs/forecasting/lib/python3.8/site-packages/sklearn/base.py:465: UserWarning: X does not have valid feature names, but LinearSVR was fitted with feature names\n",
      "  warnings.warn(\n",
      "/Users/nslali/anaconda3/envs/forecasting/lib/python3.8/site-packages/sklearn/base.py:465: UserWarning: X does not have valid feature names, but LinearSVR was fitted with feature names\n",
      "  warnings.warn(\n",
      "/Users/nslali/anaconda3/envs/forecasting/lib/python3.8/site-packages/sklearn/base.py:465: UserWarning: X does not have valid feature names, but LinearSVR was fitted with feature names\n",
      "  warnings.warn(\n",
      "/Users/nslali/anaconda3/envs/forecasting/lib/python3.8/site-packages/sklearn/base.py:465: UserWarning: X does not have valid feature names, but LinearSVR was fitted with feature names\n",
      "  warnings.warn(\n",
      "/Users/nslali/anaconda3/envs/forecasting/lib/python3.8/site-packages/sklearn/base.py:465: UserWarning: X does not have valid feature names, but LinearSVR was fitted with feature names\n",
      "  warnings.warn(\n",
      "/Users/nslali/anaconda3/envs/forecasting/lib/python3.8/site-packages/sklearn/base.py:465: UserWarning: X does not have valid feature names, but LinearSVR was fitted with feature names\n",
      "  warnings.warn(\n",
      "/Users/nslali/anaconda3/envs/forecasting/lib/python3.8/site-packages/sklearn/base.py:465: UserWarning: X does not have valid feature names, but LinearSVR was fitted with feature names\n",
      "  warnings.warn(\n",
      "/Users/nslali/anaconda3/envs/forecasting/lib/python3.8/site-packages/sklearn/base.py:465: UserWarning: X does not have valid feature names, but LinearSVR was fitted with feature names\n",
      "  warnings.warn(\n",
      "/Users/nslali/anaconda3/envs/forecasting/lib/python3.8/site-packages/sklearn/base.py:465: UserWarning: X does not have valid feature names, but LinearSVR was fitted with feature names\n",
      "  warnings.warn(\n",
      "/Users/nslali/anaconda3/envs/forecasting/lib/python3.8/site-packages/sklearn/base.py:465: UserWarning: X does not have valid feature names, but LinearSVR was fitted with feature names\n",
      "  warnings.warn(\n",
      "/Users/nslali/anaconda3/envs/forecasting/lib/python3.8/site-packages/sklearn/base.py:465: UserWarning: X does not have valid feature names, but LinearSVR was fitted with feature names\n",
      "  warnings.warn(\n",
      "/Users/nslali/anaconda3/envs/forecasting/lib/python3.8/site-packages/sklearn/base.py:465: UserWarning: X does not have valid feature names, but LinearSVR was fitted with feature names\n",
      "  warnings.warn(\n",
      "/Users/nslali/anaconda3/envs/forecasting/lib/python3.8/site-packages/sklearn/base.py:465: UserWarning: X does not have valid feature names, but LinearSVR was fitted with feature names\n",
      "  warnings.warn(\n",
      "/Users/nslali/anaconda3/envs/forecasting/lib/python3.8/site-packages/sklearn/base.py:465: UserWarning: X does not have valid feature names, but LinearSVR was fitted with feature names\n",
      "  warnings.warn(\n",
      "/Users/nslali/anaconda3/envs/forecasting/lib/python3.8/site-packages/sklearn/base.py:465: UserWarning: X does not have valid feature names, but LinearSVR was fitted with feature names\n",
      "  warnings.warn(\n",
      "/Users/nslali/anaconda3/envs/forecasting/lib/python3.8/site-packages/sklearn/base.py:465: UserWarning: X does not have valid feature names, but LinearSVR was fitted with feature names\n",
      "  warnings.warn(\n",
      "/Users/nslali/anaconda3/envs/forecasting/lib/python3.8/site-packages/sklearn/base.py:465: UserWarning: X does not have valid feature names, but LinearSVR was fitted with feature names\n",
      "  warnings.warn(\n",
      "/Users/nslali/anaconda3/envs/forecasting/lib/python3.8/site-packages/sklearn/base.py:465: UserWarning: X does not have valid feature names, but LinearSVR was fitted with feature names\n",
      "  warnings.warn(\n",
      "/Users/nslali/anaconda3/envs/forecasting/lib/python3.8/site-packages/sklearn/base.py:465: UserWarning: X does not have valid feature names, but LinearSVR was fitted with feature names\n",
      "  warnings.warn(\n",
      "/Users/nslali/anaconda3/envs/forecasting/lib/python3.8/site-packages/sklearn/base.py:465: UserWarning: X does not have valid feature names, but LinearSVR was fitted with feature names\n",
      "  warnings.warn(\n",
      "/Users/nslali/anaconda3/envs/forecasting/lib/python3.8/site-packages/sklearn/base.py:465: UserWarning: X does not have valid feature names, but LinearSVR was fitted with feature names\n",
      "  warnings.warn(\n",
      "/Users/nslali/anaconda3/envs/forecasting/lib/python3.8/site-packages/sklearn/base.py:465: UserWarning: X does not have valid feature names, but LinearSVR was fitted with feature names\n",
      "  warnings.warn(\n",
      "/Users/nslali/anaconda3/envs/forecasting/lib/python3.8/site-packages/sklearn/base.py:465: UserWarning: X does not have valid feature names, but LinearSVR was fitted with feature names\n",
      "  warnings.warn(\n"
     ]
    },
    {
     "name": "stdout",
     "output_type": "stream",
     "text": [
      "57 - RollingRegression with avg smape 8.51: \n",
      "Model Number: 58 of 90 with model WindowRegression for Validation 2\n",
      "58 - WindowRegression with avg smape 14.75: \n",
      "Model Number: 59 of 90 with model RollingRegression for Validation 2\n"
     ]
    },
    {
     "name": "stderr",
     "output_type": "stream",
     "text": [
      "/Users/nslali/anaconda3/envs/forecasting/lib/python3.8/site-packages/sklearn/base.py:465: UserWarning: X does not have valid feature names, but ExtraTreesRegressor was fitted with feature names\n",
      "  warnings.warn(\n",
      "/Users/nslali/anaconda3/envs/forecasting/lib/python3.8/site-packages/sklearn/base.py:465: UserWarning: X does not have valid feature names, but ExtraTreesRegressor was fitted with feature names\n",
      "  warnings.warn(\n",
      "/Users/nslali/anaconda3/envs/forecasting/lib/python3.8/site-packages/sklearn/base.py:465: UserWarning: X does not have valid feature names, but ExtraTreesRegressor was fitted with feature names\n",
      "  warnings.warn(\n",
      "/Users/nslali/anaconda3/envs/forecasting/lib/python3.8/site-packages/sklearn/base.py:465: UserWarning: X does not have valid feature names, but ExtraTreesRegressor was fitted with feature names\n",
      "  warnings.warn(\n",
      "/Users/nslali/anaconda3/envs/forecasting/lib/python3.8/site-packages/sklearn/base.py:465: UserWarning: X does not have valid feature names, but ExtraTreesRegressor was fitted with feature names\n",
      "  warnings.warn(\n",
      "/Users/nslali/anaconda3/envs/forecasting/lib/python3.8/site-packages/sklearn/base.py:465: UserWarning: X does not have valid feature names, but ExtraTreesRegressor was fitted with feature names\n",
      "  warnings.warn(\n"
     ]
    },
    {
     "name": "stdout",
     "output_type": "stream",
     "text": [
      "59 - RollingRegression with avg smape 8.75: \n",
      "Model Number: 60 of 90 with model RollingRegression for Validation 2\n"
     ]
    },
    {
     "name": "stderr",
     "output_type": "stream",
     "text": [
      "/Users/nslali/anaconda3/envs/forecasting/lib/python3.8/site-packages/sklearn/svm/_classes.py:32: FutureWarning: The default value of `dual` will change from `True` to `'auto'` in 1.5. Set the value of `dual` explicitly to suppress the warning.\n",
      "  warnings.warn(\n",
      "/Users/nslali/anaconda3/envs/forecasting/lib/python3.8/site-packages/sklearn/svm/_classes.py:32: FutureWarning: The default value of `dual` will change from `True` to `'auto'` in 1.5. Set the value of `dual` explicitly to suppress the warning.\n",
      "  warnings.warn(\n",
      "/Users/nslali/anaconda3/envs/forecasting/lib/python3.8/site-packages/sklearn/svm/_classes.py:32: FutureWarning: The default value of `dual` will change from `True` to `'auto'` in 1.5. Set the value of `dual` explicitly to suppress the warning.\n",
      "  warnings.warn(\n",
      "/Users/nslali/anaconda3/envs/forecasting/lib/python3.8/site-packages/sklearn/svm/_classes.py:32: FutureWarning: The default value of `dual` will change from `True` to `'auto'` in 1.5. Set the value of `dual` explicitly to suppress the warning.\n",
      "  warnings.warn(\n",
      "/Users/nslali/anaconda3/envs/forecasting/lib/python3.8/site-packages/sklearn/svm/_classes.py:32: FutureWarning: The default value of `dual` will change from `True` to `'auto'` in 1.5. Set the value of `dual` explicitly to suppress the warning.\n",
      "  warnings.warn(\n",
      "/Users/nslali/anaconda3/envs/forecasting/lib/python3.8/site-packages/sklearn/svm/_classes.py:32: FutureWarning: The default value of `dual` will change from `True` to `'auto'` in 1.5. Set the value of `dual` explicitly to suppress the warning.\n",
      "  warnings.warn(\n",
      "/Users/nslali/anaconda3/envs/forecasting/lib/python3.8/site-packages/sklearn/svm/_classes.py:32: FutureWarning: The default value of `dual` will change from `True` to `'auto'` in 1.5. Set the value of `dual` explicitly to suppress the warning.\n",
      "  warnings.warn(\n",
      "/Users/nslali/anaconda3/envs/forecasting/lib/python3.8/site-packages/sklearn/svm/_classes.py:32: FutureWarning: The default value of `dual` will change from `True` to `'auto'` in 1.5. Set the value of `dual` explicitly to suppress the warning.\n",
      "  warnings.warn(\n",
      "/Users/nslali/anaconda3/envs/forecasting/lib/python3.8/site-packages/sklearn/svm/_classes.py:32: FutureWarning: The default value of `dual` will change from `True` to `'auto'` in 1.5. Set the value of `dual` explicitly to suppress the warning.\n",
      "  warnings.warn(\n",
      "/Users/nslali/anaconda3/envs/forecasting/lib/python3.8/site-packages/sklearn/svm/_base.py:1250: ConvergenceWarning: Liblinear failed to converge, increase the number of iterations.\n",
      "  warnings.warn(\n",
      "/Users/nslali/anaconda3/envs/forecasting/lib/python3.8/site-packages/sklearn/svm/_base.py:1250: ConvergenceWarning: Liblinear failed to converge, increase the number of iterations.\n",
      "  warnings.warn(\n",
      "/Users/nslali/anaconda3/envs/forecasting/lib/python3.8/site-packages/sklearn/svm/_base.py:1250: ConvergenceWarning: Liblinear failed to converge, increase the number of iterations.\n",
      "  warnings.warn(\n",
      "/Users/nslali/anaconda3/envs/forecasting/lib/python3.8/site-packages/sklearn/svm/_base.py:1250: ConvergenceWarning: Liblinear failed to converge, increase the number of iterations.\n",
      "  warnings.warn(\n",
      "/Users/nslali/anaconda3/envs/forecasting/lib/python3.8/site-packages/sklearn/svm/_base.py:1250: ConvergenceWarning: Liblinear failed to converge, increase the number of iterations.\n",
      "  warnings.warn(\n",
      "/Users/nslali/anaconda3/envs/forecasting/lib/python3.8/site-packages/sklearn/svm/_base.py:1250: ConvergenceWarning: Liblinear failed to converge, increase the number of iterations.\n",
      "  warnings.warn(\n",
      "/Users/nslali/anaconda3/envs/forecasting/lib/python3.8/site-packages/sklearn/svm/_base.py:1250: ConvergenceWarning: Liblinear failed to converge, increase the number of iterations.\n",
      "  warnings.warn(\n",
      "/Users/nslali/anaconda3/envs/forecasting/lib/python3.8/site-packages/sklearn/svm/_base.py:1250: ConvergenceWarning: Liblinear failed to converge, increase the number of iterations.\n",
      "  warnings.warn(\n",
      "/Users/nslali/anaconda3/envs/forecasting/lib/python3.8/site-packages/sklearn/svm/_base.py:1250: ConvergenceWarning: Liblinear failed to converge, increase the number of iterations.\n",
      "  warnings.warn(\n",
      "/Users/nslali/anaconda3/envs/forecasting/lib/python3.8/site-packages/sklearn/base.py:465: UserWarning: X does not have valid feature names, but LinearSVR was fitted with feature names\n",
      "  warnings.warn(\n",
      "/Users/nslali/anaconda3/envs/forecasting/lib/python3.8/site-packages/sklearn/base.py:465: UserWarning: X does not have valid feature names, but LinearSVR was fitted with feature names\n",
      "  warnings.warn(\n",
      "/Users/nslali/anaconda3/envs/forecasting/lib/python3.8/site-packages/sklearn/base.py:465: UserWarning: X does not have valid feature names, but LinearSVR was fitted with feature names\n",
      "  warnings.warn(\n",
      "/Users/nslali/anaconda3/envs/forecasting/lib/python3.8/site-packages/sklearn/base.py:465: UserWarning: X does not have valid feature names, but LinearSVR was fitted with feature names\n",
      "  warnings.warn(\n",
      "/Users/nslali/anaconda3/envs/forecasting/lib/python3.8/site-packages/sklearn/base.py:465: UserWarning: X does not have valid feature names, but LinearSVR was fitted with feature names\n",
      "  warnings.warn(\n",
      "/Users/nslali/anaconda3/envs/forecasting/lib/python3.8/site-packages/sklearn/base.py:465: UserWarning: X does not have valid feature names, but LinearSVR was fitted with feature names\n",
      "  warnings.warn(\n",
      "/Users/nslali/anaconda3/envs/forecasting/lib/python3.8/site-packages/sklearn/base.py:465: UserWarning: X does not have valid feature names, but LinearSVR was fitted with feature names\n",
      "  warnings.warn(\n",
      "/Users/nslali/anaconda3/envs/forecasting/lib/python3.8/site-packages/sklearn/base.py:465: UserWarning: X does not have valid feature names, but LinearSVR was fitted with feature names\n",
      "  warnings.warn(\n",
      "/Users/nslali/anaconda3/envs/forecasting/lib/python3.8/site-packages/sklearn/base.py:465: UserWarning: X does not have valid feature names, but LinearSVR was fitted with feature names\n",
      "  warnings.warn(\n",
      "/Users/nslali/anaconda3/envs/forecasting/lib/python3.8/site-packages/sklearn/base.py:465: UserWarning: X does not have valid feature names, but LinearSVR was fitted with feature names\n",
      "  warnings.warn(\n",
      "/Users/nslali/anaconda3/envs/forecasting/lib/python3.8/site-packages/sklearn/base.py:465: UserWarning: X does not have valid feature names, but LinearSVR was fitted with feature names\n",
      "  warnings.warn(\n",
      "/Users/nslali/anaconda3/envs/forecasting/lib/python3.8/site-packages/sklearn/base.py:465: UserWarning: X does not have valid feature names, but LinearSVR was fitted with feature names\n",
      "  warnings.warn(\n",
      "/Users/nslali/anaconda3/envs/forecasting/lib/python3.8/site-packages/sklearn/base.py:465: UserWarning: X does not have valid feature names, but LinearSVR was fitted with feature names\n",
      "  warnings.warn(\n",
      "/Users/nslali/anaconda3/envs/forecasting/lib/python3.8/site-packages/sklearn/base.py:465: UserWarning: X does not have valid feature names, but LinearSVR was fitted with feature names\n",
      "  warnings.warn(\n",
      "/Users/nslali/anaconda3/envs/forecasting/lib/python3.8/site-packages/sklearn/base.py:465: UserWarning: X does not have valid feature names, but LinearSVR was fitted with feature names\n",
      "  warnings.warn(\n"
     ]
    },
    {
     "name": "stdout",
     "output_type": "stream",
     "text": [
      "60 - RollingRegression with avg smape 13.79: \n",
      "Model Number: 61 of 90 with model RollingRegression for Validation 2\n",
      "61 - RollingRegression with avg smape 8.44: \n",
      "Model Number: 62 of 90 with model RRVAR for Validation 2\n"
     ]
    },
    {
     "name": "stderr",
     "output_type": "stream",
     "text": [
      "/Users/nslali/anaconda3/envs/forecasting/lib/python3.8/site-packages/sklearn/base.py:465: UserWarning: X does not have valid feature names, but LinearSVR was fitted with feature names\n",
      "  warnings.warn(\n",
      "/Users/nslali/anaconda3/envs/forecasting/lib/python3.8/site-packages/sklearn/base.py:465: UserWarning: X does not have valid feature names, but LinearSVR was fitted with feature names\n",
      "  warnings.warn(\n",
      "/Users/nslali/anaconda3/envs/forecasting/lib/python3.8/site-packages/sklearn/base.py:465: UserWarning: X does not have valid feature names, but LinearSVR was fitted with feature names\n",
      "  warnings.warn(\n",
      "/Users/nslali/anaconda3/envs/forecasting/lib/python3.8/site-packages/sklearn/base.py:465: UserWarning: X does not have valid feature names, but LinearSVR was fitted with feature names\n",
      "  warnings.warn(\n",
      "/Users/nslali/anaconda3/envs/forecasting/lib/python3.8/site-packages/sklearn/base.py:465: UserWarning: X does not have valid feature names, but LinearSVR was fitted with feature names\n",
      "  warnings.warn(\n",
      "/Users/nslali/anaconda3/envs/forecasting/lib/python3.8/site-packages/sklearn/base.py:465: UserWarning: X does not have valid feature names, but LinearSVR was fitted with feature names\n",
      "  warnings.warn(\n",
      "/Users/nslali/anaconda3/envs/forecasting/lib/python3.8/site-packages/sklearn/base.py:465: UserWarning: X does not have valid feature names, but LinearSVR was fitted with feature names\n",
      "  warnings.warn(\n",
      "/Users/nslali/anaconda3/envs/forecasting/lib/python3.8/site-packages/sklearn/base.py:465: UserWarning: X does not have valid feature names, but LinearSVR was fitted with feature names\n",
      "  warnings.warn(\n",
      "/Users/nslali/anaconda3/envs/forecasting/lib/python3.8/site-packages/sklearn/base.py:465: UserWarning: X does not have valid feature names, but LinearSVR was fitted with feature names\n",
      "  warnings.warn(\n",
      "/Users/nslali/anaconda3/envs/forecasting/lib/python3.8/site-packages/sklearn/base.py:465: UserWarning: X does not have valid feature names, but LinearSVR was fitted with feature names\n",
      "  warnings.warn(\n",
      "/Users/nslali/anaconda3/envs/forecasting/lib/python3.8/site-packages/sklearn/base.py:465: UserWarning: X does not have valid feature names, but LinearSVR was fitted with feature names\n",
      "  warnings.warn(\n",
      "/Users/nslali/anaconda3/envs/forecasting/lib/python3.8/site-packages/sklearn/base.py:465: UserWarning: X does not have valid feature names, but LinearSVR was fitted with feature names\n",
      "  warnings.warn(\n",
      "/Users/nslali/anaconda3/envs/forecasting/lib/python3.8/site-packages/sklearn/base.py:465: UserWarning: X does not have valid feature names, but LinearSVR was fitted with feature names\n",
      "  warnings.warn(\n",
      "/Users/nslali/anaconda3/envs/forecasting/lib/python3.8/site-packages/sklearn/base.py:465: UserWarning: X does not have valid feature names, but LinearSVR was fitted with feature names\n",
      "  warnings.warn(\n",
      "/Users/nslali/anaconda3/envs/forecasting/lib/python3.8/site-packages/sklearn/base.py:465: UserWarning: X does not have valid feature names, but LinearSVR was fitted with feature names\n",
      "  warnings.warn(\n",
      "/Users/nslali/anaconda3/envs/forecasting/lib/python3.8/site-packages/sklearn/base.py:465: UserWarning: X does not have valid feature names, but LinearSVR was fitted with feature names\n",
      "  warnings.warn(\n",
      "/Users/nslali/anaconda3/envs/forecasting/lib/python3.8/site-packages/sklearn/base.py:465: UserWarning: X does not have valid feature names, but LinearSVR was fitted with feature names\n",
      "  warnings.warn(\n",
      "/Users/nslali/anaconda3/envs/forecasting/lib/python3.8/site-packages/sklearn/base.py:465: UserWarning: X does not have valid feature names, but LinearSVR was fitted with feature names\n",
      "  warnings.warn(\n",
      "/Users/nslali/anaconda3/envs/forecasting/lib/python3.8/site-packages/sklearn/base.py:465: UserWarning: X does not have valid feature names, but LinearSVR was fitted with feature names\n",
      "  warnings.warn(\n",
      "/Users/nslali/anaconda3/envs/forecasting/lib/python3.8/site-packages/sklearn/base.py:465: UserWarning: X does not have valid feature names, but LinearSVR was fitted with feature names\n",
      "  warnings.warn(\n",
      "/Users/nslali/anaconda3/envs/forecasting/lib/python3.8/site-packages/sklearn/base.py:465: UserWarning: X does not have valid feature names, but LinearSVR was fitted with feature names\n",
      "  warnings.warn(\n",
      "/Users/nslali/anaconda3/envs/forecasting/lib/python3.8/site-packages/sklearn/base.py:465: UserWarning: X does not have valid feature names, but LinearSVR was fitted with feature names\n",
      "  warnings.warn(\n",
      "/Users/nslali/anaconda3/envs/forecasting/lib/python3.8/site-packages/sklearn/base.py:465: UserWarning: X does not have valid feature names, but LinearSVR was fitted with feature names\n",
      "  warnings.warn(\n",
      "/Users/nslali/anaconda3/envs/forecasting/lib/python3.8/site-packages/sklearn/base.py:465: UserWarning: X does not have valid feature names, but LinearSVR was fitted with feature names\n",
      "  warnings.warn(\n",
      "/Users/nslali/anaconda3/envs/forecasting/lib/python3.8/site-packages/sklearn/base.py:465: UserWarning: X does not have valid feature names, but LinearSVR was fitted with feature names\n",
      "  warnings.warn(\n",
      "/Users/nslali/anaconda3/envs/forecasting/lib/python3.8/site-packages/sklearn/base.py:465: UserWarning: X does not have valid feature names, but LinearSVR was fitted with feature names\n",
      "  warnings.warn(\n",
      "/Users/nslali/anaconda3/envs/forecasting/lib/python3.8/site-packages/sklearn/base.py:465: UserWarning: X does not have valid feature names, but LinearSVR was fitted with feature names\n",
      "  warnings.warn(\n",
      "/Users/nslali/anaconda3/envs/forecasting/lib/python3.8/site-packages/sklearn/base.py:465: UserWarning: X does not have valid feature names, but LinearSVR was fitted with feature names\n",
      "  warnings.warn(\n",
      "/Users/nslali/anaconda3/envs/forecasting/lib/python3.8/site-packages/sklearn/base.py:465: UserWarning: X does not have valid feature names, but LinearSVR was fitted with feature names\n",
      "  warnings.warn(\n",
      "/Users/nslali/anaconda3/envs/forecasting/lib/python3.8/site-packages/sklearn/base.py:465: UserWarning: X does not have valid feature names, but LinearSVR was fitted with feature names\n",
      "  warnings.warn(\n",
      "/Users/nslali/anaconda3/envs/forecasting/lib/python3.8/site-packages/sklearn/base.py:465: UserWarning: X does not have valid feature names, but LinearSVR was fitted with feature names\n",
      "  warnings.warn(\n",
      "/Users/nslali/anaconda3/envs/forecasting/lib/python3.8/site-packages/sklearn/base.py:465: UserWarning: X does not have valid feature names, but LinearSVR was fitted with feature names\n",
      "  warnings.warn(\n",
      "/Users/nslali/anaconda3/envs/forecasting/lib/python3.8/site-packages/sklearn/base.py:465: UserWarning: X does not have valid feature names, but LinearSVR was fitted with feature names\n",
      "  warnings.warn(\n",
      "/Users/nslali/anaconda3/envs/forecasting/lib/python3.8/site-packages/sklearn/base.py:465: UserWarning: X does not have valid feature names, but LinearSVR was fitted with feature names\n",
      "  warnings.warn(\n",
      "/Users/nslali/anaconda3/envs/forecasting/lib/python3.8/site-packages/sklearn/base.py:465: UserWarning: X does not have valid feature names, but LinearSVR was fitted with feature names\n",
      "  warnings.warn(\n",
      "/Users/nslali/anaconda3/envs/forecasting/lib/python3.8/site-packages/sklearn/base.py:465: UserWarning: X does not have valid feature names, but LinearSVR was fitted with feature names\n",
      "  warnings.warn(\n",
      "/Users/nslali/anaconda3/envs/forecasting/lib/python3.8/site-packages/sklearn/base.py:465: UserWarning: X does not have valid feature names, but LinearSVR was fitted with feature names\n",
      "  warnings.warn(\n",
      "/Users/nslali/anaconda3/envs/forecasting/lib/python3.8/site-packages/sklearn/base.py:465: UserWarning: X does not have valid feature names, but LinearSVR was fitted with feature names\n",
      "  warnings.warn(\n",
      "/Users/nslali/anaconda3/envs/forecasting/lib/python3.8/site-packages/sklearn/base.py:465: UserWarning: X does not have valid feature names, but LinearSVR was fitted with feature names\n",
      "  warnings.warn(\n",
      "/Users/nslali/anaconda3/envs/forecasting/lib/python3.8/site-packages/sklearn/base.py:465: UserWarning: X does not have valid feature names, but MultiTaskElasticNet was fitted with feature names\n",
      "  warnings.warn(\n",
      "/Users/nslali/anaconda3/envs/forecasting/lib/python3.8/site-packages/sklearn/base.py:465: UserWarning: X does not have valid feature names, but MultiTaskElasticNet was fitted with feature names\n",
      "  warnings.warn(\n",
      "/Users/nslali/anaconda3/envs/forecasting/lib/python3.8/site-packages/sklearn/base.py:465: UserWarning: X does not have valid feature names, but MultiTaskElasticNet was fitted with feature names\n",
      "  warnings.warn(\n",
      "/Users/nslali/anaconda3/envs/forecasting/lib/python3.8/site-packages/sklearn/base.py:465: UserWarning: X does not have valid feature names, but MultiTaskElasticNet was fitted with feature names\n",
      "  warnings.warn(\n",
      "/Users/nslali/anaconda3/envs/forecasting/lib/python3.8/site-packages/sklearn/base.py:465: UserWarning: X does not have valid feature names, but MultiTaskElasticNet was fitted with feature names\n",
      "  warnings.warn(\n",
      "/Users/nslali/anaconda3/envs/forecasting/lib/python3.8/site-packages/sklearn/base.py:465: UserWarning: X does not have valid feature names, but MultiTaskElasticNet was fitted with feature names\n",
      "  warnings.warn(\n"
     ]
    },
    {
     "name": "stdout",
     "output_type": "stream",
     "text": [
      "62 - RRVAR with avg smape 8.05: \n",
      "Model Number: 63 of 90 with model WindowRegression for Validation 2\n",
      "63 - WindowRegression with avg smape 15.75: \n",
      "Model Number: 64 of 90 with model RRVAR for Validation 2\n",
      "64 - RRVAR with avg smape 15.91: \n",
      "Model Number: 65 of 90 with model RRVAR for Validation 2\n",
      "65 - RRVAR with avg smape 15.91: \n",
      "Model Number: 66 of 90 with model DynamicFactor for Validation 2\n"
     ]
    },
    {
     "name": "stderr",
     "output_type": "stream",
     "text": [
      "/Users/nslali/anaconda3/envs/forecasting/lib/python3.8/site-packages/statsmodels/base/model.py:607: ConvergenceWarning: Maximum Likelihood optimization failed to converge. Check mle_retvals\n",
      "  warnings.warn(\"Maximum Likelihood optimization failed to \"\n"
     ]
    },
    {
     "name": "stdout",
     "output_type": "stream",
     "text": [
      "66 - DynamicFactor with avg smape 12.38: \n",
      "Model Number: 67 of 90 with model DynamicFactor for Validation 2\n"
     ]
    },
    {
     "name": "stderr",
     "output_type": "stream",
     "text": [
      "/Users/nslali/anaconda3/envs/forecasting/lib/python3.8/site-packages/statsmodels/base/model.py:607: ConvergenceWarning: Maximum Likelihood optimization failed to converge. Check mle_retvals\n",
      "  warnings.warn(\"Maximum Likelihood optimization failed to \"\n"
     ]
    },
    {
     "name": "stdout",
     "output_type": "stream",
     "text": [
      "67 - DynamicFactor with avg smape 116.99: \n",
      "Model Number: 68 of 90 with model DynamicFactor for Validation 2\n"
     ]
    },
    {
     "name": "stderr",
     "output_type": "stream",
     "text": [
      "/Users/nslali/anaconda3/envs/forecasting/lib/python3.8/site-packages/statsmodels/base/model.py:607: ConvergenceWarning: Maximum Likelihood optimization failed to converge. Check mle_retvals\n",
      "  warnings.warn(\"Maximum Likelihood optimization failed to \"\n"
     ]
    },
    {
     "name": "stdout",
     "output_type": "stream",
     "text": [
      "68 - DynamicFactor with avg smape 116.99: \n",
      "Model Number: 69 of 90 with model DynamicFactor for Validation 2\n"
     ]
    },
    {
     "name": "stderr",
     "output_type": "stream",
     "text": [
      "/Users/nslali/anaconda3/envs/forecasting/lib/python3.8/site-packages/statsmodels/base/model.py:607: ConvergenceWarning: Maximum Likelihood optimization failed to converge. Check mle_retvals\n",
      "  warnings.warn(\"Maximum Likelihood optimization failed to \"\n"
     ]
    },
    {
     "name": "stdout",
     "output_type": "stream",
     "text": [
      "69 - DynamicFactor with avg smape 8.51: \n",
      "Model Number: 70 of 90 with model NVAR for Validation 2\n",
      "📈 70 - NVAR with avg smape 6.0: \n",
      "Model Number: 71 of 90 with model VAR for Validation 2\n",
      "71 - VAR with avg smape 9.57: \n",
      "Model Number: 72 of 90 with model VAR for Validation 2\n",
      "72 - VAR with avg smape 10.23: \n",
      "Model Number: 73 of 90 with model NVAR for Validation 2\n",
      "73 - NVAR with avg smape 8.14: \n",
      "Model Number: 74 of 90 with model VECM for Validation 2\n",
      "74 - VECM with avg smape 10.52: \n",
      "Model Number: 75 of 90 with model VAR for Validation 2\n",
      "75 - VAR with avg smape 10.98: \n",
      "Model Number: 76 of 90 with model MultivariateRegression for Validation 2\n",
      "76 - MultivariateRegression with avg smape 14.0: \n",
      "Model Number: 77 of 90 with model SectionalMotif for Validation 2\n",
      "77 - SectionalMotif with avg smape 11.18: \n",
      "Model Number: 78 of 90 with model NVAR for Validation 2\n",
      "78 - NVAR with avg smape 37.93: \n",
      "Model Number: 79 of 90 with model NVAR for Validation 2\n",
      "79 - NVAR with avg smape 8.01: \n",
      "Model Number: 80 of 90 with model VECM for Validation 2\n",
      "80 - VECM with avg smape 11.91: \n",
      "Model Number: 81 of 90 with model VECM for Validation 2\n",
      "81 - VECM with avg smape 9.31: \n",
      "Model Number: 82 of 90 with model Cassandra for Validation 2\n"
     ]
    },
    {
     "name": "stderr",
     "output_type": "stream",
     "text": [
      "/Users/nslali/anaconda3/envs/forecasting/lib/python3.8/site-packages/numpy/lib/function_base.py:2854: RuntimeWarning: invalid value encountered in divide\n",
      "  c /= stddev[:, None]\n",
      "/Users/nslali/anaconda3/envs/forecasting/lib/python3.8/site-packages/numpy/lib/function_base.py:2855: RuntimeWarning: invalid value encountered in divide\n",
      "  c /= stddev[None, :]\n"
     ]
    },
    {
     "name": "stdout",
     "output_type": "stream",
     "text": [
      "82 - Cassandra with avg smape 10.76: \n",
      "Model Number: 83 of 90 with model MultivariateMotif for Validation 2\n",
      "83 - MultivariateMotif with avg smape 8.45: \n",
      "Model Number: 84 of 90 with model VECM for Validation 2\n",
      "84 - VECM with avg smape 10.85: \n",
      "Model Number: 85 of 90 with model NVAR for Validation 2\n",
      "85 - NVAR with avg smape 10.92: \n",
      "Model Number: 86 of 90 with model NVAR for Validation 2\n",
      "86 - NVAR with avg smape 8.65: \n",
      "Model Number: 87 of 90 with model NVAR for Validation 2\n",
      "87 - NVAR with avg smape 8.98: \n",
      "Model Number: 88 of 90 with model NVAR for Validation 2\n",
      "88 - NVAR with avg smape 8.68: \n",
      "Model Number: 89 of 90 with model MultivariateMotif for Validation 2\n",
      "89 - MultivariateMotif with avg smape 7.45: \n",
      "Model Number: 90 of 90 with model DynamicFactorMQ for Validation 2\n"
     ]
    },
    {
     "name": "stderr",
     "output_type": "stream",
     "text": [
      "/Users/nslali/anaconda3/envs/forecasting/lib/python3.8/site-packages/statsmodels/tsa/statespace/dynamic_factor_mq.py:1950: UserWarning: Non-stationary starting factor autoregressive parameters found for factor block ('0.1', '0.2'). Using zeros as starting parameters.\n",
      "  warn('Non-stationary starting factor autoregressive'\n",
      "/Users/nslali/anaconda3/envs/forecasting/lib/python3.8/site-packages/statsmodels/tsa/statespace/sarimax.py:966: UserWarning: Non-stationary starting autoregressive parameters found. Using zeros as starting parameters.\n",
      "  warn('Non-stationary starting autoregressive parameters'\n"
     ]
    },
    {
     "name": "stdout",
     "output_type": "stream",
     "text": [
      "90 - DynamicFactorMQ with avg smape 8.61: \n",
      "Post-Validation Ensembling Error: NameError(\"name 'verbose' is not defined\"): Traceback (most recent call last):\n",
      "  File \"/Users/nslali/anaconda3/envs/forecasting/lib/python3.8/site-packages/autots/evaluator/auto_ts.py\", line 1442, in fit\n",
      "    self._run_template(\n",
      "  File \"/Users/nslali/anaconda3/envs/forecasting/lib/python3.8/site-packages/autots/evaluator/auto_ts.py\", line 2024, in _run_template\n",
      "    if verbose >= 0:\n",
      "NameError: name 'verbose' is not defined\n",
      "\n",
      "Model Number: 1 with model Ensemble in generation 0 of Horizontal Ensembles\n"
     ]
    },
    {
     "name": "stderr",
     "output_type": "stream",
     "text": [
      "/Users/nslali/anaconda3/envs/forecasting/lib/python3.8/site-packages/statsmodels/tsa/statespace/sarimax.py:966: UserWarning: Non-stationary starting autoregressive parameters found. Using zeros as starting parameters.\n",
      "  warn('Non-stationary starting autoregressive parameters'\n",
      "/Users/nslali/anaconda3/envs/forecasting/lib/python3.8/site-packages/statsmodels/tsa/statespace/sarimax.py:966: UserWarning: Non-stationary starting autoregressive parameters found. Using zeros as starting parameters.\n",
      "  warn('Non-stationary starting autoregressive parameters'\n"
     ]
    }
   ],
   "source": [
    "long=False\n",
    "from autots import AutoTS\n",
    "\n",
    "model = AutoTS(\n",
    "    forecast_length=6,\n",
    "    frequency='infer',\n",
    "    prediction_interval=0.9,\n",
    "    ensemble='horizontal',\n",
    "    model_list=\"multivariate\",  # \"superfast\", \"default\", \"fast_parallel\"\n",
    "    transformer_list=\"fast\",  # \"superfast\",\n",
    "    max_generations=4,\n",
    "    num_validations=2,\n",
    "    validation_method=\"backwards\"\n",
    ")\n",
    "model.fit(\n",
    "    df_train,\n",
    "    date_col='datetime' if long else None,\n",
    "    value_col='value' if long else None,\n",
    "    id_col='series_id' if long else None,\n",
    ")\n",
    "\n",
    "prediction = model.predict()"
   ]
  },
  {
   "cell_type": "code",
   "execution_count": 12,
   "metadata": {},
   "outputs": [
    {
     "name": "stdout",
     "output_type": "stream",
     "text": [
      "Initiated AutoTS object with best model: \n",
      "Ensemble\n",
      "{}\n",
      "{'model_name': 'Horizontal', 'model_count': 4, 'model_metric': 'Score', 'models': {'9a0edf4cc08f0a8e599877213aa39ed4': {'Model': 'NVAR', 'ModelParameters': '{\"k\": 1, \"ridge_param\": 0.002, \"warmup_pts\": 1, \"seed_pts\": 1, \"seed_weighted\": null, \"batch_size\": 5, \"batch_method\": \"input_order\"}', 'TransformationParameters': '{\"fillna\": \"ffill\", \"transformations\": {\"0\": \"MinMaxScaler\"}, \"transformation_params\": {\"0\": {}}}'}, '8b56ab8f8ee97b547964d8287edc7c85': {'Model': 'DynamicFactorMQ', 'ModelParameters': '{\"factors\": 3, \"factor_orders\": 3, \"factor_multiplicities\": null, \"idiosyncratic_ar1\": true}', 'TransformationParameters': '{\"fillna\": null, \"transformations\": {\"0\": \"ClipOutliers\", \"1\": \"cffilter\", \"2\": \"StandardScaler\"}, \"transformation_params\": {\"0\": {\"method\": \"clip\", \"std_threshold\": 5, \"fillna\": null}, \"1\": {}, \"2\": {}}}'}, 'bd3952f93eb3e8d5303d8d5a5b31b3dd': {'Model': 'NVAR', 'ModelParameters': '{\"k\": 2, \"ridge_param\": 0.002, \"warmup_pts\": 1, \"seed_pts\": 1, \"seed_weighted\": null, \"batch_size\": 5, \"batch_method\": \"input_order\"}', 'TransformationParameters': '{\"fillna\": \"zero\", \"transformations\": {\"0\": \"LevelShiftTransformer\", \"1\": \"RegressionFilter\", \"2\": \"CenterLastValue\"}, \"transformation_params\": {\"0\": {\"window_size\": 30, \"alpha\": 4.0, \"grouping_forward_limit\": 3, \"max_level_shifts\": 30, \"alignment\": \"last_value\"}, \"1\": {\"sigma\": 2, \"rolling_window\": 90, \"run_order\": \"trend_first\", \"regression_params\": {\"regression_model\": {\"model\": \"ElasticNet\", \"model_params\": {}}, \"datepart_method\": [\"dayofweek\", 365.25], \"polynomial_degree\": null, \"transform_dict\": null, \"holiday_countries_used\": false}, \"holiday_params\": null}, \"2\": {\"rows\": 2}}}'}, '87d2fb33d43b193ed891428bec7123f4': {'Model': 'VECM', 'ModelParameters': '{\"deterministic\": \"n\", \"k_ar_diff\": 2, \"regression_type\": null}', 'TransformationParameters': '{\"fillna\": \"ffill\", \"transformations\": {\"0\": \"AlignLastValue\", \"1\": \"Detrend\"}, \"transformation_params\": {\"0\": {\"rows\": 2, \"lag\": 1, \"method\": \"additive\", \"strength\": 1.0, \"first_value_only\": false}, \"1\": {\"model\": \"Linear\", \"phi\": 1, \"window\": null, \"transform_dict\": null}}}'}}, 'series': {'CSUSHPISA': '8b56ab8f8ee97b547964d8287edc7c85', 'EMVOVERALLEMV': '87d2fb33d43b193ed891428bec7123f4', 'EXCAUS': '9a0edf4cc08f0a8e599877213aa39ed4', 'EXCHUS': '8b56ab8f8ee97b547964d8287edc7c85', 'EXUSEU': 'bd3952f93eb3e8d5303d8d5a5b31b3dd', 'GS10': 'bd3952f93eb3e8d5303d8d5a5b31b3dd', 'MCOILWTICO': '9a0edf4cc08f0a8e599877213aa39ed4', 'T10YIEM': '8b56ab8f8ee97b547964d8287edc7c85', 'USEPUINDXM': '87d2fb33d43b193ed891428bec7123f4'}}\n",
      "Validation: 0\n",
      "SMAPE: 6.309584826844574\n",
      "MAE: 3.6981290313173645\n",
      "SPL: 0.9510910158231576\n"
     ]
    }
   ],
   "source": [
    "print(model)"
   ]
  },
  {
   "cell_type": "code",
   "execution_count": 13,
   "metadata": {},
   "outputs": [
    {
     "data": {
      "text/plain": [
       "array(['GluonTS', 'VAR', 'VECM', 'WindowRegression',\n",
       "       'MultivariateRegression', 'MultivariateMotif', 'SectionalMotif',\n",
       "       'NVAR', 'RollingRegression', 'DynamicFactor', 'Cassandra', 'TiDE',\n",
       "       'NeuralForecast', 'DynamicFactorMQ', 'PytorchForecasting', 'RRVAR',\n",
       "       'MAR', 'TMF', 'LATC', 'BallTreeMultivariateMotif', 'Ensemble'],\n",
       "      dtype=object)"
      ]
     },
     "execution_count": 13,
     "metadata": {},
     "output_type": "execute_result"
    }
   ],
   "source": [
    "model.results()['Model'].unique()"
   ]
  },
  {
   "cell_type": "code",
   "execution_count": 14,
   "metadata": {},
   "outputs": [
    {
     "data": {
      "text/html": [
       "<div>\n",
       "<style scoped>\n",
       "    .dataframe tbody tr th:only-of-type {\n",
       "        vertical-align: middle;\n",
       "    }\n",
       "\n",
       "    .dataframe tbody tr th {\n",
       "        vertical-align: top;\n",
       "    }\n",
       "\n",
       "    .dataframe thead th {\n",
       "        text-align: right;\n",
       "    }\n",
       "</style>\n",
       "<table border=\"1\" class=\"dataframe\">\n",
       "  <thead>\n",
       "    <tr style=\"text-align: right;\">\n",
       "      <th></th>\n",
       "      <th>ID</th>\n",
       "      <th>Model</th>\n",
       "      <th>ModelParameters</th>\n",
       "      <th>TransformationParameters</th>\n",
       "      <th>Ensemble</th>\n",
       "      <th>Runs</th>\n",
       "      <th>smape</th>\n",
       "      <th>mae</th>\n",
       "      <th>rmse</th>\n",
       "      <th>made</th>\n",
       "      <th>...</th>\n",
       "      <th>dwd_weighted</th>\n",
       "      <th>matse_weighted</th>\n",
       "      <th>containment_weighted</th>\n",
       "      <th>contour_weighted</th>\n",
       "      <th>TotalRuntimeSeconds</th>\n",
       "      <th>Score</th>\n",
       "      <th>lowest_series_mape</th>\n",
       "      <th>lowest_series_mape_name</th>\n",
       "      <th>highest_series_mape</th>\n",
       "      <th>highest_series_mape_name</th>\n",
       "    </tr>\n",
       "  </thead>\n",
       "  <tbody>\n",
       "    <tr>\n",
       "      <th>0</th>\n",
       "      <td>006e2ab807a2783c2833fc25609446c9</td>\n",
       "      <td>MultivariateMotif</td>\n",
       "      <td>{\"window\": 10, \"point_method\": \"midhinge\", \"di...</td>\n",
       "      <td>{\"fillna\": \"rolling_mean_24\", \"transformations...</td>\n",
       "      <td>0</td>\n",
       "      <td>1</td>\n",
       "      <td>13.89</td>\n",
       "      <td>8.34</td>\n",
       "      <td>9.19</td>\n",
       "      <td>1.10</td>\n",
       "      <td>...</td>\n",
       "      <td>2.39</td>\n",
       "      <td>0.14</td>\n",
       "      <td>0.54</td>\n",
       "      <td>0.67</td>\n",
       "      <td>0.02</td>\n",
       "      <td>33.23</td>\n",
       "      <td>0.51</td>\n",
       "      <td>CSUSHPISA</td>\n",
       "      <td>142.43</td>\n",
       "      <td>EMVOVERALLEMV</td>\n",
       "    </tr>\n",
       "    <tr>\n",
       "      <th>1</th>\n",
       "      <td>009b2a98860cf75bece39c242d4d36f3</td>\n",
       "      <td>Cassandra</td>\n",
       "      <td>{\"preprocessing_transformation\": {\"fillna\": \"f...</td>\n",
       "      <td>{\"fillna\": \"zero\", \"transformations\": {\"0\": \"A...</td>\n",
       "      <td>0</td>\n",
       "      <td>1</td>\n",
       "      <td>199.27</td>\n",
       "      <td>8852.51</td>\n",
       "      <td>9096.71</td>\n",
       "      <td>5753.27</td>\n",
       "      <td>...</td>\n",
       "      <td>30078.60</td>\n",
       "      <td>264.06</td>\n",
       "      <td>0.00</td>\n",
       "      <td>0.48</td>\n",
       "      <td>0.10</td>\n",
       "      <td>71487.10</td>\n",
       "      <td>48852.74</td>\n",
       "      <td>T10YIEM</td>\n",
       "      <td>50055.67</td>\n",
       "      <td>GS10</td>\n",
       "    </tr>\n",
       "    <tr>\n",
       "      <th>2</th>\n",
       "      <td>028fd7b422b6ee8f59c41d2ecc21c358</td>\n",
       "      <td>SectionalMotif</td>\n",
       "      <td>{\"window\": 5, \"point_method\": \"midhinge\", \"dis...</td>\n",
       "      <td>{\"fillna\": \"rolling_mean_24\", \"transformations...</td>\n",
       "      <td>0</td>\n",
       "      <td>1</td>\n",
       "      <td>15.63</td>\n",
       "      <td>7.61</td>\n",
       "      <td>8.71</td>\n",
       "      <td>1.40</td>\n",
       "      <td>...</td>\n",
       "      <td>2.84</td>\n",
       "      <td>0.21</td>\n",
       "      <td>0.59</td>\n",
       "      <td>0.39</td>\n",
       "      <td>0.03</td>\n",
       "      <td>37.28</td>\n",
       "      <td>1.80</td>\n",
       "      <td>EXCAUS</td>\n",
       "      <td>306.24</td>\n",
       "      <td>EMVOVERALLEMV</td>\n",
       "    </tr>\n",
       "    <tr>\n",
       "      <th>3</th>\n",
       "      <td>0480f97223f6d5b7f421efc3ac98335a</td>\n",
       "      <td>MultivariateRegression</td>\n",
       "      <td>{\"regression_model\": {\"model\": \"RANSAC\", \"mode...</td>\n",
       "      <td>{\"fillna\": \"ffill_mean_biased\", \"transformatio...</td>\n",
       "      <td>0</td>\n",
       "      <td>1</td>\n",
       "      <td>18.97</td>\n",
       "      <td>9.63</td>\n",
       "      <td>10.43</td>\n",
       "      <td>1.63</td>\n",
       "      <td>...</td>\n",
       "      <td>2.94</td>\n",
       "      <td>0.23</td>\n",
       "      <td>0.78</td>\n",
       "      <td>0.50</td>\n",
       "      <td>0.20</td>\n",
       "      <td>44.97</td>\n",
       "      <td>5.55</td>\n",
       "      <td>CSUSHPISA</td>\n",
       "      <td>231.96</td>\n",
       "      <td>EMVOVERALLEMV</td>\n",
       "    </tr>\n",
       "    <tr>\n",
       "      <th>4</th>\n",
       "      <td>05738121d8897c13e32dbc3d5818af93</td>\n",
       "      <td>LATC</td>\n",
       "      <td>{\"time_horizon\": 2, \"seasonality\": 7, \"time_la...</td>\n",
       "      <td>{\"fillna\": \"ffill\", \"transformations\": {\"0\": \"...</td>\n",
       "      <td>0</td>\n",
       "      <td>3</td>\n",
       "      <td>10.88</td>\n",
       "      <td>4.95</td>\n",
       "      <td>6.01</td>\n",
       "      <td>1.14</td>\n",
       "      <td>...</td>\n",
       "      <td>2.30</td>\n",
       "      <td>0.10</td>\n",
       "      <td>0.89</td>\n",
       "      <td>0.56</td>\n",
       "      <td>0.05</td>\n",
       "      <td>26.26</td>\n",
       "      <td>2.36</td>\n",
       "      <td>EXCAUS</td>\n",
       "      <td>114.81</td>\n",
       "      <td>EMVOVERALLEMV</td>\n",
       "    </tr>\n",
       "    <tr>\n",
       "      <th>...</th>\n",
       "      <td>...</td>\n",
       "      <td>...</td>\n",
       "      <td>...</td>\n",
       "      <td>...</td>\n",
       "      <td>...</td>\n",
       "      <td>...</td>\n",
       "      <td>...</td>\n",
       "      <td>...</td>\n",
       "      <td>...</td>\n",
       "      <td>...</td>\n",
       "      <td>...</td>\n",
       "      <td>...</td>\n",
       "      <td>...</td>\n",
       "      <td>...</td>\n",
       "      <td>...</td>\n",
       "      <td>...</td>\n",
       "      <td>...</td>\n",
       "      <td>...</td>\n",
       "      <td>...</td>\n",
       "      <td>...</td>\n",
       "      <td>...</td>\n",
       "    </tr>\n",
       "    <tr>\n",
       "      <th>432</th>\n",
       "      <td>fcb80228deb7e70fe3a3f625f505df73</td>\n",
       "      <td>DynamicFactor</td>\n",
       "      <td>{\"k_factors\": 3, \"factor_order\": 0, \"regressio...</td>\n",
       "      <td>{\"fillna\": \"ffill_mean_biased\", \"transformatio...</td>\n",
       "      <td>0</td>\n",
       "      <td>3</td>\n",
       "      <td>116.01</td>\n",
       "      <td>37.79</td>\n",
       "      <td>38.58</td>\n",
       "      <td>10.18</td>\n",
       "      <td>...</td>\n",
       "      <td>52.72</td>\n",
       "      <td>0.72</td>\n",
       "      <td>1.00</td>\n",
       "      <td>0.42</td>\n",
       "      <td>7.54</td>\n",
       "      <td>939.04</td>\n",
       "      <td>22.31</td>\n",
       "      <td>EXCAUS</td>\n",
       "      <td>406.65</td>\n",
       "      <td>T10YIEM</td>\n",
       "    </tr>\n",
       "    <tr>\n",
       "      <th>433</th>\n",
       "      <td>fcd779dcd164b162c1b35d643727c286</td>\n",
       "      <td>RollingRegression</td>\n",
       "      <td>{\"regression_model\": {\"model\": \"SVM\", \"model_p...</td>\n",
       "      <td>{\"fillna\": \"linear\", \"transformations\": {\"0\": ...</td>\n",
       "      <td>0</td>\n",
       "      <td>3</td>\n",
       "      <td>12.67</td>\n",
       "      <td>4.50</td>\n",
       "      <td>5.23</td>\n",
       "      <td>1.43</td>\n",
       "      <td>...</td>\n",
       "      <td>2.75</td>\n",
       "      <td>0.10</td>\n",
       "      <td>0.96</td>\n",
       "      <td>0.50</td>\n",
       "      <td>0.33</td>\n",
       "      <td>41.11</td>\n",
       "      <td>2.33</td>\n",
       "      <td>CSUSHPISA</td>\n",
       "      <td>104.28</td>\n",
       "      <td>T10YIEM</td>\n",
       "    </tr>\n",
       "    <tr>\n",
       "      <th>434</th>\n",
       "      <td>fcdfe3207da06cda73780f62bad83c62</td>\n",
       "      <td>DynamicFactorMQ</td>\n",
       "      <td>{\"factors\": 1, \"factor_orders\": 3, \"factor_mul...</td>\n",
       "      <td>{\"fillna\": null, \"transformations\": {\"0\": \"Cli...</td>\n",
       "      <td>0</td>\n",
       "      <td>1</td>\n",
       "      <td>15.53</td>\n",
       "      <td>11.03</td>\n",
       "      <td>12.92</td>\n",
       "      <td>2.91</td>\n",
       "      <td>...</td>\n",
       "      <td>10.75</td>\n",
       "      <td>0.15</td>\n",
       "      <td>0.83</td>\n",
       "      <td>0.43</td>\n",
       "      <td>4.69</td>\n",
       "      <td>60.36</td>\n",
       "      <td>1.57</td>\n",
       "      <td>EXCHUS</td>\n",
       "      <td>90.17</td>\n",
       "      <td>CSUSHPISA</td>\n",
       "    </tr>\n",
       "    <tr>\n",
       "      <th>435</th>\n",
       "      <td>fdffc2f5dfff77ae499e3c91d1475eed</td>\n",
       "      <td>RRVAR</td>\n",
       "      <td>{\"method\": \"dmd\", \"rank\": 4, \"maxiter\": 200}</td>\n",
       "      <td>{\"fillna\": \"time\", \"transformations\": {\"0\": \"H...</td>\n",
       "      <td>0</td>\n",
       "      <td>1</td>\n",
       "      <td>14.72</td>\n",
       "      <td>5.96</td>\n",
       "      <td>7.23</td>\n",
       "      <td>1.78</td>\n",
       "      <td>...</td>\n",
       "      <td>4.00</td>\n",
       "      <td>0.14</td>\n",
       "      <td>0.96</td>\n",
       "      <td>0.56</td>\n",
       "      <td>0.04</td>\n",
       "      <td>61.21</td>\n",
       "      <td>3.68</td>\n",
       "      <td>GS10</td>\n",
       "      <td>84.25</td>\n",
       "      <td>EMVOVERALLEMV</td>\n",
       "    </tr>\n",
       "    <tr>\n",
       "      <th>436</th>\n",
       "      <td>fe2944052003d863cf5e3cf761f8246a</td>\n",
       "      <td>NVAR</td>\n",
       "      <td>{\"k\": 1, \"ridge_param\": 0.002, \"warmup_pts\": 1...</td>\n",
       "      <td>{\"fillna\": \"ffill\", \"transformations\": {\"0\": \"...</td>\n",
       "      <td>0</td>\n",
       "      <td>3</td>\n",
       "      <td>10.97</td>\n",
       "      <td>5.39</td>\n",
       "      <td>6.10</td>\n",
       "      <td>1.03</td>\n",
       "      <td>...</td>\n",
       "      <td>2.79</td>\n",
       "      <td>0.10</td>\n",
       "      <td>0.16</td>\n",
       "      <td>0.59</td>\n",
       "      <td>0.02</td>\n",
       "      <td>28.74</td>\n",
       "      <td>1.30</td>\n",
       "      <td>CSUSHPISA</td>\n",
       "      <td>210.24</td>\n",
       "      <td>EMVOVERALLEMV</td>\n",
       "    </tr>\n",
       "  </tbody>\n",
       "</table>\n",
       "<p>437 rows × 56 columns</p>\n",
       "</div>"
      ],
      "text/plain": [
       "                                   ID                   Model  \\\n",
       "0    006e2ab807a2783c2833fc25609446c9       MultivariateMotif   \n",
       "1    009b2a98860cf75bece39c242d4d36f3               Cassandra   \n",
       "2    028fd7b422b6ee8f59c41d2ecc21c358          SectionalMotif   \n",
       "3    0480f97223f6d5b7f421efc3ac98335a  MultivariateRegression   \n",
       "4    05738121d8897c13e32dbc3d5818af93                    LATC   \n",
       "..                                ...                     ...   \n",
       "432  fcb80228deb7e70fe3a3f625f505df73           DynamicFactor   \n",
       "433  fcd779dcd164b162c1b35d643727c286       RollingRegression   \n",
       "434  fcdfe3207da06cda73780f62bad83c62         DynamicFactorMQ   \n",
       "435  fdffc2f5dfff77ae499e3c91d1475eed                   RRVAR   \n",
       "436  fe2944052003d863cf5e3cf761f8246a                    NVAR   \n",
       "\n",
       "                                       ModelParameters  \\\n",
       "0    {\"window\": 10, \"point_method\": \"midhinge\", \"di...   \n",
       "1    {\"preprocessing_transformation\": {\"fillna\": \"f...   \n",
       "2    {\"window\": 5, \"point_method\": \"midhinge\", \"dis...   \n",
       "3    {\"regression_model\": {\"model\": \"RANSAC\", \"mode...   \n",
       "4    {\"time_horizon\": 2, \"seasonality\": 7, \"time_la...   \n",
       "..                                                 ...   \n",
       "432  {\"k_factors\": 3, \"factor_order\": 0, \"regressio...   \n",
       "433  {\"regression_model\": {\"model\": \"SVM\", \"model_p...   \n",
       "434  {\"factors\": 1, \"factor_orders\": 3, \"factor_mul...   \n",
       "435       {\"method\": \"dmd\", \"rank\": 4, \"maxiter\": 200}   \n",
       "436  {\"k\": 1, \"ridge_param\": 0.002, \"warmup_pts\": 1...   \n",
       "\n",
       "                              TransformationParameters  Ensemble  Runs  smape  \\\n",
       "0    {\"fillna\": \"rolling_mean_24\", \"transformations...         0     1  13.89   \n",
       "1    {\"fillna\": \"zero\", \"transformations\": {\"0\": \"A...         0     1 199.27   \n",
       "2    {\"fillna\": \"rolling_mean_24\", \"transformations...         0     1  15.63   \n",
       "3    {\"fillna\": \"ffill_mean_biased\", \"transformatio...         0     1  18.97   \n",
       "4    {\"fillna\": \"ffill\", \"transformations\": {\"0\": \"...         0     3  10.88   \n",
       "..                                                 ...       ...   ...    ...   \n",
       "432  {\"fillna\": \"ffill_mean_biased\", \"transformatio...         0     3 116.01   \n",
       "433  {\"fillna\": \"linear\", \"transformations\": {\"0\": ...         0     3  12.67   \n",
       "434  {\"fillna\": null, \"transformations\": {\"0\": \"Cli...         0     1  15.53   \n",
       "435  {\"fillna\": \"time\", \"transformations\": {\"0\": \"H...         0     1  14.72   \n",
       "436  {\"fillna\": \"ffill\", \"transformations\": {\"0\": \"...         0     3  10.97   \n",
       "\n",
       "        mae    rmse    made  ...  dwd_weighted  matse_weighted  \\\n",
       "0      8.34    9.19    1.10  ...          2.39            0.14   \n",
       "1   8852.51 9096.71 5753.27  ...      30078.60          264.06   \n",
       "2      7.61    8.71    1.40  ...          2.84            0.21   \n",
       "3      9.63   10.43    1.63  ...          2.94            0.23   \n",
       "4      4.95    6.01    1.14  ...          2.30            0.10   \n",
       "..      ...     ...     ...  ...           ...             ...   \n",
       "432   37.79   38.58   10.18  ...         52.72            0.72   \n",
       "433    4.50    5.23    1.43  ...          2.75            0.10   \n",
       "434   11.03   12.92    2.91  ...         10.75            0.15   \n",
       "435    5.96    7.23    1.78  ...          4.00            0.14   \n",
       "436    5.39    6.10    1.03  ...          2.79            0.10   \n",
       "\n",
       "     containment_weighted  contour_weighted  TotalRuntimeSeconds    Score  \\\n",
       "0                    0.54              0.67                 0.02    33.23   \n",
       "1                    0.00              0.48                 0.10 71487.10   \n",
       "2                    0.59              0.39                 0.03    37.28   \n",
       "3                    0.78              0.50                 0.20    44.97   \n",
       "4                    0.89              0.56                 0.05    26.26   \n",
       "..                    ...               ...                  ...      ...   \n",
       "432                  1.00              0.42                 7.54   939.04   \n",
       "433                  0.96              0.50                 0.33    41.11   \n",
       "434                  0.83              0.43                 4.69    60.36   \n",
       "435                  0.96              0.56                 0.04    61.21   \n",
       "436                  0.16              0.59                 0.02    28.74   \n",
       "\n",
       "     lowest_series_mape  lowest_series_mape_name  highest_series_mape  \\\n",
       "0                  0.51                CSUSHPISA               142.43   \n",
       "1              48852.74                  T10YIEM             50055.67   \n",
       "2                  1.80                   EXCAUS               306.24   \n",
       "3                  5.55                CSUSHPISA               231.96   \n",
       "4                  2.36                   EXCAUS               114.81   \n",
       "..                  ...                      ...                  ...   \n",
       "432               22.31                   EXCAUS               406.65   \n",
       "433                2.33                CSUSHPISA               104.28   \n",
       "434                1.57                   EXCHUS                90.17   \n",
       "435                3.68                     GS10                84.25   \n",
       "436                1.30                CSUSHPISA               210.24   \n",
       "\n",
       "     highest_series_mape_name  \n",
       "0               EMVOVERALLEMV  \n",
       "1                        GS10  \n",
       "2               EMVOVERALLEMV  \n",
       "3               EMVOVERALLEMV  \n",
       "4               EMVOVERALLEMV  \n",
       "..                        ...  \n",
       "432                   T10YIEM  \n",
       "433                   T10YIEM  \n",
       "434                 CSUSHPISA  \n",
       "435             EMVOVERALLEMV  \n",
       "436             EMVOVERALLEMV  \n",
       "\n",
       "[437 rows x 56 columns]"
      ]
     },
     "execution_count": 14,
     "metadata": {},
     "output_type": "execute_result"
    }
   ],
   "source": [
    "model.results(\"validation\")"
   ]
  },
  {
   "cell_type": "code",
   "execution_count": 15,
   "metadata": {},
   "outputs": [
    {
     "data": {
      "text/plain": [
       "<Axes: title={'center': 'CSUSHPISA with model DynamicFactorMQ'}>"
      ]
     },
     "execution_count": 15,
     "metadata": {},
     "output_type": "execute_result"
    },
    {
     "data": {
      "image/png": "[encoded data removed]",
      "text/plain": [
       "<Figure size 640x480 with 1 Axes>"
      ]
     },
     "metadata": {},
     "output_type": "display_data"
    }
   ],
   "source": [
    "# plot a sample\n",
    "prediction.plot(model.df_wide_numeric,\n",
    "                series=model.df_wide_numeric.columns[0],\n",
    "                start_date=\"2019-01-01\")\n"
   ]
  },
  {
   "cell_type": "code",
   "execution_count": 21,
   "metadata": {},
   "outputs": [
    {
     "data": {
      "text/plain": [
       "autots.evaluator.auto_ts.AutoTS"
      ]
     },
     "execution_count": 21,
     "metadata": {},
     "output_type": "execute_result"
    }
   ],
   "source": [
    "# Print the details of the best model\n",
    "type(model)"
   ]
  },
  {
   "cell_type": "code",
   "execution_count": 16,
   "metadata": {},
   "outputs": [
    {
     "data": {
      "image/png": "[encoded data removed]",
      "text/plain": [
       "<Figure size 640x480 with 1 Axes>"
      ]
     },
     "metadata": {},
     "output_type": "display_data"
    }
   ],
   "source": [
    "# point forecasts dataframe\n",
    "forecasts_df = prediction.forecast\n",
    "plt.plot(forecasts_df.index, forecasts_df['CSUSHPISA'], label='forecast')\n",
    "plt.plot(df_test.index, df_test['CSUSHPISA'], label='test')\n",
    "plt.title('Time Series Plot')\n",
    "plt.xlabel('Date')\n",
    "plt.ylabel('Value')\n",
    "plt.legend()\n",
    "plt.show()"
   ]
  },
  {
   "cell_type": "code",
   "execution_count": 18,
   "metadata": {},
   "outputs": [
    {
     "data": {
      "text/plain": [
       "'Ensemble'"
      ]
     },
     "execution_count": 18,
     "metadata": {},
     "output_type": "execute_result"
    }
   ],
   "source": [
    "model.best_model_name\n",
    "# ,\n",
    "# model.best_model_params,\n",
    "# model.best_model_transformation_params"
   ]
  },
  {
   "cell_type": "markdown",
   "metadata": {},
   "source": [
    "### Accuracy metrics"
   ]
  },
  {
   "cell_type": "code",
   "execution_count": 11,
   "metadata": {},
   "outputs": [],
   "source": [
    "def forecast_accuracy(forecast, actual):\n",
    "    forecast,actual= np.array(forecast), np.array(actual) \n",
    "    try:\n",
    "        mape = np.mean(np.abs((actual - forecast) / actual))*100\n",
    "    except:\n",
    "        mape = 200 # MAPE\n",
    "    mae = mean_absolute_error(actual,forecast)    # MAE\n",
    "    rmse = (mean_squared_error(actual,forecast))**.5  # RMSE\n",
    "#     MASE=mase(actual,forecast)\n",
    "    r2=r2_score(actual,forecast)                   # r-squared\n",
    "    rtae=(mean_absolute_error(actual,forecast)/np.mean(abs(actual)))\n",
    "    return({'mape':mape, 'mae': mae, \n",
    "            'rmse':rmse,\n",
    "             'r2':r2,\n",
    "            'rtae':rtae\n",
    "           })"
   ]
  },
  {
   "cell_type": "markdown",
   "metadata": {},
   "source": [
    "### multi collinearity "
   ]
  },
  {
   "cell_type": "code",
   "execution_count": 35,
   "metadata": {},
   "outputs": [],
   "source": [
    "import statsmodels.api as sm\n",
    "from statsmodels.stats.outliers_influence import variance_inflation_factor"
   ]
  },
  {
   "cell_type": "code",
   "execution_count": null,
   "metadata": {},
   "outputs": [],
   "source": [
    "X = data[['variable1', 'variable2', 'variable3', ...]]\n",
    "corr_matrix = X.corr()\n",
    "print(corr_matrix)  "
   ]
  },
  {
   "cell_type": "code",
   "execution_count": null,
   "metadata": {},
   "outputs": [],
   "source": [
    "vif = pd.DataFrame()\n",
    "vif[\"VIF Factor\"] = [variance_inflation_factor(X.values, i) for i in\n",
    " \n",
    "range(X.shape[1])]\n",
    "vif[\"Feature\"] = X.columns\n",
    "print(vif)  # Look for VIF values above 5 or 10"
   ]
  },
  {
   "cell_type": "code",
   "execution_count": null,
   "metadata": {},
   "outputs": [],
   "source": []
  },
  {
   "cell_type": "code",
   "execution_count": null,
   "metadata": {},
   "outputs": [],
   "source": []
  },
  {
   "cell_type": "markdown",
   "metadata": {},
   "source": [
    "### co integration"
   ]
  },
  {
   "cell_type": "code",
   "execution_count": 28,
   "metadata": {},
   "outputs": [],
   "source": [
    "from statsmodels.tsa.vector_ar.vecm import coint_johansen\n",
    "from statsmodels.tsa.vector_ar.vecm import select_coint_rank"
   ]
  },
  {
   "cell_type": "code",
   "execution_count": 29,
   "metadata": {},
   "outputs": [],
   "source": [
    "res=coint_johansen(df_train.values,det_order=1,k_ar_diff=1)"
   ]
  },
  {
   "cell_type": "code",
   "execution_count": 32,
   "metadata": {},
   "outputs": [
    {
     "name": "stdout",
     "output_type": "stream",
     "text": [
      "[391.85900721 205.79517096 126.00846703  89.23417867  58.29375911\n",
      "  38.44314963  20.63957279  10.05434181   4.11609295]\n"
     ]
    }
   ],
   "source": [
    "print(res.lr1)"
   ]
  },
  {
   "cell_type": "code",
   "execution_count": 34,
   "metadata": {},
   "outputs": [
    {
     "name": "stdout",
     "output_type": "stream",
     "text": [
      "[186.06383625  79.78670393  36.77428835  30.94041957  19.85060947\n",
      "  17.80357684  10.58523099   5.93824885   4.11609295]\n",
      "[[ 1.97241978e-02 -5.01741614e-03  1.63279211e-02 -2.67821419e-02\n",
      "  -3.52942959e-03  1.72451232e-03  5.26293393e-02  1.85990188e-02\n",
      "   3.48338342e-02]\n",
      " [-2.50346654e-01 -5.64425043e-02  1.66826388e-02  3.12489638e-02\n",
      "   1.00873588e-02  9.04124510e-03  4.88996620e-03 -8.93665961e-03\n",
      "  -1.14016136e-02]\n",
      " [ 6.29570945e-01 -1.45593807e-01 -1.51508034e+00  1.31295924e+00\n",
      "  -1.19155834e+00 -2.69519399e+00  3.33664930e+00  8.06773596e-01\n",
      "  -1.65935282e+00]\n",
      " [ 3.31946241e-01  3.59050736e-03 -3.41450748e-01  1.00029341e-01\n",
      "   2.80375825e-01  1.35099069e-01 -1.66898474e-01 -6.48570386e-01\n",
      "  -6.74020932e-02]\n",
      " [ 1.23976972e+00  1.86375582e+00  2.81435816e+00 -1.80729134e+00\n",
      "   2.49838668e+00 -1.76304499e+00  6.59365108e-02 -5.81907874e-01\n",
      "  -2.26704748e+00]\n",
      " [ 3.19575743e-02 -8.16969649e-02  7.63322468e-02 -5.68766438e-01\n",
      "   2.01120111e-01  3.09238454e-01  1.39694625e-01 -5.49127246e-03\n",
      "  -3.59918266e-02]\n",
      " [ 2.43546104e-02 -8.04922573e-02  1.00124105e-03 -1.56243348e-02\n",
      "  -4.41721205e-02 -2.97388401e-02  6.24798600e-03 -2.15096608e-02\n",
      "  -1.29219018e-02]\n",
      " [-1.74180545e+00  3.48816755e-01 -2.79676413e+00  5.98038265e-01\n",
      "   1.00670363e+00  3.64554613e-01 -4.24651612e-01  6.30047983e-01\n",
      "  -2.67221092e-02]\n",
      " [ 1.39842460e-02  3.08275215e-02 -9.24707633e-03 -2.52065618e-02\n",
      "  -9.22107746e-03 -6.48536680e-03 -2.78991132e-03  2.70841371e-03\n",
      "   2.19026840e-03]]\n"
     ]
    }
   ],
   "source": [
    "print(res.lr2)\n",
    "print(res.evec)"
   ]
  },
  {
   "cell_type": "code",
   "execution_count": null,
   "metadata": {},
   "outputs": [],
   "source": []
  }
 ],
 "metadata": {
  "kernelspec": {
   "display_name": "forecasting",
   "language": "python",
   "name": "python3"
  },
  "language_info": {
   "codemirror_mode": {
    "name": "ipython",
    "version": 3
   },
   "file_extension": ".py",
   "mimetype": "text/x-python",
   "name": "python",
   "nbconvert_exporter": "python",
   "pygments_lexer": "ipython3",
   "version": "3.8.18"
  }
 },
 "nbformat": 4,
 "nbformat_minor": 2
}
